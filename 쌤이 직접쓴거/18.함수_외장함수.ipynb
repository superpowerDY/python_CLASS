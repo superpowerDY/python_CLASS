{
 "cells": [
  {
   "cell_type": "markdown",
   "metadata": {},
   "source": [
    "### 외장함수\n",
    "\n",
    "외장함수는 내장함수와는 달리 `import`명령을 사용하여 외부에 있는 패키지 또는 모듈, 함수등을 로딩한 후에 사용할 수 있는 함수를 말한다."
   ]
  },
  {
   "cell_type": "code",
   "execution_count": 6,
   "metadata": {},
   "outputs": [
    {
     "name": "stdout",
     "output_type": "stream",
     "text": [
      "['C:\\\\Anaconda3\\\\lib\\\\site-packages\\\\ipykernel_launcher.py', '-f', 'C:\\\\Users\\\\TJ\\\\AppData\\\\Roaming\\\\jupyter\\\\runtime\\\\kernel-0fa0eb65-e30d-4ddd-9fe0-c40f18016bbf.json']\n"
     ]
    },
    {
     "ename": "SystemExit",
     "evalue": "",
     "output_type": "error",
     "traceback": [
      "An exception has occurred, use %tb to see the full traceback.\n",
      "\u001b[1;31mSystemExit\u001b[0m\n"
     ]
    },
    {
     "name": "stderr",
     "output_type": "stream",
     "text": [
      "C:\\Anaconda3\\lib\\site-packages\\IPython\\core\\interactiveshell.py:3334: UserWarning: To exit: use 'exit', 'quit', or Ctrl-D.\n",
      "  warn(\"To exit: use 'exit', 'quit', or Ctrl-D.\", stacklevel=1)\n"
     ]
    }
   ],
   "source": [
    "# sys : 파이썬 인터프리터가 제공하는 변수들과 함수들을 직접 제어할 수 있도록 해주는 패키니\n",
    "import sys\n",
    "#sys?\n",
    "\n",
    "# sys.argv는 명령행에 인수를 전달하는 함수\n",
    "print(sys.argv)\n",
    "\n",
    "sys.path\n",
    "\n",
    "# 강제로 파이썬 스크립트를 종료\n",
    "sys.exit()"
   ]
  },
  {
   "cell_type": "code",
   "execution_count": 7,
   "metadata": {},
   "outputs": [],
   "source": [
    "# pickle : 12.파일입출력_fileIO 참조"
   ]
  },
  {
   "cell_type": "code",
   "execution_count": 15,
   "metadata": {},
   "outputs": [
    {
     "data": {
      "text/plain": [
       "'DESKTOP-J2LIGQ3'"
      ]
     },
     "execution_count": 15,
     "metadata": {},
     "output_type": "execute_result"
    }
   ],
   "source": [
    "# os : os모듈은 환경변수나 디렉토리, 파일등 os자원을 제어할 수 있게 해준다\n",
    "import os\n",
    "#os?\n",
    "# print(os.environ)\n",
    "os.environ\n",
    "os.environ['PATH']\n",
    "os.environ['COMPUTERNAME']"
   ]
  },
  {
   "cell_type": "code",
   "execution_count": 18,
   "metadata": {},
   "outputs": [
    {
     "data": {
      "text/plain": [
       "'d:\\\\gilbaek'"
      ]
     },
     "execution_count": 18,
     "metadata": {},
     "output_type": "execute_result"
    }
   ],
   "source": [
    "# 1. os.chdir()  : 디렉토리를 변경\n",
    "%pwd\n",
    "os.chdir('c:\\windows')\n",
    "%pwd\n",
    "os.chdir('d:\\gilbaek')\n",
    "%pwd"
   ]
  },
  {
   "cell_type": "code",
   "execution_count": 24,
   "metadata": {},
   "outputs": [
    {
     "data": {
      "text/plain": [
       "'d:\\\\gilbaek'"
      ]
     },
     "execution_count": 24,
     "metadata": {},
     "output_type": "execute_result"
    }
   ],
   "source": [
    "# 2. os.getcwd() : 현재 디렉토리를 리턴\n",
    "os.getcwd()\n",
    "%pwd"
   ]
  },
  {
   "cell_type": "code",
   "execution_count": 29,
   "metadata": {},
   "outputs": [
    {
     "name": "stdout",
     "output_type": "stream",
     "text": [
      " D 드라이브의 볼륨: 새 볼륨\n",
      " 볼륨 일련 번호: 02D6-B7F3\n",
      "\n",
      " d:\\gilbaek 디렉터리\n",
      "\n",
      "2020-01-11  오후 04:17    <DIR>          .\n",
      "2020-01-11  오후 04:17    <DIR>          ..\n",
      "2020-01-11  오후 04:00    <DIR>          .ipynb_checkpoints\n",
      "2020-01-05  오전 10:18    <DIR>          __pycache__\n",
      "2019-12-23  오후 07:25             3,302 00.파이썬설치 및 설정.ipynb\n",
      "2019-12-23  오후 10:20            25,365 01.파이썬자료형_기본형.ipynb\n",
      "2019-12-22  오후 04:17            17,264 02.파이썬자료형_리스트.ipynb\n",
      "2019-12-28  오전 10:30             6,575 03.파이썬자료형_튜플.ipynb\n",
      "2019-12-28  오후 12:43            17,520 04.파이썬자료형_딕셔너리.ipynb\n",
      "2019-12-28  오후 02:01             5,986 05.파이썬자료형_집합형.ipynb\n",
      "2019-12-29  오전 09:55             2,671 06.파이썬자료형_불형.ipynb\n",
      "2019-12-28  오후 03:43             5,660 07.파이썬자료형_변수.ipynb\n",
      "2019-12-31  오후 08:45             6,688 08.제어문_if.ipynb\n",
      "2020-01-02  오후 08:11            17,364 09.반복문_for.ipynb\n",
      "2020-01-02  오후 10:01         1,531,337 10.반복문_while.ipynb\n",
      "2020-01-07  오후 07:30           122,808 11.함수_function.ipynb\n",
      "2020-01-05  오후 04:02            17,791 12.파일입출력_fileIO.ipynb\n",
      "2020-01-09  오후 07:20            28,873 13.클래스_class.ipynb\n",
      "2020-01-11  오후 12:26            13,548 14.모듈_Module.ipynb\n",
      "2020-01-11  오후 12:31             4,515 15.패키지_Package.ipynb\n",
      "2020-01-11  오후 02:12             6,646 16.예외처리_exception.ipynb\n",
      "2020-01-11  오후 03:59            19,073 17.함수_내장함수.ipynb\n",
      "2020-01-11  오후 04:17             5,851 18.함수_외장함수.ipynb\n",
      "2020-01-11  오후 01:55    <DIR>          data\n",
      "2019-12-22  오후 02:36                21 hello.py\n",
      "2020-01-11  오후 12:36    <DIR>          images\n",
      "2020-01-05  오전 10:07                23 newfile.txt\n",
      "2020-01-04  오후 04:16                18 newfile1.txt\n",
      "2020-01-11  오후 01:46               179 notfoundfile.txt\n",
      "2020-01-11  오전 10:45    <DIR>          python\n",
      "2020-01-05  오전 10:25                21 result.csv\n",
      "2019-12-21  오후 02:21               644 파이썬설치.txt\n",
      "              25개 파일           1,859,743 바이트\n",
      "               7개 디렉터리  132,813,238,272 바이트 남음\n"
     ]
    }
   ],
   "source": [
    "# 3. os.system() : 시스템명령어를 호출\n",
    "os.system(\"dir\")\n",
    "%ls"
   ]
  },
  {
   "cell_type": "markdown",
   "metadata": {},
   "source": [
    "#### 기타 유용한 os 함수\n",
    "* os.mkdir(디렉토리): 디렉토리를 생성\n",
    "* os.rmdir(디렉토리): 디렉토리를 삭제\n",
    "* os.unlink(파일): 파일을 지운다\n",
    "* os.rename(src, dst): 파일의 이름을 변경"
   ]
  },
  {
   "cell_type": "code",
   "execution_count": null,
   "metadata": {},
   "outputs": [],
   "source": [
    "# shutil\n",
    "# glob\n",
    "# temple\n",
    "# time\n",
    "# calendar\n",
    "# random\n",
    "# webbrowser\n",
    "# namedtuple"
   ]
  },
  {
   "cell_type": "code",
   "execution_count": null,
   "metadata": {},
   "outputs": [],
   "source": []
  },
  {
   "cell_type": "code",
   "execution_count": null,
   "metadata": {},
   "outputs": [],
   "source": []
  },
  {
   "cell_type": "code",
   "execution_count": null,
   "metadata": {},
   "outputs": [],
   "source": []
  },
  {
   "cell_type": "code",
   "execution_count": null,
   "metadata": {},
   "outputs": [],
   "source": []
  },
  {
   "cell_type": "code",
   "execution_count": null,
   "metadata": {},
   "outputs": [],
   "source": []
  },
  {
   "cell_type": "code",
   "execution_count": null,
   "metadata": {},
   "outputs": [],
   "source": []
  },
  {
   "cell_type": "code",
   "execution_count": null,
   "metadata": {},
   "outputs": [],
   "source": []
  },
  {
   "cell_type": "code",
   "execution_count": null,
   "metadata": {},
   "outputs": [],
   "source": []
  },
  {
   "cell_type": "code",
   "execution_count": null,
   "metadata": {},
   "outputs": [],
   "source": []
  },
  {
   "cell_type": "code",
   "execution_count": null,
   "metadata": {},
   "outputs": [],
   "source": []
  },
  {
   "cell_type": "code",
   "execution_count": null,
   "metadata": {},
   "outputs": [],
   "source": []
  },
  {
   "cell_type": "code",
   "execution_count": null,
   "metadata": {},
   "outputs": [],
   "source": []
  }
 ],
 "metadata": {
  "kernelspec": {
   "display_name": "Python 3",
   "language": "python",
   "name": "python3"
  },
  "language_info": {
   "codemirror_mode": {
    "name": "ipython",
    "version": 3
   },
   "file_extension": ".py",
   "mimetype": "text/x-python",
   "name": "python",
   "nbconvert_exporter": "python",
   "pygments_lexer": "ipython3",
   "version": "3.7.4"
  }
 },
 "nbformat": 4,
 "nbformat_minor": 2
}
