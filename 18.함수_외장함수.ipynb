{
 "cells": [
  {
   "cell_type": "markdown",
   "metadata": {},
   "source": [
    "### 외장함수\n",
    "\n",
    "외장함수는 내장함수와 달리 \"import\"명령어를 사용하여 외부에 있는 패키지 또는 모듈, 함수등을 로딩한 후에 사용할 수 있는 함수를 말한다."
   ]
  },
  {
   "cell_type": "code",
   "execution_count": 7,
   "metadata": {},
   "outputs": [
    {
     "name": "stdout",
     "output_type": "stream",
     "text": [
      "['C:\\\\Anaconda3\\\\lib\\\\site-packages\\\\ipykernel_launcher.py', '-f', 'C:\\\\Users\\\\TJ\\\\AppData\\\\Roaming\\\\jupyter\\\\runtime\\\\kernel-8380324d-a620-4381-a037-b0953ee0ece9.json']\n"
     ]
    },
    {
     "ename": "SystemExit",
     "evalue": "",
     "output_type": "error",
     "traceback": [
      "An exception has occurred, use %tb to see the full traceback.\n",
      "\u001b[1;31mSystemExit\u001b[0m\n"
     ]
    },
    {
     "name": "stderr",
     "output_type": "stream",
     "text": [
      "C:\\Anaconda3\\lib\\site-packages\\IPython\\core\\interactiveshell.py:3334: UserWarning: To exit: use 'exit', 'quit', or Ctrl-D.\n",
      "  warn(\"To exit: use 'exit', 'quit', or Ctrl-D.\", stacklevel=1)\n"
     ]
    }
   ],
   "source": [
    "# sys : 파이썬 인터프리터가 제공하는 변수들과 함수들을 직접 제어할 수 있도록 해주는 패키지\n",
    "import sys\n",
    "#sys?\n",
    "\n",
    "# sys.argv는 명령행에 인수를 전달하는 함수\n",
    "print(sys.argv)\n",
    "\n",
    "sys.path\n",
    "\n",
    "# 강제로 파이썬 스크립트를 종료\n",
    "sys.exit()"
   ]
  },
  {
   "cell_type": "code",
   "execution_count": null,
   "metadata": {},
   "outputs": [],
   "source": [
    "# pickle : 12.파일 입출력_file()참조"
   ]
  },
  {
   "cell_type": "code",
   "execution_count": 9,
   "metadata": {},
   "outputs": [],
   "source": [
    "# os : os 모듈은 환경변수나 디렉토리,파일등 os자원을 제어할 수 있게 해준다.\n",
    "import os\n",
    "# os?\n",
    "# print(os.environ)"
   ]
  },
  {
   "cell_type": "code",
   "execution_count": null,
   "metadata": {},
   "outputs": [],
   "source": [
    "### 선샌님거 배끼기"
   ]
  },
  {
   "cell_type": "code",
   "execution_count": null,
   "metadata": {},
   "outputs": [],
   "source": [
    "# shutil\n",
    "# glob\n",
    "# temple\n",
    "# time "
   ]
  },
  {
   "cell_type": "code",
   "execution_count": 11,
   "metadata": {},
   "outputs": [
    {
     "name": "stdout",
     "output_type": "stream",
     "text": [
      "6\n",
      "(5, 29)\n"
     ]
    }
   ],
   "source": [
    "# calendar : 파이썬에서 달력을 지원하는 함수\n",
    "\n",
    "import calendar\n",
    "# print(calendar.calendar(2020))  #1 년치 달력\n",
    "# print(calendar.prcal(2020))  #1 년치 달력\n",
    "# print(calendar.prmonth(2020,6)) # 특정 달 만 보고싶을때! \n",
    "print(calendar.weekday(2020,1,12)) # 요일,0(월요일)~6(일요일)\n",
    "print(calendar.monthrange(2020,2))  # 월(시작요일,마지막일)"
   ]
  },
  {
   "cell_type": "code",
   "execution_count": 12,
   "metadata": {},
   "outputs": [
    {
     "name": "stdout",
     "output_type": "stream",
     "text": [
      "0.27512216594666616\n",
      "1\n"
     ]
    }
   ],
   "source": [
    "# random : 난수발생\n",
    "import random\n",
    "#?random\n",
    "print(random.random())  # 0~1사이의 난수1개를 리턴\n",
    "print(random.randint(1,10)) #1~10사이의 정수 1개를 리턴"
   ]
  },
  {
   "cell_type": "code",
   "execution_count": 15,
   "metadata": {},
   "outputs": [
    {
     "data": {
      "text/plain": [
       "True"
      ]
     },
     "execution_count": 15,
     "metadata": {},
     "output_type": "execute_result"
    }
   ],
   "source": [
    "# webbrowser : 기본웹브라우저를 자동으로 실행 \n",
    "import webbrowser as wb\n",
    "# wb.open('www.naver.com')\n",
    "\n",
    "#새창띄울때\n",
    "wb.open_new('www.naver.com')"
   ]
  },
  {
   "cell_type": "code",
   "execution_count": 18,
   "metadata": {},
   "outputs": [
    {
     "name": "stdout",
     "output_type": "stream",
     "text": [
      "이름= 홍길동\n",
      "나이= 25\n",
      "직업= programmer\n",
      "이름= 홍동동\n",
      "나이= 27\n",
      "직업= 백수\n",
      "이름= 홍삼동\n",
      "나이= 35\n",
      "직업= 집순이\n"
     ]
    }
   ],
   "source": [
    "# namedtuple : 파이썬의 자료형중 하나이다. 튜플이지만 속성으로 값을 접근할 수 있게 해주는 자료형이다.\n",
    "a = ('홍길동',25,'programmer')\n",
    "b = ('홍동동',27,'백수')\n",
    "c = ('홍삼동',35,'집순이')\n",
    "\n",
    "for person in [a,b,c]:\n",
    "    print('이름= %s' % person[0])\n",
    "    print('나이= %d' % person[1])\n",
    "    print('직업= %s' % person[2])"
   ]
  },
  {
   "cell_type": "code",
   "execution_count": null,
   "metadata": {},
   "outputs": [],
   "source": [
    "class Person:\n",
    "    def__init__ "
   ]
  },
  {
   "cell_type": "code",
   "execution_count": 24,
   "metadata": {},
   "outputs": [
    {
     "name": "stdout",
     "output_type": "stream",
     "text": [
      "이름= 깅주연\n",
      "나이= 25\n",
      "직업= programmer\n",
      "이름= 홍동동\n",
      "나이= 27\n",
      "직업= 백수\n",
      "이름= 김도오리\n",
      "나이= 35\n",
      "직업= 집순이\n"
     ]
    }
   ],
   "source": [
    "from collections import namedtuple\n",
    "# ?namedtuple\n",
    "Person = namedtuple(\"Person\",[\"name\",\"age\",\"job\"])\n",
    "\n",
    "a = Person(name='깅주연',age=25,job='programmer')\n",
    "b = Person(name='홍동동',age=27,job='백수')\n",
    "c = Person(name='김도오리',age=35,job='집순이')\n",
    "\n",
    "for p in [a,b,c]:\n",
    "    print('이름= %s' % p.name)\n",
    "    print('나이= %d' % p.age)\n",
    "    print('직업= %s' % p.job)\n"
   ]
  },
  {
   "cell_type": "code",
   "execution_count": null,
   "metadata": {},
   "outputs": [],
   "source": [
    "주연이가 귤주고 끝! "
   ]
  },
  {
   "cell_type": "code",
   "execution_count": null,
   "metadata": {},
   "outputs": [],
   "source": []
  },
  {
   "cell_type": "code",
   "execution_count": null,
   "metadata": {},
   "outputs": [],
   "source": []
  }
 ],
 "metadata": {
  "kernelspec": {
   "display_name": "Python 3",
   "language": "python",
   "name": "python3"
  },
  "language_info": {
   "codemirror_mode": {
    "name": "ipython",
    "version": 3
   },
   "file_extension": ".py",
   "mimetype": "text/x-python",
   "name": "python",
   "nbconvert_exporter": "python",
   "pygments_lexer": "ipython3",
   "version": "3.7.4"
  }
 },
 "nbformat": 4,
 "nbformat_minor": 2
}
