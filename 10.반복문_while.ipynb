{
 "cells": [
  {
   "cell_type": "markdown",
   "metadata": {},
   "source": [
    "### while 문\n",
    "\n",
    ">while 조건문 : \n",
    "     실행할 문장1\n",
    "     ...\n",
    "     실행할 문장n"
   ]
  },
  {
   "cell_type": "code",
   "execution_count": 6,
   "metadata": {},
   "outputs": [
    {
     "name": "stdout",
     "output_type": "stream",
     "text": [
      "55\n",
      "55\n"
     ]
    }
   ],
   "source": [
    "# 1~10까지의 합계\n",
    "sum=0\n",
    "for x in range(1,11):\n",
    "    sum += x\n",
    "print(sum)\n",
    "\n",
    "\n",
    "# 같은 값출력 다른 방식\n",
    "\n",
    "sum=0\n",
    "i = 0\n",
    "while (i<11): # 0 < 11 1 <11 2 < 11 11 < 11 \n",
    "    sum += i\n",
    "    i= i + 1\n",
    "print(sum)"
   ]
  },
  {
   "cell_type": "code",
   "execution_count": 8,
   "metadata": {},
   "outputs": [
    {
     "name": "stdout",
     "output_type": "stream",
     "text": [
      "무한루프\n"
     ]
    }
   ],
   "source": [
    "while True:\n",
    "    print('무한루프')\n",
    "    break  #break 지우면 무한으로 계속 나왕 무한루프  조심 ! "
   ]
  },
  {
   "cell_type": "code",
   "execution_count": 14,
   "metadata": {},
   "outputs": [
    {
     "name": "stdout",
     "output_type": "stream",
     "text": [
      "\n",
      "1.추가\n",
      "2.삭제\n",
      "3.목록\n",
      "9.종료\n",
      "\n",
      "번호를 입력하세요!\n",
      "\n",
      "메뉴번호 : 1\n",
      "\n",
      "1.추가\n",
      "2.삭제\n",
      "3.목록\n",
      "9.종료\n",
      "\n",
      "번호를 입력하세요!\n",
      "\n",
      "메뉴번호 : 2\n",
      "\n",
      "1.추가\n",
      "2.삭제\n",
      "3.목록\n",
      "9.종료\n",
      "\n",
      "번호를 입력하세요!\n",
      "\n",
      "메뉴번호 : 3\n",
      "\n",
      "1.추가\n",
      "2.삭제\n",
      "3.목록\n",
      "9.종료\n",
      "\n",
      "번호를 입력하세요!\n",
      "\n",
      "메뉴번호 : 9\n"
     ]
    }
   ],
   "source": [
    "menu = '''\n",
    "1.추가\n",
    "2.삭제\n",
    "3.목록\n",
    "9.종료\n",
    "\n",
    "번호를 입력하세요!\n",
    "'''\n",
    "\n",
    "number = 0\n",
    "while number != 9:\n",
    "    print(menu)\n",
    "    number = int(input(\"메뉴번호 : \"))"
   ]
  },
  {
   "cell_type": "code",
   "execution_count": 2,
   "metadata": {},
   "outputs": [
    {
     "name": "stdout",
     "output_type": "stream",
     "text": [
      "커피제공\n",
      "남은 커피는 9잔 입니다! \n",
      "커피제공\n",
      "남은 커피는 8잔 입니다! \n",
      "커피제공\n",
      "남은 커피는 7잔 입니다! \n",
      "커피제공\n",
      "남은 커피는 6잔 입니다! \n",
      "커피제공\n",
      "남은 커피는 5잔 입니다! \n",
      "커피제공\n",
      "남은 커피는 4잔 입니다! \n",
      "커피제공\n",
      "남은 커피는 3잔 입니다! \n",
      "커피제공\n",
      "남은 커피는 2잔 입니다! \n",
      "커피제공\n",
      "남은 커피는 1잔 입니다! \n",
      "커피제공\n",
      "남은 커피는 0잔 입니다! \n",
      "커피가 없습니다! 판매를 중지합니다. \n"
     ]
    }
   ],
   "source": [
    "# while 과 break    ( 자판기 프로그램과 비유)\n",
    "\n",
    "coffee = 10\n",
    "money = 300\n",
    "\n",
    "while money:\n",
    "    print(\"커피제공\")\n",
    "    coffee = coffee - 1\n",
    "    print(\"남은 커피는 %d잔 입니다! \" % coffee)\n",
    "    if not coffee:\n",
    "        print(\"커피가 없습니다! 판매를 중지합니다. \")\n",
    "        break"
   ]
  },
  {
   "cell_type": "code",
   "execution_count": 3,
   "metadata": {},
   "outputs": [
    {
     "name": "stdout",
     "output_type": "stream",
     "text": [
      "1\n",
      "3\n",
      "5\n",
      "7\n",
      "9\n"
     ]
    }
   ],
   "source": [
    "# while 과  continue \n",
    "\n",
    "a = 0 \n",
    "while a < 10:\n",
    "    a += 1\n",
    "    if a % 2 ==0:\n",
    "        continue\n",
    "    print(a)"
   ]
  },
  {
   "cell_type": "markdown",
   "metadata": {},
   "source": [
    "### 연습문제"
   ]
  },
  {
   "cell_type": "markdown",
   "metadata": {},
   "source": [
    "# 1. 1~1000까지 3의 배수의 총합계를 출력하시오."
   ]
  },
  {
   "cell_type": "code",
   "execution_count": 34,
   "metadata": {},
   "outputs": [
    {
     "name": "stdout",
     "output_type": "stream",
     "text": [
      "166833\n"
     ]
    }
   ],
   "source": [
    "sum=0\n",
    "for i in range(1,1001):\n",
    "    if i % 3==0 :\n",
    "        sum += i\n",
    "print(sum)"
   ]
  },
  {
   "cell_type": "code",
   "execution_count": 57,
   "metadata": {},
   "outputs": [
    {
     "name": "stdout",
     "output_type": "stream",
     "text": [
      "55\n",
      "67\n",
      "90\n",
      "87\n",
      "100\n",
      "399\n"
     ]
    }
   ],
   "source": [
    "# 2. list l1에서 50점 이상의 총합을 구하시오.\n",
    "l1 =[20,55,67,33,90,87,100,25]\n",
    "\n",
    "sum=0\n",
    "for i in range(len(l1)):\n",
    "    if l1[i] >=50:\n",
    "        print(l1[i])\n",
    "        sum += l1[i]\n",
    "print(sum)    \n",
    "    \n",
    "# print(l1[0])\n",
    "# 얘를 하는 과정이\n",
    "# 1. l1을 반복문으로 돌려서 각 요소의 값 하나마다 50보다 큰지 확인해야함\n",
    "# 2. 그렇게 확인한 값을 가지고 총합을 더해야 함\n",
    "\n",
    "#for문 말고 while문 써서 위의 거 다시 해봐요  \n",
    "\n",
    "\n",
    "# 같은 값출력 다른 방식\n",
    "\n"
   ]
  },
  {
   "cell_type": "code",
   "execution_count": null,
   "metadata": {},
   "outputs": [],
   "source": [
    "# 3. 별표 출력하기 (1)\n",
    "# *\n",
    "# **\n",
    "# ***\n",
    "# ****\n",
    "\n"
   ]
  },
  {
   "cell_type": "code",
   "execution_count": 60,
   "metadata": {},
   "outputs": [
    {
     "name": "stdout",
     "output_type": "stream",
     "text": [
      "*\n",
      "**\n",
      "***\n",
      "****\n",
      "*****\n"
     ]
    }
   ],
   "source": [
    "# 선생님 답\n",
    "i = 0\n",
    "while True:\n",
    "    i = i + 1    # while 수행될때마다 1씩증가\n",
    "    if i > 5 :break   # i 값이 5보다 크면 while문을 벗어난다.\n",
    "    print('*' *   i)    # \n",
    "        \n",
    "        "
   ]
  },
  {
   "cell_type": "code",
   "execution_count": 66,
   "metadata": {},
   "outputs": [],
   "source": [
    "#4. 별표 출력하기 (2)\n",
    "#     *\n",
    "#    ***\n",
    "#   *****\n",
    "#  *******\n"
   ]
  },
  {
   "cell_type": "code",
   "execution_count": 69,
   "metadata": {},
   "outputs": [
    {
     "name": "stdout",
     "output_type": "stream",
     "text": [
      "====*\n",
      "===***\n",
      "==*****\n",
      "=*******\n",
      "*********\n"
     ]
    }
   ],
   "source": [
    "# 선생님 답\n",
    "star = 0 \n",
    "space = 5\n",
    "i = 0\n",
    "\n",
    "while i < 5:\n",
    "    i += 1\n",
    "    print(('=' * (space - i)) + '*' * (star + i*2 - 1))     #  = 표시는 칸볼라고 편의상 넣음 \n"
   ]
  },
  {
   "cell_type": "markdown",
   "metadata": {},
   "source": [
    "<img src=\"./images/09.반복문_for_ex02_마름모별.png\">"
   ]
  },
  {
   "cell_type": "code",
   "execution_count": 83,
   "metadata": {},
   "outputs": [
    {
     "name": "stdout",
     "output_type": "stream",
     "text": [
      "--------★\n",
      "------★★★\n",
      "----★★★★★\n",
      "--★★★★★★★\n",
      "★★★★★★★★★\n",
      "--★★★★★★★\n",
      "----★★★★★\n",
      "------★★★\n",
      "--------★\n"
     ]
    }
   ],
   "source": [
    "#5. 별표 출력하기 (3)\n",
    "# 유니코드의 별 문자 : ★\n",
    "# print('\\u2605')  = 별모양\n",
    "\n",
    "# 전역변수\n",
    "i, k = 0, 0\n",
    "\n",
    "while i < 9:\n",
    "    if i < 5:\n",
    "        k = 0\n",
    "        while k < 4 - i:\n",
    "            print('--',end='')\n",
    "            k += 1\n",
    "        k = 0\n",
    "        \n",
    "        while k < i*2+1:\n",
    "            print('\\u2605', end='')\n",
    "            k += 1\n",
    "            \n",
    "    else :  \n",
    "        k = 0\n",
    "        while k < i- 4:\n",
    "            print('--', end='')\n",
    "            k += 1\n",
    "            \n",
    "        k = 0\n",
    "        while k < (9-i)*2 -1:\n",
    "            print('\\u2605',end='')\n",
    "            k += 1\n",
    "            \n",
    "    print()\n",
    "    i += 1"
   ]
  },
  {
   "cell_type": "code",
   "execution_count": null,
   "metadata": {},
   "outputs": [],
   "source": []
  },
  {
   "cell_type": "code",
   "execution_count": null,
   "metadata": {},
   "outputs": [],
   "source": []
  },
  {
   "cell_type": "code",
   "execution_count": null,
   "metadata": {},
   "outputs": [],
   "source": []
  }
 ],
 "metadata": {
  "kernelspec": {
   "display_name": "Python 3",
   "language": "python",
   "name": "python3"
  },
  "language_info": {
   "codemirror_mode": {
    "name": "ipython",
    "version": 3
   },
   "file_extension": ".py",
   "mimetype": "text/x-python",
   "name": "python",
   "nbconvert_exporter": "python",
   "pygments_lexer": "ipython3",
   "version": "3.7.4"
  }
 },
 "nbformat": 4,
 "nbformat_minor": 2
}
