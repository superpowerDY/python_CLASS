{
 "cells": [
  {
   "cell_type": "markdown",
   "metadata": {},
   "source": [
    "﻿집에서 git하기\n",
    "\n",
    "[맨 처음 git 실행하면 할 일]\n",
    "\t1. 집 컴에 git bash 다운로드\n",
    "\t2. 임의의 폴더를 만들어서 마우스 우클릭 -> git bash 클릭\n",
    "\t3. 밑의 명령어 순서대로 입력\n",
    "\t\tgit config --global user.name \"깃허브 계정 이름\" --superpowerDY\n",
    "\t\tgit config --global user.email \"깃허브 계정 이메일\"\n",
    "\t\tgit clone https://github.com/superpowerDY/python.git\n",
    "\t\t\n",
    "\t4. git bash 화면에 아래처럼 (master) 표시 뜨는지 확인 (표시 떠야함)\n",
    "\t\tTJ@DESKTOP-J2LIGQ3 MINGW64 /d/weekend/learn_python (master)\n",
    "\n",
    "\t5. 2번에서 만든 임의의 폴더에 python 문서가 제대로 다운됐는지 확인!\n",
    "\t6. 복습~\n",
    "\n",
    "[Git에 있는 자료 내 컴퓨터에 다운 받기]\n",
    "\t1. 처음에 만든 임의의 폴더에 마우스 우클릭 -> git bash\n",
    "\t2. git pull 명령어 입력\n",
    "\t\t-- 중간에 깃 계정 로그인창 뜰 수 있음 로그인 해주면 됨\n",
    "\t3. 임의의 폴더에 자료 다운됐는지 확인\n",
    "\n",
    "[내 컴퓨터에 있는 자료 Git에 업로드하기]\n",
    "\t1. 처음에 만든 임의의 폴더에 마우스 우클릭 -> git bash 클릭\n",
    "\t2. 밑의 명령어 순서대로 입력\n",
    "\t\tgit status\n",
    "\t\t\t--현재 내가 작업한 파일이 어떤 게 있는지 보여주는 명령어\n",
    "\t\t\t\t-- 빨간글씨 : git에 올려야 할 파일\n",
    "\t\t\t\t-- 초록글씨 : git에 올릴 준비가 끝난 파일\n",
    "\t\t\t\t-- 흰 글씨만 뜬다 = git에 있는 자료랑 내 컴터에 있는 자료가 동일 = 올릴 자료가 없다는 것\n",
    "\t\tgit add * (별표 띄어쓰기 좀..)\n",
    "\t\t\t-- 빨간 글씨로 뜨는 모든 파일을 git에 업로드하고 싶을 때 사용\n",
    "\t\t\t-- 파일 중에 골라서 업로드하고 싶을 때\n",
    "\t\t\t\tgit add 특정파일이름 (-- git add 치고 tab키누르면 알아서 자동완성해줌)\n",
    "\t\t\n",
    "        git status\n",
    "            -- add가 잘 됐는지 확인 작업\n",
    "\t\t\n",
    "\t\tgit commit -m \"어떤 작업을 했는지 메세지 작성하여 이력 남기기\" \n",
    "\t\t\t-- (ex) git commit -m \"Update python data type list\"\n",
    "\t\t\n",
    "\t\tgit push origin master\n",
    "\t\t\t-- git에 업로드하는 명령어\n",
    "\t\t\t-- 중간에 깃 계정 로그인창 뜰 수 있음 로그인 해주면 됨\n",
    "\t\t\t-- 이거 하고 깃페이지 확인해보면 파일 업로드 되어 있을 것~!"
   ]
  }
 ],
 "metadata": {
  "kernelspec": {
   "display_name": "Python 3",
   "language": "python",
   "name": "python3"
  },
  "language_info": {
   "codemirror_mode": {
    "name": "ipython",
    "version": 3
   },
   "file_extension": ".py",
   "mimetype": "text/x-python",
   "name": "python",
   "nbconvert_exporter": "python",
   "pygments_lexer": "ipython3",
   "version": "3.7.4"
  }
 },
 "nbformat": 4,
 "nbformat_minor": 2
}
