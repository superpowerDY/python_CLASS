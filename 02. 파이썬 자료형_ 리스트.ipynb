{
 "cells": [
  {
   "cell_type": "markdown",
   "metadata": {},
   "source": [
    "### 변수의 명명규칙\n",
    "\n",
    "1. 첫 글자는 영문의 대소문자와 언더바(_)로 시작해야 한다. \n",
    "2. 나머지 글자는 영문자, 숫자 , 언더바로 구성한다. \n",
    "3. 대소문자를 구분한다.\n",
    "4. 길이제한은 없다.\n",
    "5. 예약어(키워드)는 사용할 수 없다. \n"
   ]
  },
  {
   "cell_type": "code",
   "execution_count": 11,
   "metadata": {},
   "outputs": [],
   "source": [
    "# 파이썬에서 사용되는 예약어(키워드)리스트\n",
    "import keyword     # 외부에서 정의되어있는 키워드를 내세션에 가져와 적용\n"
   ]
  },
  {
   "cell_type": "code",
   "execution_count": 12,
   "metadata": {},
   "outputs": [
    {
     "name": "stdout",
     "output_type": "stream",
     "text": [
      "['False', 'None', 'True', 'and', 'as', 'assert', 'async', 'await', 'break', 'class', 'continue', 'def', 'del', 'elif', 'else', 'except', 'finally', 'for', 'from', 'global', 'if', 'import', 'in', 'is', 'lambda', 'nonlocal', 'not', 'or', 'pass', 'raise', 'return', 'try', 'while', 'with', 'yield']\n",
      "35\n"
     ]
    }
   ],
   "source": [
    "import hello    # d드라이브 내파일에있는 메모장 hello.py파일 실행되\n",
    " \n",
    "print(keyword.kwlist)    #키워드 리스트 출력! \n",
    "print(len(keyword.kwlist))"
   ]
  },
  {
   "cell_type": "code",
   "execution_count": 6,
   "metadata": {},
   "outputs": [
    {
     "name": "stdout",
     "output_type": "stream",
     "text": [
      "hello\t \n"
     ]
    }
   ],
   "source": [
    "# %매직명령어\n",
    "# %who : 현재 세션에서 사용중인 변수, 모듈등을 출력하는 명령어\n",
    "#주의할 적은 매직명령어 뒤에는 주석을 추가 할수없다.  추가하면 에러발생\n",
    "\n",
    "%who\n"
   ]
  },
  {
   "cell_type": "markdown",
   "metadata": {},
   "source": [
    "### 매직명령어(%)\n",
    "\n",
    "매직명령어는 주피터 노트북에서만 사용되는 명령어\n",
    "    \n",
    "    * %magic : 모든 매직 명령어의 도움말 출력\n",
    "    * %lsmagic : 매직명령어 목록을 출력\n",
    "    * %cls : 화면을 클리어\n",
    "    * %who : 현재 세션에서 사용중인 변수, 모듈등의 목록을 출력\n",
    "    * %whos : 사용중인 변수와 해당 변수의 값을 출력\n",
    "    * %rest : 작업공간을 초기화 시킴 (수행여부를 확인함)\n",
    "    * %rest -f : 작업공간을 초기화 시킴 (수행여부 묻지않고 바로 실행)\n",
    "    * %paste : 클립보드의 코드를 실행\n",
    "    * % time : 실행시간을 측정해서 보여준다. \n",
    "    * %hist : 과거에 실행된 명령어리스트를 출력\n",
    "    * %pwd : 현재 디렉토리를 출력\n",
    "    * %cd : 디렉토리 변경\n",
    "    *%ls : 현재 디렉토리의 목록을 출력\n",
    "    "
   ]
  },
  {
   "cell_type": "code",
   "execution_count": 18,
   "metadata": {},
   "outputs": [
    {
     "name": "stdout",
     "output_type": "stream",
     "text": [
      "hello\t keyword\t \n"
     ]
    },
    {
     "ename": "NameError",
     "evalue": "name 'o' is not defined",
     "output_type": "error",
     "traceback": [
      "\u001b[1;31m---------------------------------------------------------------------------\u001b[0m",
      "\u001b[1;31mNameError\u001b[0m                                 Traceback (most recent call last)",
      "\u001b[1;32m<ipython-input-18-71f447274011>\u001b[0m in \u001b[0;36m<module>\u001b[1;34m\u001b[0m\n\u001b[0;32m      1\u001b[0m \u001b[0mget_ipython\u001b[0m\u001b[1;33m(\u001b[0m\u001b[1;33m)\u001b[0m\u001b[1;33m.\u001b[0m\u001b[0mrun_line_magic\u001b[0m\u001b[1;33m(\u001b[0m\u001b[1;34m'who'\u001b[0m\u001b[1;33m,\u001b[0m \u001b[1;34m''\u001b[0m\u001b[1;33m)\u001b[0m\u001b[1;33m\u001b[0m\u001b[1;33m\u001b[0m\u001b[0m\n\u001b[1;32m----> 2\u001b[1;33m \u001b[1;32mdel\u001b[0m \u001b[0mo\u001b[0m     \u001b[1;31m#현재 세션의 변수난 모듈을 삭제하는 명령\u001b[0m\u001b[1;33m\u001b[0m\u001b[1;33m\u001b[0m\u001b[0m\n\u001b[0m\u001b[0;32m      3\u001b[0m \u001b[0mget_ipython\u001b[0m\u001b[1;33m(\u001b[0m\u001b[1;33m)\u001b[0m\u001b[1;33m.\u001b[0m\u001b[0mrun_line_magic\u001b[0m\u001b[1;33m(\u001b[0m\u001b[1;34m'who'\u001b[0m\u001b[1;33m,\u001b[0m \u001b[1;34m''\u001b[0m\u001b[1;33m)\u001b[0m\u001b[1;33m\u001b[0m\u001b[1;33m\u001b[0m\u001b[0m\n\u001b[0;32m      4\u001b[0m \u001b[1;33m\u001b[0m\u001b[0m\n",
      "\u001b[1;31mNameError\u001b[0m: name 'o' is not defined"
     ]
    }
   ],
   "source": [
    "\n",
    "%who\n",
    "del o     #현재 세션의 변수난 모듈을 삭제하는 명령\n",
    "%who\n",
    "    \n"
   ]
  },
  {
   "cell_type": "markdown",
   "metadata": {},
   "source": [
    "### 리스트자료형\n",
    "\n",
    "파이썬에서 리스트자료형을 만들 때 대괄호([])로 감싸주고 그안에 각 요소들을 컴마(,)로 구분 해 준다.\n",
    "\n",
    "    예를 들어 리스트명 = [요소1,,,,요소n]"
   ]
  },
  {
   "cell_type": "code",
   "execution_count": 30,
   "metadata": {},
   "outputs": [
    {
     "name": "stdout",
     "output_type": "stream",
     "text": [
      "[]\n",
      "<class 'list'>\n",
      "<class 'int'>\n",
      "<class 'str'>\n",
      "<class 'float'>\n",
      "<class 'builtin_function_or_method'>\n"
     ]
    }
   ],
   "source": [
    "a =[]  #빈 리스트(객체)를 정의 \n",
    "print(a)\n",
    "\n",
    "# 변수명을 확인하는 방법\n",
    "# 1. 변수명 ? \n",
    "# 2. type()함수\n",
    "#  a?    <--주석푸르고 보면 타입볼수있어\n",
    "type(a)\n",
    "print(type(a))\n",
    "\n",
    "a = 10\n",
    "print(type(a))\n",
    "a = \"10\"\n",
    "print(type(a))\n",
    "a = 10.0\n",
    "print(type(a))\n",
    "\n",
    "print(type(print))"
   ]
  },
  {
   "cell_type": "code",
   "execution_count": 6,
   "metadata": {},
   "outputs": [
    {
     "ename": "SyntaxError",
     "evalue": "unexpected EOF while parsing (<ipython-input-6-6ae24db4a468>, line 5)",
     "output_type": "error",
     "traceback": [
      "\u001b[1;36m  File \u001b[1;32m\"<ipython-input-6-6ae24db4a468>\"\u001b[1;36m, line \u001b[1;32m5\u001b[0m\n\u001b[1;33m    e = [1,2,[3,4],['x','y',['a','b']]\u001b[0m\n\u001b[1;37m                                      ^\u001b[0m\n\u001b[1;31mSyntaxError\u001b[0m\u001b[1;31m:\u001b[0m unexpected EOF while parsing\n"
     ]
    }
   ],
   "source": [
    "a= [] #빈 리스트 객체 선언\n",
    "b= [1,2,3] #3개의 요소를갖는 리스트 선언\n",
    "c= ['a','b','c'] #3개의 문자요소를갖는 리스트 선언\n",
    "d= [1,2,'a',1.2]\n",
    "e = [1,2,[3,4],['x','y',['a','b']]"
   ]
  },
  {
   "cell_type": "code",
   "execution_count": 86,
   "metadata": {},
   "outputs": [
    {
     "name": "stdout",
     "output_type": "stream",
     "text": [
      "1 2 3 a\n",
      "[1, 2, 3, 'a']\n",
      "============================================================\n",
      "1,2,3,a\n",
      "1 2 3 a\n",
      "1\n",
      "5\n",
      "1 5\n",
      "a\n",
      "============================================================\n",
      "['a', 'b', 'c', ['x', 'y', 'z']]\n",
      "a ['x', 'y', 'z']\n",
      "y\n"
     ]
    }
   ],
   "source": [
    "#### 1.리스트의 인덱싱\n",
    "a = [1,2,3,'a']\n",
    " #a?\n",
    "\n",
    "print(a[0],a[1],a[2],a[3])\n",
    "print(a, sep=\",\")\n",
    "# print?\n",
    "print('='*60)\n",
    "\n",
    "print(a[0],a[1],a[2],a[3],sep=',')\n",
    "print(a[0],a[1],a[2],a[3],end='\\n')\n",
    "\n",
    "print(a[0], end=\"\\n\")\n",
    "print(a[1]+a[2])\n",
    "\n",
    "print(a[0],end=\" \")\n",
    "print(a[1]+a[2])\n",
    "# print(a[3]+a[2])   -> 3은 문자고 2는 숫자열이라 에러남\n",
    "print(a[-1])\n",
    "\n",
    "print('='*60)\n",
    "\n",
    "\n",
    "a = [1,2,3,['a','b','c',['x','y','z']]]\n",
    "print(a[3])\n",
    "print(a[3][0], a[3][3])\n",
    "print(a[3][3][1])\n",
    "\n"
   ]
  },
  {
   "cell_type": "code",
   "execution_count": 69,
   "metadata": {},
   "outputs": [
    {
     "name": "stdout",
     "output_type": "stream",
     "text": [
      "[1, 2]\n",
      "[1, 2]\n",
      "12\n",
      "12\n",
      "[1, 2]\n",
      "[3, 4, 5]\n"
     ]
    }
   ],
   "source": [
    "# 2. 리스트 슬라이싱\n",
    "\n",
    " # 문자열과 마찬가지로 리스트에서도 슬라이싱기법을 사용한다. \n",
    "a = [1,2,3,4,5]\n",
    "print(a[:2])\n",
    "print(a[0:2])\n",
    "\n",
    "b= '12345'\n",
    "\n",
    "print(b[:2])\n",
    "print(b[0:2])\n",
    "type(a)\n",
    "type(b)\n",
    "\n",
    "c = a[:2]\n",
    "d = a[2:]\n",
    "\n",
    "print(c)\n",
    "print(d)"
   ]
  },
  {
   "cell_type": "code",
   "execution_count": 72,
   "metadata": {},
   "outputs": [
    {
     "name": "stdout",
     "output_type": "stream",
     "text": [
      "[1, 2, 3, ['a', 'b', 'c'], 4, 5]\n",
      "[3, ['a', 'b', 'c'], 4]\n",
      "['a', 'b', 'c']\n",
      "a\n",
      "['a', 'b']\n"
     ]
    }
   ],
   "source": [
    "# 중첩된 리스트에서 슬라이싱하기 \n",
    "\n",
    "a= [1,2,3,['a','b','c'],4,5]\n",
    "print(a)\n",
    "print(a[2:5])\n",
    "print(a[3])\n",
    "print(a[3][0])\n",
    "print(a[3][:2])\n"
   ]
  },
  {
   "cell_type": "markdown",
   "metadata": {},
   "source": [
    "#### 2. 리스트 연산자"
   ]
  },
  {
   "cell_type": "code",
   "execution_count": null,
   "metadata": {},
   "outputs": [],
   "source": [
    "#.1 리스트더하기(+) : 2개의 리스트를 합치기\n",
    "\n",
    "a = [1,2,3]\n",
    "b = [4,5,6]\n"
   ]
  },
  {
   "cell_type": "markdown",
   "metadata": {},
   "source": [
    "#### 3. 리스트의 수정, 삭제"
   ]
  },
  {
   "cell_type": "code",
   "execution_count": 88,
   "metadata": {},
   "outputs": [
    {
     "name": "stdout",
     "output_type": "stream",
     "text": [
      "[1, 2, 4]\n"
     ]
    }
   ],
   "source": [
    "# 1. 리스트에서 하나의 값만 수정하기\n",
    "\n",
    "a = [1,2,3]\n",
    "a[2] =4\n",
    "print(a)\n",
    "\n"
   ]
  },
  {
   "cell_type": "code",
   "execution_count": 136,
   "metadata": {},
   "outputs": [
    {
     "name": "stdout",
     "output_type": "stream",
     "text": [
      "[1, 'a', 'b', 'c', 3]\n"
     ]
    }
   ],
   "source": [
    "# 2. 리스트에서 연속된 범위의 값을 수정하기\n",
    "\n",
    "a = [1,2,3]\n",
    "\n",
    "a[1:2] = ['a','b','c']  \n",
    "print(a)"
   ]
  },
  {
   "cell_type": "markdown",
   "metadata": {},
   "source": [
    "#### 4. 리스트 관련 함수\n",
    "\n",
    "*append() : 리스트에 요소를 맨뒤에 추가\n",
    "*sort()   : 리스트의 요소를 알파벳 순서로 뒤집기 \n",
    "*reverse(): 리스트의 요소를 현재상태 그대로 뒤집기\n",
    "*index()  : 특정값의 요소 위치를 알려줌 ! 몇번째위치인지~ \n",
    "*insert() : 리스트의 요소를 지정위치에 삽입\n",
    "*remove() : 리스트 요소를 삭제\n",
    "*pop()    : 리스트 요소를 꺼내기\n",
    "*count()  : 리스트 안에 잇는 특정값의 개수를 세기\n",
    "*extent() : 리스트 확장\n",
    "    \n"
   ]
  },
  {
   "cell_type": "code",
   "execution_count": 106,
   "metadata": {},
   "outputs": [
    {
     "name": "stdout",
     "output_type": "stream",
     "text": [
      "[1, 2, 3, 4]\n",
      "[1, 2, 3, 4, 'string']\n",
      "[1, 2, 3, 4, 'string', [4, 5, 6]]\n",
      "[1, 2, 3, 4, 'string', [4, 5, 6], <built-in function print>]\n"
     ]
    }
   ],
   "source": [
    "# 1. append() : 리스트에 요소를 맨뒤에 추가\n",
    "a = [1,2,3]\n",
    "a.append(4)\n",
    "print(a)\n",
    "\n",
    "a.append(\"string\")\n",
    "print(a)\n",
    "\n",
    "a.append([4,5,6])\n",
    "print(a)\n",
    "\n",
    "a.append(print)\n",
    "print(a)\n",
    "\n"
   ]
  },
  {
   "cell_type": "code",
   "execution_count": 113,
   "metadata": {},
   "outputs": [
    {
     "name": "stdout",
     "output_type": "stream",
     "text": [
      "[1, 2, 3, 4] None\n",
      "['a', 'b', 'c', 'z']\n"
     ]
    }
   ],
   "source": [
    "# 2. sort()   : 리스트의 요소를 알파벳 순서로 뒤집기 \n",
    "\n",
    "a =[1,4,3,2]\n",
    "b = a.sort()   # b는 none 이 나오는데 그 이유는  sort()라는 함수는 정렬만 하고 리턴값이 없다.\n",
    "print(a,b)\n",
    "\n",
    "c = ['c','b','a','z']\n",
    "c.sort()\n",
    "print(c)\n",
    "\n",
    "\n",
    "# c = ['c','b','a','z',3]   --> 이건 에러남 ! sort()함수는 자료형이 동일해야함 알파벳은 알파벳 , 숫자는 숫자\n"
   ]
  },
  {
   "cell_type": "code",
   "execution_count": 114,
   "metadata": {},
   "outputs": [
    {
     "name": "stdout",
     "output_type": "stream",
     "text": [
      "['d', 'b', 'a']\n"
     ]
    }
   ],
   "source": [
    "# 3. reverse()  : 리스트의 요소를 현재상태 그대로 뒤집기\n",
    "    ## reverse()함수는 역순으로 뒤집어 주는데 이때 리스트요소를 순서대로 정렬해서 뒤집는것이 아니라 \n",
    "    ## 현재 리스트를 그대로 거꾸로 뒤집는다 .\n",
    "    \n",
    "a = ['a','b','d']\n",
    "a.reverse()\n",
    "print(a) \n",
    "    \n"
   ]
  },
  {
   "cell_type": "code",
   "execution_count": 117,
   "metadata": {},
   "outputs": [
    {
     "name": "stdout",
     "output_type": "stream",
     "text": [
      "3\n",
      "4\n"
     ]
    }
   ],
   "source": [
    "# 4. index()  : 리스트안의 특정값의 요소 위치를 알려줌 ! 몇번째위치인지~ \n",
    "\n",
    "a = [1,2,3,4,'a']\n",
    "print(a.index(4))\n",
    "print(a.index('a'))"
   ]
  },
  {
   "cell_type": "code",
   "execution_count": 118,
   "metadata": {},
   "outputs": [
    {
     "name": "stdout",
     "output_type": "stream",
     "text": [
      "[1, 'A', 2, 3]\n"
     ]
    }
   ],
   "source": [
    "# 5. insert()\n",
    "    ##사용방법 : insert(삽입할 위치, 삽입할 값)\n",
    "\n",
    "a = [1,2,3]\n",
    "#a.insert?\n",
    "\n",
    "a.insert(1,'A')   #-->1번자리에 A를 넣는다는 뜻!  \n",
    "print(a)"
   ]
  },
  {
   "cell_type": "code",
   "execution_count": 120,
   "metadata": {},
   "outputs": [
    {
     "name": "stdout",
     "output_type": "stream",
     "text": [
      "[1, 2, 1, 2, 3]\n",
      "[1, 2, 1, 2]\n"
     ]
    }
   ],
   "source": [
    "# 6. remove() : 특정값에 해당하는 리스트 요소를 제거\n",
    "    #만약에 리스트안에 중복되는 값이 있다면 맨앞의 값만 삭제된다.\n",
    " #사용법 : remove(삭제할 값)\n",
    "# a.remove?    \n",
    "a = [1,2,3,1,2,3]\n",
    "a.remove(3)  #맨 처음부터 첫번째오는 3만 삭제된다 \n",
    "print(a)\n",
    "\n",
    "a.remove(3)\n",
    "print(a)\n"
   ]
  },
  {
   "cell_type": "code",
   "execution_count": 124,
   "metadata": {},
   "outputs": [
    {
     "name": "stdout",
     "output_type": "stream",
     "text": [
      "5\n",
      "[1, 2, 3, 4]\n",
      "2 [1, 3, 4]\n"
     ]
    }
   ],
   "source": [
    "# 7.pop()    : 리스트 요소를 꺼내기  ; 매개변수의 위치에 해당하는 라스트 요소를 꺼낸후 삭제\n",
    "    #만약에 위치를 지정하지 않을 경우, 즉, 매개변수가 없을경우 맨뒤의 요소를 꺼냄\n",
    "\n",
    "    #사용법 : pop(꺼낼 요소의 위치)\n",
    "      #a.pop?\n",
    "        \n",
    "    #** 위치를 정의 하지 않으면 맨뒤의 요소를 꺼낸후 삭제 . 매개변수 index=-1\n",
    "a = [1,2,3,4,5]\n",
    "b = a.pop()\n",
    "print(b)\n",
    "print(a)\n",
    "\n",
    "c = a.pop(1)\n",
    "print(c, a)\n",
    "    "
   ]
  },
  {
   "cell_type": "code",
   "execution_count": 125,
   "metadata": {},
   "outputs": [
    {
     "name": "stdout",
     "output_type": "stream",
     "text": [
      "2\n"
     ]
    }
   ],
   "source": [
    "# 8. count()  : 특정값의 개수를 리턴\n",
    "    # count(갯수를 확인할 특정 값)\n",
    "    #a.count?\n",
    "a = [1,2,3,1]\n",
    "print(a.count(1))   #a 안에 1이 몇개인지 출력 =2개"
   ]
  },
  {
   "cell_type": "code",
   "execution_count": 128,
   "metadata": {},
   "outputs": [
    {
     "name": "stdout",
     "output_type": "stream",
     "text": [
      "[1, 2, 3, 4, 5]\n",
      "[1, 2, 3, 4, 5, 'a', 'b']\n"
     ]
    }
   ],
   "source": [
    "# 9. extent() : 리스트 확장\n",
    "  #사용법 : extend(iterable자료형만)  셀수있는?자료형 \n",
    "  #a.extend?\n",
    "\n",
    "a = [1,2,3]\n",
    "a.extend([4,5])\n",
    "print(a)\n",
    "\n",
    "b = ['a','b']\n",
    "a.extend(b)\n",
    "print(a)"
   ]
  },
  {
   "cell_type": "code",
   "execution_count": 129,
   "metadata": {},
   "outputs": [],
   "source": [
    "# 리스트 요소를 삭제하는 방법      \n",
    "\n",
    "# 1. remove() : 입력매개변수 (\"()\"안에있는거)가 요소의 값\n",
    "# 2. pop() : 입력되는 매개 변수  가 요소의 인덱스(위치)\n",
    "# 3. del : 입력매개변수가 요쇼의 인덱스 (위치)\n",
    "\n",
    "#삭제되는 결과는 동일, 삭제에 사용되는 매개값에 대해서는 큰차이가 있다."
   ]
  },
  {
   "cell_type": "code",
   "execution_count": null,
   "metadata": {},
   "outputs": [],
   "source": []
  },
  {
   "cell_type": "code",
   "execution_count": null,
   "metadata": {},
   "outputs": [],
   "source": []
  },
  {
   "cell_type": "code",
   "execution_count": null,
   "metadata": {},
   "outputs": [],
   "source": []
  },
  {
   "cell_type": "code",
   "execution_count": null,
   "metadata": {},
   "outputs": [],
   "source": []
  }
 ],
 "metadata": {
  "kernelspec": {
   "display_name": "Python 3",
   "language": "python",
   "name": "python3"
  },
  "language_info": {
   "codemirror_mode": {
    "name": "ipython",
    "version": 3
   },
   "file_extension": ".py",
   "mimetype": "text/x-python",
   "name": "python",
   "nbconvert_exporter": "python",
   "pygments_lexer": "ipython3",
   "version": "3.7.4"
  }
 },
 "nbformat": 4,
 "nbformat_minor": 2
}
