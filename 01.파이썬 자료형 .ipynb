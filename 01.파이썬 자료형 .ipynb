{
 "cells": [
  {
   "cell_type": "code",
   "execution_count": null,
   "metadata": {},
   "outputs": [],
   "source": [
    "# 한줄주석\n",
    "# 파이썬에서는 문자열은 작은따옴표('')나 (\"\")큰따옴표는 구분하지않는다."
   ]
  },
  {
   "cell_type": "markdown",
   "metadata": {},
   "source": [
    "### jupyternotebook 단축키\n",
    "\n",
    "1. 셀을 나누기 : ctrl + shift + - \n",
    "2. 셀 실행하기 : ctrl + enter or shift + enter"
   ]
  },
  {
   "cell_type": "markdown",
   "metadata": {},
   "source": [
    "1.숫자형"
   ]
  },
  {
   "cell_type": "markdown",
   "metadata": {},
   "source": [
    "### 1.숫자형"
   ]
  },
  {
   "cell_type": "code",
   "execution_count": 1,
   "metadata": {},
   "outputs": [
    {
     "name": "stdout",
     "output_type": "stream",
     "text": [
      "1 2 3\n"
     ]
    }
   ],
   "source": [
    "# 정수형\n",
    "a = 1\n",
    "b = 2\n",
    "c = 3\n",
    "print(a, b, c)"
   ]
  },
  {
   "cell_type": "code",
   "execution_count": 3,
   "metadata": {},
   "outputs": [
    {
     "name": "stdout",
     "output_type": "stream",
     "text": [
      "1.2 -3.44\n"
     ]
    }
   ],
   "source": [
    "# 실수형 (Float)\n",
    "d = 1.2\n",
    "e = -3.44\n",
    "print(d, e)"
   ]
  },
  {
   "cell_type": "code",
   "execution_count": 4,
   "metadata": {},
   "outputs": [
    {
     "name": "stdout",
     "output_type": "stream",
     "text": [
      "127 2303\n",
      "1.2\n"
     ]
    }
   ],
   "source": [
    "# 8진수와 16진수 (기억할 필요없어,,,)\n",
    "# 8진수를 위해서는 숫자가 0o또는 0O으로 시작\n",
    "#16진수는 0x로 시작\n",
    "f =0o177\n",
    "g = 0x8ff\n",
    "print(f, g)\n",
    "\n",
    "ae = 1.2\n",
    "print(ae)\n",
    "\n",
    "## print = 100\n",
    "## print(100)"
   ]
  },
  {
   "cell_type": "code",
   "execution_count": 6,
   "metadata": {},
   "outputs": [
    {
     "name": "stdout",
     "output_type": "stream",
     "text": [
      "2\n",
      "5.0\n",
      "8\n",
      "1.75\n",
      "3\n"
     ]
    }
   ],
   "source": [
    "# 숫자형을 활용하기 위한 연산자\n",
    "# +,-,/,* 연산자를 통해서 사칙연산을 수행한다.\n",
    "# 제곱연산자 : **\n",
    "#나눗셈 결과 나머지를 리턴 :%\n",
    "#나눗셈결과 나머지를 버리는 연산자 : //(주의 : 정수형과 실수형의 결과가 상이)\n",
    "\n",
    "a = 1+1\n",
    "print(a)\n",
    "print(10/2)\n",
    "print(10-2)\n",
    "\n",
    "print(7/4)\n",
    "print(7%4) #나머지리턴\n",
    "##에임 모르겟다\n",
    "\n",
    "\n",
    "##의미가없다면서 ,,,,너무어렵네..... ㅋㅋㅋㅋ \n"
   ]
  },
  {
   "cell_type": "markdown",
   "metadata": {},
   "source": [
    "2.문자열"
   ]
  },
  {
   "cell_type": "markdown",
   "metadata": {},
   "source": [
    "### 2. 문자열"
   ]
  },
  {
   "cell_type": "code",
   "execution_count": 178,
   "metadata": {},
   "outputs": [
    {
     "name": "stdout",
     "output_type": "stream",
     "text": [
      "인생짧다 파이선필요할까 123 True\n"
     ]
    },
    {
     "data": {
      "text/plain": [
       "'hello!\\npython\\n'"
      ]
     },
     "execution_count": 178,
     "metadata": {},
     "output_type": "execute_result"
    }
   ],
   "source": [
    "#문자열이란?\n",
    "#문자, 단어등으로 구성된 집합을 말한다.\n",
    "a = \"인생짧다 파이선필요할까\"\n",
    "b = \"123\"\n",
    "c = \"True\"\n",
    "print(a, b, c)\n",
    "\n",
    "#문자열 생성과 사용\n",
    "#작은따옴표와 큰따옴표로 사용\n",
    "#작은/큰 따옴표 연속 3개를 사용\n",
    "\n",
    "\"\"\"hello!\n",
    "python\n",
    "\"\"\"\n"
   ]
  },
  {
   "cell_type": "code",
   "execution_count": 48,
   "metadata": {},
   "outputs": [
    {
     "name": "stdout",
     "output_type": "stream",
     "text": [
      "1a\n",
      "python is fuck!!\n",
      "pythonpythonpythonpythonpythonpythonpythonpythonpythonpython\n",
      "--------------------------------------------------\n"
     ]
    }
   ],
   "source": [
    "# 문자열 연산하기\n",
    "# 파이썬에서 문자열을 연산 할때 자료형이 틀리면 에러발생\n",
    "\n",
    "    # 1) 문자열 연결하기\n",
    "a='1'+'a'#연결하기\n",
    "print(a)\n",
    "\n",
    "# b=1+'a' #자료형이 틀리기때문에 에러가 난다잉\n",
    "\n",
    "head = 'python'\n",
    "tail = ' is fuck!!'\n",
    "print(head + tail)\n",
    "\n",
    "\n",
    "#2) 문자열 곱하기\n",
    "print(head* 10)\n",
    "print(\"-\"* 50)\n"
   ]
  },
  {
   "cell_type": "code",
   "execution_count": 37,
   "metadata": {},
   "outputs": [
    {
     "name": "stdout",
     "output_type": "stream",
     "text": [
      "안녕하세요파이써니\n",
      "안\n",
      "녕\n",
      "니\n",
      "니\n",
      "안\n",
      "안\n",
      "파\n"
     ]
    }
   ],
   "source": [
    "#문자 인덱싱이란?\n",
    "    #인덱스가 양수는 처음부터 시작되고 음수는 맨끝에서부터 시작된다. \n",
    "a=\"안녕하세요파이써니\"\n",
    "print(a)\n",
    "print(a[0])\n",
    "print(a[1])\n",
    "print(a[8])\n",
    "print(a[-1])\n",
    "print(a[-9])\n",
    "\n",
    "print(\"안녕하시요파이썬\"[0])\n",
    "print(\"안녕하시요파이썬\"[5])"
   ]
  },
  {
   "cell_type": "code",
   "execution_count": 55,
   "metadata": {},
   "outputs": [
    {
     "name": "stdout",
     "output_type": "stream",
     "text": [
      "20191221파이썬\n",
      "20191221\n",
      "11\n",
      "20191221파이썬\n",
      "파이썬\n",
      "파이썬\n",
      "\n"
     ]
    }
   ],
   "source": [
    "#문자열슬라이싱이란? \n",
    "#문자열에서 특정문자열을 잘라내는것을 의미한다. 즉 문자를 추출하는 행위. \n",
    "\n",
    "a = '20191221파이썬'\n",
    "    #print(a[0]+a[2]+a[10])  #인덱싱\n",
    "\n",
    "    # 문자열(start:end-1)\n",
    "print(a[:])  #탭이 중요해요 !!\n",
    "print(a[0:8])\n",
    "\n",
    "    #len(문자열) : 문자열의 길이 확인하는 함수\n",
    "print(len(a))\n",
    "print(a[:len(a)])\n",
    "\n",
    "    #파이썬만 출력해보자\n",
    "print(a[8:])\n",
    "print(a[8:len(a)])\n",
    "\n",
    "print(a[-3:0])\n"
   ]
  },
  {
   "cell_type": "code",
   "execution_count": 2,
   "metadata": {},
   "outputs": [
    {
     "name": "stdout",
     "output_type": "stream",
     "text": [
      "20191221\n",
      "파이썬\n",
      "2019\n",
      "1221\n",
      "20191221 파이썬\n"
     ]
    }
   ],
   "source": [
    "#실습\n",
    "a = '20191221파이썬'\n",
    "\n",
    "date =a[0:8] #20191221\n",
    "print(date)\n",
    "\n",
    "#p = #파이썬\n",
    "print(a[-3:])\n",
    "\n",
    "#year = #2019\n",
    "print(a[0:4])\n",
    "\n",
    "#day = #1221\n",
    "print(a[4:8])\n",
    "\n",
    "# 쌤이 한 답 \n",
    "date = a[:8]\n",
    "p =a[8:]\n",
    "\n",
    "print(date, p)\n"
   ]
  },
  {
   "cell_type": "code",
   "execution_count": 7,
   "metadata": {},
   "outputs": [
    {
     "name": "stdout",
     "output_type": "stream",
     "text": [
      "python\n"
     ]
    }
   ],
   "source": [
    "# 3) 문자열 바꾸기\n",
    "a='pithon'  #i->y 로 바까보쟈....\n",
    "\n",
    " # a[1]='y'   -> 이렇게 바꿀수없다..문자열은 변경할 수 없기 때문에 에러\n",
    "    \n",
    "        #파이썬에서 문자열과 튜플은 변경할수 없는 자료형이다.\n",
    "\n",
    "a = a[:1] + 'y' + a[2:]\n",
    "print(a)\n",
    "\n"
   ]
  },
  {
   "cell_type": "code",
   "execution_count": 182,
   "metadata": {},
   "outputs": [
    {
     "name": "stdout",
     "output_type": "stream",
     "text": [
      "오늘 날씨는 -10도 입니다!\n",
      "오늘 날씨는 -11도 입니다!\n",
      "오늘 날씨는 18도 입니다!\n",
      "오늘 날씨는 19도 입니다!\n",
      "제 나이는 10입니다. 공부를 삼일 동안 했습니다 .\n"
     ]
    }
   ],
   "source": [
    "# 5) 문자열 포매팅\n",
    "\n",
    "    #\"오늘 날씨는 -10도 입니다!\"\n",
    "    \n",
    "print(\"오늘 날씨는 -10도 입니다!\")    # -> 이문구에서 숫자는 매일 바뀔수있잖아. 문자는 그대로고 ...  바까보쟈\n",
    "\n",
    "degree = -11\n",
    "\n",
    "\n",
    " #%d 는 숫자형 포매팅\n",
    "print(\"오늘 날씨는 %d도 입니다!\" % degree) \n",
    "# print(\"오늘 날씨는 %d도 입니다!\" % \"7\")    #-> 에러발생함 \n",
    "\n",
    "#%s는 문자형 포메팅\n",
    "print(\"오늘 날씨는 %s도 입니다!\" % 18)   #숫자를 직접 입력해도됨\n",
    "print(\"오늘 날씨는 %s도 입니다!\" % \"19\") \n",
    "\n",
    "#두개 이상의 값을 포매팅하기\n",
    "number = 10 \n",
    "day = '삼'\n",
    "print (\"제 나이는 %d입니다. 공부를 %s일 동안 했습니다 .\" %(number, day))"
   ]
  },
  {
   "cell_type": "code",
   "execution_count": 65,
   "metadata": {},
   "outputs": [
    {
     "name": "stdout",
     "output_type": "stream",
     "text": [
      "오늘 날씨는 -10도 입니다!\n",
      "오늘 날씨는 -10도 입니다!\n",
      "오늘 날씨는 18도 입니다!\n",
      "오늘 날씨는 19도 입니다!\n",
      "제 나이는 10입니다. 공부를 삼일 동안 했습니다 .\n"
     ]
    }
   ],
   "source": [
    "#문자열 포맷코드\n",
    "\n",
    "#코드 설명 \n",
    "#=====================\n",
    "#  %s     문자열 (string)\n",
    "#  %c     1개의 문자 (Character)\n",
    "#  %d     정수  (integer)\n",
    "#  %f     실수 (floating-point)\n",
    "#  %o     8진수\n",
    "#  %x    16진수\n",
    "#  %%     퍼센트문자\n",
    "\n",
    " "
   ]
  },
  {
   "cell_type": "code",
   "execution_count": 114,
   "metadata": {},
   "outputs": [
    {
     "name": "stdout",
     "output_type": "stream",
     "text": [
      "        Hi\n",
      "Hi~\n",
      "Hi        \n",
      "Hi         10\n"
     ]
    }
   ],
   "source": [
    "# 6) 포맷코드와 숫자를 함께 사용하기\n",
    "    # (1) 정렬과 공백\n",
    "a = '%10s' % 'Hi'  #--------->10s 문자가 10개 보다 작을 경우 앞에 나머지 공란으로 채워진다.  / 오른쪽 정렬\n",
    "print(a)\n",
    "\n",
    "a = '%s' % 'Hi~'\n",
    "print(a) \n",
    "\n",
    "a = '%-10s' % 'Hi' # -----> -10S는 왼쪽정렬\n",
    "print(a) \n",
    "\n",
    "print(a, len(a))    #----------------위 세개 차이점을 알래./// 난모르겠어 그냥 받아적음 ㅎㅎ\n"
   ]
  },
  {
   "cell_type": "code",
   "execution_count": 134,
   "metadata": {},
   "outputs": [
    {
     "name": "stdout",
     "output_type": "stream",
     "text": [
      "3.14\n",
      "현재온도는 18도 입니다\n",
      "현재온도는 18도 입니다\n"
     ]
    }
   ],
   "source": [
    "    # (2) 소숫점 표현하기\n",
    "a = '%.2f' % 3.141592\n",
    "print(a)                #------->선셍님 왈 \"어렵지 않져~~? ㅎㅎ\"  \n",
    "    \n",
    "    # (3) format()함수 사용하기\n",
    "print(\"현재온도는 {0}도 입니다\".format(18))\n",
    "print(\"현재온도는 {0}도 입니다\".format(\"18\")) \n",
    "\n"
   ]
  },
  {
   "cell_type": "code",
   "execution_count": 133,
   "metadata": {},
   "outputs": [
    {
     "name": "stdout",
     "output_type": "stream",
     "text": [
      "제 나이는 50세 입니다. 공부를 삼년 동안 했습니다 .\n",
      "제 나이는 삼세 입니다. 공부를 50년 동안 했습니다 .\n",
      "제 나이는 11세 입니다. 공부를 사년 동안 했습니다 .\n"
     ]
    }
   ],
   "source": [
    "    \n",
    "    # (4) 2개 이상 format()함수 사용하기\n",
    "number = 50 \n",
    "day = '삼'\n",
    "print (\"제 나이는 {0}세 입니다. 공부를 {1}년 동안 했습니다 .\" .format(number, day))  #format 글자앞에 . (점)찍어야해\n",
    "print (\"제 나이는 {1}세 입니다. 공부를 {0}년 동안 했습니다 .\" .format(number, day))\n",
    "    \n",
    "    \n",
    "    \n",
    "    # (5)이름으로  format()함수 사용하기\n",
    "print (\"제 나이는 {number}세 입니다. 공부를 {day}년 동안 했습니다 .\" .\\\n",
    "       format(number=11 , day='사'))                                #  ---> 줄바끔 ;  \\ 이거 쓰고 다른줄로 들여써서 쓸 수 이씀 \n",
    "     #---> 여기서 넘버는 위에 50 넘버랑 다른거임  just only 이 함수안에서만임\n",
    "    \n",
    "    \n",
    "    \n",
    "    \n",
    "    "
   ]
  },
  {
   "cell_type": "code",
   "execution_count": 127,
   "metadata": {},
   "outputs": [
    {
     "name": "stdout",
     "output_type": "stream",
     "text": [
      "hola       10\n",
      "hola       10\n",
      "      hola 10\n",
      "   hola    10\n",
      "------------------------------------------------------------\n"
     ]
    }
   ],
   "source": [
    "    \n",
    "    # (6) format()함수와 정렬하기\n",
    "    \n",
    "# a. 왼쪽 정렬\n",
    "b = '{0:10}'.format('hola')\n",
    "print(b, len(b))\n",
    "\n",
    "b = '{0:<10}'.format('hola')\n",
    "print(b, len(b))\n",
    "\n",
    "# b. 오른쪽 정렬\n",
    "b = '{0:>10}'.format('hola')\n",
    "print(b, len(b))\n",
    "\n",
    "# c. 가운데 정렬\n",
    "b = '{0:^10}'.format('hola')\n",
    "print(b, len(b))\n",
    "\n",
    "print('-'*60)   #정답 줄나눠서 보기편할라고,,"
   ]
  },
  {
   "cell_type": "code",
   "execution_count": 126,
   "metadata": {},
   "outputs": [
    {
     "name": "stdout",
     "output_type": "stream",
     "text": [
      "***hey****\n",
      "*******hey\n",
      "hey*******\n"
     ]
    }
   ],
   "source": [
    "    # (7) 공백 채우기\n",
    "c = '{0:*^10}'.format('hey')    \n",
    "print(c)\n",
    "c = '{0:*>10}'.format('hey')    \n",
    "print(c)    \n",
    "c = '{0:*<10}'.format('hey')    \n",
    "print(c)    \n",
    "        "
   ]
  },
  {
   "cell_type": "code",
   "execution_count": 125,
   "metadata": {
    "scrolled": true
   },
   "outputs": [
    {
     "name": "stdout",
     "output_type": "stream",
     "text": [
      "  3.141592\n",
      "    3.1416\n"
     ]
    },
    {
     "ename": "NameError",
     "evalue": "name '그리고' is not defined",
     "output_type": "error",
     "traceback": [
      "\u001b[1;31m---------------------------------------------------------------------------\u001b[0m",
      "\u001b[1;31mNameError\u001b[0m                                 Traceback (most recent call last)",
      "\u001b[1;32m<ipython-input-125-838e869138ad>\u001b[0m in \u001b[0;36m<module>\u001b[1;34m\u001b[0m\n\u001b[0;32m     11\u001b[0m \u001b[1;33m\u001b[0m\u001b[0m\n\u001b[0;32m     12\u001b[0m   \u001b[1;31m# (9) { 그리고 } : 중괄호표현하기 {->{{,->}}}\u001b[0m\u001b[1;33m\u001b[0m\u001b[1;33m\u001b[0m\u001b[1;33m\u001b[0m\u001b[0m\n\u001b[1;32m---> 13\u001b[1;33m \u001b[0mf\u001b[0m \u001b[1;33m=\u001b[0m \u001b[1;33m{\u001b[0m\u001b[1;33m{\u001b[0m\u001b[0m그리고\u001b[0m\u001b[1;33m}\u001b[0m\u001b[1;33m}\u001b[0m\u001b[1;33m\u001b[0m\u001b[1;33m\u001b[0m\u001b[0m\n\u001b[0m\u001b[0;32m     14\u001b[0m \u001b[1;33m\u001b[0m\u001b[0m\n\u001b[0;32m     15\u001b[0m \u001b[1;33m\u001b[0m\u001b[0m\n",
      "\u001b[1;31mNameError\u001b[0m: name '그리고' is not defined"
     ]
    }
   ],
   "source": [
    "  # (8) format()함수로 소수점을 표현하기\n",
    "pi = 3.141592\n",
    "d ='{0:10}'.format(pi)\n",
    "e = '{0:10.4f}'.format(pi)\n",
    "\n",
    "print(d)\n",
    "print(e)\n",
    "\n",
    "    \n",
    "#이건 기본이니까요.... 기본ㅋ\n",
    "    \n",
    "    # (9) { 그리고 } : 중괄호표현하기 {->{{,->}}}\n",
    "f = {{그리고}}\n",
    "    \n",
    "    \n",
    "    "
   ]
  },
  {
   "cell_type": "code",
   "execution_count": 124,
   "metadata": {},
   "outputs": [
    {
     "name": "stdout",
     "output_type": "stream",
     "text": [
      "그룹명은 {name}입니다. 평균나이 {age}입니다.\n",
      "그룹명은 블랙핑크입니다. 평균나이 27입니다.\n",
      "그룹명은 블랙핑크입니다. 평균나이 32입니다.\n"
     ]
    }
   ],
   "source": [
    "# 7) f 문자열 포매팅\n",
    "# 파이썬 2.7 ,파이썬 3.6미만에서는 사용할수없는기능\n",
    "# 사용하는 방법은 문자열 앞에 f접두사를 붙이면 사용할 수 있다. \n",
    "\n",
    "name = '블랙핑크'\n",
    "age = 27\n",
    "\n",
    "a = '그룹명은 {name}입니다. 평균나이 {age}입니다.'\n",
    "b =f'그룹명은 {name}입니다. 평균나이 {age}입니다.'\n",
    "c =f'그룹명은 {name}입니다. 평균나이 {age+5}입니다.'  #-> 연산도 가능해요\n",
    "print(a)\n",
    "print(b)\n",
    "print(c)"
   ]
  },
  {
   "cell_type": "code",
   "execution_count": 123,
   "metadata": {},
   "outputs": [
    {
     "name": "stdout",
     "output_type": "stream",
     "text": [
      "Hi        \n",
      "        Hi\n",
      "    Hi    \n",
      "****Hi****\n",
      "3.1416\n"
     ]
    }
   ],
   "source": [
    "#정렬\n",
    "print(f'{\"Hi\":<10}')\n",
    "print(f'{\"Hi\":>10}')\n",
    "print(f'{\"Hi\":^10}')  # ---> ^ 이표시 가운데 정렬\n",
    "print(f'{\"Hi\":*^10}') \n",
    "      \n",
    "      \n",
    "# 소수점\n",
    "pi = 3.141592\n",
    "print(f'{pi:0.4f}')\n",
    "            "
   ]
  },
  {
   "cell_type": "code",
   "execution_count": 84,
   "metadata": {},
   "outputs": [
    {
     "name": "stdout",
     "output_type": "stream",
     "text": [
      "그룹명은 {name}입니다. 평균나이 {age}입니다.\n",
      "그룹명은 블랙핑크입니다. 평균나이 27입니다.\n",
      "그룹명은 블랙핑크입니다. 평균나이 32입니다.\n",
      "Hi        \n",
      "        Hi\n",
      "    Hi    \n",
      "****Hi****\n",
      "3.1416\n",
      "{ and }\n",
      "my name is 블랙핑크입니다. 나이는 27이다.\n",
      "내이름 도잉입니다. 나이는 25이다.\n"
     ]
    }
   ],
   "source": [
    "      \n",
    "# { and } 문자출력\n",
    "print(f'{{ and }}')\n",
    "      \n",
    "# 딕셔너리와 f 문자열 사용하기\n",
    "d = {'name':'도잉', 'age':25}\n",
    "print(f\"my name is {name}입니다. 나이는 {age}이다.\" )            \n",
    "print(f\"내이름 {d['name']}입니다. 나이는 {d['age']}이다.\" )  \n",
    "      \n",
    "      \n",
    "      \n",
    "      "
   ]
  },
  {
   "cell_type": "markdown",
   "metadata": {},
   "source": [
    "### 3. 문자열관련된 함수"
   ]
  },
  {
   "cell_type": "code",
   "execution_count": 93,
   "metadata": {},
   "outputs": [
    {
     "name": "stdout",
     "output_type": "stream",
     "text": [
      "0\n",
      "0\n",
      "3\n",
      "1\n",
      "0\n"
     ]
    }
   ],
   "source": [
    "### 1) count() : 문자열의 문자개수를 리턴하는 함수 \n",
    "\n",
    "a = 'Life is too short'\n",
    "print(a.count('b')) # 위 문자열에 b가 몇개인지 세는거\n",
    "print('Life is too short'.count('a'))\n",
    "print(a.count('o'))\n",
    "print(a.count('Life'))\n",
    "print(a.count('S'))   # --> 대소문자도 구별됨"
   ]
  },
  {
   "cell_type": "code",
   "execution_count": 98,
   "metadata": {},
   "outputs": [
    {
     "name": "stdout",
     "output_type": "stream",
     "text": [
      "a 문자위치= 10\n",
      "i 문자위치= 7\n",
      "x 문자위치= -1\n"
     ]
    }
   ],
   "source": [
    "### 2)  find() : 특정문자의 위치를 리턴하는 함수 (찾는 문자가 없을 경우 error 가 발생함 : -1)\n",
    "\n",
    "a = 'python is best choice'\n",
    "print('a 문자위치=',a.find('b'))\n",
    "print('i 문자위치=',a.find('i'))   #문자열 중 처음 문자의 위치를 리턴\n",
    "print('x 문자위치=',a.find('x'))    #  (찾는 문자가 없을 경우 error 가 발생함 : -1로 표시)"
   ]
  },
  {
   "cell_type": "code",
   "execution_count": 101,
   "metadata": {},
   "outputs": [
    {
     "name": "stdout",
     "output_type": "stream",
     "text": [
      "a 문자위치= 10\n",
      "i 문자위치= 7\n"
     ]
    },
    {
     "ename": "ValueError",
     "evalue": "substring not found",
     "output_type": "error",
     "traceback": [
      "\u001b[1;31m---------------------------------------------------------------------------\u001b[0m",
      "\u001b[1;31mValueError\u001b[0m                                Traceback (most recent call last)",
      "\u001b[1;32m<ipython-input-101-4068e6a72884>\u001b[0m in \u001b[0;36m<module>\u001b[1;34m\u001b[0m\n\u001b[0;32m      3\u001b[0m \u001b[0mprint\u001b[0m\u001b[1;33m(\u001b[0m\u001b[1;34m'a 문자위치='\u001b[0m\u001b[1;33m,\u001b[0m\u001b[0ma\u001b[0m\u001b[1;33m.\u001b[0m\u001b[0mindex\u001b[0m\u001b[1;33m(\u001b[0m\u001b[1;34m'b'\u001b[0m\u001b[1;33m)\u001b[0m\u001b[1;33m)\u001b[0m\u001b[1;33m\u001b[0m\u001b[1;33m\u001b[0m\u001b[0m\n\u001b[0;32m      4\u001b[0m \u001b[0mprint\u001b[0m\u001b[1;33m(\u001b[0m\u001b[1;34m'i 문자위치='\u001b[0m\u001b[1;33m,\u001b[0m\u001b[0ma\u001b[0m\u001b[1;33m.\u001b[0m\u001b[0mindex\u001b[0m\u001b[1;33m(\u001b[0m\u001b[1;34m'i'\u001b[0m\u001b[1;33m)\u001b[0m\u001b[1;33m)\u001b[0m\u001b[1;33m\u001b[0m\u001b[1;33m\u001b[0m\u001b[0m\n\u001b[1;32m----> 5\u001b[1;33m \u001b[0mprint\u001b[0m\u001b[1;33m(\u001b[0m\u001b[1;34m'x 문자위치='\u001b[0m\u001b[1;33m,\u001b[0m\u001b[0ma\u001b[0m\u001b[1;33m.\u001b[0m\u001b[0mindex\u001b[0m\u001b[1;33m(\u001b[0m\u001b[1;34m'x'\u001b[0m\u001b[1;33m)\u001b[0m\u001b[1;33m)\u001b[0m\u001b[1;33m\u001b[0m\u001b[1;33m\u001b[0m\u001b[0m\n\u001b[0m",
      "\u001b[1;31mValueError\u001b[0m: substring not found"
     ]
    }
   ],
   "source": [
    "### 3)  index() : 특정문자의 위치를 리턴하는 함수 (찾는 문자가 없을 경우 error 가 발생함)\n",
    "\n",
    "a = 'python is best choice'\n",
    "print('a 문자위치=',a.index('b'))\n",
    "print('i 문자위치=',a.index('i'))\n",
    "print('x 문자위치=',a.index('x'))  # find랑 달리 결과값이 아예 예러로 뜸  무섭네\n"
   ]
  },
  {
   "cell_type": "code",
   "execution_count": 103,
   "metadata": {},
   "outputs": [
    {
     "name": "stdout",
     "output_type": "stream",
     "text": [
      "a,b,c,d\n",
      "a,b,c,d,e\n"
     ]
    }
   ],
   "source": [
    "### 4) join() : 문자열을 삽입\n",
    "\n",
    "print('a,b,c,d')\n",
    "\n",
    "a = ','\n",
    "print(a.join('abcde'))\n"
   ]
  },
  {
   "cell_type": "code",
   "execution_count": 104,
   "metadata": {},
   "outputs": [
    {
     "name": "stdout",
     "output_type": "stream",
     "text": [
      "HEY\n"
     ]
    }
   ],
   "source": [
    "### 5) upper() : 소문자를 대문자로 변환\n",
    "\n",
    "a = 'hey'\n",
    "print(a.upper())\n"
   ]
  },
  {
   "cell_type": "code",
   "execution_count": 106,
   "metadata": {},
   "outputs": [
    {
     "name": "stdout",
     "output_type": "stream",
     "text": [
      "sexy\n"
     ]
    }
   ],
   "source": [
    "### 6) lower() : 대문자를 소문자로 변환\n",
    "\n",
    "a='SEXY'\n",
    "print(a.lower())"
   ]
  },
  {
   "cell_type": "code",
   "execution_count": 112,
   "metadata": {},
   "outputs": [
    {
     "name": "stdout",
     "output_type": "stream",
     "text": [
      "hi, baby\n"
     ]
    }
   ],
   "source": [
    "### 7) lstrip() :  왼쪽공백 지우기\n",
    "\n",
    "a = '           hi, baby'\n",
    "print(a.lstrip())"
   ]
  },
  {
   "cell_type": "code",
   "execution_count": 109,
   "metadata": {},
   "outputs": [
    {
     "name": "stdout",
     "output_type": "stream",
     "text": [
      "hi,baby\n"
     ]
    }
   ],
   "source": [
    " ### 8) rstrip() : 오른쪽공백 지우기\n",
    "    \n",
    "a = 'hi,baby        '\n",
    "print(a.rstrip())\n",
    "    "
   ]
  },
  {
   "cell_type": "code",
   "execution_count": 111,
   "metadata": {},
   "outputs": [
    {
     "name": "stdout",
     "output_type": "stream",
     "text": [
      "hey cut\n"
     ]
    }
   ],
   "source": [
    "### 9) strip() : 양쪽공백지우기\n",
    "\n",
    "a = '    hey cut   '\n",
    "print(a.strip())"
   ]
  },
  {
   "cell_type": "code",
   "execution_count": 116,
   "metadata": {},
   "outputs": [
    {
     "name": "stdout",
     "output_type": "stream",
     "text": [
      "your leg is too short\n"
     ]
    }
   ],
   "source": [
    "### 10) replace() : 문자열 바꾸기\n",
    "\n",
    "a = 'Life is too short'\n",
    "\n",
    "#Life -> your leg 으로 변경\n",
    "a = a.replace('Life','your leg')\n",
    "print(a)"
   ]
  },
  {
   "cell_type": "code",
   "execution_count": 121,
   "metadata": {},
   "outputs": [
    {
     "name": "stdout",
     "output_type": "stream",
     "text": [
      "['Life', 'is', 'too', 'short']\n",
      "['a', 'b', 'c', 'd', 'e']\n",
      "['a', 'b', 'c', 'd']\n"
     ]
    }
   ],
   "source": [
    "### 11) spilt() : 자열나누기\n",
    "\n",
    "a = 'Life is too short'\n",
    "\n",
    "# 공백기준으로 나누기 \n",
    "a.split()\n",
    "print(a.split())\n",
    "\n",
    "b = 'a,b,c,d,e'\n",
    "print(b.split(','))\n",
    "\n",
    "c = 'a:b:c:d'\n",
    "print(c.split(':'))\n"
   ]
  },
  {
   "cell_type": "markdown",
   "metadata": {},
   "source": [
    "연습문제 풀어보기"
   ]
  },
  {
   "cell_type": "code",
   "execution_count": 140,
   "metadata": {},
   "outputs": [
    {
     "name": "stdout",
     "output_type": "stream",
     "text": [
      "a의 성별을 나타내는 숫자= 1\n"
     ]
    }
   ],
   "source": [
    "# 1. 주민등록번호에서 성별을 나타내는 숫자 출력하기\n",
    "\n",
    "a = '881220-1234567'\n",
    "\n",
    "print('a의 성별을 나타내는 숫자=',a[7])\n",
    "\n"
   ]
  },
  {
   "cell_type": "code",
   "execution_count": 205,
   "metadata": {},
   "outputs": [
    {
     "name": "stdout",
     "output_type": "stream",
     "text": [
      "12\n",
      "Life 문자위치= 12\n"
     ]
    }
   ],
   "source": [
    "#2. 문자열찾기\n",
    "#변수 a에서 short가 시작된 위치를 출력하기\n",
    "\n",
    "a = 'Life is too short, you need python'\n",
    "\n",
    "print(a.index('short'))\n",
    "print('Life 문자위치=',a.find('short'))\n",
    "\n",
    "\n"
   ]
  },
  {
   "cell_type": "code",
   "execution_count": 211,
   "metadata": {},
   "outputs": [
    {
     "name": "stdout",
     "output_type": "stream",
     "text": [
      "['a', 'b', 'c', 'd']\n",
      "a#b#c#d\n",
      "['a', 'b', 'c', 'd']\n",
      "a#b#c#d\n"
     ]
    }
   ],
   "source": [
    "# 3. 문자열 바꾸기\n",
    "# a:b:c:d -> a#b#c#d 로 변경   스플릿하고 쪼인하라고 ? \n",
    "\n",
    "a = 'a:b:c:d'\n",
    "print(a.split(':'))\n",
    "\n",
    "print(a.replace(':','#'))\n",
    "\n",
    "\n",
    "#아래는 쌤과의 풀이\n",
    "\n",
    "b = a.split(':')\n",
    "print(b)\n",
    "c ='#'.join(b)\n",
    "print(c)\n"
   ]
  },
  {
   "cell_type": "code",
   "execution_count": 213,
   "metadata": {},
   "outputs": [
    {
     "name": "stdout",
     "output_type": "stream",
     "text": [
      "89000000\n",
      "15020000\n",
      "이사람의 주식의 총액은  104020000 원입니다\n",
      "104020000\n"
     ]
    }
   ],
   "source": [
    "# 4. 삼성전자 주가가 89,000원이고 엘지전자 주가가 751,000원일경우  \n",
    "   # 특정사람이  삼성주식 1000주와 엘지 주식 20주를 가지고있을경우  주식의 총액을 계산하시오.\n",
    "   # 삼성 , 엘지 총액 total로 하기\n",
    "\n",
    "ss = 89000\n",
    "lg = 751000\n",
    "\n",
    "a = ss*1000\n",
    "b = lg*20\n",
    "\n",
    "print(a)\n",
    "print(b)\n",
    "print('이사람의 주식의 총액은 ',a+b,'원입니다')\n",
    "\n",
    "#아래는 쌤과의 풀이\n",
    "total = ss*1000 + lg*20\n",
    "print(total)\n"
   ]
  },
  {
   "cell_type": "code",
   "execution_count": 218,
   "metadata": {},
   "outputs": [
    {
     "name": "stdout",
     "output_type": "stream",
     "text": [
      "삼성하락 값= 84550000.0\n",
      "엘지 하락 값= 1502000.0\n",
      "86052000.0\n",
      "7955000.0\n"
     ]
    }
   ],
   "source": [
    "# 5.   4번문제 에서 삼성과 엘지 주가가 각각 5%, 10% 하락한 경우에 손실액을 구하시오 ㅋㅋㅋㅋㅋㅋㅋ 이거 그냥 수학아니냐 ㅋㅋㅋ \n",
    "\n",
    "ss = 89000\n",
    "lg = 751000\n",
    "\n",
    "a = ss*1000\n",
    "b = lg*20\n",
    "\n",
    "print('삼성하락 값=',a*0.95)\n",
    "print('엘지 하락 값=',b*0.1)\n",
    "print((a*0.95)+(b*0.1))\n",
    "\n",
    "# 내가푼걸로 답이 틀렸네 ^^\n",
    "\n",
    "#아래는 쌤과의 풀이\n",
    " #  %who   매직명령어  주피터노트에서만 쓸수있음.\n",
    " \n",
    "loss = (ss*0.05*100)+(lg*0.10*100)\n",
    "print(loss)"
   ]
  },
  {
   "cell_type": "code",
   "execution_count": 220,
   "metadata": {},
   "outputs": [
    {
     "name": "stdout",
     "output_type": "stream",
     "text": [
      "python\n",
      "python\n",
      "python\n",
      "python\n",
      "python\n",
      "python\n",
      "python\n",
      "python\n",
      "python\n",
      "python\n",
      "\n"
     ]
    }
   ],
   "source": [
    "# 6. Python 이란 문자를 열번 출력하기 (단, 각 줄을 바꿔서 출력하기  [10줄 나와야함])\n",
    "\n",
    "\n",
    "print(\"python\"\"\\n\"* 10)   # \\n  -> 이게 줄바꾸는거라함\n",
    "\n",
    "\n",
    "\n",
    "\n",
    "#아래는 쌤과의 풀이\n",
    "print('python')"
   ]
  },
  {
   "cell_type": "code",
   "execution_count": 222,
   "metadata": {},
   "outputs": [
    {
     "name": "stdout",
     "output_type": "stream",
     "text": [
      "hi python\n",
      "hi python\n"
     ]
    }
   ],
   "source": [
    "# 7. a라는 변수에 \"hello python\"일 경우 a값을 \"hi python\" 으로 변경하기\n",
    "\n",
    "a = \"hello python\"\n",
    "\n",
    "b = a.replace('hello','hi')\n",
    "print(b)\n",
    "\n",
    "#아래는 쌤과의 풀이\n",
    "a = 'hi '+a[6:]\n",
    "print(a)"
   ]
  },
  {
   "cell_type": "code",
   "execution_count": 226,
   "metadata": {},
   "outputs": [
    {
     "name": "stdout",
     "output_type": "stream",
     "text": [
      "bcdef\n",
      "a\n",
      "bcdef a\n",
      "bcdefa\n"
     ]
    }
   ],
   "source": [
    "# 8. x라는 변수에 'abcdef'일 경우 'bcdefa'로 변경하기\n",
    "\n",
    "a = 'abcdef'\n",
    "\n",
    "print(a[1:])\n",
    "\n",
    "print(a[0])\n",
    "\n",
    "\n",
    "\n",
    "print((a[1:]),(a[0]))\n",
    "\n",
    "#아래는 쌤과의 풀이\n",
    "x='abcdef'\n",
    "x = x[1:]+x[0]\n",
    "print(x)\n"
   ]
  },
  {
   "cell_type": "code",
   "execution_count": null,
   "metadata": {},
   "outputs": [],
   "source": []
  }
 ],
 "metadata": {
  "kernelspec": {
   "display_name": "Python 3",
   "language": "python",
   "name": "python3"
  },
  "language_info": {
   "codemirror_mode": {
    "name": "ipython",
    "version": 3
   },
   "file_extension": ".py",
   "mimetype": "text/x-python",
   "name": "python",
   "nbconvert_exporter": "python",
   "pygments_lexer": "ipython3",
   "version": "3.7.4"
  }
 },
 "nbformat": 4,
 "nbformat_minor": 2
}
