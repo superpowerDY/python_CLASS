{
 "cells": [
  {
   "cell_type": "markdown",
   "metadata": {},
   "source": [
    "### 불(Bool ,Boolean)자료형\n",
    "\n",
    "불자료형이란, 참(True)과 거짓을 나타내는 자료형이다.\n",
    "\n",
    "불형은 2가지의 값인 True, False 값만 가질 수 있다.\n",
    "\n",
    "주의할 점은, True, False는 파이썬의 예약어로써 첫글자는 반드시 대문자로 해야한다.!!\n"
   ]
  },
  {
   "cell_type": "code",
   "execution_count": 4,
   "metadata": {},
   "outputs": [
    {
     "data": {
      "text/plain": [
       "False"
      ]
     },
     "execution_count": 4,
     "metadata": {},
     "output_type": "execute_result"
    }
   ],
   "source": [
    "a= True\n",
    "# a= true   # -> 에러, 선언되지 않은 true라는 변수 이기때문에 에러인거임\n",
    "\n",
    "b = False\n",
    "1 == 1 # True\n",
    "2 < 1  #False"
   ]
  },
  {
   "cell_type": "code",
   "execution_count": 18,
   "metadata": {},
   "outputs": [
    {
     "name": "stdout",
     "output_type": "stream",
     "text": [
      "True\n",
      "False\n",
      "True\n",
      "False\n",
      "True\n",
      "False\n",
      "True\n",
      "True\n",
      "False\n"
     ]
    }
   ],
   "source": [
    "#각각의 자료형의 참과 거짓\n",
    "#bool()함수를 사용하여 각 자료형의 참과 거짓으로 형변환을 할 수 있다.\n",
    "\n",
    "#문자열일경우 값이 있으면 True , 없으면 False\n",
    "print(bool('phyton'))    # True\n",
    "print(bool(''))          # False\n",
    "\n",
    "#리스트\n",
    "print(bool([1,2,3]))\n",
    "print(bool([]))\n",
    "\n",
    "#숫자일경우 0이면 False, 0이 아닌 모든수 True\n",
    "print(bool(1))   #True\n",
    "print(bool(0))   #False\n",
    "print(bool(999))\n",
    "print(bool(-2))\n",
    "\n",
    "#None : 값이 없는 상태이므로 False\n",
    "print(bool(None))"
   ]
  },
  {
   "cell_type": "code",
   "execution_count": null,
   "metadata": {},
   "outputs": [],
   "source": []
  },
  {
   "cell_type": "code",
   "execution_count": null,
   "metadata": {},
   "outputs": [],
   "source": []
  },
  {
   "cell_type": "code",
   "execution_count": null,
   "metadata": {},
   "outputs": [],
   "source": []
  }
 ],
 "metadata": {
  "kernelspec": {
   "display_name": "Python 3",
   "language": "python",
   "name": "python3"
  },
  "language_info": {
   "codemirror_mode": {
    "name": "ipython",
    "version": 3
   },
   "file_extension": ".py",
   "mimetype": "text/x-python",
   "name": "python",
   "nbconvert_exporter": "python",
   "pygments_lexer": "ipython3",
   "version": "3.7.4"
  }
 },
 "nbformat": 4,
 "nbformat_minor": 2
}
