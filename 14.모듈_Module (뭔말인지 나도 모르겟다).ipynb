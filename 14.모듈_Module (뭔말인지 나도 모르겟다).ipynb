{
 "cells": [
  {
   "cell_type": "markdown",
   "metadata": {},
   "source": [
    "### 모듈 (Module)\n",
    "\n",
    "1. 모듈의 정의\n",
    "    * 1) 함수: 파일내에서 일정한 작업을 수행하는 코드 블럭\n",
    "    * 2) 모듈: 함수나 변수 또는 클래스들을 모아 놓은 파일(확장자 '.py')\n",
    "                - 유사하거나 관련된 일을 하는 함수나 상수들을 모아서 하나의 파일에 저장한 후 \n",
    "                - 추후에 재사용하기 위해 정의한다 . \n",
    "                - 모듈의 이름은 확장자(. py)를 제외한 파일이름이다.\n",
    "    * 3) 패키지: 여러개의 모듈을 모아놓은 디렉토리이다.\n",
    "        \n",
    "        >  패키지(디렉토리,폴더) > 모듈(파일) > 클래스(변수,메서드) > 함수\n",
    "    \n",
    "2. 모듈의 사용하는 목적\n",
    "    \n",
    "     * 코드의 재사용 : 모듈이 없다면 자주 사용되는 함수를 매번 작성해야 하기 때문에 개발 및 유지보수가 어렵게 된다.\n",
    "     * 프로그램 개발시 전체 코드를 여러 모듈단위로 분리하여 설계함으로써 작업의 효율울 향상시킬 수 있다.\n",
    "     * 별도의 이름 공간(name space)을 제공함으로써 동일 이름의 여러함수나 변수들이 각 모듈마다 독립적으로 정의해서 사용할 수 있다.\n",
    "     \n",
    "3. 모듈의 종류\n",
    "\n",
    "    * 표준모듈 : 파이썬언어 패키지안에 기본적으로 포함되어 제공되는 모듈 / 대표적으로 math,string\n",
    "    * 사용자정의 모듈 : 개발자가 직접 정의 하여 만든 모듈 \n",
    "    * 써드파티모듈 : 다른 업체나 개인이 만들어서 제공하는 모듈 / 대표적으로 pandas, numpy, matplotlib ...\n",
    "\n",
    "4. 모듈의 선언\n",
    "    \n",
    "    * 1) 모듈 전체를 참조 \n",
    "       * a. import 모듈명\n",
    "       * b. import 모듈명 as 별칭 : 해당모듈을 짧은 이름으로 사용하거나, 다른 모듈이름과 충돌이 일어날때, 모듈명이 너무 길때 사용한다. \n",
    "       * c. from 모듈명 import [변수]or[함수] : 모듈 내에서 필요한 부분(변수나 함수)만 참조, 모듈이름을 붙이지 않고 바로 해당 모듈의 함수를 사용할 수 있다.\n",
    "       * d. from 모듈명 import * :해당 모듈에 존재하는 언더바2개(언더스코어,__ )로 시작되는 이름들을 제외한 모든 이름들을 현재 세션에 불러온다. \n",
    "       * e. from 모듈명 import * as 별칭 : 해당 모듈내에 정의된 이름을 별칭으로 사용하고자 할 때 \n",
    "    \n",
    "    \n",
    "   * 2) 모듈내에서 함수를 호출 방법\n",
    "    \n",
    "        > '모듈명.함수(인자)'\n",
    "    \n",
    "   * 3) 모듈을 참조할 수 있는 디렉토리 확인\n",
    "    \n",
    "        기본적으로 현재 디렉토리에 있는 파일이나 파이썬 라이브러리가 저장된 디렉토리에 있는 모듈만 불러 올 수 있다. sys모듈 import후에 'ys.path()' 함수로 확인 할 수 있다.\n",
    "        디렉토리를 현재 세션에 추가하거나 삭제할 경우에는 'sys.path.append() , sys.path.remove()'러 추가하거나 삭제할 수 있다."
   ]
  },
  {
   "cell_type": "code",
   "execution_count": null,
   "metadata": {},
   "outputs": [],
   "source": [
    "%pwd\n",
    "\n",
    "#  현재 디렉토리에 /python/source 라는 파일 만들기\n",
    "\n",
    "!mkdir d:\\doyeons\\python\\source    # 하나도 모루겟는뎅..ㅎㅎ\n",
    "    "
   ]
  },
  {
   "cell_type": "code",
   "execution_count": null,
   "metadata": {},
   "outputs": [],
   "source": [
    "# 모듈/패키지 실습\n",
    "# 1. cmd창 열기 \n",
    "# 2. c:\\                       # 난 안쓸란다 나중에 썜꺼 복붙하기..."
   ]
  },
  {
   "cell_type": "markdown",
   "metadata": {},
   "source": [
    "#### 모듈생성 및 불러오기 "
   ]
  },
  {
   "cell_type": "code",
   "execution_count": 2,
   "metadata": {},
   "outputs": [
    {
     "name": "stdout",
     "output_type": "stream",
     "text": [
      "['__doc__', '__loader__', '__name__', '__package__', '__spec__', 'acos', 'acosh', 'asin', 'asinh', 'atan', 'atan2', 'atanh', 'ceil', 'copysign', 'cos', 'cosh', 'degrees', 'e', 'erf', 'erfc', 'exp', 'expm1', 'fabs', 'factorial', 'floor', 'fmod', 'frexp', 'fsum', 'gamma', 'gcd', 'hypot', 'inf', 'isclose', 'isfinite', 'isinf', 'isnan', 'ldexp', 'lgamma', 'log', 'log10', 'log1p', 'log2', 'modf', 'nan', 'pi', 'pow', 'radians', 'remainder', 'sin', 'sinh', 'sqrt', 'tan', 'tanh', 'tau', 'trunc']\n",
      "3.141592653589793\n",
      "27.0\n",
      "12\n"
     ]
    }
   ],
   "source": [
    "# 파이썬에서 내장된 모듈\n",
    "\n",
    "import math        # 기본적으로 내장된 수학관련 모듈\n",
    "print(dir(math))\n",
    "\n",
    "print(math.pi)\n",
    "\n",
    "#쌤 맨날 안되면 아/무튼~ 제가 쪽굼 착각을했는지~\n",
    "\n",
    "# math.pow?  pow함수 사용방법 볼수있음 /다른거도 마찬가지~\n",
    "print(math.pow(3,3))\n",
    "#math.floor?\n",
    "print(math.floor(12.3))\n",
    "\n",
    "\n",
    "# 모듈이 없을 경우 ModuleNotFoundError가 발생한다\n",
    "\n",
    "%reset -f"
   ]
  },
  {
   "cell_type": "code",
   "execution_count": 3,
   "metadata": {},
   "outputs": [
    {
     "name": "stdout",
     "output_type": "stream",
     "text": [
      "p\t x\t \n",
      "3.141592653589793\n",
      "27.0\n"
     ]
    }
   ],
   "source": [
    "from math import pi as p, pow as x   # pi를 p로 주고 pow를 x로 준다는 뜻\n",
    "%who\n",
    "print(p)\n",
    "print(x(3,3))  #3의 3승"
   ]
  },
  {
   "cell_type": "code",
   "execution_count": null,
   "metadata": {},
   "outputs": [],
   "source": [
    "# d:\\doyeons\\python\\source\\mod1.py\n",
    "\n",
    "# 이거도 베껴쓰기~ 나중에 ..........."
   ]
  },
  {
   "cell_type": "code",
   "execution_count": 4,
   "metadata": {},
   "outputs": [
    {
     "name": "stdout",
     "output_type": "stream",
     "text": [
      "--------------------------------------------------\n"
     ]
    },
    {
     "data": {
      "text/plain": [
       "['d:\\\\doyeons',\n",
       " 'C:\\\\Anaconda3\\\\python37.zip',\n",
       " 'C:\\\\Anaconda3\\\\DLLs',\n",
       " 'C:\\\\Anaconda3\\\\lib',\n",
       " 'C:\\\\Anaconda3',\n",
       " '',\n",
       " 'C:\\\\Anaconda3\\\\lib\\\\site-packages',\n",
       " 'C:\\\\Anaconda3\\\\lib\\\\site-packages\\\\win32',\n",
       " 'C:\\\\Anaconda3\\\\lib\\\\site-packages\\\\win32\\\\lib',\n",
       " 'C:\\\\Anaconda3\\\\lib\\\\site-packages\\\\Pythonwin',\n",
       " 'C:\\\\Anaconda3\\\\lib\\\\site-packages\\\\IPython\\\\extensions',\n",
       " 'C:\\\\Users\\\\TJ\\\\.ipython',\n",
       " 'd:\\\\doyeons\\\\python\\\\source']"
      ]
     },
     "execution_count": 4,
     "metadata": {},
     "output_type": "execute_result"
    }
   ],
   "source": [
    "%pwd\n",
    "# 현재사용중인path확인하기\n",
    "import sys\n",
    "sys.path\n",
    "print('-'*50)\n",
    "# path에 사용자 디렉토리 추가하기\n",
    "sys.path.append('d:\\doyeons\\python\\source')\n",
    "sys.path"
   ]
  },
  {
   "cell_type": "code",
   "execution_count": 5,
   "metadata": {},
   "outputs": [
    {
     "data": {
      "text/plain": [
       "['d:\\\\doyeons',\n",
       " 'C:\\\\Anaconda3\\\\python37.zip',\n",
       " 'C:\\\\Anaconda3\\\\DLLs',\n",
       " 'C:\\\\Anaconda3\\\\lib',\n",
       " 'C:\\\\Anaconda3',\n",
       " '',\n",
       " 'C:\\\\Anaconda3\\\\lib\\\\site-packages',\n",
       " 'C:\\\\Anaconda3\\\\lib\\\\site-packages\\\\win32',\n",
       " 'C:\\\\Anaconda3\\\\lib\\\\site-packages\\\\win32\\\\lib',\n",
       " 'C:\\\\Anaconda3\\\\lib\\\\site-packages\\\\Pythonwin',\n",
       " 'C:\\\\Anaconda3\\\\lib\\\\site-packages\\\\IPython\\\\extensions',\n",
       " 'C:\\\\Users\\\\TJ\\\\.ipython']"
      ]
     },
     "execution_count": 5,
     "metadata": {},
     "output_type": "execute_result"
    }
   ],
   "source": [
    "#path 에 등록된 사용자 디렉토리 삭제하기\n",
    "sys.path.remove('d:\\doyeons\\python\\source')\n",
    "sys.path"
   ]
  },
  {
   "cell_type": "code",
   "execution_count": 6,
   "metadata": {},
   "outputs": [],
   "source": [
    "sys.path.append('d:\\doyeons\\python\\source')\n",
    "import mod1"
   ]
  },
  {
   "cell_type": "code",
   "execution_count": 7,
   "metadata": {},
   "outputs": [
    {
     "name": "stdout",
     "output_type": "stream",
     "text": [
      "30\n",
      "30\n",
      "자료형이 다르기때문에 연산을 할수가 없습니다.!\n",
      "None\n"
     ]
    }
   ],
   "source": [
    "print(mod1.sum(10,20))\n",
    "print(mod1.safe_sum(10,20))\n",
    "print(mod1.safe_sum(10,'20'))"
   ]
  },
  {
   "cell_type": "code",
   "execution_count": 8,
   "metadata": {},
   "outputs": [],
   "source": [
    "del mod1"
   ]
  },
  {
   "cell_type": "code",
   "execution_count": 9,
   "metadata": {},
   "outputs": [
    {
     "name": "stdout",
     "output_type": "stream",
     "text": [
      "30\n"
     ]
    }
   ],
   "source": [
    "from mod1 import sum\n",
    "print(sum(10,20))"
   ]
  },
  {
   "cell_type": "code",
   "execution_count": 10,
   "metadata": {},
   "outputs": [
    {
     "data": {
      "text/plain": [
       "['d:\\\\doyeons',\n",
       " 'C:\\\\Anaconda3\\\\python37.zip',\n",
       " 'C:\\\\Anaconda3\\\\DLLs',\n",
       " 'C:\\\\Anaconda3\\\\lib',\n",
       " 'C:\\\\Anaconda3',\n",
       " '',\n",
       " 'C:\\\\Anaconda3\\\\lib\\\\site-packages',\n",
       " 'C:\\\\Anaconda3\\\\lib\\\\site-packages\\\\win32',\n",
       " 'C:\\\\Anaconda3\\\\lib\\\\site-packages\\\\win32\\\\lib',\n",
       " 'C:\\\\Anaconda3\\\\lib\\\\site-packages\\\\Pythonwin',\n",
       " 'C:\\\\Anaconda3\\\\lib\\\\site-packages\\\\IPython\\\\extensions',\n",
       " 'C:\\\\Users\\\\TJ\\\\.ipython']"
      ]
     },
     "execution_count": 10,
     "metadata": {},
     "output_type": "execute_result"
    }
   ],
   "source": [
    "sys.path.remove('d:\\doyeons\\python\\source')\n",
    "sys.path"
   ]
  },
  {
   "cell_type": "markdown",
   "metadata": {},
   "source": [
    "# __main__"
   ]
  },
  {
   "cell_type": "markdown",
   "metadata": {},
   "source": [
    "못하겠다 선생님꺼 긁거나 따오기 .. "
   ]
  },
  {
   "cell_type": "markdown",
   "metadata": {},
   "source": [
    "### 주연씨 블로그보기!! \n",
    "\n"
   ]
  },
  {
   "cell_type": "code",
   "execution_count": null,
   "metadata": {},
   "outputs": [],
   "source": []
  },
  {
   "cell_type": "code",
   "execution_count": null,
   "metadata": {},
   "outputs": [],
   "source": []
  },
  {
   "cell_type": "code",
   "execution_count": null,
   "metadata": {},
   "outputs": [],
   "source": []
  },
  {
   "cell_type": "code",
   "execution_count": null,
   "metadata": {},
   "outputs": [],
   "source": []
  },
  {
   "cell_type": "code",
   "execution_count": null,
   "metadata": {},
   "outputs": [],
   "source": []
  }
 ],
 "metadata": {
  "kernelspec": {
   "display_name": "Python 3",
   "language": "python",
   "name": "python3"
  },
  "language_info": {
   "codemirror_mode": {
    "name": "ipython",
    "version": 3
   },
   "file_extension": ".py",
   "mimetype": "text/x-python",
   "name": "python",
   "nbconvert_exporter": "python",
   "pygments_lexer": "ipython3",
   "version": "3.7.4"
  }
 },
 "nbformat": 4,
 "nbformat_minor": 2
}
