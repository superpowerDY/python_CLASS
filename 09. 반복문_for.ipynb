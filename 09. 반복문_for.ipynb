{
 "cells": [
  {
   "cell_type": "markdown",
   "metadata": {},
   "source": [
    "# 반복문\n",
    "\n",
    "## for문\n",
    "\n",
    "```Python\n",
    "for 변수 in range(start, stop[,step]):\n",
    "    반복할 블록\n",
    "```\n",
    "<img src=\"./images/09.반복문_for_01.png\" alt=\"for문 구조1\" width=\"250\" height=\"auto\" style=\"margin:0;border:1px solid tomato;display:inline-block;\">\n",
    "<img src=\"./images/09.반복문_for_02.png\" alt=\"for문 구조2\" width=\"250\" height=\"auto\" style=\"margin:0;border:1px solid tomato;display:inline-block;\">\n",
    "\n",
    "* range() 함수 사용과 내부적 변경\n",
    "    - for i in [0,1,2]\n",
    "    "
   ]
  },
  {
   "cell_type": "markdown",
   "metadata": {},
   "source": [
    "## range( ) 사용한 for문"
   ]
  },
  {
   "cell_type": "code",
   "execution_count": 59,
   "metadata": {},
   "outputs": [
    {
     "name": "stdout",
     "output_type": "stream",
     "text": [
      "0  : Hello Python\n",
      "1  : Hello Python\n",
      "2  : Hello Python\n",
      "3  : Hello Python\n",
      "4  : Hello Python\n",
      "5  : Hello Python\n",
      "6  : Hello Python\n",
      "7  : Hello Python\n",
      "8  : Hello Python\n",
      "9  : Hello Python\n",
      "==================================================\n",
      "0  : Hi Python\n",
      "1  : Hi Python\n",
      "2  : Hi Python\n",
      "3  : Hi Python\n",
      "4  : Hi Python\n",
      "5  : Hi Python\n",
      "6  : Hi Python\n",
      "7  : Hi Python\n",
      "8  : Hi Python\n",
      "9  : Hi Python\n",
      "==================================================\n",
      "0  : Life is too short, You need Python!\n",
      "2  : Life is too short, You need Python!\n",
      "4  : Life is too short, You need Python!\n",
      "6  : Life is too short, You need Python!\n",
      "8  : Life is too short, You need Python!\n"
     ]
    }
   ],
   "source": [
    "for i in range(10): # 0에서 시작해서 10에서 끝\n",
    "    print(i, \" : Hello Python\")\n",
    "\n",
    "print(\"=\"*50)\n",
    "\n",
    "for i in range(0, 10, 1):\n",
    "    print(i, \" : Hi Python\")\n",
    "    \n",
    "print(\"=\"*50)\n",
    "\n",
    "for i in range(0, 10, 2):     # 맨뒤에 2는 2씩 증가하라는거\n",
    "    print(i,\" : Life is too short, You need Python!\")"
   ]
  },
  {
   "cell_type": "markdown",
   "metadata": {},
   "source": [
    "## iterable(list, tuple, String) 사용한 for문"
   ]
  },
  {
   "cell_type": "code",
   "execution_count": 60,
   "metadata": {},
   "outputs": [
    {
     "name": "stdout",
     "output_type": "stream",
     "text": [
      "사자\n",
      "호랑이\n",
      "기린\n",
      "코끼리\n"
     ]
    }
   ],
   "source": [
    "temp_list = [\"사자\", \"호랑이\", \"기린\", \"코끼리\"]\n",
    "\n",
    "print(temp_list[0])\n",
    "print(temp_list[1])\n",
    "print(temp_list[2])\n",
    "print(temp_list[3])"
   ]
  },
  {
   "cell_type": "code",
   "execution_count": 61,
   "metadata": {},
   "outputs": [
    {
     "name": "stdout",
     "output_type": "stream",
     "text": [
      "====================반복문 쓸 거야~!====================\n",
      "사자\n",
      "호랑이\n",
      "기린\n",
      "코끼리\n"
     ]
    }
   ],
   "source": [
    "print(\"{0:=^50}\".format(\"반복문 쓸 거야~!\"))\n",
    "\n",
    "for i in temp_list:\n",
    "    print(i)\n",
    "    "
   ]
  },
  {
   "cell_type": "code",
   "execution_count": 1,
   "metadata": {},
   "outputs": [
    {
     "name": "stdout",
     "output_type": "stream",
     "text": [
      "1\n",
      "2\n",
      "3\n",
      "4\n",
      "5\n"
     ]
    }
   ],
   "source": [
    "# 리스트에 있는 값을 꺼내는거 \n",
    "\n",
    "for list_val in [1,2,3,4,5]:\n",
    "    print(list_val)"
   ]
  },
  {
   "cell_type": "code",
   "execution_count": 63,
   "metadata": {},
   "outputs": [
    {
     "name": "stdout",
     "output_type": "stream",
     "text": [
      "a\n",
      "b\n",
      "c\n",
      "d\n"
     ]
    }
   ],
   "source": [
    "for tuple_val in [\"a\", \"b\", \"c\", \"d\"]:\n",
    "    print(tuple_val)\n",
    "    \n",
    "    \n",
    "   # print(tuple_val,end=\",\")  -> 이렇게"
   ]
  },
  {
   "cell_type": "code",
   "execution_count": 57,
   "metadata": {},
   "outputs": [
    {
     "name": "stdout",
     "output_type": "stream",
     "text": [
      "P\n",
      "y\n",
      "t\n",
      "h\n",
      "o\n",
      "n\n"
     ]
    }
   ],
   "source": [
    "for str_val in \"Python\":\n",
    "    print(str_val)"
   ]
  },
  {
   "cell_type": "code",
   "execution_count": 56,
   "metadata": {},
   "outputs": [
    {
     "name": "stdout",
     "output_type": "stream",
     "text": [
      "Python"
     ]
    }
   ],
   "source": [
    "for str_val in \"Python\":\n",
    "    print(str_val, end=\"\")"
   ]
  },
  {
   "cell_type": "code",
   "execution_count": 64,
   "metadata": {},
   "outputs": [
    {
     "name": "stdout",
     "output_type": "stream",
     "text": [
      "(1, 2)\n",
      "(3, 4)\n",
      "(5, 6)\n",
      "--------------------------------------------------\n",
      "3,7,11,\n",
      "--------------------------------------------------\n",
      "3,7,11,"
     ]
    }
   ],
   "source": [
    "# 쌍으로 구성된 iterable\n",
    "# sample 리스트의 요소 값이 튜플이므로 \"각각의 요소들이 자동으로\"\n",
    "# 튜플 형태로 (first, second)라는 변수에 대입되고\n",
    "# [first, second]라는 변수로 정의 되었을 때는 튜플 자료형이 리스트 자료형으로 대입\n",
    "\n",
    "sample = [(1,2), (3,4), (5,6)]\n",
    "for num_val in sample:\n",
    "    print(num_val)\n",
    "\n",
    "print(\"-\"*50)\n",
    "\n",
    "    # tuple\n",
    "for (first, second) in sample:      #(frist, second)\n",
    "    print(first+second, end=\",\")\n",
    "\n",
    "print()\n",
    "print(\"-\"*50)\n",
    "    \n",
    "    # list\n",
    "for [first, second] in sample:\n",
    "    print(first+second, end=\",\")"
   ]
  },
  {
   "cell_type": "code",
   "execution_count": 65,
   "metadata": {},
   "outputs": [
    {
     "name": "stdout",
     "output_type": "stream",
     "text": [
      "1번 학생은 합격입니다\n",
      "2번 학생은 불합격입니다\n",
      "3번 학생은 불합격입니다\n",
      "4번 학생은 합격입니다\n",
      "--------------------------------------------------\n",
      "1번 학생은 합격입니다.\n",
      "2번 학생은 불합격입니다.\n",
      "3번 학생은 불합격입니다.\n",
      "4번 학생은 합격입니다.\n"
     ]
    }
   ],
   "source": [
    "scores = [90, 25, 40, 80]\n",
    "studentNo = 0\n",
    "print('%d번 학생은 합격입니다' % (studentNo +1))\n",
    "\n",
    "studentNo = 1\n",
    "print('%d번 학생은 불합격입니다' % (studentNo +1 ))\n",
    "\n",
    "studentNo = 2\n",
    "print('%d번 학생은 불합격입니다' % (studentNo +1 ))\n",
    "\n",
    "studentNo = 3\n",
    "print('%d번 학생은 합격입니다' % (studentNo +1))\n",
    "\n",
    "print(\"-\"*50)\n",
    "\n",
    "# 상기 실행문을 for문과 if문을 사용해 작성해 보세요!\n",
    "\n",
    "studentNo = 0\n",
    "for score in scores:\n",
    "    studentNo = studentNo + 1\n",
    "    if score >=60:\n",
    "        print('%d번 학생은 합격입니다.' % studentNo  )\n",
    "    else:\n",
    "        print('%d번 학생은 불합격입니다.' % studentNo  )"
   ]
  },
  {
   "cell_type": "code",
   "execution_count": 66,
   "metadata": {},
   "outputs": [
    {
     "name": "stdout",
     "output_type": "stream",
     "text": [
      "< continue >\n",
      "1번 학생은 합격입니다.\n",
      "4번 학생은 합격입니다.\n",
      "< break >\n",
      "1번 학생은 합격입니다.\n"
     ]
    }
   ],
   "source": [
    "# continue\n",
    "print(\"< continue >\")\n",
    "studentNo = 0\n",
    "for score in scores:\n",
    "    studentNo = studentNo + 1\n",
    "    if score < 60: continue\n",
    "    print('%d번 학생은 합격입니다.' % studentNo  )\n",
    "    \n",
    "# break\n",
    "print(\"< break >\")\n",
    "studentNo = 0\n",
    "for score in scores:\n",
    "    studentNo = studentNo + 1\n",
    "    if score < 60: break\n",
    "    print('%d번 학생은 합격입니다.' % studentNo  )\n",
    "    \n",
    "\n",
    "    \n",
    " #난 왜안될까 ㅋㅋㅋ 항상안되네 "
   ]
  },
  {
   "cell_type": "markdown",
   "metadata": {},
   "source": [
    "### for문과 range() 함수\n",
    "\n",
    "* range() : 숫자리스트를 자동으로 만들어 주는 함수\n",
    "* range(stop) : 0~stop-1까지의 숫자 리스트를 자동으로 생성\n",
    "* range(start, stop, step) : start~stop-1까지의 숫자리스트를  step만큼 건너 띄어서 자동생성\n",
    "\n",
    "\n"
   ]
  },
  {
   "cell_type": "code",
   "execution_count": 67,
   "metadata": {},
   "outputs": [
    {
     "name": "stdout",
     "output_type": "stream",
     "text": [
      "range(0, 10)\n",
      "range(1, 11)\n",
      "1부터 10까지의 합은 55 입니다.\n",
      "1부터 10까지의 합은 55 입니다.\n",
      "1부터 10까지의 합은 12 입니다.\n"
     ]
    }
   ],
   "source": [
    "a = range(10) \n",
    "print(a)\n",
    "b = range(1, 11)  #1~10 까지의 숫자리스트를 생성\n",
    "print(b)\n",
    "\n",
    "#1~10까지 합계를 구하기 : for문과 range 함수를 이용\n",
    "\n",
    "sum = 1+2+3+4+5+6+7+8+9+10;\n",
    "print('1부터 10까지의 합은 %d 입니다.'% sum)\n",
    "\n",
    "sum = 0   #위에 꺼 sum 초기화시키려구 0한거야 \n",
    "\n",
    "for i in range(1, 11):\n",
    "    sum = sum + i\n",
    "print('1부터 10까지의 합은 %d 입니다.'% sum)\n",
    "\n",
    "sum = 0   #위에 꺼 sum 초기화시키려구 0한거야 \n",
    "\n",
    "for i in range(1, 10,3):\n",
    "    sum = sum + i\n",
    "print('1부터 10까지의 합은 %d 입니다.'% sum)\n",
    "\n"
   ]
  },
  {
   "cell_type": "code",
   "execution_count": null,
   "metadata": {},
   "outputs": [],
   "source": [
    "# input()함수 : 외부(키보드)에서 값을 입력하기\n",
    "# Input 함수는 문자열만 리턴해 준다.\n",
    "# 문자열을 숫자로 변환함수 int()함수를 이용한다.\n",
    "\n",
    "\n",
    "value = int(input('값을 입력하세요!'))    # int 니까 숫자를 입력하기  \n",
    "print(value)\n",
    "\n",
    "print(type(value))    # 변환이 잘됬나 볼려고 type 보는겨  int = 숫자 / string = 문자열    %d = 숫자(정수형)\n",
    "a = value + 1 \n",
    "print(a)"
   ]
  },
  {
   "cell_type": "code",
   "execution_count": null,
   "metadata": {},
   "outputs": [],
   "source": [
    "sum =0\n",
    "value = int(input\"값 입력하라\")\n",
    "for i in range(1,value+1):\n",
    "    sum = sum +1\n",
    "print('1부터 10까지의 합은 %d 입니다.' % sum "
   ]
  },
  {
   "cell_type": "code",
   "execution_count": 10,
   "metadata": {},
   "outputs": [
    {
     "name": "stdout",
     "output_type": "stream",
     "text": [
      "cat = 3\n",
      "dog = 3\n",
      "windows = 7\n",
      "python = 6\n",
      "------------------------------------------------------------\n",
      "windows = 7\n",
      "python = 6\n",
      "------------------------------------------------------------\n",
      "['python', 'windows']\n"
     ]
    }
   ],
   "source": [
    "# for 문과 슬라이싱 \n",
    "\n",
    "words = ['cat', 'dog', 'windows', 'python']\n",
    "for word in words:\n",
    "    print(word,'=',len(word))\n",
    "\n",
    "print('-'*60)   \n",
    "    \n",
    "# 단어 길이가 6자 이상인 단어만 출력\n",
    "\n",
    "for word in words[:]:\n",
    "    if len(word) >= 6:\n",
    "        print(word,'=', len(word))\n",
    "        \n",
    "print('-'*60)   \n",
    "    \n",
    "# 단어 길이가 6자 이상인 단어만 리스트로 생성\n",
    "more6 = []\n",
    "for word in words[:]:\n",
    "    if len(word) >= 6:\n",
    "        more6.insert(0, word)\n",
    "print(more6)\n",
    "        "
   ]
  },
  {
   "cell_type": "code",
   "execution_count": 55,
   "metadata": {},
   "outputs": [
    {
     "name": "stdout",
     "output_type": "stream",
     "text": [
      "0 marry\n",
      "1 little\n",
      "2 love\n",
      "3 peace\n",
      "------------------------------------------------------------\n",
      "0 안\n",
      "1 녕\n",
      "2 하\n",
      "3 세\n",
      "4 요\n",
      "5  \n",
      "6 파\n",
      "7 이\n",
      "8 썬\n"
     ]
    }
   ],
   "source": [
    "# len()와 range() 같이 사용\n",
    "a = ['marry', 'little','love','peace']\n",
    "len(a)  \n",
    "\n",
    "for i in range(len(a)):\n",
    "    print(i,a[i])    # i = index 글자 위치 [0,1,2,3] \n",
    "    \n",
    "    \n",
    "print('-'*60)    \n",
    "a='안녕하세요 파이썬!!'\n",
    "for i in range(len(a)):\n",
    "    if a[i]!='!':\n",
    "        print(i,a[i])   "
   ]
  },
  {
   "cell_type": "code",
   "execution_count": 1,
   "metadata": {},
   "outputs": [
    {
     "name": "stdout",
     "output_type": "stream",
     "text": [
      "몇단을 할거니? 8\n",
      "8 * 1 = 8\n",
      "8 * 2 = 16\n",
      "8 * 3 = 24\n",
      "8 * 4 = 32\n",
      "8 * 5 = 40\n",
      "8 * 6 = 48\n",
      "8 * 7 = 56\n",
      "8 * 8 = 64\n",
      "8 * 9 = 72\n"
     ]
    }
   ],
   "source": [
    "# for문을 이용한 구구단 만들기 \n",
    "# 사용자가 구구단중 특정 단을 입력받아서 해당 되는 단을 출력하기 \n",
    "\n",
    "num = int(input(\"몇단을 할거니? \"))\n",
    "\n",
    "for i in range(1,10):\n",
    "    print(num, '*', i, '=', num*i)\n",
    "    "
   ]
  },
  {
   "cell_type": "code",
   "execution_count": 2,
   "metadata": {},
   "outputs": [
    {
     "name": "stdout",
     "output_type": "stream",
     "text": [
      "몇단을 할거니? 2\n",
      "2 x 1 =  2\n",
      "2 x 2 =  4\n",
      "2 x 3 =  6\n",
      "2 x 4 =  8\n",
      "2 x 5 = 10\n",
      "2 x 6 = 12\n",
      "2 x 7 = 14\n",
      "2 x 8 = 16\n",
      "2 x 9 = 18\n"
     ]
    }
   ],
   "source": [
    " #선생님 풀이 \n",
    "num = int(input(\"몇단을 할거니? \"))\n",
    "\n",
    "for i in range(1,10,1):\n",
    "    print(\"%d x %d = %2d\" % (num, i, num*i))"
   ]
  },
  {
   "cell_type": "code",
   "execution_count": 12,
   "metadata": {},
   "outputs": [
    {
     "name": "stdout",
     "output_type": "stream",
     "text": [
      "파이썬의 중첩 for문 연습하기(i값:0, j값:0)\n",
      "파이썬의 중첩 for문 연습하기(i값:0, j값:1)\n",
      "파이썬의 중첩 for문 연습하기(i값:0, j값:2)\n",
      "파이썬의 중첩 for문 연습하기(i값:1, j값:0)\n",
      "파이썬의 중첩 for문 연습하기(i값:1, j값:1)\n",
      "파이썬의 중첩 for문 연습하기(i값:1, j값:2)\n",
      "파이썬의 중첩 for문 연습하기(i값:2, j값:0)\n",
      "파이썬의 중첩 for문 연습하기(i값:2, j값:1)\n",
      "파이썬의 중첩 for문 연습하기(i값:2, j값:2)\n"
     ]
    }
   ],
   "source": [
    "# 중첩 for문\n",
    "\n",
    "for i in range(3):\n",
    "    for j in range(3):\n",
    "        print(\"파이썬의 중첩 for문 연습하기(i값:%d, j값:%d)\" % (i , j))"
   ]
  },
  {
   "cell_type": "code",
   "execution_count": 13,
   "metadata": {},
   "outputs": [
    {
     "name": "stdout",
     "output_type": "stream",
     "text": [
      "몇단을 할거니? 2\n",
      "2 x 1 =  2\n",
      "2 x 2 =  4\n",
      "2 x 3 =  6\n",
      "2 x 4 =  8\n",
      "2 x 5 = 10\n",
      "2 x 6 = 12\n",
      "2 x 7 = 14\n",
      "2 x 8 = 16\n",
      "2 x 9 = 18\n"
     ]
    }
   ],
   "source": [
    "# 중첩 for문을 이용한 구구단 만들기 연습\n",
    "\n",
    "\n",
    "num = int(input(\"몇단을 할거니? \"))\n",
    "\n",
    "for i in range(1,10,1):\n",
    "    print(\"%d x %d = %2d\" % (num, i, num*i))"
   ]
  },
  {
   "cell_type": "code",
   "execution_count": 34,
   "metadata": {},
   "outputs": [
    {
     "name": "stdout",
     "output_type": "stream",
     "text": [
      "2 x 1 = 2\n",
      "2 x 2 = 4\n",
      "2 x 3 = 6\n",
      "2 x 4 = 8\n",
      "2 x 5 = 10\n",
      "2 x 6 = 12\n",
      "2 x 7 = 14\n",
      "2 x 8 = 16\n",
      "2 x 9 = 18\n",
      "------------------------------------------------------------\n",
      "3 x 1 = 3\n",
      "3 x 2 = 6\n",
      "3 x 3 = 9\n",
      "3 x 4 = 12\n",
      "3 x 5 = 15\n",
      "3 x 6 = 18\n",
      "3 x 7 = 21\n",
      "3 x 8 = 24\n",
      "3 x 9 = 27\n",
      "------------------------------------------------------------\n",
      "4 x 1 = 4\n",
      "4 x 2 = 8\n",
      "4 x 3 = 12\n",
      "4 x 4 = 16\n",
      "4 x 5 = 20\n",
      "4 x 6 = 24\n",
      "4 x 7 = 28\n",
      "4 x 8 = 32\n",
      "4 x 9 = 36\n",
      "------------------------------------------------------------\n",
      "5 x 1 = 5\n",
      "5 x 2 = 10\n",
      "5 x 3 = 15\n",
      "5 x 4 = 20\n",
      "5 x 5 = 25\n",
      "5 x 6 = 30\n",
      "5 x 7 = 35\n",
      "5 x 8 = 40\n",
      "5 x 9 = 45\n",
      "------------------------------------------------------------\n",
      "6 x 1 = 6\n",
      "6 x 2 = 12\n",
      "6 x 3 = 18\n",
      "6 x 4 = 24\n",
      "6 x 5 = 30\n",
      "6 x 6 = 36\n",
      "6 x 7 = 42\n",
      "6 x 8 = 48\n",
      "6 x 9 = 54\n",
      "------------------------------------------------------------\n",
      "7 x 1 = 7\n",
      "7 x 2 = 14\n",
      "7 x 3 = 21\n",
      "7 x 4 = 28\n",
      "7 x 5 = 35\n",
      "7 x 6 = 42\n",
      "7 x 7 = 49\n",
      "7 x 8 = 56\n",
      "7 x 9 = 63\n",
      "------------------------------------------------------------\n",
      "8 x 1 = 8\n",
      "8 x 2 = 16\n",
      "8 x 3 = 24\n",
      "8 x 4 = 32\n",
      "8 x 5 = 40\n",
      "8 x 6 = 48\n",
      "8 x 7 = 56\n",
      "8 x 8 = 64\n",
      "8 x 9 = 72\n",
      "------------------------------------------------------------\n",
      "9 x 1 = 9\n",
      "9 x 2 = 18\n",
      "9 x 3 = 27\n",
      "9 x 4 = 36\n",
      "9 x 5 = 45\n",
      "9 x 6 = 54\n",
      "9 x 7 = 63\n",
      "9 x 8 = 72\n",
      "9 x 9 = 81\n",
      "------------------------------------------------------------\n"
     ]
    }
   ],
   "source": [
    "for i in range(2,10):\n",
    "    for j in range(1,10):\n",
    "        print(\"%d x %d = %d\" % (i,j,i*j))\n",
    "    print('-'*60)"
   ]
  },
  {
   "cell_type": "markdown",
   "metadata": {},
   "source": [
    "<img src=\"./images/09.반복문_for_ex01_구구단.png\">"
   ]
  },
  {
   "cell_type": "code",
   "execution_count": 2,
   "metadata": {},
   "outputs": [
    {
     "name": "stdout",
     "output_type": "stream",
     "text": [
      "2 x 1 = 2 3 x 1 = 3 4 x 1 = 4 5 x 1 = 5 6 x 1 = 6 7 x 1 = 7 8 x 1 = 8 9 x 1 = 9 "
     ]
    }
   ],
   "source": [
    "for i in range(2,10):\n",
    "    print(\"%d x %d = %d\" % (i,1,i), end=' ')\n",
    "    \n",
    "    \n",
    "    "
   ]
  },
  {
   "cell_type": "code",
   "execution_count": 18,
   "metadata": {},
   "outputs": [
    {
     "name": "stdout",
     "output_type": "stream",
     "text": [
      "  *** 2단 ***  *** 3단 ***  *** 4단 ***  *** 5단 ***  *** 6단 ***  *** 7단 ***  *** 8단 ***  *** 9단 *** \n",
      " 2 x 1 = 2    3 x 1 = 3    4 x 1 = 4    5 x 1 = 5    6 x 1 = 6    7 x 1 = 7    8 x 1 = 8    9 x 1 = 9   \n",
      " 2 x 2 = 4    3 x 2 = 6    4 x 2 = 8    5 x 2 =10    6 x 2 =12    7 x 2 =14    8 x 2 =16    9 x 2 =18   \n",
      " 2 x 3 = 6    3 x 3 = 9    4 x 3 =12    5 x 3 =15    6 x 3 =18    7 x 3 =21    8 x 3 =24    9 x 3 =27   \n",
      " 2 x 4 = 8    3 x 4 =12    4 x 4 =16    5 x 4 =20    6 x 4 =24    7 x 4 =28    8 x 4 =32    9 x 4 =36   \n",
      " 2 x 5 =10    3 x 5 =15    4 x 5 =20    5 x 5 =25    6 x 5 =30    7 x 5 =35    8 x 5 =40    9 x 5 =45   \n",
      " 2 x 6 =12    3 x 6 =18    4 x 6 =24    5 x 6 =30    6 x 6 =36    7 x 6 =42    8 x 6 =48    9 x 6 =54   \n",
      " 2 x 7 =14    3 x 7 =21    4 x 7 =28    5 x 7 =35    6 x 7 =42    7 x 7 =49    8 x 7 =56    9 x 7 =63   \n",
      " 2 x 8 =16    3 x 8 =24    4 x 8 =32    5 x 8 =40    6 x 8 =48    7 x 8 =56    8 x 8 =64    9 x 8 =72   \n",
      " 2 x 9 =18    3 x 9 =27    4 x 9 =36    5 x 9 =45    6 x 9 =54    7 x 9 =63    8 x 9 =72    9 x 9 =81   \n"
     ]
    }
   ],
   "source": [
    "# 선생님 풀이\n",
    "title=\" \"\n",
    "for i in range(2,10):\n",
    "    title = title + (\" *** %d단 *** \" % i )\n",
    "print(title)\n",
    "\n",
    "\n",
    "for i in range(1,10):\n",
    "    gugudan = \"\"\n",
    "    for j in range(2,10):\n",
    "        gugudan = gugudan + (\" %d x %d =%2d   \" % (j,i,j*i))   #이번엔 j가 먼저 들어가야되  \n",
    "    print(gugudan)"
   ]
  },
  {
   "cell_type": "markdown",
   "metadata": {},
   "source": [
    "###  List 안에 for문 사용하기\n",
    "\n",
    "\n",
    "1. 간단한 list안에 for문\n",
    " > [표현식 for 항목 in iterable if 조건]\n",
    " \n",
    "2. 리스트 안에 2개 이상의 for문 구조 \n",
    "\n",
    "```Python\n",
    "[표현식 for 항목 in iterable if 조건1\n",
    "        for 항목 in iterable if 조건1\n",
    "        for 항목 in iterable if 조건 n\n",
    "] \n",
    "```\n",
    " "
   ]
  },
  {
   "cell_type": "code",
   "execution_count": 31,
   "metadata": {},
   "outputs": [
    {
     "name": "stdout",
     "output_type": "stream",
     "text": [
      "[3, 6, 9, 12]\n",
      "[1, 2, 3, 4]\n",
      "[3, 6, 9, 12]\n",
      "[6, 12]\n"
     ]
    }
   ],
   "source": [
    "# 1. 리스트 안에 for문을 포함하기 (1)\n",
    "nums = [1,2,3,4]\n",
    "result = []  #[3,6,9,12] 이렇게 나오고싶으면 ?\n",
    "\n",
    "for num in nums:\n",
    "    result.append(num*3)\n",
    "print(result)\n",
    "\n",
    "print(nums)\n",
    "\n",
    "#리스트 안에 for문\n",
    "result = [num*3 for num in nums]\n",
    "print(result)\n",
    "\n",
    "# 짝수만 출력  (num % 2= 0 이면 짝수)\n",
    "result=[]\n",
    "result = [num*3 for num in nums if num % 2==0]    # --> 이건  python에서만 사용하는 for문\n",
    "print(result)\n"
   ]
  },
  {
   "cell_type": "code",
   "execution_count": 38,
   "metadata": {
    "scrolled": true
   },
   "outputs": [
    {
     "name": "stdout",
     "output_type": "stream",
     "text": [
      "[2, 4, 6, 8, 10, 12, 14, 16, 18, 3, 6, 9, 12, 15, 18, 21, 24, 27, 4, 8, 12, 16, 20, 24, 28, 32, 36, 5, 10, 15, 20, 25, 30, 35, 40, 45, 6, 12, 18, 24, 30, 36, 42, 48, 54, 7, 14, 21, 28, 35, 42, 49, 56, 63, 8, 16, 24, 32, 40, 48, 56, 64, 72, 9, 18, 27, 36, 45, 54, 63, 72, 81]\n",
      "----------------------------------------------------------------------------------------------------\n",
      "[4, 8, 12, 16, 8, 16, 24, 32, 12, 24, 36, 48, 16, 32, 48, 64]\n"
     ]
    }
   ],
   "source": [
    "# 1. 리스트 안에 for문을 포함하기 (2)\n",
    "# 구구단의 결과를 한개의 리스트에 저장하기\n",
    "\n",
    "result=[\n",
    "    i*j for i in range(2,10)\n",
    "        for j in range(1,10)\n",
    "]\n",
    "print(result)\n",
    "print('-'*100)\n",
    "\n",
    "# if 조건 추가 (짝수) \n",
    "result=[\n",
    "    i*j for i in range(2,10) if i % 2==0\n",
    "        for j in range(1,10) if j % 2==0\n",
    "]\n",
    "print(result)\n",
    "\n"
   ]
  },
  {
   "cell_type": "code",
   "execution_count": null,
   "metadata": {},
   "outputs": [],
   "source": []
  },
  {
   "cell_type": "code",
   "execution_count": null,
   "metadata": {},
   "outputs": [],
   "source": []
  },
  {
   "cell_type": "code",
   "execution_count": null,
   "metadata": {},
   "outputs": [],
   "source": []
  },
  {
   "cell_type": "code",
   "execution_count": null,
   "metadata": {},
   "outputs": [],
   "source": []
  },
  {
   "cell_type": "code",
   "execution_count": null,
   "metadata": {},
   "outputs": [],
   "source": []
  }
 ],
 "metadata": {
  "kernelspec": {
   "display_name": "Python 3",
   "language": "python",
   "name": "python3"
  },
  "language_info": {
   "codemirror_mode": {
    "name": "ipython",
    "version": 3
   },
   "file_extension": ".py",
   "mimetype": "text/x-python",
   "name": "python",
   "nbconvert_exporter": "python",
   "pygments_lexer": "ipython3",
   "version": "3.7.4"
  }
 },
 "nbformat": 4,
 "nbformat_minor": 2
}
