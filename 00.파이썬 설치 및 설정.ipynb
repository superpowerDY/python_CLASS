{
 "cells": [
  {
   "cell_type": "markdown",
   "metadata": {},
   "source": [
    "0. 파일공유\n",
    "\n",
    "   1) 파일탐색기열기\n",
    "   2) 주소창 : \\\\192.168.0.73\n",
    "\n",
    "1. Anaconda 설치\n",
    "\n",
    "   1) www.anaconda.com/distribution\n",
    "   2) path설정\n",
    "      (1) winkey + r : sysdm.cpl  [고급]->환경변수 \n",
    "      (2) 시스템변수의 path 아래꺼 추가하고 확인\n",
    "           ... C:\\Anaconda3\n",
    "           ... C:\\Anaconda3\\Scripts\n",
    "   3) 설치확인   ---안해도된댕 근데 오류나면 해야함\n",
    "       (1) winkey + r : cmd\n",
    "       (2) python --version --얘는 파이썬을 설치 안할거니까 안뜰거임(아마도)\n",
    "            ... python 3.7.4\n",
    "       (3) anaconda --version 으로 확인\n",
    "   4) 자기폴더생성 : d:\\yourname(영문으로 할 것)\n",
    "\n",
    "2. jupyternotebook 설정\n",
    "   1) (menu)jupyternotebook 작업줄에 고정\n",
    "   2) 작업줄메뉴 jupyternotebook 또 우클릭 > 속성\n",
    "      \"%USERPROFILE%~~~\" 부분을  d:\\yourname으로 변경\n",
    "      \n"
   ]
  },
  {
   "cell_type": "code",
   "execution_count": 1,
   "metadata": {},
   "outputs": [
    {
     "name": "stdout",
     "output_type": "stream",
     "text": [
      "hello\n"
     ]
    }
   ],
   "source": [
    "print(\"hello\")"
   ]
  },
  {
   "cell_type": "markdown",
   "metadata": {},
   "source": [
    "### 파이썬 개요\n",
    "\n",
    "* 파이썬개요\n",
    "\n",
    "    + 1989년 12월 네덜란드 출신의 개발자 귀도 반 로섬이 성탄절 너드라 데이트할 상대       가 없어서 집에 박혀서 취미로 만든 인터프리터 프로그램언어이다.\n",
    "   + 파이썬이라는 이름은 자신이 좋아하는 코미디쇼인 '몬티파이썬의 날아다니는 써커        스\"에서 따왔다고 한다. 이러니 성탄절날 혼자보내지... \n",
    "   + 파이썬의 사전적의미는 고대신화에 나오는 파르나소스산의 동굴에 살던 큰뱀이라는      뜻이며 아폴로신이 파이썬 방울뱀을 퇴치했다는 썰이 있다.\n",
    "   + 파이썬 기술이 사용된 대표적인 예\n",
    "       - 구글 씨쁠쁠 자바 파이썬 사용 구글내부시스탬과 많은 구글  API들이 파이썬임\n",
    "       - b. 유투브\n",
    "       - c. 드롭박스\n",
    "       - d. 페이스북\n",
    "       -  인스타 프로그램\n",
    "     \n",
    "2. 파이썬의 라이브러리\n",
    "\n",
    " 1) Numpy : 수치계산용 라이브러리 (패키지)\n",
    " 2) Pandas : 데이터분석용 라이브러리\n",
    " 3) Matpolotilb :  그래프 출력용 라이브러리\n",
    " \n",
    "3. 파이썬의 특징\n",
    "1) 인간다운 언어\n",
    "2) 문법이 쉬워서 빠르게 배울 수 있는 언어\n",
    "3) 무료이지만 강력한 언어\n",
    "4) 개발속도가 빠름\n",
    "\n",
    "4. 참고\n",
    "1) 파이썬의 순위 : https://tiobe.com/tiobe-index\n",
    "2) 파이썬의 추세 : https://stackoverflow.blog/2017/09/06/incredible-growth-python/\n",
    "\n"
   ]
  },
  {
   "cell_type": "code",
   "execution_count": null,
   "metadata": {},
   "outputs": [],
   "source": []
  },
  {
   "cell_type": "code",
   "execution_count": null,
   "metadata": {},
   "outputs": [],
   "source": []
  }
 ],
 "metadata": {
  "kernelspec": {
   "display_name": "Python 3",
   "language": "python",
   "name": "python3"
  },
  "language_info": {
   "codemirror_mode": {
    "name": "ipython",
    "version": 3
   },
   "file_extension": ".py",
   "mimetype": "text/x-python",
   "name": "python",
   "nbconvert_exporter": "python",
   "pygments_lexer": "ipython3",
   "version": "3.7.4"
  }
 },
 "nbformat": 4,
 "nbformat_minor": 2
}
