{
 "cells": [
  {
   "cell_type": "markdown",
   "metadata": {},
   "source": [
    "### 딕셔너리 (Dictionary) 자료형\n",
    "\n",
    "파이썬에서의 딕셔너리 자료형이란 키와 값으로 대응관계를 나타낼 수 있는 자료형을 말한다.\n",
    "자바에서의 맵(map)과 유사한 자료형으로서 이러한 대응 관계를 나타내는 것이 \n",
    "연관 배열(Associative array) 또는 해시 (hasy)라고 한다.\n",
    "\n",
    "파이썬에서는 이러한 자료형을 딕셔너리라고 하는데 key 와 value를 한 쌍으로 갖는 자료형을 말한다.\n",
    "딕셔너리는 리스트나 튜플처럼 순처적(Sequential)으로 해당 요소의 값을 처리하지 않고  KEY를 통해서 값을 처리한다.\n",
    "딕셔너리 자료형은 중괄호 {}로 둘러싸이고 아래와 같이 정의한다.\n",
    "\n",
    ">{key1:value1 ... keyN:valueN}"
   ]
  },
  {
   "cell_type": "code",
   "execution_count": 3,
   "metadata": {},
   "outputs": [],
   "source": [
    "### 1. 딕셔너리"
   ]
  },
  {
   "cell_type": "code",
   "execution_count": 6,
   "metadata": {},
   "outputs": [
    {
     "name": "stdout",
     "output_type": "stream",
     "text": [
      "<class 'dict'>\n",
      "{'name': '홍길동', 'age': 40}\n"
     ]
    }
   ],
   "source": [
    "# 기본형태\n",
    "d1 = {}\n",
    "print(type(d1))\n",
    " # d1? \n",
    "d2 = {'name':'홍길동','age':40}\n",
    "print(d2)"
   ]
  },
  {
   "cell_type": "code",
   "execution_count": 8,
   "metadata": {},
   "outputs": [],
   "source": [
    " ### 2. 딕셔너리 추가, 삭제, 수정"
   ]
  },
  {
   "cell_type": "code",
   "execution_count": 16,
   "metadata": {},
   "outputs": [
    {
     "name": "stdout",
     "output_type": "stream",
     "text": [
      "{1: 'a', 2: 'b', 999: 'c', 'name': '성춘향', 'address': ['서울', '종로구', '더조은'], 'ID number': ('881112', '1234567')}\n"
     ]
    }
   ],
   "source": [
    "# 1. 추가하기\n",
    "\n",
    "a = {1:'a'}\n",
    "a[2] = 'b'   #키가 숫자일 경우는 지정된 숫자에 해당하는 것 키가 된다.\n",
    "a[999] = 'c'\n",
    "\n",
    "a['name'] = '홍길동'\n",
    "a['name'] = '성춘향'\n",
    "a['address'] = ['서울','종로구','더조은']   #리스트로 준거임 / \n",
    "a['ID number'] = (\"881112\",\"1234567\")\n",
    "\n",
    "print(a)\n"
   ]
  },
  {
   "cell_type": "code",
   "execution_count": 19,
   "metadata": {},
   "outputs": [
    {
     "data": {
      "text/plain": [
       "{1: 'a',\n",
       " 2: 'b',\n",
       " 'name': '성춘향',\n",
       " 'address': ['서울', '종로구', '더조은'],\n",
       " 'ID number': ('881112', '1234567')}"
      ]
     },
     "execution_count": 19,
     "metadata": {},
     "output_type": "execute_result"
    }
   ],
   "source": [
    "# 2. 삭제하기\n",
    "\n",
    " # del a[10]   -> 이러면 에러가 걸려요 ... \n",
    "\n",
    "del a[999]  \n",
    "a\n"
   ]
  },
  {
   "cell_type": "code",
   "execution_count": 20,
   "metadata": {},
   "outputs": [
    {
     "data": {
      "text/plain": [
       "{1: 'x',\n",
       " 2: 'b',\n",
       " 'name': '성춘향',\n",
       " 'address': ['서울', '종로구', '더조은'],\n",
       " 'ID number': ('881112', '1234567')}"
      ]
     },
     "execution_count": 20,
     "metadata": {},
     "output_type": "execute_result"
    }
   ],
   "source": [
    "# 3. 수정하기\n",
    "\n",
    "a[1] = 'x'\n",
    "a\n"
   ]
  },
  {
   "cell_type": "code",
   "execution_count": null,
   "metadata": {},
   "outputs": [],
   "source": [
    "### 3. 딕셔너리 사용법"
   ]
  },
  {
   "cell_type": "code",
   "execution_count": 30,
   "metadata": {},
   "outputs": [
    {
     "name": "stdout",
     "output_type": "stream",
     "text": [
      "{'김도연': 98, '손흠민': 80, '메시': 80}\n",
      "손흠민의 점수는  80  입니다.\n",
      "메시의 점수는  80  입니다.\n"
     ]
    }
   ],
   "source": [
    "# 딕셔너리에 접근하기  : key를 이용해서 값을 가져오기\n",
    "\n",
    "grade = {'김도연':98, '손흠민':70, '메시':80,'손흠민':80}\n",
    "print(grade)\n",
    " # 딕셔너리는 중복키를 허영하지 않는다\n",
    "    \n",
    "# key값으로 접근하기\n",
    "print('손흠민의 점수는 ',grade['손흠민'] ,' 입니다.')\n",
    "print('메시의 점수는 ',grade['메시'] ,' 입니다.')\n",
    "\n",
    " # print(grade['소향'])  # key 값이 없을 경우는 에러가 발생\n"
   ]
  },
  {
   "cell_type": "markdown",
   "metadata": {},
   "source": [
    "리스트나 튜플, 문자열은 요소값을 구할 경우에 인덱싱이나 슬라이싱을 이용해서 값을 구했지만 \n",
    "딕셔너리는 key값을 이용해서 값을 구하는 방법 밖에 없다.\n",
    "\n",
    "딕셔너리 만들 때 주의 사항!!! \n",
    "* key는 고유한 값이어야하지만 중복은 허용하지 않는다.  하지만 key값을 구할 경우에 맨 뒤에 위치한 값만 가져올 수 있다.\n",
    "* key에는 리스트는 사용할 수 없다. 하지만 튜플은 사용할 수 있다. "
   ]
  },
  {
   "cell_type": "code",
   "execution_count": 34,
   "metadata": {},
   "outputs": [
    {
     "name": "stdout",
     "output_type": "stream",
     "text": [
      "hello\n"
     ]
    }
   ],
   "source": [
    "# a = {[1,2]:\"hello\"}  ->  [] 리스트는 에러가남 \n",
    "a = {(1,2):\"hello\"}\n",
    "print(a[1,2])"
   ]
  },
  {
   "cell_type": "markdown",
   "metadata": {},
   "source": [
    "### 4. 딕셔너리 관련 함수\n",
    "\n",
    "* keys()   : key의 목록을 리턴\n",
    "* values() : 값들의 목록을 리턴\n",
    "* items()  : key와 value를 동시에 반환\n",
    "* clear()  : key와 value를 지우기\n",
    "* get()    : key로 value를 가져오기\n",
    "* in(), not in()   : 해당키의 유무를 리턴"
   ]
  },
  {
   "cell_type": "code",
   "execution_count": 36,
   "metadata": {},
   "outputs": [
    {
     "name": "stdout",
     "output_type": "stream",
     "text": [
      "dict_keys(['도연', '손흥민', '호날두'])\n"
     ]
    }
   ],
   "source": [
    "# 1. keys()   : key의 목록을 리턴\n",
    "\n",
    "scores = {'도연':98 , '손흥민':70, '호날두':88}\n",
    "scores\n",
    "print(scores.keys())\n",
    "\n",
    " # keys() 라는 함수는 (정확히는 메서드라고 부름)는 key만 모아서 dict_keys라는 객체를 변환\n",
    " # dict_keys라는 객체는 리스트를 사용하는 것과 유사하게 사용할 수 있지만 \n",
    " # 리스트의 고유함수인 append(), insert(), pop(), sort()등의 함수를 사용할 수 있다.\n",
    "    "
   ]
  },
  {
   "cell_type": "code",
   "execution_count": 37,
   "metadata": {},
   "outputs": [
    {
     "name": "stdout",
     "output_type": "stream",
     "text": [
      "dict_values([98, 70, 88])\n"
     ]
    }
   ],
   "source": [
    "# 2. values() : 값들의 목록을 리턴\n",
    "\n",
    "print(scores.values())"
   ]
  },
  {
   "cell_type": "code",
   "execution_count": 38,
   "metadata": {},
   "outputs": [
    {
     "name": "stdout",
     "output_type": "stream",
     "text": [
      "dict_items([('도연', 98), ('손흥민', 70), ('호날두', 88)])\n"
     ]
    }
   ],
   "source": [
    "# 3. items()  : key와 value를 동시에 반환\n",
    "\n",
    "print(scores.items())"
   ]
  },
  {
   "cell_type": "code",
   "execution_count": 42,
   "metadata": {},
   "outputs": [
    {
     "name": "stdout",
     "output_type": "stream",
     "text": [
      "{}\n"
     ]
    }
   ],
   "source": [
    "# 4. clear()  : key와 value를 지우기\n",
    "\n",
    "scores.clear()\n",
    "print(scores)\n"
   ]
  },
  {
   "cell_type": "code",
   "execution_count": 52,
   "metadata": {},
   "outputs": [
    {
     "name": "stdout",
     "output_type": "stream",
     "text": [
      "98\n",
      "98\n",
      "None\n",
      "키값을 찾지 못했습니다!!!\n"
     ]
    }
   ],
   "source": [
    "# 5. get()    : key로 value를 가져오기\n",
    "    # get(x) 라는 함수는 x라는 key와 value 를 리턴한다.\n",
    "    # a[key] 와 a.get(key)는 값을 가져온다는 점에서 동일하지만\n",
    "    # a[key]는 키가 없을경우에는 익셉션에러가 발생한다.\n",
    "    # 그러나, a.get(key)은 NONE(암것도없다라는 의미)값을 리턴한다. \n",
    "    \n",
    "a = {'도연':98 , '손흥민':70, '호날두':88}\n",
    "\n",
    "print(a['도연'])   \n",
    "print(a.get('도연'))\n",
    "\n",
    " # print(a['xxx'])   --> 에러가 걸려유\n",
    "print(a.get('xxx'))\n",
    "\n",
    "# 딕셔널에 찾는 값이 없는경우에는 기본 값을 설정해 두면 편리하다.\n",
    "# a.get? 확인하고 , get(key,기본값)형태를 사용한다.\n",
    "print(a.get('xxx','키값을 찾지 못했습니다!!!'))\n",
    "\n",
    "    "
   ]
  },
  {
   "cell_type": "code",
   "execution_count": 56,
   "metadata": {},
   "outputs": [
    {
     "name": "stdout",
     "output_type": "stream",
     "text": [
      "True\n",
      "False\n",
      "False\n",
      "True\n"
     ]
    }
   ],
   "source": [
    "# 5. in(), not in()   : 해당키의 유무를 리턴\n",
    "    # 값이 있을경우에는 ture ,없을경우에는 false를 리턴\n",
    "    \n",
    "print('도연'in a)\n",
    "print('도오'in a)\n",
    "print('도연'not in a)\n",
    "print('도오'not in a)\n"
   ]
  },
  {
   "cell_type": "code",
   "execution_count": 63,
   "metadata": {},
   "outputs": [],
   "source": [
    "# 6. dir() 함수는 특정객체를 인자(매개변수...)로 넣어주면 해당객체가 어떤 변수와 어떤 매서드를 가지고 있는지를 보여준다. (p.88)\n",
    " \n",
    "#dir(a)\n",
    "\n",
    "\n",
    "# 특정객체의 도움말보기 명령어 \n",
    "# dir(a)\n",
    "# help(a)"
   ]
  },
  {
   "cell_type": "markdown",
   "metadata": {},
   "source": [
    "연습문제"
   ]
  },
  {
   "cell_type": "code",
   "execution_count": 102,
   "metadata": {},
   "outputs": [
    {
     "name": "stdout",
     "output_type": "stream",
     "text": [
      "{'A': 90, 'B': 80, 'C': 70}\n",
      "80\n",
      "{'A': 90, 'C': 70}\n"
     ]
    }
   ],
   "source": [
    "#1. 딕셔너리 a에서 B에 해당되는 값을 추출하고 삭제하시오...\n",
    "\n",
    "a = {'A':90,'B':80,'C':70}\n",
    "\n",
    "print(a) # 초기 딕셔너리 출력\n",
    "result = a.pop(\"B\") # 딕셔너리는 괄호안에 key값을 넣으래... \n",
    "print(result)\n",
    "print(a)\n",
    "\n"
   ]
  },
  {
   "cell_type": "code",
   "execution_count": 106,
   "metadata": {},
   "outputs": [
    {
     "name": "stdout",
     "output_type": "stream",
     "text": [
      "70\n",
      "90\n",
      "A\n",
      "C\n",
      "70\n",
      "90\n"
     ]
    }
   ],
   "source": [
    "#2. 딕셔너리  a 의 값중에서 최소값과 최대값을 출력하세요.... (최대값최소값음 매서드가 아니라 함수다,,)\n",
    "a = {'A':90,'B':80,'C':70}   \n",
    "\n",
    "dict_min = min(a.values())\n",
    "print(dict_min)   #최소값\n",
    "\n",
    "dict_max = max(a.values())\n",
    "print(dict_max)   #최대값\n",
    "\n",
    "\n",
    "# 선센님 풀이\n",
    "print(min(a))\n",
    "print(max(a))\n",
    "print(min(a.values()))\n",
    "print(max(a.values()))"
   ]
  },
  {
   "cell_type": "code",
   "execution_count": 2,
   "metadata": {},
   "outputs": [
    {
     "name": "stdout",
     "output_type": "stream",
     "text": [
      "dict_items([('A', 90), ('B', 60), ('C', 70)])\n",
      "<class 'dict_items'>\n",
      "[('A', 90), ('B', 60), ('C', 70)]\n",
      "<class 'list'>\n",
      "{'A': 90, 'B': 60, 'C': 70}\n"
     ]
    }
   ],
   "source": [
    "#3. 딕셔너리 a를 리스트로 변환 시켜보세요.... : list()\n",
    "# a = {'A':90,'B':80,'C':70} -> [('도연', 98), ('손흥민', 70), ('호날두', 88)]) 이렇게 바꿔봐라라...? \n",
    "a = {'A':90,'B':60,'C':70} \n",
    "\n",
    "print(a.items())\n",
    "print(type(a.items()))\n",
    "\n",
    "# list함수는 튜플, 딕셔너리자료형을 리스트자료형으로 변환 \n",
    "result = list(a.items())\n",
    "print(result)\n",
    "print(type(result))\n",
    "\n",
    "# sorted()   -> 오름차순순서\n",
    "sorted(list(a.values()))\n",
    "print(a)\n",
    "#->여기이상하다.."
   ]
  },
  {
   "cell_type": "code",
   "execution_count": null,
   "metadata": {},
   "outputs": [],
   "source": [
    "\n"
   ]
  },
  {
   "cell_type": "code",
   "execution_count": null,
   "metadata": {},
   "outputs": [],
   "source": []
  },
  {
   "cell_type": "code",
   "execution_count": null,
   "metadata": {},
   "outputs": [],
   "source": []
  },
  {
   "cell_type": "code",
   "execution_count": null,
   "metadata": {},
   "outputs": [],
   "source": []
  },
  {
   "cell_type": "code",
   "execution_count": null,
   "metadata": {},
   "outputs": [],
   "source": []
  },
  {
   "cell_type": "code",
   "execution_count": null,
   "metadata": {},
   "outputs": [],
   "source": []
  },
  {
   "cell_type": "code",
   "execution_count": null,
   "metadata": {},
   "outputs": [],
   "source": []
  }
 ],
 "metadata": {
  "kernelspec": {
   "display_name": "Python 3",
   "language": "python",
   "name": "python3"
  },
  "language_info": {
   "codemirror_mode": {
    "name": "ipython",
    "version": 3
   },
   "file_extension": ".py",
   "mimetype": "text/x-python",
   "name": "python",
   "nbconvert_exporter": "python",
   "pygments_lexer": "ipython3",
   "version": "3.7.4"
  }
 },
 "nbformat": 4,
 "nbformat_minor": 2
}
