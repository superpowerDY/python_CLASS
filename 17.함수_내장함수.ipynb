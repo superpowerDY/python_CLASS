{
 "cells": [
  {
   "cell_type": "markdown",
   "metadata": {},
   "source": [
    "#### 내장함수\n",
    "\n",
    "http://docs.python.org/3/\\library/function.html"
   ]
  },
  {
   "cell_type": "code",
   "execution_count": 2,
   "metadata": {},
   "outputs": [
    {
     "name": "stdout",
     "output_type": "stream",
     "text": [
      "1\n",
      "-1\n"
     ]
    }
   ],
   "source": [
    "# 1. abs()  \n",
    "print(1)\n",
    "print(-1)"
   ]
  },
  {
   "cell_type": "code",
   "execution_count": 3,
   "metadata": {},
   "outputs": [
    {
     "name": "stdout",
     "output_type": "stream",
     "text": [
      "True\n",
      "False\n",
      "True\n",
      "True\n"
     ]
    }
   ],
   "source": [
    "# 2. all(iterable) : 인수로 iterable (반복가능한 )자료를 전달받아서 iterable 의 값이 모두 참이면 True(=1), \n",
    "                  # 거짓(=0)이 하나라도 있다면 False를 리턴\n",
    "\n",
    "print(all([1,2,3,4])) \n",
    "print(all([1,2,3,0]))  # 0이 하나라도 있으면 거짓 \n",
    "print(all([]))  # 0이 아니기땜에 True\n",
    "print(all(['a','b','c']))"
   ]
  },
  {
   "cell_type": "code",
   "execution_count": 5,
   "metadata": {},
   "outputs": [
    {
     "name": "stdout",
     "output_type": "stream",
     "text": [
      "True\n",
      "True\n",
      "False\n",
      "True\n"
     ]
    }
   ],
   "source": [
    "# 3. any(iterable) : iterable값이 하나라도 참이있다면 True, 모두 거짓일때만 False\n",
    "print(any([1,2,3,4])) \n",
    "print(any([1,2,3,0]))  \n",
    "print(any([]))  # ture값이 하나도 없으니까 거짓\n",
    "print(any(['a','b','c']))"
   ]
  },
  {
   "cell_type": "code",
   "execution_count": 15,
   "metadata": {},
   "outputs": [
    {
     "name": "stdout",
     "output_type": "stream",
     "text": [
      "A\n",
      "a\n",
      "0\n",
      "ABCDEFGHIJKLMNOPQRSTUVWXYZ\n",
      "abcdefghijklmnopqrstuvwxyz\n",
      "0123456789\n",
      "ϨϩϪϫϬϭϮϯϰϱϲϳϴϵ϶ϷϸϹϺϻϼϽϾϿЀЁ\n"
     ]
    }
   ],
   "source": [
    "# 4. chr(ascii) : asciI(아스키)코드 값을 입력받아 그 코드 값에 해당하는 문자를 리턴\n",
    "print(chr(65))\n",
    "print(chr(97))\n",
    "print(chr(48))\n",
    "\n",
    "# 대문자 알파벳 \n",
    "for i in range(26):\n",
    "    print(chr(i+65),end='')\n",
    "print()    \n",
    "# 소문자 알파벳\n",
    "for i in range(26):\n",
    "    print(chr(i+97),end='')\n",
    "print()  \n",
    "# 숫자\n",
    "for i in range(10):\n",
    "    print(chr(i+48),end='')\n",
    "print()\n",
    "\n",
    "# 특수문자 \n",
    "for i in range(26):\n",
    "    print(chr(i+1000),end='')\n",
    "print()"
   ]
  },
  {
   "cell_type": "code",
   "execution_count": 16,
   "metadata": {},
   "outputs": [
    {
     "name": "stdout",
     "output_type": "stream",
     "text": [
      "['__add__', '__class__', '__contains__', '__delattr__', '__delitem__', '__dir__', '__doc__', '__eq__', '__format__', '__ge__', '__getattribute__', '__getitem__', '__gt__', '__hash__', '__iadd__', '__imul__', '__init__', '__init_subclass__', '__iter__', '__le__', '__len__', '__lt__', '__mul__', '__ne__', '__new__', '__reduce__', '__reduce_ex__', '__repr__', '__reversed__', '__rmul__', '__setattr__', '__setitem__', '__sizeof__', '__str__', '__subclasshook__', 'append', 'clear', 'copy', 'count', 'extend', 'index', 'insert', 'pop', 'remove', 'reverse', 'sort']\n",
      "------------------------------------------------------------\n",
      "['__add__', '__class__', '__contains__', '__delattr__', '__dir__', '__doc__', '__eq__', '__format__', '__ge__', '__getattribute__', '__getitem__', '__getnewargs__', '__gt__', '__hash__', '__init__', '__init_subclass__', '__iter__', '__le__', '__len__', '__lt__', '__mul__', '__ne__', '__new__', '__reduce__', '__reduce_ex__', '__repr__', '__rmul__', '__setattr__', '__sizeof__', '__str__', '__subclasshook__', 'count', 'index']\n",
      "------------------------------------------------------------\n",
      "['__class__', '__contains__', '__delattr__', '__delitem__', '__dir__', '__doc__', '__eq__', '__format__', '__ge__', '__getattribute__', '__getitem__', '__gt__', '__hash__', '__init__', '__init_subclass__', '__iter__', '__le__', '__len__', '__lt__', '__ne__', '__new__', '__reduce__', '__reduce_ex__', '__repr__', '__setattr__', '__setitem__', '__sizeof__', '__str__', '__subclasshook__', 'clear', 'copy', 'fromkeys', 'get', 'items', 'keys', 'pop', 'popitem', 'setdefault', 'update', 'values']\n",
      "------------------------------------------------------------\n",
      "['__add__', '__class__', '__contains__', '__delattr__', '__dir__', '__doc__', '__eq__', '__format__', '__ge__', '__getattribute__', '__getitem__', '__getnewargs__', '__gt__', '__hash__', '__init__', '__init_subclass__', '__iter__', '__le__', '__len__', '__lt__', '__mod__', '__mul__', '__ne__', '__new__', '__reduce__', '__reduce_ex__', '__repr__', '__rmod__', '__rmul__', '__setattr__', '__sizeof__', '__str__', '__subclasshook__', 'capitalize', 'casefold', 'center', 'count', 'encode', 'endswith', 'expandtabs', 'find', 'format', 'format_map', 'index', 'isalnum', 'isalpha', 'isascii', 'isdecimal', 'isdigit', 'isidentifier', 'islower', 'isnumeric', 'isprintable', 'isspace', 'istitle', 'isupper', 'join', 'ljust', 'lower', 'lstrip', 'maketrans', 'partition', 'replace', 'rfind', 'rindex', 'rjust', 'rpartition', 'rsplit', 'rstrip', 'split', 'splitlines', 'startswith', 'strip', 'swapcase', 'title', 'translate', 'upper', 'zfill']\n"
     ]
    }
   ],
   "source": [
    "# 5. dir() : 객체가 가지고 있는 변수와 함수를 출력 \n",
    "print(dir([]))\n",
    "print('-'*60)\n",
    "print(dir(()))\n",
    "print('-'*60)\n",
    "print(dir({}))\n",
    "print('-'*60)\n",
    "print(dir(\"\"))"
   ]
  },
  {
   "cell_type": "code",
   "execution_count": 18,
   "metadata": {},
   "outputs": [
    {
     "name": "stdout",
     "output_type": "stream",
     "text": [
      "(2, 1)\n",
      "(6.0, 0.09999999999999998)\n"
     ]
    }
   ],
   "source": [
    "# 6. divmod(a,b) # 2개의 인수를 받아서 a/b로 나눈 몫과 나머지를 튜플로 리턴~\n",
    "\n",
    "print(divmod(7,3))  #튜플로 몫과 나머지가 나옴 ㅇㅅㅇ  \n",
    "print(divmod(1.3,0.2))  # 정확한 근사치는 안나옴 ,,, \n"
   ]
  },
  {
   "cell_type": "code",
   "execution_count": 21,
   "metadata": {},
   "outputs": [
    {
     "name": "stdout",
     "output_type": "stream",
     "text": [
      "100 김도욤\n",
      "101 김줸\n",
      "102 혜진스\n"
     ]
    }
   ],
   "source": [
    "# 7. enumrate(iterable) : \"열거하다\"라는 의미처럼 순서가 있는 자료형을 입력받아서 인덱스 값을 포함하는 enmerate객체는 \n",
    "# 보통 for문과 함께 사용이된다.\n",
    "\n",
    "for i, name in enumerate(['김도욤','김줸','혜진스'],100):\n",
    "    print(i,name)\n",
    "    "
   ]
  },
  {
   "cell_type": "code",
   "execution_count": 26,
   "metadata": {},
   "outputs": [
    {
     "name": "stdout",
     "output_type": "stream",
     "text": [
      "2\n",
      "Hisexy\n",
      "(2, 1)\n"
     ]
    }
   ],
   "source": [
    "# 8. eval(expression) : eval함수는 파이썬의 표현식을 문자열로 받아 해당 파이썬 표현식을 실행해주는 함수이다.\n",
    "\n",
    "print(eval('1+1'))\n",
    "print(eval(\"'Hi' + 'sexy'\"))\n",
    "print(eval(\"divmod(7,3)\"))"
   ]
  },
  {
   "cell_type": "code",
   "execution_count": 35,
   "metadata": {},
   "outputs": [
    {
     "name": "stdout",
     "output_type": "stream",
     "text": [
      "[1, 4, 2]\n",
      "[1, 4, 2]\n",
      "[1, 4, 2]\n"
     ]
    }
   ],
   "source": [
    "# 9. filter(func명,iterable자료) :  첫번째 인수로 함수명을, 두번쨰 인수로 iterable자료를 전달받아서 \n",
    "# 그중에 조건에 맞는 값만 리턴한다. \n",
    "def positive(x):\n",
    "    result = []\n",
    "    for i in x:\n",
    "        if i > 0:\n",
    "            result.append(i)\n",
    "    return result\n",
    "    \n",
    "print(positive([1, -3, 0, 4, -6, 2]))\n",
    "\n",
    "#상기 함수를 filter함수를 이용\n",
    "def pos1(x) :\n",
    "    return x > 0\n",
    "print(list(filter(pos1,[1, -3, 0, 4, -6, 2])))\n",
    "\n",
    "# lambda식 \n",
    "print(list(filter(lambda s: s>0 , [1, -3, 0, 4, -6, 2])))"
   ]
  },
  {
   "cell_type": "code",
   "execution_count": 37,
   "metadata": {},
   "outputs": [
    {
     "name": "stdout",
     "output_type": "stream",
     "text": [
      "0x1\n",
      "0xa\n",
      "0x10\n",
      "0xea\n"
     ]
    }
   ],
   "source": [
    "#10. hex(10진수) : 10진수를 입력받아서 16진수로 리터 \n",
    "print(hex(1))\n",
    "print(hex(10))\n",
    "print(hex(16))\n",
    "print(hex(234))"
   ]
  },
  {
   "cell_type": "code",
   "execution_count": 41,
   "metadata": {},
   "outputs": [
    {
     "name": "stdout",
     "output_type": "stream",
     "text": [
      "2808946980496\n",
      "2808946981168\n",
      "140733091783120\n",
      "140733091783120\n"
     ]
    }
   ],
   "source": [
    "#11. id(객체) : 객체(object) 입력받아서 객체의 고유한 주소값(메모리주소,referance)을 리턴\n",
    "a = '도오리'\n",
    "print(id(a))\n",
    "print(id('도오리'))\n",
    "\n",
    "b = 3\n",
    "print(id(b))\n",
    "print(id(3))"
   ]
  },
  {
   "cell_type": "code",
   "execution_count": 42,
   "metadata": {},
   "outputs": [
    {
     "name": "stdout",
     "output_type": "stream",
     "text": [
      "안녕하세용~\n",
      "안녕하세용~\n"
     ]
    }
   ],
   "source": [
    "#12. input() : 사용자 입력값을 문자열로 리턴\n",
    "\n",
    "a=input()\n",
    "print(a)"
   ]
  },
  {
   "cell_type": "code",
   "execution_count": 46,
   "metadata": {},
   "outputs": [
    {
     "name": "stdout",
     "output_type": "stream",
     "text": [
      "3\n",
      "3\n",
      "3\n"
     ]
    }
   ],
   "source": [
    "#13. int(s) : 문자열형태의 숫자값(정수,실수)를 정수로 리턴\n",
    "\n",
    "print(int(3.4))\n",
    "\n",
    "# int(x,radix) : radix =진법\n",
    "print(int('11',2))\n",
    "print(int('11',2))"
   ]
  },
  {
   "cell_type": "code",
   "execution_count": 49,
   "metadata": {},
   "outputs": [
    {
     "name": "stdout",
     "output_type": "stream",
     "text": [
      "True\n",
      "False\n",
      "False\n"
     ]
    }
   ],
   "source": [
    "#14. isinstance(객체,class) : 첫번쨰 인수로 객체, 두번째 인수로 클래스명을 입력받아서 \n",
    "#해당 객체(인스턴스)가 클래스의 객체인지 여부를 True or False로 리턴!\n",
    "class Person:pass\n",
    "class Calculator:pass\n",
    "\n",
    "a= Person()\n",
    "b= Calculator()\n",
    "\n",
    "print(isinstance(a,Person))\n",
    "print(isinstance(a,Calculator))\n",
    "\n",
    "c= '문자'\n",
    "print(isinstance(c,Person))"
   ]
  },
  {
   "cell_type": "code",
   "execution_count": 51,
   "metadata": {},
   "outputs": [
    {
     "name": "stdout",
     "output_type": "stream",
     "text": [
      "['문', '자', '열']\n",
      "[1, 2, 3]\n"
     ]
    }
   ],
   "source": [
    "#15. list(iterable) :  iterable 자료형을 list자료형으로 변환\n",
    "print(list(\"문자열\"))\n",
    "print(list((1,2,3)))"
   ]
  },
  {
   "cell_type": "code",
   "execution_count": 54,
   "metadata": {},
   "outputs": [
    {
     "name": "stdout",
     "output_type": "stream",
     "text": [
      "[2, 4, 6, 8]\n",
      "<map object at 0x0000028E020EA4C8>\n",
      "[2, 4, 6, 8]\n",
      "[2, 4, 6, 8]\n"
     ]
    }
   ],
   "source": [
    "#16. map(function, iterable) : 함수와 iterable 자료형을 입력받아서 각 요소가 함수에 수행된 결과를 리턴한다.\n",
    "\n",
    "def two_times(nums):\n",
    "    result = []\n",
    "    for num in nums:\n",
    "        result.append(num*2)\n",
    "    return result\n",
    "\n",
    "result = two_times([1,2,3,4])\n",
    "print(result)\n",
    "\n",
    "\n",
    "# map() 함수 이용\n",
    "def two_times1(x):return x*2\n",
    "print(map(two_times1,[1,2,3,4]))\n",
    "print(list(map(two_times1,[1,2,3,4])))\n",
    "\n",
    "# lambda식\n",
    "print(list(map(lambda x:x*2 , [1,2,3,4])))"
   ]
  },
  {
   "cell_type": "code",
   "execution_count": 56,
   "metadata": {},
   "outputs": [
    {
     "name": "stdout",
     "output_type": "stream",
     "text": [
      "5\n",
      "1\n"
     ]
    }
   ],
   "source": [
    "#17. max() / min()\n",
    "\n",
    "print(max([1,2,3,4,5]))\n",
    "print(min([1,2,3,4,5]))"
   ]
  },
  {
   "cell_type": "code",
   "execution_count": 58,
   "metadata": {},
   "outputs": [
    {
     "name": "stdout",
     "output_type": "stream",
     "text": [
      "0o10\n",
      "0o23\n",
      "0o12\n"
     ]
    }
   ],
   "source": [
    "#18. oct(십진수) : 십진수를 8진수로 변환\n",
    "\n",
    "print(oct(8))\n",
    "print(oct(19))\n",
    "print(oct(10))\n"
   ]
  },
  {
   "cell_type": "code",
   "execution_count": null,
   "metadata": {},
   "outputs": [],
   "source": [
    "#19. open() : 12.파일입출력_file()참고하라~"
   ]
  },
  {
   "cell_type": "code",
   "execution_count": 59,
   "metadata": {},
   "outputs": [
    {
     "name": "stdout",
     "output_type": "stream",
     "text": [
      "97\n",
      "65\n",
      "48\n",
      "44032\n"
     ]
    }
   ],
   "source": [
    "#20. ord(문자) : 문자를 ascii코드값으로 리턴\n",
    "\n",
    "print(ord('a'))\n",
    "print(ord('A'))\n",
    "print(ord('0'))\n",
    "print(ord('가'))"
   ]
  },
  {
   "cell_type": "code",
   "execution_count": null,
   "metadata": {},
   "outputs": [],
   "source": [
    "#21. pow(x,y) : 제곱근리턴 x**y"
   ]
  },
  {
   "cell_type": "code",
   "execution_count": 62,
   "metadata": {},
   "outputs": [
    {
     "name": "stdout",
     "output_type": "stream",
     "text": [
      "[0, 1, 2, 3, 4]\n",
      "[5, 6, 7, 8, 9]\n",
      "[5, 3, 1, -1, -3, -5, -7, -9]\n"
     ]
    }
   ],
   "source": [
    "#22. range([start],stop,[step])\n",
    "print(list(range(5)))\n",
    "print(list(range(5,10)))\n",
    "print(list(range(5,-10,-2)))"
   ]
  },
  {
   "cell_type": "code",
   "execution_count": 63,
   "metadata": {},
   "outputs": [
    {
     "name": "stdout",
     "output_type": "stream",
     "text": [
      "[1, 2, 3, 4]\n",
      "['c', 'q', 'x', 'y', 'z']\n",
      "['h', 'n', 'o', 'p', 't', 'y']\n",
      "[' ', ' ', ' ', '늘', '려', '수', '아', '어', '업', '오', '요', '워', '은', '주']\n"
     ]
    }
   ],
   "source": [
    "#23 sorted(iterable) : iterable값을 전달받아서 정렬후 리스트로 리턴\n",
    "#sorted?\n",
    "print(sorted([3,2,4,1]))\n",
    "print(sorted(['z','x','y','q','c']))\n",
    "print(sorted('python'))\n",
    "print(sorted('오늘 수업은 아주 어려워요'))"
   ]
  },
  {
   "cell_type": "code",
   "execution_count": 64,
   "metadata": {},
   "outputs": [
    {
     "name": "stdout",
     "output_type": "stream",
     "text": [
      "3\n",
      "<class 'str'>\n"
     ]
    }
   ],
   "source": [
    "#24. str(객체) : 문자열객체로 리턴\n",
    "print(str(3))\n",
    "print(type(str(3)))\n"
   ]
  },
  {
   "cell_type": "code",
   "execution_count": 65,
   "metadata": {},
   "outputs": [
    {
     "name": "stdout",
     "output_type": "stream",
     "text": [
      "3\n",
      "<class 'str'>\n"
     ]
    }
   ],
   "source": [
    "#25. tuple() \n",
    "print(str(3))\n",
    "print(type(str(3)))"
   ]
  },
  {
   "cell_type": "code",
   "execution_count": 66,
   "metadata": {},
   "outputs": [
    {
     "data": {
      "text/plain": [
       "int"
      ]
     },
     "execution_count": 66,
     "metadata": {},
     "output_type": "execute_result"
    }
   ],
   "source": [
    "#26. type() : 마니했쪄~?  객체의 자료형을 리턴\n",
    "type(3)"
   ]
  },
  {
   "cell_type": "code",
   "execution_count": 72,
   "metadata": {},
   "outputs": [
    {
     "name": "stdout",
     "output_type": "stream",
     "text": [
      "<zip object at 0x0000028E029E9048>\n",
      "[(1, 4), (2, 5), (3, 6)]\n",
      "[(1, 4)]\n",
      "[(1, 4)]\n",
      "[(1, 4), (2, 5), (3, 6)]\n",
      "[('a', 4), ('b', 5), ('c', 6)]\n",
      "[('a', 4), ('b', 5), ('c', 6)]\n",
      "[('a', 'A'), ('b', 'B'), ('c', 'C'), ('d', 'D')]\n"
     ]
    }
   ],
   "source": [
    "#27. zip(iterable) : 동일한 갯수의 자료형을 묶어서 튜플로 리턴\n",
    "\n",
    "# 1) 두개의 객체의 갯수가 동일할 경우\n",
    "print(zip([1,2,3],[4,5,6]))\n",
    "print(list(zip([1,2,3],[4,5,6])))\n",
    "\n",
    "# 2) 두개의 객체의 갯수가 동일하지 않을 경우\n",
    "print(list(zip([1],[4,5,6])))\n",
    "print(list(zip([1,2,3],[4])))\n",
    "\n",
    "# 3) 자료형이 다를경우\n",
    "print(list(zip([1,2,3],[4,5,6])))\n",
    "print(list(zip('abc',[4,5,6])))\n",
    "print(list(zip('abcd',[4,5,6])))\n",
    "print(list(zip('abcd','ABCD')))"
   ]
  },
  {
   "cell_type": "code",
   "execution_count": null,
   "metadata": {},
   "outputs": [],
   "source": []
  },
  {
   "cell_type": "code",
   "execution_count": null,
   "metadata": {},
   "outputs": [],
   "source": []
  },
  {
   "cell_type": "code",
   "execution_count": null,
   "metadata": {},
   "outputs": [],
   "source": []
  },
  {
   "cell_type": "code",
   "execution_count": null,
   "metadata": {},
   "outputs": [],
   "source": []
  },
  {
   "cell_type": "code",
   "execution_count": null,
   "metadata": {},
   "outputs": [],
   "source": []
  }
 ],
 "metadata": {
  "kernelspec": {
   "display_name": "Python 3",
   "language": "python",
   "name": "python3"
  },
  "language_info": {
   "codemirror_mode": {
    "name": "ipython",
    "version": 3
   },
   "file_extension": ".py",
   "mimetype": "text/x-python",
   "name": "python",
   "nbconvert_exporter": "python",
   "pygments_lexer": "ipython3",
   "version": "3.7.4"
  }
 },
 "nbformat": 4,
 "nbformat_minor": 2
}
