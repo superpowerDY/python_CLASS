{
 "cells": [
  {
   "cell_type": "markdown",
   "metadata": {},
   "source": [
    "### if 문 기본구조\n",
    "\n",
    "\n",
    "1. 기본 if문\n",
    "\n",
    "if 조건문 : \n",
    "    수행할문장1\n",
    "    수행할문장n\n",
    "    \n",
    "2. if else:\n",
    "\n",
    "if 조건문 : \n",
    "    수행할문장1\n",
    "    수행할문장n   \n",
    "else 조건문 :\n",
    "    수행할문장1\n",
    "    수행할문장n\n",
    "    \n",
    "3. if elif else\n",
    "if 조건문 : \n",
    "    수행할문장1\n",
    "    수행할문장n  \n",
    "elif 조건문 : \n",
    "    수행할문장1\n",
    "    수행할문장n  \n",
    "elif 조건문 : \n",
    "    수행할문장1\n",
    "    수행할문장n  \n",
    "else 조건문 : \n",
    "    수행할문장1\n",
    "    수행할문장n  \n",
    "   "
   ]
  },
  {
   "cell_type": "code",
   "execution_count": 3,
   "metadata": {},
   "outputs": [
    {
     "name": "stdout",
     "output_type": "stream",
     "text": [
      "A학점 입니다!\n",
      "B학점 입니다!\n"
     ]
    }
   ],
   "source": [
    "# 1. 기본 if문 \n",
    "\n",
    "score = 90\n",
    "if score >=90:\n",
    "    print('A학점 입니다!')\n",
    "\n",
    "if score >=80:\n",
    "    print('B학점 입니다!')"
   ]
  },
  {
   "cell_type": "code",
   "execution_count": 4,
   "metadata": {},
   "outputs": [
    {
     "name": "stdout",
     "output_type": "stream",
     "text": [
      "B학점 입니다!\n"
     ]
    }
   ],
   "source": [
    "# 2. if~else\n",
    "\n",
    "score = 80\n",
    "if score >=90:\n",
    "    print('A학점 입니다!')\n",
    "else : \n",
    "    print('B학점 입니다!')\n"
   ]
  },
  {
   "cell_type": "code",
   "execution_count": 6,
   "metadata": {},
   "outputs": [
    {
     "name": "stdout",
     "output_type": "stream",
     "text": [
      "C학점 입니다 ㅠ\n"
     ]
    }
   ],
   "source": [
    "# 3. if~elif~else\n",
    "\n",
    "score = 70\n",
    "if score >=90:\n",
    "    print('A학점 입니다!')\n",
    "else:\n",
    "    if score >=80:\n",
    "        print('B학점 입니다!')\n",
    "    else : \n",
    "        if(score>=70):\n",
    "            print('C학점 입니다 ㅠ')\n",
    "    \n",
    "\n",
    "\n"
   ]
  },
  {
   "cell_type": "code",
   "execution_count": 13,
   "metadata": {},
   "outputs": [
    {
     "name": "stdout",
     "output_type": "stream",
     "text": [
      "F학점 입니다 -_-+\n"
     ]
    }
   ],
   "source": [
    "score = 50\n",
    "if score >=90:\n",
    "    print('A학점 입니다!')\n",
    "elif (score >=80):\n",
    "        print('B학점 입니다!')\n",
    "elif (score>=70):\n",
    "        print('C학점 입니다 ㅠ')\n",
    "elif (score>=60):\n",
    "        print('D학점 입니다 ㅠ')\n",
    "else:\n",
    "    print('F학점 입니다 -_-+')\n",
    "    "
   ]
  },
  {
   "cell_type": "code",
   "execution_count": 12,
   "metadata": {},
   "outputs": [
    {
     "name": "stdout",
     "output_type": "stream",
     "text": [
      "A+학점 입니다!\n"
     ]
    }
   ],
   "source": [
    "score = 98\n",
    "if score >=90:\n",
    "    if(score>=95):\n",
    "        print('A+학점 입니다!')\n",
    "    else:\n",
    "        print('A학점 입니다!')\n",
    "elif (score >=80):\n",
    "        print('B학점 입니다!')\n",
    "elif (score>=70):\n",
    "        print('C학점 입니다 ㅠ')\n",
    "elif (score>=60):\n",
    "        print('D학점 입니다 ㅠ')\n",
    "else:\n",
    "    print('F학점 입니다 ㅋㅋ')\n",
    "\n",
    "    \n",
    "    #타 언어 에서는 switch~case문을 사용하는데 파이선에서는 switch~case이 없다."
   ]
  },
  {
   "cell_type": "code",
   "execution_count": 15,
   "metadata": {},
   "outputs": [],
   "source": [
    "# 비교한 결과 실행할 문장이 하나 없을때 pass 키워드를 사용한다.\n",
    "\n",
    "if True : \n",
    "    pass"
   ]
  },
  {
   "cell_type": "code",
   "execution_count": 1,
   "metadata": {},
   "outputs": [
    {
     "name": "stdout",
     "output_type": "stream",
     "text": [
      "True\n",
      "False\n",
      "True\n",
      "False\n",
      "True\n",
      "False\n",
      "True\n",
      "Taxi 호출\n"
     ]
    }
   ],
   "source": [
    "# if문이 파이썬에서 다른 언어와 다른 점은in과 not in이라는 비교 연산자를 사용할 수 있다.\n",
    "# in, notin 을 사용해서 list, tuple, 문자열을 비교할 수 있는 조건문을 사용할 수 있다는 점이다.\n",
    "# 비교 할 값 in [list or tuple or 문자열]\n",
    "print(1 in [1,2,3])\n",
    "print(5 in [1,2,3])\n",
    "print('a' in('a','b','c'))\n",
    "print('a' not in('a','b','c'))\n",
    "\n",
    "print('y' in 'Python')\n",
    "print('p' in 'Python')\n",
    "print('P' in 'Python')\n",
    "\n",
    "pocket = ['paper','cellphone','money']\n",
    "\n",
    "if 'money' in pocket : \n",
    "    print('Taxi 호출')\n",
    "else:\n",
    "    print('걸어가기')   #---> 난 왜안되지 ... >??\n"
   ]
  },
  {
   "cell_type": "markdown",
   "metadata": {},
   "source": [
    "### 삼항 연산자"
   ]
  },
  {
   "cell_type": "code",
   "execution_count": 1,
   "metadata": {},
   "outputs": [
    {
     "name": "stdout",
     "output_type": "stream",
     "text": [
      "불합격입니다...\n",
      "합격입니다~!\n"
     ]
    }
   ],
   "source": [
    "score = 50 \n",
    "if score>=60:\n",
    "    print('합격입니다!')\n",
    "else:\n",
    "    print('불합격입니다...')\n",
    "     \n",
    "score = 70 \n",
    "if score>=60:\n",
    "    result='합격입니다~!'\n",
    "else:\n",
    "     result='불합격입니다...'   \n",
    "print(result)\n",
    "    \n",
    "    "
   ]
  },
  {
   "cell_type": "code",
   "execution_count": 2,
   "metadata": {},
   "outputs": [
    {
     "name": "stdout",
     "output_type": "stream",
     "text": [
      "합격입니다.\n"
     ]
    }
   ],
   "source": [
    "result ='합격입니다.' if score>60 else '불합격입니다...'\n",
    "print(result)"
   ]
  },
  {
   "cell_type": "code",
   "execution_count": 3,
   "metadata": {},
   "outputs": [
    {
     "name": "stdout",
     "output_type": "stream",
     "text": [
      "불합격입니다\n"
     ]
    }
   ],
   "source": [
    "score = 50\n",
    "print(\"합격입니다\" if score >= 60 else \"불합격입니다\")"
   ]
  }
 ],
 "metadata": {
  "kernelspec": {
   "display_name": "Python 3",
   "language": "python",
   "name": "python3"
  },
  "language_info": {
   "codemirror_mode": {
    "name": "ipython",
    "version": 3
   },
   "file_extension": ".py",
   "mimetype": "text/x-python",
   "name": "python",
   "nbconvert_exporter": "python",
   "pygments_lexer": "ipython3",
   "version": "3.7.4"
  }
 },
 "nbformat": 4,
 "nbformat_minor": 2
}
