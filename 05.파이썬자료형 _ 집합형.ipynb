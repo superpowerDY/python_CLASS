{
 "cells": [
  {
   "cell_type": "markdown",
   "metadata": {},
   "source": [
    "### 집합형\n",
    "\n",
    "집합(set)은 파이썬  v2.3부터 지원되기 시작한 자료형이다.\n",
    "이 자료형은 집합과 관련된 것들을 보다 쉽게 처리하기 위해 만들어 진 자료형이다.\n",
    "집합형자료형은 set명령어를 이용해 만들 수 있다.\n",
    "\n",
    "#### 집합형의 특징\n",
    "1. 중복을 허용하지 않는다.\n",
    "2. 순서가 없다.\n",
    "\n",
    "리스트나 튜플은 순서가 있기때문에 인덱싱을 통해서 자료의 값을 가져올 수 있지만  set자료형은 순서가 없기 때문에\n",
    "인덱싱으로 자료를 가져올 수 없다.!! \n",
    "\n",
    "set자료형은 저장된 값을 가져오기 위해서는 리스트나 튜플로 변환한 후에 인덱싱을 통해서 자료를 가져올 수 있다. \n",
    "\n",
    "set자료형의 특징은 집합관련 연산이나 특히, 중복을 제거 하기 위한 필터 역할로 종종 사용한다.\n"
   ]
  },
  {
   "cell_type": "markdown",
   "metadata": {},
   "source": [
    "### 1. 집합형"
   ]
  },
  {
   "cell_type": "code",
   "execution_count": 5,
   "metadata": {},
   "outputs": [
    {
     "name": "stdout",
     "output_type": "stream",
     "text": [
      "{1, 2, 3}\n",
      "<class 'set'>\n",
      "{'o', 'h', 'e', 'l'}\n"
     ]
    }
   ],
   "source": [
    "s1= set([1,2,3])\n",
    "print(s1)\n",
    "print(type(s1))   # class가 나온건 객체로 생각해\n",
    "\n",
    "s2 = set('hello') \n",
    "print(s2)         # 산출결과가 중복을 허용하지 않고, 순서대로 나오지 않아\n",
    "\n"
   ]
  },
  {
   "cell_type": "code",
   "execution_count": 11,
   "metadata": {},
   "outputs": [
    {
     "name": "stdout",
     "output_type": "stream",
     "text": [
      "{1, 2, 3}\n",
      "[1, 2, 3]\n",
      "(1, 2, 3)\n"
     ]
    },
    {
     "data": {
      "text/plain": [
       "1"
      ]
     },
     "execution_count": 11,
     "metadata": {},
     "output_type": "execute_result"
    }
   ],
   "source": [
    "# set자료형의 요소에는 직접 접근할 수 없기 때문에 집합형을 리스트나 튜플로 변환해서 접근해야한다.\n",
    "\n",
    "s1= set([1,2,3])\n",
    "l1=list(s1)\n",
    "print(s1)\n",
    "print(l1)  # 리스트랑 셋이랑 괄호가 다른거 보이지 ? \n",
    "l1[0]\n",
    "\n",
    "\n",
    "t1 = tuple(s1)\n",
    "print(t1)\n",
    "t1[0]"
   ]
  },
  {
   "cell_type": "markdown",
   "metadata": {},
   "source": [
    "### 2. 집합자료형 활용방법\n",
    "\n",
    "교집합/합집합/차집합을 구할 경우에 사용한다.\n"
   ]
  },
  {
   "cell_type": "code",
   "execution_count": 14,
   "metadata": {},
   "outputs": [],
   "source": [
    "s1 = set([1,2,3,4,5,6])\n",
    "s2 = set([4,5,6,7,8,9])"
   ]
  },
  {
   "cell_type": "code",
   "execution_count": 18,
   "metadata": {},
   "outputs": [
    {
     "name": "stdout",
     "output_type": "stream",
     "text": [
      "{4, 5, 6}\n",
      "{4, 5, 6}\n"
     ]
    }
   ],
   "source": [
    "# 1. 교집합 구하기  ( & 혹은 intersection() )\n",
    "\n",
    "print(s1&s2)\n",
    "print(s1.intersection(s2))\n"
   ]
  },
  {
   "cell_type": "code",
   "execution_count": 20,
   "metadata": {},
   "outputs": [
    {
     "name": "stdout",
     "output_type": "stream",
     "text": [
      "{1, 2, 3, 4, 5, 6, 7, 8, 9}\n",
      "{1, 2, 3, 4, 5, 6, 7, 8, 9}\n"
     ]
    }
   ],
   "source": [
    "# 2. 합집합 ( '\\ +shitf : | 키' 혹은 union() )\n",
    "\n",
    "print(s1|s2)\n",
    "print(s1.union(s2))"
   ]
  },
  {
   "cell_type": "code",
   "execution_count": 26,
   "metadata": {},
   "outputs": [
    {
     "name": "stdout",
     "output_type": "stream",
     "text": [
      "{1, 2, 3}\n",
      "{8, 9, 7}\n",
      "{1, 2, 3}\n",
      "{8, 9, 7}\n"
     ]
    }
   ],
   "source": [
    "# 3. 차집합 ( - 혹은 difference() )\n",
    "\n",
    "print(s1-s2)\n",
    "print(s2-s1)\n",
    "print(s1.difference(s2))\n",
    "print(s2.difference(s1))"
   ]
  },
  {
   "cell_type": "markdown",
   "metadata": {},
   "source": [
    "### 3. 집합형 관련 함수\n",
    "\n",
    "* add()     : 1개의 값을 추가\n",
    "* update()  : 여러개의 값을 추가 \n",
    "* remove()  : 특정값을 제거\n",
    " \n",
    " "
   ]
  },
  {
   "cell_type": "code",
   "execution_count": 34,
   "metadata": {},
   "outputs": [],
   "source": [
    " # print(dir(s1))   "
   ]
  },
  {
   "cell_type": "code",
   "execution_count": 46,
   "metadata": {},
   "outputs": [
    {
     "name": "stdout",
     "output_type": "stream",
     "text": [
      "{'x', 1, 2, 3, 'ㅌ', 'Q', '오리'}\n"
     ]
    }
   ],
   "source": [
    "# 1. add()     : 1개의 값을 추가\n",
    "\n",
    "s1 = set([1,2,3])\n",
    "s1.add('x')\n",
    "s1.add('ㅌ')\n",
    "s1.add('오리')\n",
    "s1.add('Q')\n",
    "print(s1)   # 추가되는 새로운값은 아무데나 순서없이 들어감"
   ]
  },
  {
   "cell_type": "code",
   "execution_count": 47,
   "metadata": {},
   "outputs": [
    {
     "name": "stdout",
     "output_type": "stream",
     "text": [
      "{'x', 1, 2, 3, 'ㅌ', 'Q', '오리'}\n",
      "{'x', 1, 2, 3, 'ㅌ', 5, 6, 7, 'Q', '오리'}\n",
      "{'x', 1, 2, 3, 'ㅌ', 5, 6, 7, 10, 'Q', '오리'}\n",
      "{'x', 1, 2, 3, 'ㅌ', 5, 6, 7, 'L', 10, 'Q', 'M', 'N', '오리'}\n"
     ]
    }
   ],
   "source": [
    "# 2. update()  : 여러개의 값을 추가 \n",
    "\n",
    "print(s1)\n",
    "s1.update([5,6,7])\n",
    "print(s1)\n",
    "s1.update([6,7,10])\n",
    "print(s1)\n",
    "s1.update(('L','M','N'))\n",
    "print(s1)"
   ]
  },
  {
   "cell_type": "code",
   "execution_count": 42,
   "metadata": {},
   "outputs": [
    {
     "name": "stdout",
     "output_type": "stream",
     "text": [
      "{'x', 1, 2, 3, 'ㅌ', 6, 7, 10, 'Q', '오리'}\n"
     ]
    }
   ],
   "source": [
    "# 3. remove()  : 특정값을 제거\n",
    "\n",
    "s1.remove(5)\n",
    "print(s1)"
   ]
  },
  {
   "cell_type": "code",
   "execution_count": null,
   "metadata": {},
   "outputs": [],
   "source": []
  },
  {
   "cell_type": "code",
   "execution_count": null,
   "metadata": {},
   "outputs": [],
   "source": []
  },
  {
   "cell_type": "code",
   "execution_count": null,
   "metadata": {},
   "outputs": [],
   "source": []
  },
  {
   "cell_type": "code",
   "execution_count": null,
   "metadata": {},
   "outputs": [],
   "source": []
  },
  {
   "cell_type": "code",
   "execution_count": null,
   "metadata": {},
   "outputs": [],
   "source": []
  },
  {
   "cell_type": "code",
   "execution_count": null,
   "metadata": {},
   "outputs": [],
   "source": []
  },
  {
   "cell_type": "code",
   "execution_count": null,
   "metadata": {},
   "outputs": [],
   "source": []
  }
 ],
 "metadata": {
  "kernelspec": {
   "display_name": "Python 3",
   "language": "python",
   "name": "python3"
  },
  "language_info": {
   "codemirror_mode": {
    "name": "ipython",
    "version": 3
   },
   "file_extension": ".py",
   "mimetype": "text/x-python",
   "name": "python",
   "nbconvert_exporter": "python",
   "pygments_lexer": "ipython3",
   "version": "3.7.4"
  }
 },
 "nbformat": 4,
 "nbformat_minor": 2
}
