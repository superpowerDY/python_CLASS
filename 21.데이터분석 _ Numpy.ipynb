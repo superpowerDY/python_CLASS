{
 "cells": [
  {
   "cell_type": "markdown",
   "metadata": {},
   "source": [
    "### Numpy (Numerical Python)\n",
    "\n",
    "> *  벡터 및 행렬 연산에 특회된 라이브러리 <br>\n",
    "*  array 단위로 데이타를 관리한다. 행렬과 유사함 <br>\n",
    "* pandas와 함께 데이터 분석에 많이사용된다. <br>\n",
    "* 수치해석용 Python라이브러리 <br>\n",
    "* 기본적으로 array단위로 관리 및 연산을 수행한다.\n",
    "\n",
    "#### 참고 사이트\n",
    "1. home : http://www.numpy.org\n",
    "2. document : http://docs.scipy.org.doc\n",
    "3. tutrial :\n",
    "    1) http://www.scipy-lectures.org/intro/numpy/index.html <br>\n",
    "    2) http://docs.scipy.org/doc/numpy/user/quickstart.html\n"
   ]
  },
  {
   "cell_type": "code",
   "execution_count": 1,
   "metadata": {},
   "outputs": [
    {
     "data": {
      "text/plain": [
       "'1.16.5'"
      ]
     },
     "execution_count": 1,
     "metadata": {},
     "output_type": "execute_result"
    }
   ],
   "source": [
    "# numpy를 사용하기 위해서는 import해와야 한다.\n",
    "import numpy as np\n",
    "# print(dir(np)) ---> 이거 다 알아야해요\n",
    "np.__version__\n",
    "\n"
   ]
  },
  {
   "cell_type": "code",
   "execution_count": 10,
   "metadata": {},
   "outputs": [
    {
     "name": "stdout",
     "output_type": "stream",
     "text": [
      "<class 'list'>\n",
      "[1 2 3 4 5]\n",
      "<class 'numpy.ndarray'>\n"
     ]
    },
    {
     "data": {
      "text/plain": [
       "array([1. , 2. , 3. , 4.1])"
      ]
     },
     "execution_count": 10,
     "metadata": {},
     "output_type": "execute_result"
    }
   ],
   "source": [
    "# Array 정의 및 사용하기\n",
    "\n",
    "data =[1,2,3,4,5]\n",
    "print(type(data))\n",
    "\n",
    "# numpy의 배열(ndarray) 로 변경\n",
    "arr = np.array(data)\n",
    "print(arr)\n",
    "print(type(arr))\n",
    "\n",
    "# upcasting  : 강제형변환    \n",
    "arr1 = np.array([1,2,3,4.1])   # 4.1 때문에 나머지도 소수쩜 있게 변환값나옴\n",
    "arr1\n"
   ]
  },
  {
   "cell_type": "code",
   "execution_count": 6,
   "metadata": {},
   "outputs": [],
   "source": [
    "# np.array?  # --> 쭉 보라는데 봐도 모르겠네요^^ "
   ]
  },
  {
   "cell_type": "code",
   "execution_count": 14,
   "metadata": {},
   "outputs": [
    {
     "name": "stdout",
     "output_type": "stream",
     "text": [
      "(4,)\n"
     ]
    }
   ],
   "source": [
    "# np.shape : numpy  배열의 크기를 리턴\n",
    "# np.shape?\n",
    "np.shape(arr1)      # --> (4,) : 튜플로 리턴해줘여엉~ \n",
    "# print(arr1.shape) # 이렇게도댐  왜되는진 이해못함 ㅎㅎ\n",
    "\n"
   ]
  },
  {
   "cell_type": "markdown",
   "metadata": {},
   "source": [
    "### 2. 2차원배열(행렬, Matrix)  매매매매트릭스"
   ]
  },
  {
   "cell_type": "code",
   "execution_count": 21,
   "metadata": {},
   "outputs": [
    {
     "name": "stdout",
     "output_type": "stream",
     "text": [
      "[[1, 2, 3], [4, 5, 6.0]]\n",
      "<class 'numpy.ndarray'>\n",
      "(2, 3)\n",
      "[[1. 2. 3.]\n",
      " [4. 5. 6.]]\n"
     ]
    }
   ],
   "source": [
    "# 2차원리조트\n",
    "data = [[1,2,3],[4,5,6.0]]\n",
    "print(data)\n",
    "\n",
    "# 2차원 리스트를 numpy의 2차원 배열로 변환하기.\n",
    "arr = np.array(data)\n",
    "print(type(arr))\n",
    "print(arr.shape)  # 2행 3열\n",
    "print(arr) # -------------- > 이게 2차원이에영"
   ]
  },
  {
   "cell_type": "code",
   "execution_count": 20,
   "metadata": {},
   "outputs": [
    {
     "name": "stdout",
     "output_type": "stream",
     "text": [
      "[[1 2 3]\n",
      " [4 5 6]\n",
      " [7 8 9]]\n",
      "int32\n"
     ]
    }
   ],
   "source": [
    "arr =np.array([[1,2,3],[4,5,6],[7,8,9]])\n",
    "print(arr)\n",
    "# numpy의 data type확인\n",
    "print(arr.dtype)"
   ]
  },
  {
   "cell_type": "markdown",
   "metadata": {},
   "source": [
    "### Numpy 연산\n",
    "\n",
    "#### 1. numpy shape\n",
    "* numpy에서 해당 array크기를 확인할 수 있는 함수이다. 이함수는 정수를 리턴 <br>\n",
    "* shape(크기)를 확인 함으로써 numpy배열에 몇개의 데이터가 있는지? 몇차원의 데이터인지를 확인한다.\n",
    "* 1차원 배열일경우 '(5,)'형태로, 2차원 배열일경우는 '(3,4)' 의 형태로 리턴한다.\n",
    "\n",
    "#### 2. numpy datatype\n",
    "\n",
    "* int(8, 16, 32, 64)    : 부호가 있는 정수\n",
    "* uint(8, 16, 32, 64)   : 부호가 없는 정수\n",
    "* float(16, 32, 64, 128): 실수\n",
    "* complex(64, 128, 256) : 복소수\n",
    "* bool : boolean\n",
    "* string_   : 문자열 \n",
    "* object    : 파이썬 오브젝트 (객체)\n",
    "* unicode_  : 유니코드\n"
   ]
  },
  {
   "cell_type": "code",
   "execution_count": 26,
   "metadata": {},
   "outputs": [
    {
     "name": "stdout",
     "output_type": "stream",
     "text": [
      "[[ 8 10 12]\n",
      " [14 16 18]]\n",
      "----------------------------------------\n",
      "[[-6 -6 -6]\n",
      " [-6 -6 -6]]\n",
      "----------------------------------------\n",
      "[[ 7 16 27]\n",
      " [40 55 72]]\n",
      "----------------------------------------\n",
      "[[0.14285714 0.25       0.33333333]\n",
      " [0.4        0.45454545 0.5       ]]\n",
      "----------------------------------------\n",
      "[[ 2  4  6]\n",
      " [ 8 10 12]]\n",
      "[[ 1  4  9]\n",
      " [16 25 36]]\n"
     ]
    }
   ],
   "source": [
    "# numpy 배열의 연산\n",
    "# 배열을 연산할 때는 배열의 크기가 반드시 동일해야 한다. 틀리면 에러가 발생한다.\n",
    "\n",
    "arr1= np.array([[1,2,3],[4,5,6]])\n",
    "arr2= np.array([[7,8,9],[10,11,12]])   # 만약에 여기가 [10,11,12,13] 이렇게 배열이 안맞으면 에러~! \n",
    "\n",
    "print(arr1 + arr2)\n",
    "\n",
    "print(\"-\"*40)\n",
    "print(arr1 - arr2)\n",
    "\n",
    "print(\"-\"*40)\n",
    "print(arr1 * arr2)\n",
    "\n",
    "print(\"-\"*40)\n",
    "print(arr1 / arr2)\n",
    "\n",
    "print(\"-\"*40)\n",
    "\n",
    "print(arr1 * 2)   # 각요소에 곱하기 2를 하라는 말\n",
    "print(arr1 ** 2)  # 각요소에 제곱근을 하라는것 "
   ]
  },
  {
   "cell_type": "code",
   "execution_count": 30,
   "metadata": {},
   "outputs": [
    {
     "name": "stdout",
     "output_type": "stream",
     "text": [
      "(2, 3)\n",
      "(3,)\n",
      "[[11 13 15]\n",
      " [14 16 18]]\n"
     ]
    }
   ],
   "source": [
    "# array의 브로드캐스트\n",
    "# numpy배열에서는 동일크기를 가져야지만 연산이 가능한데\n",
    "# numpy에서는 broadcast라는 기능을 제공해준다. \n",
    "# 브로드캐스트라는 것은 서루 크기가 다른 넘파이 배열을 연산이 가능하도록 해주는 기능이다.\n",
    "\n",
    "arr1 = np.array([[1,2,3],[4,5,6]])\n",
    "arr2 = np.array([10,11,12])  # ([10,11,12]) 이렇게 생겻지만 ([10,11,12],[10,11,12])처럼해주는게 브로드캐스팅기능이다.            \n",
    "print(arr1.shape)\n",
    "print(arr2.shape)\n",
    "\n",
    "print(arr1 + arr2)"
   ]
  },
  {
   "cell_type": "markdown",
   "metadata": {},
   "source": [
    "### Numpy Array 의 인덱싱 과 슬라이싱\n",
    "\n",
    "\n",
    "넘파이에 사용되는인덱싱은 파이썬 인덱싱과 기본적으로 동일하다. <br>\n",
    "Numpy의 index는 0 부터 시작한다~\n",
    "\n"
   ]
  },
  {
   "cell_type": "code",
   "execution_count": 60,
   "metadata": {},
   "outputs": [
    {
     "name": "stdout",
     "output_type": "stream",
     "text": [
      "[0 1 2 3 4 5 6 7 8 9]\n",
      "[10 12 14 16 18]\n",
      "int32\n",
      "[10 12 14 16 18]\n",
      "int32\n",
      "[0 1 2 3 4 5 6 7 8 9]\n"
     ]
    }
   ],
   "source": [
    "# ?np.arange  \n",
    "\n",
    "# np.arrage (시작,끝,스템,데이터타입)\n",
    "# 기본적으로 np.arange(10)\n",
    "\n",
    "arr1 =np.arange(10)\n",
    "print(arr1)\n",
    "\n",
    "arr1 =np.arange(10,20,2)\n",
    "print(arr1)\n",
    "print(arr1.dtype)\n",
    "\n",
    "\n",
    "arr1 =np.arange(10,20,2,dtype='int32')\n",
    "print(arr1)\n",
    "print(arr1.dtype)\n",
    "\n",
    "arr1 = np.arange(10)\n",
    "print(arr1)"
   ]
  },
  {
   "cell_type": "code",
   "execution_count": 61,
   "metadata": {},
   "outputs": [
    {
     "name": "stdout",
     "output_type": "stream",
     "text": [
      "0\n",
      "[0 1 2]\n",
      "[0 1 2]\n",
      "[3 4 5 6 7 8 9]\n",
      "[0 1 2 3 4 5 6]\n",
      "[0 1 2 3 4 5 6 7 8 9]\n"
     ]
    }
   ],
   "source": [
    "# 인덱싱\n",
    "print(arr1[0])\n",
    "print(arr1[0:3])\n",
    "print(arr1[:3])\n",
    "print(arr1[3:])\n",
    "print(arr1[:-3])\n",
    "print(arr1[:])"
   ]
  },
  {
   "cell_type": "code",
   "execution_count": 62,
   "metadata": {},
   "outputs": [
    {
     "name": "stdout",
     "output_type": "stream",
     "text": [
      "[[1 2 3]\n",
      " [4 5 6]\n",
      " [7 8 9]]\n",
      "--------------------------------------------------\n",
      "1\n",
      "2\n",
      "3\n",
      "4\n",
      "5\n",
      "6\n",
      "7\n",
      "8\n",
      "9\n",
      "--------------------------------------------------\n",
      "[[1 2 3]\n",
      " [4 5 6]\n",
      " [7 8 9]]\n",
      "[[7 8 9]]\n",
      "[7 8 9]\n",
      "--------------------------------------------------\n",
      "9\n",
      "[3 6 9]\n"
     ]
    }
   ],
   "source": [
    "# 2차원 인덱싱\n",
    "\n",
    "arr2 = np.array([[1,2,3],[4,5,6],[7,8,9]])\n",
    "print(arr2)\n",
    "print('-'*50)\n",
    "\n",
    "# 구조 : arr2(행,요소위치) \n",
    "print(arr2[0,0])\n",
    "print(arr2[0,1])\n",
    "print(arr2[0,2])\n",
    "print(arr2[1,0])\n",
    "print(arr2[1,1])\n",
    "print(arr2[1,2])\n",
    "print(arr2[2,0])\n",
    "print(arr2[2,1])\n",
    "print(arr2[2,2])\n",
    "print('-'*50)\n",
    "\n",
    "# 2행의 요소를 전부 꺼내기\n",
    "print(arr2[:])  #전체\n",
    "print(arr2[2:]) #3째행 (2차원으로 보면됨)\n",
    "print(arr2[2,:]) #3째행 (1차원으로 봐야함)\n",
    "\n",
    "print('-'*50)\n",
    "print(arr2[2,2])    # 2행의 3번째 요소 = 9\n",
    "print(arr2[:,2])   # 모든열의 3번째요소"
   ]
  },
  {
   "cell_type": "markdown",
   "metadata": {},
   "source": [
    "### Numpy의 함수\n",
    "\n",
    "\n",
    "* zeros(n)    : n개의 배열만큼 0으로 채움\n",
    "* ones(n)     : n개의 배열의 크기만큼 1로 채움 \n",
    "* arange(n)   : n개의 배열크기만큼1씩 증가하는 배열을 생성\n",
    "\n",
    "* random      : 0~1사이의 실수 한개를 난수로 리턴\n",
    "* sum\n",
    "* mean\n",
    "    (평균;통계관련함수)\n",
    "* sort\n",
    "* unique\n",
    "    (중복제거함수)"
   ]
  },
  {
   "cell_type": "code",
   "execution_count": 66,
   "metadata": {},
   "outputs": [
    {
     "name": "stdout",
     "output_type": "stream",
     "text": [
      "[0. 0.]\n",
      "[0. 0. 0. 0. 0. 0. 0. 0. 0. 0.]\n",
      "[[0. 0. 0. 0.]\n",
      " [0. 0. 0. 0.]\n",
      " [0. 0. 0. 0.]]\n"
     ]
    }
   ],
   "source": [
    "# 1) zeros()\n",
    "print(np.zeros(2))\n",
    "print(np.zeros(10))\n",
    "print(np.zeros((3,4)))"
   ]
  },
  {
   "cell_type": "code",
   "execution_count": 67,
   "metadata": {},
   "outputs": [
    {
     "name": "stdout",
     "output_type": "stream",
     "text": [
      "[1. 1.]\n",
      "[1. 1. 1. 1. 1. 1. 1. 1. 1. 1.]\n",
      "[[1. 1. 1. 1.]\n",
      " [1. 1. 1. 1.]\n",
      " [1. 1. 1. 1.]]\n"
     ]
    }
   ],
   "source": [
    "# 2) ones()\n",
    "print(np.ones(2))\n",
    "print(np.ones(10))\n",
    "print(np.ones((3,4)))"
   ]
  },
  {
   "cell_type": "code",
   "execution_count": 87,
   "metadata": {},
   "outputs": [
    {
     "name": "stdout",
     "output_type": "stream",
     "text": [
      "[10 12 14 16 18]\n"
     ]
    }
   ],
   "source": [
    "# 3) arange()\n",
    "\n",
    "print(np.arange(10,20,2,dtype='int32'))"
   ]
  },
  {
   "cell_type": "code",
   "execution_count": 88,
   "metadata": {},
   "outputs": [
    {
     "name": "stdout",
     "output_type": "stream",
     "text": [
      "[[0.35911784 0.44494519 0.13425205]\n",
      " [0.92195276 0.66616673 0.58454629]\n",
      " [0.74171239 0.39067159 0.29716318]\n",
      " [0.49428248 0.06162555 0.67687467]\n",
      " [0.95133834 0.95872768 0.64601527]]\n",
      "[[0.35911784 0.44494519 0.13425205]\n",
      " [0.92195276 0.66616673 0.58454629]\n",
      " [0.74171239 0.39067159 0.29716318]\n",
      " [0.49428248 0.06162555 0.67687467]\n",
      " [0.95133834 0.95872768 0.64601527]]\n"
     ]
    }
   ],
   "source": [
    "# 4)  random\n",
    "# np.random?\n",
    "\n",
    "arr1 = np.random.rand(5,3)\n",
    "print(arr1)\n",
    "print(abs(arr1))\n"
   ]
  },
  {
   "cell_type": "code",
   "execution_count": null,
   "metadata": {},
   "outputs": [],
   "source": [
    "# 5)\n"
   ]
  },
  {
   "cell_type": "code",
   "execution_count": 89,
   "metadata": {},
   "outputs": [
    {
     "name": "stdout",
     "output_type": "stream",
     "text": [
      "[[0.12896562 0.19797622 0.01802361]\n",
      " [0.8499969  0.44377811 0.34169437]\n",
      " [0.55013726 0.15262429 0.08830596]\n",
      " [0.24431517 0.00379771 0.45815932]\n",
      " [0.90504463 0.91915876 0.41733572]]\n"
     ]
    }
   ],
   "source": [
    "# 6) square(): 각요소의 제곱근을 계산\n",
    "print(np.square(arr1))"
   ]
  },
  {
   "cell_type": "code",
   "execution_count": 90,
   "metadata": {},
   "outputs": [
    {
     "name": "stdout",
     "output_type": "stream",
     "text": [
      "[[1.43206555 1.56040467 1.14368104]\n",
      " [2.51419523 1.94676053 1.79417677]\n",
      " [2.09952764 1.47797305 1.34603493]\n",
      " [1.63932156 1.06356402 1.96771835]\n",
      " [2.58917253 2.60837567 1.9079231 ]]\n"
     ]
    }
   ],
   "source": [
    "#6. exp() : 각요쇼의 무리수를 e지수로 계산\n",
    "print(np.exp(arr1))"
   ]
  },
  {
   "cell_type": "code",
   "execution_count": 91,
   "metadata": {},
   "outputs": [
    {
     "name": "stdout",
     "output_type": "stream",
     "text": [
      "[[-1.02410469 -0.80980417 -2.00803631]\n",
      " [-0.08126129 -0.4062153  -0.5369193 ]\n",
      " [-0.29879373 -0.939888   -1.21347385]\n",
      " [-0.70464811 -2.78667871 -0.39026915]\n",
      " [-0.04988551 -0.04214821 -0.43693214]]\n"
     ]
    }
   ],
   "source": [
    "# 8. log() : 각 요소를 자연로그,상용로그,밑이 2인 로그\n",
    "print(np.log(arr1))"
   ]
  },
  {
   "cell_type": "code",
   "execution_count": 92,
   "metadata": {},
   "outputs": [
    {
     "name": "stdout",
     "output_type": "stream",
     "text": [
      "[[-0.44476302 -0.35169348 -0.87207909]\n",
      " [-0.03529133 -0.17641706 -0.23318109]\n",
      " [-0.12976447 -0.40818817 -0.527005  ]\n",
      " [-0.30602479 -1.21023919 -0.16949174]\n",
      " [-0.021665   -0.01830473 -0.18975722]]\n"
     ]
    }
   ],
   "source": [
    "# 9. log10() : 상용로그\n",
    "print(np.log10(arr1))"
   ]
  },
  {
   "cell_type": "code",
   "execution_count": 93,
   "metadata": {},
   "outputs": [
    {
     "name": "stdout",
     "output_type": "stream",
     "text": [
      "[[-1.47747076 -1.16830046 -2.89698402]\n",
      " [-0.11723526 -0.5860448  -0.77461081]\n",
      " [-0.43106823 -1.35597175 -1.75067271]\n",
      " [-1.01659234 -4.02032755 -0.56303936]\n",
      " [-0.07196958 -0.06080701 -0.63035984]]\n"
     ]
    }
   ],
   "source": [
    "# 10. log2() : 밑이 2인 로그\n",
    "print(np.log2(arr1))"
   ]
  },
  {
   "cell_type": "code",
   "execution_count": 94,
   "metadata": {},
   "outputs": [
    {
     "data": {
      "text/plain": [
       "array([[1., 1., 1.],\n",
       "       [1., 1., 1.],\n",
       "       [1., 1., 1.],\n",
       "       [1., 1., 1.],\n",
       "       [1., 1., 1.]])"
      ]
     },
     "execution_count": 94,
     "metadata": {},
     "output_type": "execute_result"
    }
   ],
   "source": [
    "# 11. sign() : 각 요소의 값을 +인경우는 1, -인경우는 -1,0인경우는 0 \n",
    "\n",
    "np.sign(arr1)"
   ]
  },
  {
   "cell_type": "code",
   "execution_count": 96,
   "metadata": {},
   "outputs": [
    {
     "data": {
      "text/plain": [
       "array([[1., 1., 1.],\n",
       "       [1., 1., 1.],\n",
       "       [1., 1., 1.],\n",
       "       [1., 1., 1.],\n",
       "       [1., 1., 1.]])"
      ]
     },
     "execution_count": 96,
     "metadata": {},
     "output_type": "execute_result"
    }
   ],
   "source": [
    "# 12. ceil()  \n",
    "np.ceil(arr1)"
   ]
  },
  {
   "cell_type": "code",
   "execution_count": 97,
   "metadata": {},
   "outputs": [
    {
     "data": {
      "text/plain": [
       "array([[0., 0., 0.],\n",
       "       [0., 0., 0.],\n",
       "       [0., 0., 0.],\n",
       "       [0., 0., 0.],\n",
       "       [0., 0., 0.]])"
      ]
     },
     "execution_count": 97,
     "metadata": {},
     "output_type": "execute_result"
    }
   ],
   "source": [
    "# 13. floor()\n",
    "np.floor(arr1)"
   ]
  },
  {
   "cell_type": "code",
   "execution_count": 98,
   "metadata": {},
   "outputs": [
    {
     "data": {
      "text/plain": [
       "array([[False, False, False],\n",
       "       [False, False, False],\n",
       "       [False, False, False],\n",
       "       [False, False, False],\n",
       "       [False, False, False]])"
      ]
     },
     "execution_count": 98,
     "metadata": {},
     "output_type": "execute_result"
    }
   ],
   "source": [
    "# 14.isnan()\n",
    "np.isnan(arr1)"
   ]
  },
  {
   "cell_type": "code",
   "execution_count": 99,
   "metadata": {},
   "outputs": [
    {
     "data": {
      "text/plain": [
       "array([[False, False, False],\n",
       "       [False, False, False],\n",
       "       [False, False, False],\n",
       "       [False, False, False],\n",
       "       [False, False, False]])"
      ]
     },
     "execution_count": 99,
     "metadata": {},
     "output_type": "execute_result"
    }
   ],
   "source": [
    "# 15. isinf()\n",
    "np.isinf(arr1)"
   ]
  },
  {
   "cell_type": "code",
   "execution_count": 95,
   "metadata": {},
   "outputs": [],
   "source": [
    "# 16. cos(), sin(), tan(),cosh(), sinh(), tanh()   이런게 있다는것만 알아두숑~"
   ]
  },
  {
   "cell_type": "markdown",
   "metadata": {},
   "source": [
    "#### 2개의 array에 적용되는 함수"
   ]
  },
  {
   "cell_type": "code",
   "execution_count": 103,
   "metadata": {},
   "outputs": [
    {
     "name": "stdout",
     "output_type": "stream",
     "text": [
      "[[-1.82266597  2.31019922  0.00611218]\n",
      " [ 1.4933596  -0.86669771 -0.59263461]\n",
      " [ 1.15674568 -1.23667224 -1.36367517]\n",
      " [ 1.14106761  0.74416109  0.1930609 ]\n",
      " [-0.76546656  0.52202239  1.50444484]]\n",
      "\n",
      "[[ 1.25606806  0.52486277 -0.20162995]\n",
      " [-1.29744319 -2.16188579  1.08493649]\n",
      " [-1.19027055 -0.05293967  0.54722679]\n",
      " [-0.81704494 -0.31675319  0.86523849]\n",
      " [-1.52269442  1.10527265 -0.63215556]]\n"
     ]
    }
   ],
   "source": [
    "arr1 = np.random.randn(5,3)\n",
    "arr2 = np.random.randn(5,3)\n",
    "\n",
    "print(arr1)\n",
    "print()\n",
    "print(arr2)"
   ]
  },
  {
   "cell_type": "code",
   "execution_count": 101,
   "metadata": {},
   "outputs": [
    {
     "data": {
      "text/plain": [
       "array([[-0.90405338,  0.71185297,  1.57864468],\n",
       "       [-0.08222784, -0.24264332, -1.2597741 ],\n",
       "       [-3.59711225, -0.45912535, -3.8965301 ],\n",
       "       [-0.08112453, -0.95986277,  0.58840228],\n",
       "       [ 0.0165541 , -1.36295561,  2.71264999]])"
      ]
     },
     "execution_count": 101,
     "metadata": {},
     "output_type": "execute_result"
    }
   ],
   "source": [
    "# 2개의 array연산함수 (add, subtract, multiply,divide)\n",
    "np.multiply(arr1,arr2)\n",
    "np.add(arr1,arr2)"
   ]
  },
  {
   "cell_type": "code",
   "execution_count": 102,
   "metadata": {},
   "outputs": [
    {
     "data": {
      "text/plain": [
       "array([[-0.05580848,  0.79893391,  0.87570768],\n",
       "       [ 1.14814928, -0.05527914, -0.51523722],\n",
       "       [-1.54067405,  0.59479987, -1.55420337],\n",
       "       [ 0.29936818, -0.16672632,  1.56724766],\n",
       "       [ 0.64100394, -0.35105992,  1.63947315]])"
      ]
     },
     "execution_count": 102,
     "metadata": {},
     "output_type": "execute_result"
    }
   ],
   "source": [
    "# maximum, minimum\n",
    "np.maximum(arr1,arr2)               # arr1과 arr2둘중 비교하여 큰수만 가져온거"
   ]
  },
  {
   "cell_type": "markdown",
   "metadata": {},
   "source": [
    "### 통계함수"
   ]
  },
  {
   "cell_type": "markdown",
   "metadata": {},
   "source": [
    "* 통계함수를 통해서 넘파이 배열의 총합 또는 평균들을 구할 때 사용\n",
    "* 열의 합 또는 행의 합 등을 구할 수 있다. "
   ]
  },
  {
   "cell_type": "code",
   "execution_count": 106,
   "metadata": {},
   "outputs": [
    {
     "name": "stdout",
     "output_type": "stream",
     "text": [
      "2.423361240771727\n",
      "[ 0.49364543  0.03402727 -1.44360174  2.0782896   1.26100067]\n",
      "[ 1.20304035  1.47301274 -0.25269186]\n"
     ]
    }
   ],
   "source": [
    "# 합계:  arr1의 전체 합 구할라면 sum()함수 사용\n",
    "\n",
    "print(np.sum(arr1))  # arr1의 전체합! \n",
    "print(np.sum(arr1,axis=1))  # arr1의 다섯 행의 합\n",
    "print(np.sum(arr1,axis=0))  # arr1의 세 열의 합"
   ]
  },
  {
   "cell_type": "code",
   "execution_count": 107,
   "metadata": {},
   "outputs": [
    {
     "name": "stdout",
     "output_type": "stream",
     "text": [
      "0.16155741605144847\n",
      "[ 0.16454848  0.01134242 -0.48120058  0.6927632   0.42033356]\n",
      "[ 0.24060807  0.29460255 -0.05053837]\n"
     ]
    }
   ],
   "source": [
    "# 평균: mean()\n",
    "print(np.mean(arr1))  # arr1의 전체 평균! \n",
    "print(np.mean(arr1,axis=1))  # arr1의 다섯 행의 평균\n",
    "print(np.mean(arr1,axis=0))  # arr1의 세 열의 평균"
   ]
  },
  {
   "cell_type": "markdown",
   "metadata": {},
   "source": [
    "### 통계함수 : 표준편차(std), 분산(var),최소값(min),최대값(max)"
   ]
  },
  {
   "cell_type": "code",
   "execution_count": 108,
   "metadata": {},
   "outputs": [
    {
     "name": "stdout",
     "output_type": "stream",
     "text": [
      "1.192813863316883\n",
      "[1.69095046 1.05390032 1.15936287 0.38872483 0.92947294]\n",
      "[1.3029818  1.26569138 0.94854829]\n"
     ]
    }
   ],
   "source": [
    "#  표준편차(std)\n",
    "\n",
    "print(np.std(arr1))  # arr1의 전체 표준편차! \n",
    "print(np.std(arr1,axis=1))  # arr1의 다섯 행의 표준편차\n",
    "print(np.std(arr1,axis=0))  # arr1의 세 열의 표준편차"
   ]
  },
  {
   "cell_type": "code",
   "execution_count": 109,
   "metadata": {},
   "outputs": [
    {
     "name": "stdout",
     "output_type": "stream",
     "text": [
      "1.4228049125209477\n",
      "[2.85931347 1.11070589 1.34412226 0.15110699 0.86391994]\n",
      "[1.69776156 1.60197468 0.89974386]\n"
     ]
    }
   ],
   "source": [
    "# 분산(var)\n",
    "\n",
    "print(np.var(arr1))  # arr1의 전체 분산! \n",
    "print(np.var(arr1,axis=1))  # arr1의 다섯 행의 분산\n",
    "print(np.var(arr1,axis=0))  # arr1의 세 열의 분산"
   ]
  },
  {
   "cell_type": "code",
   "execution_count": 111,
   "metadata": {},
   "outputs": [
    {
     "name": "stdout",
     "output_type": "stream",
     "text": [
      "-1.8226659693503944\n",
      "[-1.82266597 -0.86669771 -1.36367517  0.1930609  -0.76546656]\n",
      "[-1.82266597 -1.23667224 -1.36367517]\n",
      "2.310199219485457\n",
      "[2.31019922 1.4933596  1.15674568 1.14106761 1.50444484]\n",
      "[1.4933596  2.31019922 1.50444484]\n"
     ]
    }
   ],
   "source": [
    "# 최소값(min),최대값(max)\n",
    "print(np.min(arr1))  # arr1의 전체 최소값! \n",
    "print(np.min(arr1,axis=1))  # arr1의 다섯 행의 최소값\n",
    "print(np.min(arr1,axis=0))  # arr1의 세 열의 최소값\n",
    "\n",
    "print(np.max(arr1))  # arr1의 전체 최대값! \n",
    "print(np.max(arr1,axis=1))  # arr1의 다섯 행의 최대값\n",
    "print(np.max(arr1,axis=0))  # arr1의 세 열의 최대값"
   ]
  },
  {
   "cell_type": "code",
   "execution_count": 113,
   "metadata": {},
   "outputs": [
    {
     "name": "stdout",
     "output_type": "stream",
     "text": [
      "0\n",
      "1\n"
     ]
    }
   ],
   "source": [
    "# 위치함수 : 최소값(argmin),최대값(argmax)이 위치한 인덱스를 리턴\n",
    "\n",
    "print(np.argmin(arr1))\n",
    "print(np.argmax(arr1))"
   ]
  },
  {
   "cell_type": "code",
   "execution_count": 115,
   "metadata": {},
   "outputs": [
    {
     "name": "stdout",
     "output_type": "stream",
     "text": [
      "[-1.82266597  0.48753325  0.49364543  1.98700504  1.12030732  0.52767271\n",
      "  1.68441838  0.44774614 -0.91592903  0.22513858  0.96929967  1.16236057\n",
      "  0.39689401  0.9189164   2.42336124]\n",
      "[-1.82266597e+00 -4.21072150e+00 -2.57367080e-02 -3.84341600e-02\n",
      "  3.33107986e-02 -1.97411323e-02 -2.28354694e-02  2.82399912e-02\n",
      " -3.85101748e-02 -4.39427131e-02 -3.27004574e-02 -6.31317978e-03\n",
      "  4.83252803e-03  2.52268783e-03  3.79524470e-03]\n"
     ]
    }
   ],
   "source": [
    "# 누적함수 : 각 성분의 누적합(cumsum),누적곱(cumprod)\n",
    "\n",
    "print(np.cumsum(arr1))\n",
    "print(np.cumprod(arr1))"
   ]
  },
  {
   "cell_type": "code",
   "execution_count": 137,
   "metadata": {},
   "outputs": [
    {
     "name": "stdout",
     "output_type": "stream",
     "text": [
      "[[-1.82266597  2.31019922  0.00611218]\n",
      " [ 1.4933596  -0.86669771 -0.59263461]\n",
      " [ 1.15674568 -1.23667224 -1.36367517]\n",
      " [ 1.14106761  0.74416109  0.1930609 ]\n",
      " [-0.76546656  0.52202239  1.50444484]]\n",
      "\n",
      "[0.1930609  0.74416109 1.14106761]\n",
      "\n",
      "[[-0.76546656  0.52202239  1.50444484]\n",
      " [ 0.1930609   0.74416109  1.14106761]\n",
      " [-1.36367517 -1.23667224  1.15674568]\n",
      " [-0.86669771 -0.59263461  1.4933596 ]\n",
      " [-1.82266597  0.00611218  2.31019922]]\n",
      "\n",
      "[[-1.82266597  0.00611218  2.31019922]\n",
      " [-0.86669771 -0.59263461  1.4933596 ]\n",
      " [-1.36367517 -1.23667224  1.15674568]\n",
      " [ 0.1930609   0.74416109  1.14106761]\n",
      " [-0.76546656  0.52202239  1.50444484]]\n"
     ]
    }
   ],
   "source": [
    "# 베열정렬\n",
    "print(arr1)\n",
    "#print(np.sort(arr1))\n",
    "print()\n",
    "print(np.sort(arr1)[-2])\n",
    "print()\n",
    "print(np.sort(arr1)[::-1])\n",
    "print()\n",
    "print(np.sort(arr1,axis = 1))\n"
   ]
  },
  {
   "cell_type": "code",
   "execution_count": 127,
   "metadata": {},
   "outputs": [
    {
     "name": "stdout",
     "output_type": "stream",
     "text": [
      "['도연' '주연' '혜진' '피카추' '파이리' '꼬부기' '도연']\n",
      "['꼬부기' '도연' '주연' '파이리' '피카추' '혜진']\n"
     ]
    }
   ],
   "source": [
    "# 중복제거 : unique()\n",
    "names = np.array(['도연','주연','혜진','피카추','파이리','꼬부기','도연'])\n",
    "print(names)\n",
    "print(np.unique(names))    # ----> 중복된건 빼줌 "
   ]
  },
  {
   "cell_type": "markdown",
   "metadata": {},
   "source": [
    "### 데이터분석실습 - 영화평점데이터\n",
    "\n",
    ">  http://grouplens.org/datasets/movielens\n",
    "\n",
    "1. 데이터다운로드\n",
    "2. 해체\n",
    "3. 업로드\n"
   ]
  },
  {
   "cell_type": "code",
   "execution_count": 130,
   "metadata": {},
   "outputs": [],
   "source": [
    "# 영화평점데이터 업로드 : 약 100만건\n",
    "# np.loadtxt?\n",
    "data =np.loadtxt('./data/movielens/ratings.dat',delimiter='::',dtype=np.int64)"
   ]
  },
  {
   "cell_type": "code",
   "execution_count": 139,
   "metadata": {},
   "outputs": [
    {
     "data": {
      "text/plain": [
       "array([[        1,      1193,         5, 978300760],\n",
       "       [        1,       661,         3, 978302109],\n",
       "       [        1,       914,         3, 978301968],\n",
       "       [        1,      3408,         4, 978300275],\n",
       "       [        1,      2355,         5, 978824291]], dtype=int64)"
      ]
     },
     "execution_count": 139,
     "metadata": {},
     "output_type": "execute_result"
    }
   ],
   "source": [
    "# 넘파이배열 [행범위, 열범위] : [2:,:3]\n",
    "# [start:end, start:end]\n",
    "# 첫 5행만 출력\n",
    "data[0:5,:]\n",
    "data[1000000:1000010, :3]   # --> 산출값 = 유저아이디 /영화 /평점 순서 \n",
    "data.shape\n",
    "data[0:5,:]"
   ]
  },
  {
   "cell_type": "code",
   "execution_count": 141,
   "metadata": {},
   "outputs": [
    {
     "data": {
      "text/plain": [
       "3.581564453029317"
      ]
     },
     "execution_count": 141,
     "metadata": {},
     "output_type": "execute_result"
    }
   ],
   "source": [
    "# 전체 평점의 평균\n",
    "data[:,2]\n",
    "\n",
    "mean_rating_total = data[:,2].mean()\n",
    "mean_rating_total "
   ]
  },
  {
   "cell_type": "code",
   "execution_count": 146,
   "metadata": {},
   "outputs": [
    {
     "name": "stdout",
     "output_type": "stream",
     "text": [
      "[   1    1    1 ... 6040 6040 6040]\n"
     ]
    },
    {
     "data": {
      "text/plain": [
       "(6040,)"
      ]
     },
     "execution_count": 146,
     "metadata": {},
     "output_type": "execute_result"
    }
   ],
   "source": [
    "# 사용자id만 추출 (중복제거)\n",
    "#user_ids =?? \n",
    "#user_ids # 건수\n",
    "\n",
    "print(data[:,0])\n",
    "\n",
    "user_ids = np.unique(data[:,0])\n",
    "user_ids.shape"
   ]
  },
  {
   "cell_type": "code",
   "execution_count": 169,
   "metadata": {},
   "outputs": [
    {
     "name": "stdout",
     "output_type": "stream",
     "text": [
      "[[1, 4.188679245283019], [2, 3.7131782945736433], [3, 3.9019607843137254], [4, 4.190476190476191], [5, 3.1464646464646466]]\n",
      "<class 'list'>\n"
     ]
    }
   ],
   "source": [
    "#  사용자별 평점의 평균값 구하기\n",
    "\n",
    "mean_values = []\n",
    "for user_id in user_ids:\n",
    "    #print(user_id,end=\",\")   전체유저아이디나옴\n",
    "    # 첫번째 첫번째열 = 사용자아이디\n",
    "    # user id 1인 행만 추출해서  저장\n",
    "    data_for_user = data[data[:,0] == user_id,:]     #  in[ ] 바로아래꺼 보기\n",
    "    #print(data_for_user)\n",
    "    #break\n",
    "    \n",
    "    #2. data_for_user을 평균\n",
    "    value =data_for_user[:,2].mean()\n",
    "    #print(value)\n",
    "    #break\n",
    "    \n",
    "    #3. 평균을 mean_values에 추가\n",
    "    mean_values.append([user_id, value])\n",
    "    #print(mean_values)\n",
    "    #break\n",
    "    \n",
    "print(mean_values[:5])  # 다섯행만출력\n",
    "print(type(mean_values))\n",
    "    "
   ]
  },
  {
   "cell_type": "code",
   "execution_count": 223,
   "metadata": {},
   "outputs": [
    {
     "data": {
      "text/plain": [
       "array([[        1,      1193,         5, 978300760],\n",
       "       [        1,       661,         3, 978302109],\n",
       "       [        1,       914,         3, 978301968],\n",
       "       [        1,      3408,         4, 978300275],\n",
       "       [        1,      2355,         5, 978824291],\n",
       "       [        1,      1197,         3, 978302268],\n",
       "       [        1,      1287,         5, 978302039],\n",
       "       [        1,      2804,         5, 978300719],\n",
       "       [        1,       594,         4, 978302268],\n",
       "       [        1,       919,         4, 978301368],\n",
       "       [        1,       595,         5, 978824268],\n",
       "       [        1,       938,         4, 978301752],\n",
       "       [        1,      2398,         4, 978302281],\n",
       "       [        1,      2918,         4, 978302124],\n",
       "       [        1,      1035,         5, 978301753],\n",
       "       [        1,      2791,         4, 978302188],\n",
       "       [        1,      2687,         3, 978824268],\n",
       "       [        1,      2018,         4, 978301777],\n",
       "       [        1,      3105,         5, 978301713],\n",
       "       [        1,      2797,         4, 978302039],\n",
       "       [        1,      2321,         3, 978302205],\n",
       "       [        1,       720,         3, 978300760],\n",
       "       [        1,      1270,         5, 978300055],\n",
       "       [        1,       527,         5, 978824195],\n",
       "       [        1,      2340,         3, 978300103],\n",
       "       [        1,        48,         5, 978824351],\n",
       "       [        1,      1097,         4, 978301953],\n",
       "       [        1,      1721,         4, 978300055],\n",
       "       [        1,      1545,         4, 978824139],\n",
       "       [        1,       745,         3, 978824268],\n",
       "       [        1,      2294,         4, 978824291],\n",
       "       [        1,      3186,         4, 978300019],\n",
       "       [        1,      1566,         4, 978824330],\n",
       "       [        1,       588,         4, 978824268],\n",
       "       [        1,      1907,         4, 978824330],\n",
       "       [        1,       783,         4, 978824291],\n",
       "       [        1,      1836,         5, 978300172],\n",
       "       [        1,      1022,         5, 978300055],\n",
       "       [        1,      2762,         4, 978302091],\n",
       "       [        1,       150,         5, 978301777],\n",
       "       [        1,         1,         5, 978824268],\n",
       "       [        1,      1961,         5, 978301590],\n",
       "       [        1,      1962,         4, 978301753],\n",
       "       [        1,      2692,         4, 978301570],\n",
       "       [        1,       260,         4, 978300760],\n",
       "       [        1,      1028,         5, 978301777],\n",
       "       [        1,      1029,         5, 978302205],\n",
       "       [        1,      1207,         4, 978300719],\n",
       "       [        1,      2028,         5, 978301619],\n",
       "       [        1,       531,         4, 978302149],\n",
       "       [        1,      3114,         4, 978302174],\n",
       "       [        1,       608,         4, 978301398],\n",
       "       [        1,      1246,         4, 978302091]], dtype=int64)"
      ]
     },
     "execution_count": 223,
     "metadata": {},
     "output_type": "execute_result"
    }
   ],
   "source": [
    " data[ data[:,0] == 1,:] \n",
    "             #0열(인덱싱은0부터 시작하니가..)\n",
    "    #숫자바까서 돌려보기"
   ]
  },
  {
   "cell_type": "code",
   "execution_count": 170,
   "metadata": {},
   "outputs": [
    {
     "data": {
      "text/plain": [
       "(6040, 2)"
      ]
     },
     "execution_count": 170,
     "metadata": {},
     "output_type": "execute_result"
    }
   ],
   "source": [
    "mean_array = np.array(mean_values, dtype=np.float32)\n",
    "mean_array[:5]\n",
    "mean_array.shape"
   ]
  },
  {
   "cell_type": "code",
   "execution_count": 171,
   "metadata": {},
   "outputs": [],
   "source": [
    "# 데이터 분석결과를 파일로저장하기\n",
    "#savetxt(파일이름)\n",
    "np.savetxt('./data/movielens/user_ratings_mean.csv',mean_array,fmt='%.1f', delimiter=',')\n",
    "#파일생성확인"
   ]
  },
  {
   "cell_type": "markdown",
   "metadata": {},
   "source": [
    "### 연습문제 \n",
    "\n",
    "* 영화별 평점을 구해서  'movie_ratings_mean.csv'로 저장\n",
    "* 영화id,영화명,평균평점\n",
    "\n",
    "* 주의사항\n",
    "- movies.dat\n",
    "- 3845::And God Created Woman (Et Dieu Cr la Femme) (1956)::Drama 로 수정\n",
    "\n",
    "- 파이썬 3.x에서 ansi파일(movies_chg.dat)로 저장"
   ]
  },
  {
   "cell_type": "code",
   "execution_count": 182,
   "metadata": {
    "scrolled": true
   },
   "outputs": [],
   "source": [
    "data_user = np.loadtxt('./data/movielens/ratings.dat', delimiter='::',dtype=np.int64)\n",
    "data_movie = np.loadtxt('./data/movielens/movies_chg.dat', delimiter='::',encoding='utf-8',dtype=np.str)\n",
    "        "
   ]
  },
  {
   "cell_type": "code",
   "execution_count": 183,
   "metadata": {},
   "outputs": [
    {
     "data": {
      "text/plain": [
       "array([['1', 'Toy Story (1995)', \"Animation|Children's|Comedy\"],\n",
       "       ['2', 'Jumanji (1995)', \"Adventure|Children's|Fantasy\"],\n",
       "       ['3', 'Grumpier Old Men (1995)', 'Comedy|Romance'],\n",
       "       ['4', 'Waiting to Exhale (1995)', 'Comedy|Drama'],\n",
       "       ['5', 'Father of the Bride Part II (1995)', 'Comedy']],\n",
       "      dtype='<U82')"
      ]
     },
     "execution_count": 183,
     "metadata": {},
     "output_type": "execute_result"
    }
   ],
   "source": [
    "data_user[:5]\n",
    "data_movie[:5]"
   ]
  },
  {
   "cell_type": "code",
   "execution_count": 216,
   "metadata": {},
   "outputs": [],
   "source": [
    "# 사용자가 1번인 id\n",
    "#data_user[:,1]\n",
    "\n",
    "#영화제목 조인\n",
    "#data[data[:,0] == user_id, :]\n",
    "#data_movie[:,0:2]\n",
    "\n",
    "#data_movie[data_movie[:,0]== str(1193),1]"
   ]
  },
  {
   "cell_type": "code",
   "execution_count": 221,
   "metadata": {},
   "outputs": [
    {
     "name": "stdout",
     "output_type": "stream",
     "text": [
      "[[1, 'Toy Story (1995)', 4.146846413095811], [2, 'Jumanji (1995)', 3.20114122681883], [3, 'Grumpier Old Men (1995)', 3.01673640167364], [4, 'Waiting to Exhale (1995)', 2.7294117647058824], [5, 'Father of the Bride Part II (1995)', 3.0067567567567566]]\n"
     ]
    }
   ],
   "source": [
    "# 영화평점의 평균구하기\n",
    "\n",
    "movie_ids = np.unique(data_user[:,1]) # data_user에서 영화 id중복을 제거  # data_user[:,1]모든행에 두번째라는뜻  \n",
    "mean_values = [] # 영화ID, 영화제목, 평점평균\n",
    "\n",
    "for movie_id in movie_ids:\n",
    "    \n",
    "    # 1.User에서 movie_id와 같은\n",
    "    data_for_movie = data_user[data_user[:,1] ==movie_id, : ]  # 모든행에 첫뻔째열이 무비아이디와 같다    \n",
    "    #print(data_for_movie)\n",
    "    #break\n",
    "    \n",
    "    # 2.영화별 평균구하기\n",
    "    value = data_for_movie[:,2].mean()\n",
    "    #print(value)\n",
    "    #break\n",
    "    \n",
    "    # 3.영화제목을 구하기\n",
    "    movie_name =data_movie[data_movie[:,0] == str(movie_id),1]\n",
    "    # print(movie_name)\n",
    "    # break\n",
    "    \n",
    "    # 4.평균을 mean_values([영화id,영화제목,평균])\n",
    "    mean_values.append([movie_id, movie_name[0].replace(\",\", \" \"), value])\n",
    "\n",
    "\n",
    "\n",
    "print(mean_values[:5])"
   ]
  },
  {
   "cell_type": "code",
   "execution_count": 222,
   "metadata": {},
   "outputs": [],
   "source": [
    "# 파일생성\n",
    "mean_array = np.array(mean_values, dtype=np.str)\n",
    "np.savetxt(\"./data/movielens/movie_ratings_mean.csv\", mean_array, fmt=\"%s\", delimiter=\",\")"
   ]
  },
  {
   "cell_type": "code",
   "execution_count": null,
   "metadata": {},
   "outputs": [],
   "source": []
  },
  {
   "cell_type": "code",
   "execution_count": null,
   "metadata": {},
   "outputs": [],
   "source": []
  },
  {
   "cell_type": "code",
   "execution_count": null,
   "metadata": {},
   "outputs": [],
   "source": []
  },
  {
   "cell_type": "code",
   "execution_count": null,
   "metadata": {},
   "outputs": [],
   "source": []
  },
  {
   "cell_type": "code",
   "execution_count": null,
   "metadata": {},
   "outputs": [],
   "source": []
  },
  {
   "cell_type": "code",
   "execution_count": null,
   "metadata": {},
   "outputs": [],
   "source": []
  }
 ],
 "metadata": {
  "kernelspec": {
   "display_name": "Python 3",
   "language": "python",
   "name": "python3"
  },
  "language_info": {
   "codemirror_mode": {
    "name": "ipython",
    "version": 3
   },
   "file_extension": ".py",
   "mimetype": "text/x-python",
   "name": "python",
   "nbconvert_exporter": "python",
   "pygments_lexer": "ipython3",
   "version": "3.7.4"
  }
 },
 "nbformat": 4,
 "nbformat_minor": 2
}
