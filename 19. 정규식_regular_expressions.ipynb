{
 "cells": [
  {
   "cell_type": "markdown",
   "metadata": {},
   "source": [
    "### 정규식(regular expression)?\n",
    "\n",
    "정규식은 복잡한 문자열을 처리할때 사용하는 파이썬만의 고유문법이 아니라 문자열처리하는 모든 곳에서 사용된다.\n",
    "\n",
    "정규식은 \" 정규표현식\"의 축약어이다. 정규식이 필요한 이유는 예를들어서 주민번호의 뒷자리를 블라인딩처리를 하기 위해 \"*\"문자로 변경할 경우에는 전체주민번호에서 뒤의 알곱자리를 추출해서 문자로 변경하는 경우, 또한 비밀번호 검증, 이메일유효성검사등을 프로그램작성없이 바로 정규식을 처리할 수가 있다. \n",
    "\n",
    "파이썬에서는 정규식을 처리하기 위해서는 내장된 모듈을 불러와서 사용해야한다. 파이썬에서는 정규식을 지원하는 모듈은 re 이다 ."
   ]
  },
  {
   "cell_type": "code",
   "execution_count": 1,
   "metadata": {
    "scrolled": true
   },
   "outputs": [
    {
     "name": "stdout",
     "output_type": "stream",
     "text": [
      "['A', 'ASCII', 'DEBUG', 'DOTALL', 'I', 'IGNORECASE', 'L', 'LOCALE', 'M', 'MULTILINE', 'Match', 'Pattern', 'RegexFlag', 'S', 'Scanner', 'T', 'TEMPLATE', 'U', 'UNICODE', 'VERBOSE', 'X', '_MAXCACHE', '__all__', '__builtins__', '__cached__', '__doc__', '__file__', '__loader__', '__name__', '__package__', '__spec__', '__version__', '_cache', '_compile', '_compile_repl', '_expand', '_locale', '_pickle', '_special_chars_map', '_subx', 'compile', 'copyreg', 'enum', 'error', 'escape', 'findall', 'finditer', 'fullmatch', 'functools', 'match', 'purge', 'search', 'split', 'sre_compile', 'sre_parse', 'sub', 'subn', 'template']\n"
     ]
    }
   ],
   "source": [
    "import re\n",
    "print(dir(re))"
   ]
  },
  {
   "cell_type": "code",
   "execution_count": 7,
   "metadata": {},
   "outputs": [
    {
     "name": "stdout",
     "output_type": "stream",
     "text": [
      "[]\n",
      "['short']\n",
      "['o', 'o', 'o']\n"
     ]
    }
   ],
   "source": [
    "# 1. findall(정규식패턴, 문자열)\n",
    "\n",
    "str = 'Life is too short'\n",
    "# re.findall?  -> Signature: re.findall(pattern, string, flags=0)   Return a list\n",
    "a =re.findall('a',str)\n",
    "print(a)\n",
    "\n",
    "b =re.findall('short',str)   # short 이런거 문자라고 안하고 패턴이라고말함\n",
    "print(b)\n",
    "\n",
    "c =re.findall('o',str)\n",
    "print(c)"
   ]
  },
  {
   "cell_type": "code",
   "execution_count": 17,
   "metadata": {},
   "outputs": [
    {
     "name": "stdout",
     "output_type": "stream",
     "text": [
      "[]\n",
      "['y', 'h', 'a', 'a', 'd', 'o', 'i', 'n', 'g', 'o', 'a', 'e', 'w', 'g']\n",
      "['y', 'ha', 'a', 'doing', 'o', 'a', 'e', 'w', 'g']\n",
      "['H', 'E', 'W', 'T', 'R', 'E', 'U', 'D', 'G', 'M', 'N', 'O']\n",
      "['HE', 'W', 'T', 'RE', 'U', 'D', 'G', 'M', 'NO']\n",
      "['2', '7', '6', '5', '4']\n",
      "['2', '7654']\n"
     ]
    }
   ],
   "source": [
    "# 특정문자열에서 소문자를 모두 찾기.\n",
    "str = \"HEy!2!! WhaT aRE U doing?! Do GaMe NOw? _7654g@##$% \"\n",
    "\n",
    "d = re.findall('abcdefghijklmnopqrstuvwxyz',str) #한문자열로 인식해서 검색,,, \n",
    "print(d)\n",
    "\n",
    "# 소문자를 한 '문자'단위 기준으로 검색\n",
    "e = re.findall('[a-z]',str)\n",
    "print(e)\n",
    "\n",
    "# 소문자를 한 '단어' 단위로 검색 \n",
    "f = re.findall('[a-z]+',str)\n",
    "print(f)\n",
    "\n",
    "\n",
    "# 대문자를 한 문자단의로 검색\n",
    "e1 = re.findall('[A-Z]',str)\n",
    "print(e1)\n",
    "\n",
    "# 대문자를 한 단어단위로 검색\n",
    "f1 = re.findall('[A-Z]+',str)\n",
    "print(f1)\n",
    "\n",
    "# 숫자만 한 문자단위로 검색\n",
    "g = re.findall('[0-9]',str)\n",
    "print(g)\n",
    "\n",
    "# 숫자만 한 단어단위로 검색\n",
    "g1 = re.findall('[0-9]+',str)\n",
    "print(g1)"
   ]
  },
  {
   "cell_type": "code",
   "execution_count": 25,
   "metadata": {},
   "outputs": [
    {
     "name": "stdout",
     "output_type": "stream",
     "text": [
      "['H', 'E', 'y', '2', 'W', 'h', 'a', 'T', 'a', 'R', 'E', 'U', 'd', 'o', 'i', 'n', 'g', 'D', 'o', 'G', 'a', 'M', 'e', 'N', 'O', 'w', '7', '6', '5', '4', 'g']\n",
      "['HEy', '2', 'WhaT', 'aRE', 'U', 'doing', 'Do', 'GaMe', 'NOw', '7654g']\n",
      "['!', '!! ', ' ', ' ', ' ', '?! ', ' ', ' ', '? _', '@##$% ']\n",
      "['H', 'E', 'y', '2', 'W', 'h', 'a', 'T', 'a', 'R', 'E', 'U', 'd', 'o', 'i', 'n', 'g', 'D', 'o', 'G', 'a', 'M', 'e', 'N', 'O', 'w', '_', '7', '6', '5', '4', 'g']\n",
      "['!', '!', '!', ' ', ' ', ' ', ' ', '?', '!', ' ', ' ', ' ', '?', ' ', '@', '#', '#', '$', '%', ' ']\n",
      "['H', 'E', 'y', '2', 'W', 'h', 'a', 'T', 'a', 'R', 'E', 'U', 'd', 'o', 'i', 'n', 'g', 'D', 'o', 'G', 'a', 'M', 'e', 'N', 'O', 'w', '_', '7', '6', '5', '4', 'g']\n"
     ]
    }
   ],
   "source": [
    "# 소문자,대문자,숫자를 문자단위로 추출 \n",
    "g = re.findall('[0-9a-zA-Z]',str)\n",
    "print(g)\n",
    "\n",
    "# 소문자,대문자,숫자를 단어단위로 추출 \n",
    "\n",
    "w = re.findall('[0-9a-zA-Z]+',str)\n",
    "print(w)\n",
    "\n",
    "# 특수문자만 추출 (즉, 숫자나 문자가 아닌 것만 추출 not(^)의미의 패턴문자 사용)\n",
    "\n",
    "x = re.findall('[^0-9a-zA-Z]+',str)\n",
    "print(x)\n",
    "\n",
    "# 문자, 숫자와 _만 추출 : \\w를 씀\n",
    "y = re.findall('[\\w]',str)\n",
    "print(y)\n",
    "\n",
    "# 영문자, 숫자와 _를 제외한 모든 것을 추출\n",
    "z = re.findall('[^\\w]',str)\n",
    "print(z)\n",
    "\n",
    "z1 = re.findall('[^\\W]',str)\n",
    "print(z1)"
   ]
  },
  {
   "cell_type": "code",
   "execution_count": 32,
   "metadata": {},
   "outputs": [
    {
     "name": "stdout",
     "output_type": "stream",
     "text": [
      "['', '    park 980507-3154777', '    kim  921007-2578910', '']\n"
     ]
    }
   ],
   "source": [
    "# 주민번호 뒷자리 7 자리를 *로 블라인딩처리 (정규식을 사용하지 않고 작성)\n",
    "data = '''\n",
    "    park 980507-3154777\n",
    "    kim  921007-2578910\n",
    "'''\n",
    "result=[]\n",
    "print(data.split(\"\\n\"))\n",
    "      "
   ]
  },
  {
   "cell_type": "code",
   "execution_count": null,
   "metadata": {},
   "outputs": [],
   "source": []
  },
  {
   "cell_type": "markdown",
   "metadata": {},
   "source": [
    "### 정규표현식\n",
    "\n",
    "1. 정규표현식의 기초(메타문자)\n",
    "2. \n"
   ]
  },
  {
   "cell_type": "code",
   "execution_count": null,
   "metadata": {},
   "outputs": [],
   "source": [
    "#2. ignorecase or I\n",
    "\n",
    "\n"
   ]
  },
  {
   "cell_type": "code",
   "execution_count": 38,
   "metadata": {},
   "outputs": [
    {
     "name": "stdout",
     "output_type": "stream",
     "text": [
      "1234%(5)의 길이는 6~12자리 이어야 합니다\n"
     ]
    },
    {
     "data": {
      "text/plain": [
       "False"
      ]
     },
     "execution_count": 38,
     "metadata": {},
     "output_type": "execute_result"
    }
   ],
   "source": [
    "import re\n",
    "def pwd_check(pwd):\n",
    "    \n",
    "    #비밀번호길이\n",
    "    if len(pwd) < 6 or len(pwd) > 12:\n",
    "        print('%s(%d)의 길이는 6~12자리 이어야 합니다' % (pwd, len(pwd)))\n",
    "        return False\n",
    "    \n",
    "    #숫자,문자 유무확인\n",
    "    #숫자와 소문자,대문자로 구성,특수문자는 불가\n",
    "    # findall()함수는 리스트로 리턴 첫번째 요소 인덱스가 0\n",
    "    if re.findall('[a-zA-Z0-9]+',pwd)[0]==pwd:\n",
    "        print(pwd,' : 비밀번호는 숫자와 영문자로 구성이 되어야 한다.')\n",
    "        return False\n",
    "\n",
    "pwd_check(\"1234%\")"
   ]
  },
  {
   "cell_type": "code",
   "execution_count": null,
   "metadata": {},
   "outputs": [],
   "source": []
  },
  {
   "cell_type": "code",
   "execution_count": null,
   "metadata": {},
   "outputs": [],
   "source": []
  },
  {
   "cell_type": "code",
   "execution_count": null,
   "metadata": {},
   "outputs": [],
   "source": []
  },
  {
   "cell_type": "code",
   "execution_count": null,
   "metadata": {},
   "outputs": [],
   "source": []
  },
  {
   "cell_type": "code",
   "execution_count": null,
   "metadata": {},
   "outputs": [],
   "source": []
  },
  {
   "cell_type": "code",
   "execution_count": null,
   "metadata": {},
   "outputs": [],
   "source": []
  }
 ],
 "metadata": {
  "kernelspec": {
   "display_name": "Python 3",
   "language": "python",
   "name": "python3"
  },
  "language_info": {
   "codemirror_mode": {
    "name": "ipython",
    "version": 3
   },
   "file_extension": ".py",
   "mimetype": "text/x-python",
   "name": "python",
   "nbconvert_exporter": "python",
   "pygments_lexer": "ipython3",
   "version": "3.7.4"
  }
 },
 "nbformat": 4,
 "nbformat_minor": 2
}
