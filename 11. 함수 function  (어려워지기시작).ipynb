{
 "cells": [
  {
   "cell_type": "markdown",
   "metadata": {},
   "source": [
    "### 함수\n",
    "\n",
    "함수란?\n",
    ">프로그램을 작성하다 보면 동일한 내용을 반복해서 작성하는 경우가 있는데 이런 반복적인 코드들을 함수로 선언하고\n",
    "필요할 때 마다 재 사용할 수 있도록 하기 위해 사용한다.\n",
    "\n",
    ">파이썬은 함수 (function)라는 기능을 제공하는 데 특정용도의 코드를 한 곳에 모아 놓은 것을 의미하는데 \n",
    "print() , input()등이 모두 파이썬에서 미리 만들어 놓은 함수이다. \n",
    "\n",
    "\n",
    "함수를 사용하면,\n",
    "1. 코드의 용도를 구분할 수 있다.\n",
    "2. 코드를 재사용 할 수 있다.\n",
    "3. 실수를 줄일 수 있다.\n",
    "\n",
    "\n",
    "### 함수의 선언 방법\n",
    "\n",
    "def함수명(arg1,...,afgN):\n",
    "   실행할 문장1\n",
    "   실행할 문장N\n",
    "   \n",
    "* def라는 키워드는 함수를 정의하는 예약어\n",
    "* 함수명은 임의로 부여한다.\n",
    "* 함수명() or 함수명(arg1,...,argN)\n",
    "* 매개변수와 인수 : 매개변수(parameter)와 인자 (인수,argument)는 혼용해서 사용 되는데 매개 변수는 함수에 입력으로 전달되는 값을 받는 변수이고 인수는 함수를 호출할 때 전달하는 입력값을 의미한다.\n",
    "\n",
    "\n",
    "#### 함수의 호출방법 및 전달방법\n",
    "\n",
    "\"함수명{}\" 형태로 호출한다.\n",
    "<img src=\"./images/11.함수_function_01.png\" width=\"500\" height=\"300\">\n",
    "<img src=\"./images/11.함수_function_02.png\" width=\"500\" height=\"300\">\n",
    "\n",
    "\n",
    "#### 함수는 반환 값이 있는 함수와 없는 함수가 있다. 반환 값이 있는 경우는 \n",
    "#### 반드시 값을 반환해주는 명령어인 return예약어를 사용해야 한다.\n"
   ]
  },
  {
   "cell_type": "code",
   "execution_count": 9,
   "metadata": {},
   "outputs": [
    {
     "name": "stdout",
     "output_type": "stream",
     "text": [
      "hello,Python!!\n",
      "<class 'function'>\n"
     ]
    }
   ],
   "source": [
    "# \"hello, Python\" 이라는 문자를 출력하는  함수를 작성\n",
    "\n",
    "def hello():\n",
    "    print(\"hello,Python!!\")\n",
    "    \n",
    "hello()\n",
    "\n",
    "print(type(hello))  # def로 위에서 했기때문에 타입이 함수로 나옴"
   ]
  },
  {
   "cell_type": "code",
   "execution_count": 8,
   "metadata": {},
   "outputs": [
    {
     "name": "stdout",
     "output_type": "stream",
     "text": [
      "hello\t \n",
      "hello,Python!!\n"
     ]
    }
   ],
   "source": [
    "# 함수호출 : 함수명()형태로 호출\n",
    "# %who\n",
    "# hello()    "
   ]
  },
  {
   "cell_type": "code",
   "execution_count": 14,
   "metadata": {},
   "outputs": [
    {
     "name": "stdout",
     "output_type": "stream",
     "text": [
      "10\n",
      "40\n"
     ]
    }
   ],
   "source": [
    "# 인자가 있는 함수 선언\n",
    "#더하기 함수\n",
    "\n",
    "def add(a, b):\n",
    "    print(a+ b)\n",
    "    \n",
    "add(3,7)\n",
    "\n",
    "def plus(x, y):\n",
    "    return x+y      \n",
    "\n",
    "plus(3,7)\n",
    "\n",
    "#리턴이 있는 함수는 결과값을 반환 받을수 있다.\n",
    "result = plus(10, 30)\n",
    "print(result)\n",
    "\n",
    "\n"
   ]
  },
  {
   "cell_type": "code",
   "execution_count": 16,
   "metadata": {},
   "outputs": [
    {
     "data": {
      "text/plain": [
       "'Hello?'"
      ]
     },
     "execution_count": 16,
     "metadata": {},
     "output_type": "execute_result"
    }
   ],
   "source": [
    "# 인자가 없는 함수\n",
    "\n",
    "def sayhello():\n",
    "    return 'Hello?'   \n",
    "\n",
    "sayhello()"
   ]
  },
  {
   "cell_type": "code",
   "execution_count": 19,
   "metadata": {},
   "outputs": [
    {
     "name": "stdout",
     "output_type": "stream",
     "text": [
      "3 + 7 = 10\n",
      "3 + 7 = 10\n",
      "None\n"
     ]
    }
   ],
   "source": [
    "#결과값(리턴)이 없는함수\n",
    "\n",
    "def sum(i,j):\n",
    "    print('%d + %d = %d' %(i,j,i+j))\n",
    "    \n",
    "sum(3,7)\n",
    "a = sum(3,7)\n",
    "print(a)       #  리턴값이 없어서  NONE 이 나오는거임"
   ]
  },
  {
   "cell_type": "code",
   "execution_count": 20,
   "metadata": {},
   "outputs": [
    {
     "name": "stdout",
     "output_type": "stream",
     "text": [
      "10\n"
     ]
    }
   ],
   "source": [
    "# 결과값(리턴)이 있는 함수 \n",
    "\n",
    "def sumreturn(i,j):\n",
    "    return i+j\n",
    "result = sumreturn(3,7)\n",
    "print(result)\n",
    "\n"
   ]
  },
  {
   "cell_type": "code",
   "execution_count": 25,
   "metadata": {},
   "outputs": [
    {
     "name": "stdout",
     "output_type": "stream",
     "text": [
      "10\n",
      "10\n",
      "10\n"
     ]
    }
   ],
   "source": [
    "# 함수를 사용하는 장점\n",
    "# 매개변수의 순서와 상관없이 자유롭게 호출 가능하다.\n",
    "\n",
    "print(sumreturn(3,7))\n",
    "print(sumreturn(i=3,j=7))\n",
    "print(sumreturn(j=7,i=3))\n",
    "# print(sumreturn(x=3,y=7))   -> 매개 변수이름이 틀리면 에러가 나요~\n",
    "\n"
   ]
  },
  {
   "cell_type": "markdown",
   "metadata": {},
   "source": [
    "### 여러개의 값을 변환하는 방법\n",
    "\n",
    "<img src=\"./images/11.함수_function_03.png\" width=\"500\" height=\"300\">   \n"
   ]
  },
  {
   "cell_type": "code",
   "execution_count": 30,
   "metadata": {},
   "outputs": [
    {
     "name": "stdout",
     "output_type": "stream",
     "text": [
      "(30, -10, 200, 0.5)\n",
      "<class 'tuple'>\n",
      "30 -10 200 0.5\n"
     ]
    }
   ],
   "source": [
    "# 함수에서 여러개의 값을 반환하기\n",
    "\n",
    "def multireturn(a, b):\n",
    "    return a+b, a-b, a*b, a/b\n",
    "\n",
    "print(multireturn(10,20))\n",
    "print(type(multireturn(10,20)))   # 타입이 튜플인걸 알수있져어~\n",
    "\n",
    "\n",
    "x, y, z, a = multireturn(10,20)\n",
    "print(x,y,z,a)                   # 괄호가 벗겨짐 \n",
    "     \n",
    "# x,y,z = multireturn(10,20)    Error 발생! 리턴개수와 리턴받는 변수의 개수는 동일 개수여야한당\n",
    "\n"
   ]
  },
  {
   "cell_type": "markdown",
   "metadata": {},
   "source": [
    "### 입력되는 매개 변수가 몇개인지 모를 경우 \n",
    "\n",
    "def 함수명(*args):\n",
    "    실행문장...\n",
    "    \n",
    "def 함수명(**kwargs):\n",
    "    실행문장...    "
   ]
  },
  {
   "cell_type": "code",
   "execution_count": 36,
   "metadata": {},
   "outputs": [
    {
     "name": "stdout",
     "output_type": "stream",
     "text": [
      "<class 'tuple'>\n",
      "10\n",
      "55\n",
      "<class 'tuple'>\n",
      "6\n",
      "21\n"
     ]
    }
   ],
   "source": [
    "# args : 입력되는 값(인자,파라메타)이 여러개일 경우 정의하는 매개변수이다.\n",
    "\n",
    "def manySum(*args):\n",
    "    print(type(args))\n",
    "    print(len(args))     \n",
    "    sum = 0\n",
    "    for i in args:\n",
    "        sum += i\n",
    "        \n",
    "    return sum\n",
    "\n",
    "print(manySum(1,2,3,4,5,6,7,8,9,10))\n",
    "print(manySum(1,2,3,4,5,6))"
   ]
  },
  {
   "cell_type": "code",
   "execution_count": 42,
   "metadata": {},
   "outputs": [
    {
     "name": "stdout",
     "output_type": "stream",
     "text": [
      "0\n",
      "0\n",
      "0\n",
      "0\n"
     ]
    }
   ],
   "source": [
    "# 유동적으로 실행하는 계산기 : 사칙연산을 실행하는 계산기\n",
    "\n",
    "def calculator(operator,*args):\n",
    "    result = 0                          # result가 0이라서 산출값도 전부 0인거 \n",
    "    if operator == '+' : pass\n",
    "    if operator == '-' : pass\n",
    "    if operator == '*' : pass\n",
    "    if operator == '/' : pass\n",
    "    return result\n",
    "\n",
    "    #print(\"아무렇게나써봐도 리턴되서 실행이안됨\")\n",
    "print(calculator('+', 1,2,3,4,5))\n",
    "print(calculator('-', 1,2,3,4))\n",
    "print(calculator('*', 1,2,3))\n",
    "print(calculator('/', 1,2))"
   ]
  },
  {
   "cell_type": "code",
   "execution_count": 60,
   "metadata": {},
   "outputs": [
    {
     "name": "stdout",
     "output_type": "stream",
     "text": [
      "15\n",
      "-10\n",
      "6\n",
      "0.02\n"
     ]
    }
   ],
   "source": [
    "def calculator(operator,*args):\n",
    "    result = 0\n",
    "    if operator == '+' :\n",
    "        for i in args:\n",
    "            result += i\n",
    "    \n",
    "    if operator == '-' : \n",
    "        for i in args:\n",
    "            result -= i \n",
    "            \n",
    "    if operator == '*' : \n",
    "        result = 1\n",
    "        for i in args:\n",
    "            result *= i \n",
    "            \n",
    "    if operator == '/' :\n",
    "        result = 1\n",
    "        for i in args:\n",
    "            result /= i \n",
    "            \n",
    "    return result\n",
    "\n",
    "    #print(\"아무렇게나써봐도 리턴되서 실행이안됨\")\n",
    "print(calculator('+', 1,2,3,4,5))\n",
    "print(calculator('-', 1,2,3,4))\n",
    "print(calculator('*', 1,2,3))\n",
    "print(calculator('/', 5,10))"
   ]
  },
  {
   "cell_type": "code",
   "execution_count": 44,
   "metadata": {},
   "outputs": [
    {
     "data": {
      "text/plain": [
       "-6464"
      ]
     },
     "execution_count": 44,
     "metadata": {},
     "output_type": "execute_result"
    }
   ],
   "source": [
    "calculator('-',2626,3838)   #만들어둔함수 언제든 다시부를수있다.. "
   ]
  },
  {
   "cell_type": "code",
   "execution_count": 46,
   "metadata": {},
   "outputs": [
    {
     "name": "stdout",
     "output_type": "stream",
     "text": [
      "{'a': 1}\n",
      "<class 'dict'>\n",
      "{'name': '홍길동', 'age': 1, 'adress': '상주'}\n",
      "<class 'dict'>\n"
     ]
    }
   ],
   "source": [
    "# 키워드 파라키터 kwargs\n",
    "# kwargs는 keyword arguments의 약어이다. **kwargs는 *args와는 다르게 \n",
    "# 별표 (*)가 두개 사용돤디.\n",
    "# 함수인수로서 **kwargs가 key=value형태로 주어졌을때 입력값 전체가 \n",
    "# 딕셔너리형태로 반환된다.\n",
    "\n",
    "def func(**kwargs):\n",
    "    print(kwargs)\n",
    "   # print(type(kwargs))\n",
    "    \n",
    "func(a=1)\n",
    "func(name ='홍길동',age=1,adress='상주')\n",
    "#func(1)  ->Error 발생 즉, **kwargs 는 key =value가 한쌍으로 전달되어야 한다.\n"
   ]
  },
  {
   "cell_type": "code",
   "execution_count": 51,
   "metadata": {},
   "outputs": [
    {
     "name": "stdout",
     "output_type": "stream",
     "text": [
      "(2, 3, 4, 5) {'name': '홍길동', 'age': 1, 'adress': '상주'}\n"
     ]
    }
   ],
   "source": [
    "def func1(*args,**kwargs):\n",
    "    print(args, kwargs)\n",
    "    \n",
    "func1(2,3,4,5,name ='홍길동',age=1,adress='상주')\n",
    "# func1(2,3,4,name ='홍길동',age=1,adress='상주',7,8,9)  # ERROR !  7,8,9  추가되는부분때문에 에러걸림  \n",
    "                                                                  # 즉,순서가 일치해야한다 앞엔 arg,뒤엔 kwargs여야햄"
   ]
  },
  {
   "cell_type": "code",
   "execution_count": 53,
   "metadata": {},
   "outputs": [
    {
     "name": "stdout",
     "output_type": "stream",
     "text": [
      "이름= 도연\n",
      "나이= 29\n",
      "주소= 서울\n",
      "이름= 28\n",
      "나이= 서울\n",
      "주소= 도연\n",
      "이름= 소향\n",
      "나이= 40\n",
      "주소= 인천\n"
     ]
    }
   ],
   "source": [
    "# 개인정보를 출력하는 함수 예제 \n",
    "\n",
    "def personal_info(name, age , addr):\n",
    "    print('이름=',name)\n",
    "    print('나이=',age)\n",
    "    print('주소=',addr)\n",
    "    \n",
    "personal_info('도연', 29, '서울')\n",
    "personal_info(28,'서울','도연')  # 에러는 아니지만 자료 정보 불일치 발생\n",
    "personal_info(age=40,addr='인천',name=\"소향\")\n",
    "# personal_info(age=40,address='인천',name=\"소향\")    -> address 때문에 에러 발생 "
   ]
  },
  {
   "cell_type": "markdown",
   "metadata": {},
   "source": [
    "### 딕셔너리 언패킹 \n",
    "\n",
    "<img src=\"./images/11.함수_function_04.png\" width=\"500\" height=\"300\">   "
   ]
  },
  {
   "cell_type": "code",
   "execution_count": 54,
   "metadata": {},
   "outputs": [
    {
     "name": "stdout",
     "output_type": "stream",
     "text": [
      "이름= Doyoni\n",
      "나이= 25\n",
      "주소= Seoul\n",
      "이름= name\n",
      "나이= age\n",
      "주소= addr\n"
     ]
    }
   ],
   "source": [
    "x = {'name':'Doyoni','age':25 ,'addr':'Seoul' }   # key:value\n",
    "personal_info(**x)\n",
    "# personal_info( name='Doyoni',age=25 ,addr='Seoul' )과 동일하다! \n",
    "#또는  personal_info( 'Doyoni',25 ,'Seoul' )과 동일하다! \n",
    "\n",
    "personal_info(*x)   \n",
    "\n",
    "# 딕셔너리 언패킹\n",
    "# **를 두번사용하는 이유는 딕셔너리처럼 key와 value로 한쌍으로 저장되어 있기 때문이고\n",
    "# 처음 * 는 Key를 ,두번째 *는 value를 가져오노라는 의미이다.\n",
    "# *가 하나만 있을 경우에는 key를 가져오라는 의미이다.\n",
    "\n"
   ]
  },
  {
   "cell_type": "code",
   "execution_count": 58,
   "metadata": {},
   "outputs": [
    {
     "name": "stdout",
     "output_type": "stream",
     "text": [
      "(5, 6)\n",
      "7\n"
     ]
    }
   ],
   "source": [
    "# 함수의 반환값은 하나이다.  \n",
    "\n",
    "def sum_and_mul(a,b):\n",
    "    return a+b, a*b\n",
    "\n",
    "result = sum_and_mul(2,3)   #  한개의 값  즉, 한개의 튜플로 리턴된다   ... 이렇게 = > (~,~,~,) \n",
    "print(result)\n",
    "\n",
    "\n",
    "def sum_and_minus(a,b):\n",
    "    return a+b             # 실행을 중단하라는 의미도 있다.\n",
    "    return a-b             # 에러는 안나지만 실행은 되지않는다.  리턴은 함수당 1개라서 두번째껀 에러인거여 \n",
    "\n",
    "print(sum_and_minus(3,4))"
   ]
  },
  {
   "cell_type": "code",
   "execution_count": 65,
   "metadata": {},
   "outputs": [
    {
     "name": "stdout",
     "output_type": "stream",
     "text": [
      "내이름은 공주 입니다. 나이는  27살 입니다.\n",
      "나는 여자입니다!\n",
      "내이름은 흥선대원군 입니다. 나이는  100살 입니다.\n",
      " 숫놈 입니다!!\n"
     ]
    }
   ],
   "source": [
    "# 매개변수에서 초기값을 사전에 설정하기\n",
    "\n",
    "def selfintro(name,age,gender=False):\n",
    "    print(\"내이름은 %s 입니다. 나이는  %d살 입니다.\" % (name,age))\n",
    "    if gender:\n",
    "        print(' 숫놈 입니다!!')\n",
    "    else:\n",
    "        print('나는 여자입니다!')\n",
    "    \n",
    "    \n",
    "selfintro('공주',27)\n",
    "selfintro('흥선대원군',100,True)"
   ]
  },
  {
   "cell_type": "code",
   "execution_count": 66,
   "metadata": {},
   "outputs": [
    {
     "ename": "SyntaxError",
     "evalue": "non-default argument follows default argument (<ipython-input-66-69fec9be01f8>, line 5)",
     "output_type": "error",
     "traceback": [
      "\u001b[1;36m  File \u001b[1;32m\"<ipython-input-66-69fec9be01f8>\"\u001b[1;36m, line \u001b[1;32m5\u001b[0m\n\u001b[1;33m    def selfintro(name,gender=False,age):\u001b[0m\n\u001b[1;37m                 ^\u001b[0m\n\u001b[1;31mSyntaxError\u001b[0m\u001b[1;31m:\u001b[0m non-default argument follows default argument\n"
     ]
    }
   ],
   "source": [
    "# 매개변수 초기값을 설정할때 주의사항\n",
    "# 초기화 시킬 매개변수는 항상 맨뒤에 위치시켜야한다. \n",
    "\n",
    "\n",
    "def selfintro(name,gender=False,age):\n",
    "    print(\"내이름은 %s 입니다. 나이는  %d살 입니다.\" % (name,age))\n",
    "    if gender:\n",
    "        print(' 숫놈 입니다!!')\n",
    "    else:\n",
    "        print('나는 여자입니다!')\n",
    "    \n",
    "    \n",
    "selfintro('공주',27)\n",
    "selfintro('흥선대원군',100,True)\n",
    "selfintro('공주',False, 27)  \n",
    "\n",
    "# Error 가납니다 . 디폴트 아규먼트는 맨뒤로 가야합니다..... "
   ]
  },
  {
   "cell_type": "markdown",
   "metadata": {},
   "source": [
    "### lambda함수\n",
    "\n",
    "lambda 함수는 함수를 생성할 때 사용하는 예약어로 def와 동일하지만 def를 생성 한 함수는\n",
    "임의의 이름을 가져야 하지만 lambda로 생성되는 함수는 이름이 없다.\n",
    "이름이 없기 때문에 익명함수라고도 한다.\n",
    "\n",
    "lambda함수를 사용하는 가장 큰 이유는 수행할 명령이 하나만 있는 함수와 같이  def로 생성할 정도로\n",
    "복잡하지 않거나 def를 사용할 수 없는 곳에서 사용한다.\n",
    "\n",
    "\n",
    "#### lambda의 사용법\n",
    "* lambda 매개변수1, 매개변수n : 매개변수를 애용한 실행문"
   ]
  },
  {
   "cell_type": "code",
   "execution_count": 108,
   "metadata": {},
   "outputs": [
    {
     "name": "stdout",
     "output_type": "stream",
     "text": [
      "2\n",
      "<function <lambda> at 0x000001B21535E288>\n",
      "3\n",
      "5\n"
     ]
    }
   ],
   "source": [
    "def plus(a,b):\n",
    "    return a+b\n",
    "print(plus(1,1))\n",
    "\n",
    "\n",
    "# 위에껄 람다(lambda)식으로 표현해보자~\n",
    "\n",
    "sumLambda = lambda a,b:a+b\n",
    "print(sumLambda)\n",
    "print(plus(1,2))\n",
    "print(sumLambda(1,4))"
   ]
  },
  {
   "cell_type": "code",
   "execution_count": 119,
   "metadata": {},
   "outputs": [
    {
     "name": "stdout",
     "output_type": "stream",
     "text": [
      "<class 'list'>\n",
      "<class 'function'>\n",
      "3\n",
      "None\n",
      "<class 'list'>\n",
      "<class 'function'>\n",
      "5\n",
      "6\n"
     ]
    }
   ],
   "source": [
    "# lambda식이 나오게 된 가장 큰 이유는 def보다 간결하게 사용할 수 있기 때문이다.\n",
    "# 또한 def가 사용할수 없는 곳에도 사용할 수 있다.\n",
    "\n",
    "# myList = [def sum(x,y):return x+y,def mul(x,y): x*y]\n",
    "# 위 에꺼는 에러가 발생하기 때문에 아랴와 같이 정의 할 수있다.\n",
    "\n",
    "def sum(x,y):return x+y\n",
    "def mul(x,y): x*y\n",
    "myList = [sum, mul]\n",
    "print(type(myList))\n",
    "print(type(myList[0]))\n",
    "print(myList[0](1,2))    #리턴이 있음 \n",
    "print(myList[1](3,2))   #리턴이 없음\n",
    "\n",
    "\n",
    "# lamda 로 list정의 \n",
    "\n",
    "myList = [lambda a,b:a+b,lambda a,b:a*b]\n",
    "print(type(myList))\n",
    "print(type(myList[0]))\n",
    "print(myList[0](3,2)) \n",
    "print(myList[1](3,2)) "
   ]
  },
  {
   "cell_type": "markdown",
   "metadata": {},
   "source": [
    "### 연습문제 "
   ]
  },
  {
   "cell_type": "code",
   "execution_count": 122,
   "metadata": {},
   "outputs": [
    {
     "name": "stdout",
     "output_type": "stream",
     "text": [
      "짝수입니다\n",
      "홀수입니다\n"
     ]
    }
   ],
   "source": [
    "# 1. 홀수,짝수를 구별하는 is_odd()함수를 작성\n",
    "# 주어진 숫자가 홀수인지 작수인지를 구별해서  '짝수입니다' 혹은 '홀수입니다.'를 출력하세요.\n",
    "#is_odd(number)\n",
    "\n",
    "def is_odd(number):\n",
    "    if number % 2 ==0 :   #(num % 2= 0 이면 짝수)\n",
    "        return \"짝수입니다\"\n",
    "    else:\n",
    "        return \"홀수입니다\"\n",
    "   \n",
    "\n",
    "result= is_odd(2)\n",
    "print(result)        \n",
    "\n",
    "print(is_odd(7))    \n"
   ]
  },
  {
   "cell_type": "code",
   "execution_count": 124,
   "metadata": {},
   "outputs": [
    {
     "name": "stdout",
     "output_type": "stream",
     "text": [
      "짝수입니다\n",
      "홀수입니다.\n"
     ]
    }
   ],
   "source": [
    "# 1.문제를 lambda 식으로 풀어보자   (함수를 보다 간단하게 쓸수있는 람다~)\n",
    "\n",
    "isoddLambda = lambda x : \"짝수입니다\" if x%2==0 else \"홀수입니다.\"\n",
    "print(isoddLambda(2))\n",
    "print(isoddLambda(3))"
   ]
  },
  {
   "cell_type": "code",
   "execution_count": 128,
   "metadata": {},
   "outputs": [
    {
     "name": "stdout",
     "output_type": "stream",
     "text": [
      "6.0\n",
      "1.5\n",
      "4.0\n"
     ]
    }
   ],
   "source": [
    "# 2.입력된 모든 수의 평균을 계산하는 funcAvg()함수를 작성\n",
    "# 단, 입력매개변수의 갯수는 정해져 있지 않다.\n",
    "# funcAvg()\n",
    "\n",
    "def funcAvg(*args):\n",
    "    sum = 0\n",
    "    for i in args:\n",
    "        sum += i\n",
    "        \n",
    "    return sum / len(args)\n",
    "\n",
    "print(funcAvg(1,2,3,4,5,6,7,8,9,10,11))\n",
    "\n",
    " # ===============쌤 풀이 =================\n",
    "\n",
    "def funcAvg(*a):\n",
    "    result = 0\n",
    "    for i in a:\n",
    "        result += i\n",
    "    return result / len(a)\n",
    "\n",
    "print(funcAvg(1,2))\n",
    "print(funcAvg(1,2,6,7))\n",
    "\n",
    "# 나머진 선생님꺼 복사해서 보기 .. "
   ]
  },
  {
   "cell_type": "code",
   "execution_count": 131,
   "metadata": {},
   "outputs": [
    {
     "name": "stdout",
     "output_type": "stream",
     "text": [
      "8 * 1 =  8\n",
      "8 * 2 = 16\n",
      "8 * 3 = 24\n",
      "8 * 4 = 32\n",
      "8 * 5 = 40\n",
      "8 * 6 = 48\n",
      "8 * 7 = 56\n",
      "8 * 8 = 64\n",
      "8 * 9 = 72\n"
     ]
    }
   ],
   "source": [
    "# 3.구구단을 출력하는 함수 gugudan() 함수를 작성\n",
    "# 입력값은 2~9단까지 한개의 임의의 단을 작성\n",
    "# gugudan(9)\n",
    "\n",
    "def gugudan(x):\n",
    "    for i in range(1,10):\n",
    "        print(('%d * %d = %2d')% (x,i, x*i))\n",
    "\n",
    "gugudan(8)"
   ]
  },
  {
   "cell_type": "code",
   "execution_count": 99,
   "metadata": {},
   "outputs": [
    {
     "name": "stdout",
     "output_type": "stream",
     "text": [
      "6\n"
     ]
    }
   ],
   "source": [
    "# 4.리스트 [2,3,4,5,6,7,8]에서 5보다 큰수만 리턴하는 funcReturn()함수작성\n",
    "\n",
    "l1=[2,3,4,5,6,7,8]\n",
    "\n",
    "def funcReturn(list):\n",
    "    for i in list :\n",
    "        if i > 5:\n",
    "            return i   \n",
    "          \n",
    "          \n",
    "print(funcReturn(l1))"
   ]
  },
  {
   "cell_type": "code",
   "execution_count": 154,
   "metadata": {},
   "outputs": [
    {
     "name": "stdout",
     "output_type": "stream",
     "text": [
      "[6, 7, 8, 9]\n"
     ]
    }
   ],
   "source": [
    "#=========선생님 풀이=========\n",
    "l=[]\n",
    "def funcReturn(numbers):\n",
    "    for num in numbers:\n",
    "        if num > 5 :l.append(num)\n",
    "    return l\n",
    "print(funcReturn([1,2,3,4,5,6,7,8,9]))"
   ]
  },
  {
   "cell_type": "code",
   "execution_count": 138,
   "metadata": {},
   "outputs": [
    {
     "name": "stdout",
     "output_type": "stream",
     "text": [
      "[6, 7, 8, 9]\n",
      "[6, 7, 8]\n"
     ]
    }
   ],
   "source": [
    "# lambda식을 작성하기 \n",
    "\n",
    "funcReturnLambda = lambda numbers:[ number for number in numbers if number> 5] \n",
    "print(funcReturnLambda([1,2,3,4,5,6,7,8]))"
   ]
  },
  {
   "cell_type": "markdown",
   "metadata": {},
   "source": [
    "###  Closer(클로저)\n",
    "\n",
    "<img src=\"./images/11.함수_function_05.png\" width=\"500\" height=\"300\">  \n",
    "<img src=\"./images/11.함수_function_06.png\" width=\"500\" height=\"300\">   "
   ]
  },
  {
   "cell_type": "code",
   "execution_count": 143,
   "metadata": {},
   "outputs": [
    {
     "name": "stdout",
     "output_type": "stream",
     "text": [
      "100\n",
      "100\n",
      "1000\n"
     ]
    },
    {
     "ename": "NameError",
     "evalue": "name 'y' is not defined",
     "output_type": "error",
     "traceback": [
      "\u001b[1;31m---------------------------------------------------------------------------\u001b[0m",
      "\u001b[1;31mNameError\u001b[0m                                 Traceback (most recent call last)",
      "\u001b[1;32m<ipython-input-143-4f31ddcf31e6>\u001b[0m in \u001b[0;36m<module>\u001b[1;34m\u001b[0m\n\u001b[0;32m     15\u001b[0m     \u001b[0mprint\u001b[0m\u001b[1;33m(\u001b[0m\u001b[0my\u001b[0m\u001b[1;33m)\u001b[0m\u001b[1;33m\u001b[0m\u001b[1;33m\u001b[0m\u001b[0m\n\u001b[0;32m     16\u001b[0m \u001b[0mfoo1\u001b[0m\u001b[1;33m(\u001b[0m\u001b[1;33m)\u001b[0m\u001b[1;33m\u001b[0m\u001b[1;33m\u001b[0m\u001b[0m\n\u001b[1;32m---> 17\u001b[1;33m \u001b[0mprint\u001b[0m\u001b[1;33m(\u001b[0m\u001b[0my\u001b[0m\u001b[1;33m)\u001b[0m\u001b[1;33m\u001b[0m\u001b[1;33m\u001b[0m\u001b[0m\n\u001b[0m",
      "\u001b[1;31mNameError\u001b[0m: name 'y' is not defined"
     ]
    }
   ],
   "source": [
    "# 1. 변수의 사용범위\n",
    "\n",
    "# 1) 전역변수 (global variable)\n",
    "x=100\n",
    "def foo():\n",
    "    print(x)\n",
    "\n",
    "foo()\n",
    "print(x)\n",
    "\n",
    "\n",
    "# 2) 지역변수 (local variable)\n",
    "def foo1():\n",
    "    y=1000\n",
    "    print(y)\n",
    "foo1()\n",
    "#  print(y)       y가 지역변수이기 때문에 외부에서 접근 불가 / 함수안에서만 y사용된거\n"
   ]
  },
  {
   "cell_type": "code",
   "execution_count": 142,
   "metadata": {},
   "outputs": [
    {
     "name": "stdout",
     "output_type": "stream",
     "text": [
      "Once deleted, variables cannot be recovered. Proceed (y/[n])? y\n"
     ]
    }
   ],
   "source": [
    "%reset"
   ]
  },
  {
   "cell_type": "code",
   "execution_count": 148,
   "metadata": {},
   "outputs": [
    {
     "name": "stdout",
     "output_type": "stream",
     "text": [
      "20\n",
      "10\n",
      "20\n",
      "20\n",
      "30\n",
      "30\n"
     ]
    }
   ],
   "source": [
    "# 2. 함수 안에서 전역변수 변경하기\n",
    "x = 10 \n",
    "def foo(): \n",
    "    x=20\n",
    "    print(x)\n",
    "    \n",
    "foo()\n",
    "print(x)\n",
    "\n",
    "#전역변수로 정의하는 방법 (1)\n",
    "y = 10 \n",
    "def foo(): \n",
    "    global y   #y=30이라 이거야. y는 전역변수로 설정\n",
    "    y = 20\n",
    "    print(y)\n",
    "    \n",
    "foo()\n",
    "print(y)\n",
    "\n",
    "#전역변수로 정의하는 방법 (2)\n",
    "y = 10 \n",
    "def foo(): \n",
    "    global z   \n",
    "    z = 30\n",
    "    print(z)\n",
    "    \n",
    "foo()\n",
    "print(z)\n"
   ]
  },
  {
   "cell_type": "code",
   "execution_count": 152,
   "metadata": {
    "scrolled": false
   },
   "outputs": [
    {
     "data": {
      "text/plain": [
       "{'__name__': '__main__',\n",
       " '__builtin__': <module 'builtins' (built-in)>,\n",
       " '__builtins__': <module 'builtins' (built-in)>,\n",
       " '_ih': ['',\n",
       "  \"# 함수호출 : 함수명()형태로 호출\\nget_ipython().run_line_magic('who', '')\\nhello()\",\n",
       "  \"# 함수호출 : 함수명()형태로 호출\\nget_ipython().run_line_magic('who', '')\",\n",
       "  '# 함수호출 : 함수명()형태로 호출\\nhello()',\n",
       "  '# \"hello, Python\" 이라는 문자를 출력하는  함수를 작성\\n\\ndef hello():\\n    print(\"hello,Python!!\")',\n",
       "  '# \"hello, Python\" 이라는 문자를 출력하는  함수를 작성\\n\\ndef hello():\\n    print(\"hello,Python!!\")',\n",
       "  '# \"hello, Python\" 이라는 문자를 출력하는  함수를 작성\\n\\ndef hello():\\n    print(\"hello,Python!!\")\\nhello()',\n",
       "  '# 함수호출 : 함수명()형태로 호출\\nhello()',\n",
       "  \"# 함수호출 : 함수명()형태로 호출\\nget_ipython().run_line_magic('who', '')\\nhello()\",\n",
       "  '# \"hello, Python\" 이라는 문자를 출력하는  함수를 작성\\n\\ndef hello():\\n    print(\"hello,Python!!\")\\n    \\nhello()\\n\\nprint(type(hello))',\n",
       "  '# 인자가 있는 함수 선언\\n#더하기 함수\\n\\ndef add(a, b):\\n    print(a+b)\\n    \\nadd(3,7)',\n",
       "  '# 인자가 있는 함수 선언\\n#더하기 함수\\n\\ndef add(a, b):\\n    print(a+b)\\n \\nadd(3,7)',\n",
       "  '# 인자가 있는 함수 선언\\n#더하기 함수\\n\\ndef add(a, b):\\n    print(a+ b)\\n    \\nadd(3,7)\\n\\ndef add(x, y):\\n    return x+y\\nplus(3,7)',\n",
       "  '# 인자가 있는 함수 선언\\n#더하기 함수\\n\\ndef add(a, b):\\n    print(a+ b)\\n    \\nadd(3,7)\\n\\ndef plus(x, y):\\n    return x+y      #리턴이 있는 함수는 결과값을 반환 받을수 있다.\\nplus(3,7)',\n",
       "  '# 인자가 있는 함수 선언\\n#더하기 함수\\n\\ndef add(a, b):\\n    print(a+ b)\\n    \\nadd(3,7)\\n\\ndef plus(x, y):\\n    return x+y      \\n\\nplus(3,7)\\n\\n#리턴이 있는 함수는 결과값을 반환 받을수 있다.\\nresult = plus(10, 30)\\nprint(result)',\n",
       "  \"# 인자가 없는 함수\\n\\ndef sayhello():\\n    return 'Hello?'    \",\n",
       "  \"# 인자가 없는 함수\\n\\ndef sayhello():\\n    return 'Hello?'   \\n\\nsayhello()\",\n",
       "  \"#결과값(리턴)이 없는함수\\n\\ndeg sum(i,j):\\n    print('%d + %d = %d' %(i, j, i+j))\\n    \\nsum(3,7)\\na = sum(3,7)\\nprint(a)\",\n",
       "  \"#결과값(리턴)이 없는함수\\n\\ndeg sum(i,j):\\n    print('%d + %d = %d' %(i,j,i+j))\\n    \\nsum(3,7)\\na = sum(3,7)\\nprint(a)\",\n",
       "  \"#결과값(리턴)이 없는함수\\n\\ndef sum(i,j):\\n    print('%d + %d = %d' %(i,j,i+j))\\n    \\nsum(3,7)\\na = sum(3,7)\\nprint(a)\",\n",
       "  '# 결과값(리턴)이 있는 함수 \\n\\ndef sumreturn(i,j):\\n    return i+j\\nresult = sumreturn(3,7)\\nprint(result)',\n",
       "  '# 함수를 사용하는 장점\\n# 매개변수의 순서와 상관없이 자유롭게 호출 가능하다.\\n\\nprint(sumreturn(3,7))',\n",
       "  '# 함수를 사용하는 장점\\n# 매개변수의 순서와 상관없이 자유롭게 호출 가능하다.\\n\\nprint(sumreturn(3,7))\\nprint(sumreturn(i=3,j=7))',\n",
       "  '# 함수를 사용하는 장점\\n# 매개변수의 순서와 상관없이 자유롭게 호출 가능하다.\\n\\nprint(sumreturn(3,7))\\nprint(sumreturn(i=3,j=7))\\nprint(sumreturn(j=7,i=3))',\n",
       "  '# 함수를 사용하는 장점\\n# 매개변수의 순서와 상관없이 자유롭게 호출 가능하다.\\n\\nprint(sumreturn(3,7))\\nprint(sumreturn(i=3,j=7))\\nprint(sumreturn(j=7,i=3))\\nprint(sumreturn(x=3,y=7))',\n",
       "  '# 함수를 사용하는 장점\\n# 매개변수의 순서와 상관없이 자유롭게 호출 가능하다.\\n\\nprint(sumreturn(3,7))\\nprint(sumreturn(i=3,j=7))\\nprint(sumreturn(j=7,i=3))\\n# print(sumreturn(x=3,y=7))   -> 변수이름이 틀리면 에러가 나요~',\n",
       "  '# 함수에서 여러개의 값을 반환하기\\n\\ndef multireturn(a, b):\\n    return a+b, a-b, a*b, a/b\\n\\nprint(multireturn(10,20))',\n",
       "  '# 함수에서 여러개의 값을 반환하기\\n\\ndef multireturn(a, b):\\n    return a+b, a-b, a*b, a/b\\n\\nprint(multireturn(10,20))\\nprint(type(multireturn(10,20)))',\n",
       "  '# 함수에서 여러개의 값을 반환하기\\n\\ndef multireturn(a, b):\\n    return a+b, a-b, a*b, a/b\\n\\nprint(multireturn(10,20))\\nprint(type(multireturn(10,20)))   # 타입이 튜플인걸 알수있져어~\\n\\n\\nx, y, z, a = multireturn(10,20)\\nprint(x,y,z,a)',\n",
       "  '# 함수에서 여러개의 값을 반환하기\\n\\ndef multireturn(a, b):\\n    return a+b, a-b, a*b, a/b\\n\\nprint(multireturn(10,20))\\nprint(type(multireturn(10,20)))   # 타입이 튜플인걸 알수있져어~\\n\\n\\nx, y, z, a = multireturn(10,20)\\nprint(x,y,z,a)                   # 괄호가 벗겨짐 \\nprint(type(x,y,z,a))      \\n# x,y,z = multireturn(10,20)    Error 발생! 리턴개수와 리턴받는 변수의 개수는 동일 개수여야한당',\n",
       "  '# 함수에서 여러개의 값을 반환하기\\n\\ndef multireturn(a, b):\\n    return a+b, a-b, a*b, a/b\\n\\nprint(multireturn(10,20))\\nprint(type(multireturn(10,20)))   # 타입이 튜플인걸 알수있져어~\\n\\n\\nx, y, z, a = multireturn(10,20)\\nprint(x,y,z,a)                   # 괄호가 벗겨짐 \\n     \\n# x,y,z = multireturn(10,20)    Error 발생! 리턴개수와 리턴받는 변수의 개수는 동일 개수여야한당',\n",
       "  '# args : 입력되는 값(인자,파라메타)이 여러개일 경우 정의하는 매개변수이다.\\n\\ndef manySum(*args):\\n    return a+b\\n\\nmanySum(1,2,3,4,5,6,7,8,9,10)',\n",
       "  '# args : 입력되는 값(인자,파라메타)이 여러개일 경우 정의하는 매개변수이다.\\n\\ndef manySum(*args):\\n    print(type(args))\\nmanySum(1,2,3,4,5,6,7,8,9,10)',\n",
       "  '# args : 입력되는 값(인자,파라메타)이 여러개일 경우 정의하는 매개변수이다.\\n\\ndef manySum(*args):\\n    print(type(args))\\n    print(len(args))\\n    \\nmanySum(1,2,3,4,5,6,7,8,9,10)',\n",
       "  '# args : 입력되는 값(인자,파라메타)이 여러개일 경우 정의하는 매개변수이다.\\n\\ndef manySum(*args):\\n    print(type(args))\\n    print(len(args))     \\n    \\nmanySum(1,2,3,4,5,6,7,8,9,10)\\nmanySum(1,2,3,4,5,6)',\n",
       "  '# args : 입력되는 값(인자,파라메타)이 여러개일 경우 정의하는 매개변수이다.\\n\\ndef manySum(*args):\\n    print(type(args))\\n    print(len(args))     \\n    sum = 0\\n    for i in args:\\n        sum += i\\n        \\n    return sum\\n\\nmanySum(1,2,3,4,5,6,7,8,9,10)\\nmanySum(1,2,3,4,5,6)',\n",
       "  '# args : 입력되는 값(인자,파라메타)이 여러개일 경우 정의하는 매개변수이다.\\n\\ndef manySum(*args):\\n    print(type(args))\\n    print(len(args))     \\n    sum = 0\\n    for i in args:\\n        sum += i\\n        \\n    return sum\\n\\nprint(manySum(1,2,3,4,5,6,7,8,9,10))\\nprint(manySum(1,2,3,4,5,6))',\n",
       "  '# 유동적으로 실행하는 계산기 : 사칙연산을 실행하는 계산기\\n\\ndef calculator():\\n    ',\n",
       "  \"# 유동적으로 실행하는 계산기 : 사칙연산을 실행하는 계산기\\n\\ndef calculator(operator,*args):\\n    result = 0\\n    if operator == '+' : pass    \\n    if operator == '-' : pass\\n    if operator == '*' : pass\\n    if operator == '/' : pass\\n    \\nprint(calculator('+', 1,2))\\n    \",\n",
       "  '# 유동적으로 실행하는 계산기 : 사칙연산을 실행하는 계산기\\n\\ndef calculator(operator,*args):\\n    result = 0\\n    if operator == \\'+\\' : pass    \\n    if operator == \\'-\\' : pass\\n    if operator == \\'*\\' : pass\\n    if operator == \\'/\\' : pass\\n    return\\n    print(\"아무렇게나써봐도\")\\nprint(calculator(\\'+\\', 1,2))\\n    ',\n",
       "  '# 유동적으로 실행하는 계산기 : 사칙연산을 실행하는 계산기\\n\\ndef calculator(operator,*args):\\n    result = 0\\n    if operator == \\'+\\' : pass    \\n    if operator == \\'-\\' : pass\\n    if operator == \\'*\\' : pass\\n    if operator == \\'/\\' : pass\\n    return\\n    print(\"아무렇게나써봐도 리턴되서 실행이안됨\")\\nprint(calculator(\\'+\\', 1,2))\\n    ',\n",
       "  '# 유동적으로 실행하는 계산기 : 사칙연산을 실행하는 계산기\\n\\ndef calculator(operator,*args):\\n    result = 0\\n    if operator == \\'+\\' : pass    \\n    if operator == \\'-\\' : pass\\n    if operator == \\'*\\' : pass\\n    if operator == \\'/\\' : pass\\n    return result\\n\\n    #print(\"아무렇게나써봐도 리턴되서 실행이안됨\")\\nprint(calculator(\\'+\\', 1,2))\\n    ',\n",
       "  '# 유동적으로 실행하는 계산기 : 사칙연산을 실행하는 계산기\\n\\ndef calculator(operator,*args):\\n    result = 0\\n    if operator == \\'+\\' : pass    \\n    if operator == \\'-\\' : pass\\n    if operator == \\'*\\' : pass\\n    if operator == \\'/\\' : pass\\n    return result\\n\\n    #print(\"아무렇게나써봐도 리턴되서 실행이안됨\")\\nprint(calculator(\\'+\\', 1,2))\\nprint(calculator(\\'-\\', 1,2))\\nprint(calculator(\\'*\\', 1,2))\\nprint(calculator(\\'/\\', 1,2))',\n",
       "  'def calculator(operator,*args):\\n    result = 0\\n    if operator == \\'+\\' :\\n        for i in args:\\n            result += i\\n    \\n    if operator == \\'-\\' : \\n        for i in args:\\n            result -= i \\n            \\n    if operator == \\'*\\' : \\n        result = 1\\n        for i in args:\\n            result *= i \\n            \\n    if operator == \\'/\\' :\\n        result = 1\\n        for i in args:\\n            result /= i \\n            \\n    return result\\n\\n    #print(\"아무렇게나써봐도 리턴되서 실행이안됨\")\\nprint(calculator(\\'+\\', 1,2,3,4,5))\\nprint(calculator(\\'-\\', 1,2,3,4))\\nprint(calculator(\\'*\\', 1,2,3))\\nprint(calculator(\\'/\\', 1,2))',\n",
       "  \"calculator('-',2626,3838)\",\n",
       "  '# 키워드 파라키터 kwargs\\n# kwargs는 keyword arguments의 약어이다. **kwargs는 *args와는 다르게 \\n# 별표 (*)가 두개 사용돤디.\\n# 함수인수로서 **kwargs가 key=value형태로 주어졌을때 입력값 전체가 \\n# 딕셔너리형태로 반환된다.\\n\\ndef func(**kwargs):\\n    print(kwargs)\\n    print(type(kwargs))\\n    \\nfunc(a=1)',\n",
       "  \"# 키워드 파라키터 kwargs\\n# kwargs는 keyword arguments의 약어이다. **kwargs는 *args와는 다르게 \\n# 별표 (*)가 두개 사용돤디.\\n# 함수인수로서 **kwargs가 key=value형태로 주어졌을때 입력값 전체가 \\n# 딕셔너리형태로 반환된다.\\n\\ndef func(**kwargs):\\n    print(kwargs)\\n    print(type(kwargs))\\n    \\nfunc(a=1)\\nfunc(name ='홍길동',age=1,adress='상주')\\n#func(1)  ->Error 발생 즉, **kwargs 는 key =value가 한쌍으로 전달되어야 한다.\",\n",
       "  \"def func1(*args,**kwargs):\\n    print(args, kwargs)\\n    \\nfunc1(name ='홍길동',age=1,adress='상주')\",\n",
       "  \"def func1(*args,**kwargs):\\n    print(args, kwargs)\\n    \\nfunc1(2,3,4,name ='홍길동',age=1,adress='상주')\",\n",
       "  \"def func1(*args,**kwargs):\\n    print(args, kwargs)\\n    \\nfunc1(2,3,4,name ='홍길동',age=1,adress='상주')\\nfunc1(2,3,4,name ='홍길동',age=1,adress='상주',7,8,9) \",\n",
       "  \"def func1(*args,**kwargs):\\n    print(args, kwargs)\\n    \\nfunc1(2,3,4,name ='홍길동',age=1,adress='상주')\\n# func1(2,3,4,name ='홍길동',age=1,adress='상주',7,8,9)  # ERROR !  7,8,9  추가되는부분때문에 에러걸림  \\n                                                                  # 즉,순서가 일치해야한다 앞엔 arg,뒤엔 kwargs여야햄\",\n",
       "  \"def func1(*args,**kwargs):\\n    print(args, kwargs)\\n    \\nfunc1(2,3,4,5,name ='홍길동',age=1,adress='상주')\\n# func1(2,3,4,name ='홍길동',age=1,adress='상주',7,8,9)  # ERROR !  7,8,9  추가되는부분때문에 에러걸림  \\n                                                                  # 즉,순서가 일치해야한다 앞엔 arg,뒤엔 kwargs여야햄\",\n",
       "  \"# 개인정보를 출력하는 함수 예제 \\n\\ndef personal_info(name, age , addr):\\n    print('이름=',name)\\n    print('나이=',age)\\n    print('주소=',addr)\\n    \\npersonal_info('도연', 29, '서울')\\npersonal_info(28,'서울','도연')\",\n",
       "  '# 개인정보를 출력하는 함수 예제 \\n\\ndef personal_info(name, age , addr):\\n    print(\\'이름=\\',name)\\n    print(\\'나이=\\',age)\\n    print(\\'주소=\\',addr)\\n    \\npersonal_info(\\'도연\\', 29, \\'서울\\')\\npersonal_info(28,\\'서울\\',\\'도연\\')  # 에러는 아니지만 자료 정보 불일치 발생\\npersonal_info(age=40,addr=\\'인천\\',name=\"소향\")',\n",
       "  \"x = {'name':'Doyoni','age':25 ,'addr':'Seoul' }\\npersonal_info(**x)\\n# personal_info( name='Doyoni',age=25 ,addr='Seoul' )과 동일하다! \\npersonal_info(*x)\",\n",
       "  '# 함수의 반환값은 하나이다.  이렇게 = > (~,~,~,) \\n\\ndef sum_and_mul(a+b):\\n    return a+b, a*b\\n\\nresult = sum_and_mul(2,3)   #  한개의 값  즉, 한개의 튜플로 리턴된다 \\nprint(result)',\n",
       "  '# 함수의 반환값은 하나이다.  이렇게 = > (~,~,~,) \\n\\ndef sum_and_mul(a,b):\\n    return a+b, a*b\\n\\nresult = sum_and_mul(2,3)   #  한개의 값  즉, 한개의 튜플로 리턴된다 \\nprint(result)',\n",
       "  '# 함수의 반환값은 하나이다.  \\n\\ndef sum_and_mul(a,b):\\n    return a+b, a*b\\n\\nresult = sum_and_mul(2,3)   #  한개의 값  즉, 한개의 튜플로 리턴된다   ... 이렇게 = > (~,~,~,) \\nprint(result)\\n\\n\\ndef sum_and_minus(a,b):\\n    return a+b             # 실행을 중단하라는 의미도 있다.\\n    return a-b             # 에러는 안나지만 실행은 되지않는다.',\n",
       "  '# 함수의 반환값은 하나이다.  \\n\\ndef sum_and_mul(a,b):\\n    return a+b, a*b\\n\\nresult = sum_and_mul(2,3)   #  한개의 값  즉, 한개의 튜플로 리턴된다   ... 이렇게 = > (~,~,~,) \\nprint(result)\\n\\n\\ndef sum_and_minus(a,b):\\n    return a+b             # 실행을 중단하라는 의미도 있다.\\n    return a-b             # 에러는 안나지만 실행은 되지않는다.\\n\\nprint(sum_and_minus(3,4))',\n",
       "  'def calculator(operator,*args):\\n    result = 0\\n    if operator == \\'+\\' :\\n        for i in args:\\n            result += i\\n    \\n    if operator == \\'-\\' : \\n        for i in args:\\n            result -= i \\n            \\n    if operator == \\'*\\' : \\n        result = 1\\n        for i in args:\\n            result *= i \\n            \\n    if operator == \\'/\\' :\\n        result = 1\\n        for i in args:\\n            result /= i \\n            \\n    return result\\n\\n    #print(\"아무렇게나써봐도 리턴되서 실행이안됨\")\\nprint(calculator(\\'+\\', 1,2,3,4,5))\\nprint(calculator(\\'-\\', 1,2,3,4))\\nprint(calculator(\\'*\\', 1,2,3))\\nprint(calculator(\\'/\\', 10,5))',\n",
       "  'def calculator(operator,*args):\\n    result = 0\\n    if operator == \\'+\\' :\\n        for i in args:\\n            result += i\\n    \\n    if operator == \\'-\\' : \\n        for i in args:\\n            result -= i \\n            \\n    if operator == \\'*\\' : \\n        result = 1\\n        for i in args:\\n            result *= i \\n            \\n    if operator == \\'/\\' :\\n        result = 1\\n        for i in args:\\n            result /= i \\n            \\n    return result\\n\\n    #print(\"아무렇게나써봐도 리턴되서 실행이안됨\")\\nprint(calculator(\\'+\\', 1,2,3,4,5))\\nprint(calculator(\\'-\\', 1,2,3,4))\\nprint(calculator(\\'*\\', 1,2,3))\\nprint(calculator(\\'/\\', 5,10))',\n",
       "  '# 매개변수에서 초기값을 사전에 설정하기\\n\\ndef selfintro(name,age,gender=False):\\n    print(\"내이름은 %s 입니다. 나이는  %d살 입니다.\" % (name,age))',\n",
       "  '# 매개변수에서 초기값을 사전에 설정하기\\n\\ndef selfintro(name,age,gender=False):\\n    print(\"내이름은 %s 입니다. 나이는  %d살 입니다.\" % (name,age))\\n    \\nselfintro(\\'공주\\',27)',\n",
       "  '# 매개변수에서 초기값을 사전에 설정하기\\n\\ndef selfintro(name,age,gender=False):\\n    print(\"내이름은 %s 입니다. 나이는  %d살 입니다.\" % (name,age))\\n    if gender:\\n        print(\\' 숫놈 입니다!!\\')\\n    else:\\n        print(\\'나는 여자입니다!\\')\\n    \\n    \\nselfintro(\\'공주\\',27)\\nselfintro(\\'흥선대원군\\',100,True)',\n",
       "  '# 매개변수에서 초기값을 사전에 설정하기\\n\\ndef selfintro(name,gender=False,age):\\n    print(\"내이름은 %s 입니다. 나이는  %d살 입니다.\" % (name,age))\\n    if gender:\\n        print(\\' 숫놈 입니다!!\\')\\n    else:\\n        print(\\'나는 여자입니다!\\')\\n    \\n    \\nselfintro(\\'공주\\',27)\\nselfintro(\\'흥선대원군\\',100,True)',\n",
       "  '# 매개변수에서 초기값을 사전에 설정하기\\n\\ndef selfintro(name,age,gender=False):\\n    print(\"내이름은 %s 입니다. 나이는  %d살 입니다.\" % (name,age))\\n    if gender:\\n        print(\\' 숫놈 입니다!!\\')\\n    else:\\n        print(\\'나는 여자입니다!\\')\\n    \\n    \\nselfintro(\\'공주\\',27)\\nselfintro(\\'흥선대원군\\',100,True)',\n",
       "  '# 매개변수 초기값을 설정할때 주의사항\\n# 초기화 시킬 매개변수는 항상 맨뒤에 위치시켜야한다. \\n\\n\\ndef selfintro(name,gender=False,age):\\n    print(\"내이름은 %s 입니다. 나이는  %d살 입니다.\" % (name,age))\\n    if gender:\\n        print(\\' 숫놈 입니다!!\\')\\n    else:\\n        print(\\'나는 여자입니다!\\')\\n    \\n    \\nselfintro(\\'공주\\',27)\\nselfintro(\\'흥선대원군\\',100,True)\\nselfintro(\\'공주\\',False, 27)',\n",
       "  \"# 1. 홀수,짝수를 구별하는 is_odd()함수를 작성\\n# 주어진 숫자가 홀수인지 작수인지를 구별해서  '짝수입니다' 혹은 '홀수입니다.'를 출력하세요.\\n#is_odd(number)\\n\\ndef is_odd(number):\\n    if number%2==0 :   #(num % 2= 0 이면 짝수)\\n        \\nprint(is_odd(6))        \\n\\n    \",\n",
       "  '# 1. 홀수,짝수를 구별하는 is_odd()함수를 작성\\n# 주어진 숫자가 홀수인지 작수인지를 구별해서  \\'짝수입니다\\' 혹은 \\'홀수입니다.\\'를 출력하세요.\\n#is_odd(number)\\n\\ndef is_odd(number):\\n    if number%2==0 :   #(num % 2= 0 이면 짝수)\\n        print(\"짝수입니다\")\\n    else:\\n        print(\\'홀수입니다\\')\\nprint(is_odd(6))        \\n\\n    ',\n",
       "  '# 1. 홀수,짝수를 구별하는 is_odd()함수를 작성\\n# 주어진 숫자가 홀수인지 작수인지를 구별해서  \\'짝수입니다\\' 혹은 \\'홀수입니다.\\'를 출력하세요.\\n#is_odd(number)\\n\\ndef is_odd(number):\\n    if number%2==0 :   #(num % 2= 0 이면 짝수)\\n        print(\"짝수입니다\")\\n    else:\\n        print(\\'홀수입니다\\')\\n        \\n#print(is_odd(6))        \\n\\n    ',\n",
       "  '# 1. 홀수,짝수를 구별하는 is_odd()함수를 작성\\n# 주어진 숫자가 홀수인지 작수인지를 구별해서  \\'짝수입니다\\' 혹은 \\'홀수입니다.\\'를 출력하세요.\\n#is_odd(number)\\n\\ndef is_odd(number):\\n    if number%2==0 :   #(num % 2= 0 이면 짝수)\\n        print(\"짝수입니다\")\\n    else:\\n        print(\\'홀수입니다\\')\\n        \\nprint(is_odd(6))        \\n\\n    ',\n",
       "  '# 1. 홀수,짝수를 구별하는 is_odd()함수를 작성\\n# 주어진 숫자가 홀수인지 작수인지를 구별해서  \\'짝수입니다\\' 혹은 \\'홀수입니다.\\'를 출력하세요.\\n#is_odd(number)\\n\\ndef is_odd(number):\\n    if number%2==0 :   #(num % 2= 0 이면 짝수)\\n        print(\"짝수입니다\")\\n    else:\\n        print(\\'홀수입니다\\')\\n        \\nprint(is_odd(6))        \\n\\nprint(is_odd(7))    ',\n",
       "  'def manySum(*args):\\n       \\n    sum = 0\\n    for i in args:\\n        sum += i\\n        \\n    return sum\\n\\nprint(manySum(1,2,3,4,5,6,7,8,9,10))\\nprint(manySum(1,2,3,4,5,6))',\n",
       "  'def manySum(*args):\\n   \\n    print(len(args))     \\n    sum = 0\\n    for i in args:\\n        sum += i\\n        \\n    return sum\\n\\nprint(manySum(1,2,3,4,5,6,7,8,9,10))\\nprint(manySum(1,2,3,4,5,6))',\n",
       "  '# 3.구구단을 출력하는 함수 gugudan() 함수를 작성\\n# 입력값은 2~9단까지 한개의 임의의 단을 작성\\n# gugudan(9)',\n",
       "  'def manySum(*args):\\n   \\n    print(len(args))     \\n    sum = 0\\n    for i in args:\\n        sum += i\\n        \\n    return sum\\n\\nprint(manySum(1,2,3,4,5,6,7,8,9,10))',\n",
       "  'def manySum(*args):\\n      \\n    sum = 0\\n    for i in args:\\n        sum += i\\n        \\n    return / print(len(args))  \\n\\nprint(manySum(1,2,3,4,5,6,7,8,9,10))',\n",
       "  'def manySum(*args):\\n      \\n    sum = 0\\n    for i in args:\\n        sum += i\\n        \\n    return  print(len(args))  \\n\\nprint(manySum(1,2,3,4,5,6,7,8,9,10))',\n",
       "  'def manySum(*args):\\n      \\n    sum = 0\\n    for i in args:\\n        sum += i\\n        \\n    return sum / print(len(args))  \\n\\nprint(manySum(1,2,3,4,5,6,7,8,9,10))',\n",
       "  'def manySum(*args):\\n      \\n    sum = 0\\n    for i in args:\\n        sum += i\\n        \\n    return sum / len(args)\\n\\nprint(manySum(1,2,3,4,5,6,7,8,9,10))',\n",
       "  '# 2.입력된 모든 수의 평균을 계산하는 funcAvg()함수를 작성\\n# 단, 입력매개변수의 갯수는 정해져 있지 않다.\\n# funcAvg()\\n\\ndef funcAvg(*args):\\n      sum = 0\\n    for i in args:\\n        sum += i\\n        \\n    return sum / len(args)\\n\\nprint(funcAvg(1,2,3,4,5,6,7,8,9,10))',\n",
       "  '# 2.입력된 모든 수의 평균을 계산하는 funcAvg()함수를 작성\\n# 단, 입력매개변수의 갯수는 정해져 있지 않다.\\n# funcAvg()\\n\\ndef funcAvg(*args):\\n    sum = 0\\n    for i in args:\\n        sum += i\\n        \\n    return sum / len(args)\\n\\nprint(funcAvg(1,2,3,4,5,6,7,8,9,10))',\n",
       "  '# 2.입력된 모든 수의 평균을 계산하는 funcAvg()함수를 작성\\n# 단, 입력매개변수의 갯수는 정해져 있지 않다.\\n# funcAvg()\\n\\ndef funcAvg(*args):\\n    sum = 0\\n    for i in args:\\n        sum += i\\n        \\n    return sum / len(args)\\n\\nprint(funcAvg(1,2,3,4,5,6,7,8,9,10,11))',\n",
       "  '# 4.리스트 [2,3,4,5,6,7,8]에서 5보다 큰수만 리턴하는 funcReturn()함수작성\\n\\nl1=[2,3,4,5,6,7,8]\\n\\ndef funcReturn(*args):\\n    sum = 0\\n    if args >5:\\n        print(args)',\n",
       "  '# 4.리스트 [2,3,4,5,6,7,8]에서 5보다 큰수만 리턴하는 funcReturn()함수작성\\n\\nl1=[2,3,4,5,6,7,8]\\n\\ndef funcReturn(*args):\\n    sum = 0\\n    if args >5:\\n        print(args)',\n",
       "  '# 4.리스트 [2,3,4,5,6,7,8]에서 5보다 큰수만 리턴하는 funcReturn()함수작성\\n\\nl1=[2,3,4,5,6,7,8]\\n\\ndef funcReturn(*args):\\n    sum = 0\\n    if args >5:\\n        print(funcReturn(args))',\n",
       "  '# 4.리스트 [2,3,4,5,6,7,8]에서 5보다 큰수만 리턴하는 funcReturn()함수작성\\n\\nl1=[2,3,4,5,6,7,8]\\n\\ndef funcReturn(*args):\\n    sum = 0\\n    if args >5:\\n\\nprint(funcReturn(args))',\n",
       "  '# 4.리스트 [2,3,4,5,6,7,8]에서 5보다 큰수만 리턴하는 funcReturn()함수작성\\n\\nl1=[2,3,4,5,6,7,8]\\n\\ndef funcReturn(*args):\\n    sum = 0\\n    if args >5:\\n\\nprint(funcReturn(l1))',\n",
       "  '# 4.리스트 [2,3,4,5,6,7,8]에서 5보다 큰수만 리턴하는 funcReturn()함수작성\\n\\nl1=[2,3,4,5,6,7,8]\\n\\ndef funcReturn(*args):\\n    print(args)\\n    \\n\\nprint(funcReturn(l1))',\n",
       "  '# 4.리스트 [2,3,4,5,6,7,8]에서 5보다 큰수만 리턴하는 funcReturn()함수작성\\n\\nl1=[2,3,4,5,6,7,8]\\n\\ndef funcReturn(list):\\n    for i in list :\\n        if list>5:\\n            \\n    \\n\\nprint(funcReturn(l1))',\n",
       "  '# 4.리스트 [2,3,4,5,6,7,8]에서 5보다 큰수만 리턴하는 funcReturn()함수작성\\n\\nl1=[2,3,4,5,6,7,8]\\n\\ndef funcReturn(list):\\n    for i in list :\\n        if i > 5:\\n            \\n            \\n    \\n\\nprint(funcReturn(l1))',\n",
       "  '# 4.리스트 [2,3,4,5,6,7,8]에서 5보다 큰수만 리턴하는 funcReturn()함수작성\\n\\nl1=[2,3,4,5,6,7,8]\\n\\ndef funcReturn(list):\\n    for i in list :\\n        if i > 5:\\n            \\n          \\n          \\n\\nprint(funcReturn(l1))',\n",
       "  '# 4.리스트 [2,3,4,5,6,7,8]에서 5보다 큰수만 리턴하는 funcReturn()함수작성\\n\\nl1=[2,3,4,5,6,7,8]\\n\\ndef funcReturn(list):\\n    for i in list :\\n        if i > 5:\\n        return    \\n          \\n          \\n\\nprint(funcReturn(l1))',\n",
       "  '# 4.리스트 [2,3,4,5,6,7,8]에서 5보다 큰수만 리턴하는 funcReturn()함수작성\\n\\nl1=[2,3,4,5,6,7,8]\\n\\ndef funcReturn(list):\\n    for i in list :\\n        if i > 5:\\n        return = i   \\n          \\n          \\n\\nprint(funcReturn(l1))',\n",
       "  '# 4.리스트 [2,3,4,5,6,7,8]에서 5보다 큰수만 리턴하는 funcReturn()함수작성\\n\\nl1=[2,3,4,5,6,7,8]\\n\\ndef funcReturn(list):\\n    for i in list :\\n        if i > 5:\\n        return i   \\n          \\n          \\n\\nprint(funcReturn(l1))',\n",
       "  '# 4.리스트 [2,3,4,5,6,7,8]에서 5보다 큰수만 리턴하는 funcReturn()함수작성\\n\\nl1=[2,3,4,5,6,7,8]\\n\\ndef funcReturn(list):\\n    for i in list :\\n        if i > 5:\\n            return i   \\n          \\n          \\n\\nprint(funcReturn(l1))',\n",
       "  '# 4.리스트 [2,3,4,5,6,7,8]에서 5보다 큰수만 리턴하는 funcReturn()함수작성\\n\\nl1=[2,3,4,5,6,7,8]\\n\\ndef funcReturn(list):\\n    for i in list :\\n        if i > 5:\\n            return i   \\n          \\n          \\n\\n    print(funcReturn(l1))',\n",
       "  'def funcAvg(*args):\\n    sum = 0\\n    for i in args:\\n        sum += i\\n        \\n    return sum / len(args)\\n\\nprint(funcAvg(1,2,3,4,5,6,7,8,9,10,11))',\n",
       "  '# 4.리스트 [2,3,4,5,6,7,8]에서 5보다 큰수만 리턴하는 funcReturn()함수작성\\n\\nl1=[2,3,4,5,6,7,8]\\n\\ndef funcReturn(list):\\n    for i in list :\\n        if i > 5:\\n            return i   \\n          \\n          \\nprint(funcReturn(l1))',\n",
       "  '# 1. 홀수,짝수를 구별하는 is_odd()함수를 작성\\n# 주어진 숫자가 홀수인지 작수인지를 구별해서  \\'짝수입니다\\' 혹은 \\'홀수입니다.\\'를 출력하세요.\\n#is_odd(number)\\n\\ndef is_odd(number):\\n    if number % 2 ==0 :   #(num % 2= 0 이면 짝수)\\n        print(\"짝수입니다\")\\n    else:\\n        print(\"홀수입니다\")\\n        \\nprint(is_odd(6))        \\n\\nprint(is_odd(7))    ',\n",
       "  '# 1. 홀수,짝수를 구별하는 is_odd()함수를 작성\\n# 주어진 숫자가 홀수인지 작수인지를 구별해서  \\'짝수입니다\\' 혹은 \\'홀수입니다.\\'를 출력하세요.\\n#is_odd(number)\\n\\ndef is_odd(number):\\n    if number % 2 ==0 :   #(num % 2= 0 이면 짝수)\\n        print(\"짝수입니다\")\\n    else:\\n        print(\"홀수입니다\")\\n   \\n\\nresult = isodd(2)\\nprint(result)        \\n\\nprint(is_odd(7))    ',\n",
       "  '# 1. 홀수,짝수를 구별하는 is_odd()함수를 작성\\n# 주어진 숫자가 홀수인지 작수인지를 구별해서  \\'짝수입니다\\' 혹은 \\'홀수입니다.\\'를 출력하세요.\\n#is_odd(number)\\n\\ndef is_odd(number):\\n    if number % 2 ==0 :   #(num % 2= 0 이면 짝수)\\n        return \"짝수입니다\"\\n    else:\\n        return \"홀수입니다\"\\n   \\n\\nresult = is_odd(2)\\nprint(result)        \\n\\nprint(is_odd(7))    ',\n",
       "  'def plus(a,b):\\n    return a+b\\nprint(plus(1,1))',\n",
       "  'def plus(a,b):\\n    return a+b\\nprint(plus(1,1))\\n\\n\\n# 위에껄 람다(lambda)식으로 표현해보자~\\n\\nsumLambda = lambda a,b:a+b\\nprint(1,3)',\n",
       "  'def plus(a,b):\\n    return a+b\\nprint(plus(1,1))\\n\\n\\n# 위에껄 람다(lambda)식으로 표현해보자~\\n\\nsumLambda = lambda a,b:a+b\\nprint(sumLambda)',\n",
       "  'def plus(a,b):\\n    return a+b\\nprint(plus(1,1))\\n\\n\\n# 위에껄 람다(lambda)식으로 표현해보자~\\n\\nsumLambda = lambda a,b:a+b\\nprint(sumLambda)\\nprint(plus)',\n",
       "  'def plus(a,b):\\n    return a+b\\nprint(plus(1,1))\\n\\n\\n# 위에껄 람다(lambda)식으로 표현해보자~\\n\\nsumLambda = lambda a,b:a+b\\nprint(sumLambda)\\nprint(plus(1,2))',\n",
       "  'def plus(a,b):\\n    return a+b\\nprint(plus(1,1))\\n\\n\\n# 위에껄 람다(lambda)식으로 표현해보자~\\n\\nsumLambda = lambda a,b:a+b\\nprint(sumLambda)\\nprint(plus(1,2))\\nprint(sumLambda(1,4))',\n",
       "  '# lambda식이 나오게 된 가장 큰 이유는 def보다 간결하게 사용할 수 있기 때문이다.\\n# 또한 def가 사용할수 없는 곳에도 사용할 수 있다.\\n\\nmyList = [def sum(x,y):x+y,def mul(x,y):x*y]\\ndef sum(x,y):x+y\\ndef mul(x,y):x*y\\nmyList = [sum, mul]',\n",
       "  '# lambda식이 나오게 된 가장 큰 이유는 def보다 간결하게 사용할 수 있기 때문이다.\\n# 또한 def가 사용할수 없는 곳에도 사용할 수 있다.\\n\\n# myList = [def sum(x,y):x+y,def mul(x,y):x*y]\\n# 위 에꺼는 에러가 발생하기 때문에 아랴와 같이 정의 할 수있다.\\n\\ndef sum(x,y):x+y\\ndef mul(x,y):x*y\\nmyList = [sum, mul]\\nprint(type(myList[0]))',\n",
       "  '# lambda식이 나오게 된 가장 큰 이유는 def보다 간결하게 사용할 수 있기 때문이다.\\n# 또한 def가 사용할수 없는 곳에도 사용할 수 있다.\\n\\n# myList = [def sum(x,y):x+y,def mul(x,y):x*y]\\n# 위 에꺼는 에러가 발생하기 때문에 아랴와 같이 정의 할 수있다.\\n\\ndef sum(x,y):x+y\\ndef mul(x,y):x*y\\nmyList = [sum, mul]\\nprint(type(myList[0]))\\nprint(myList[0],sum(1,2))',\n",
       "  '# lambda식이 나오게 된 가장 큰 이유는 def보다 간결하게 사용할 수 있기 때문이다.\\n# 또한 def가 사용할수 없는 곳에도 사용할 수 있다.\\n\\n# myList = [def sum(x,y):x+y,def mul(x,y):x*y]\\n# 위 에꺼는 에러가 발생하기 때문에 아랴와 같이 정의 할 수있다.\\n\\ndef sum(x,y):return x+y\\ndef mul(x,y):return x*y\\nmyList = [sum, mul]\\nprint(type(myList[0]))\\nprint(myList[0],sum(1,2))\\n\\n# lamda 로 list정의 \\n\\nmyList = [lambda a,b:a+b,lambda a,b:a*b]',\n",
       "  '# lambda식이 나오게 된 가장 큰 이유는 def보다 간결하게 사용할 수 있기 때문이다.\\n# 또한 def가 사용할수 없는 곳에도 사용할 수 있다.\\n\\n# myList = [def sum(x,y):x+y,def mul(x,y):x*y]\\n# 위 에꺼는 에러가 발생하기 때문에 아랴와 같이 정의 할 수있다.\\n\\ndef sum(x,y):return x+y\\ndef mul(x,y):return x*y\\nmyList = [sum, mul]\\nprint(type(myList[0]))\\nprint(myList[0],(1,2))\\n\\n# lamda 로 list정의 \\n\\nmyList = [lambda a,b:a+b,lambda a,b:a*b]',\n",
       "  '# lambda식이 나오게 된 가장 큰 이유는 def보다 간결하게 사용할 수 있기 때문이다.\\n# 또한 def가 사용할수 없는 곳에도 사용할 수 있다.\\n\\n# myList = [def sum(x,y):x+y,def mul(x,y):x*y]\\n# 위 에꺼는 에러가 발생하기 때문에 아랴와 같이 정의 할 수있다.\\n\\ndef sum(x,y):return x+y\\ndef mul(x,y):return x*y\\nmyList = [sum, mul]\\nprint(type(myList[0]))\\nprint(myList[0](1,2))\\n\\n# lamda 로 list정의 \\n\\nmyList = [lambda a,b:a+b,lambda a,b:a*b]',\n",
       "  '# lambda식이 나오게 된 가장 큰 이유는 def보다 간결하게 사용할 수 있기 때문이다.\\n# 또한 def가 사용할수 없는 곳에도 사용할 수 있다.\\n\\n# myList = [def sum(x,y):return x+y,def mul(x,y):return x*y]\\n# 위 에꺼는 에러가 발생하기 때문에 아랴와 같이 정의 할 수있다.\\n\\ndef sum(x,y):return x+y\\ndef mul(x,y):return x*y\\nmyList = [sum, mul]\\nprint(type(myList[0]))\\nprint(myList[0](1,2))\\nprint(myList[0](3,2))\\n# lamda 로 list정의 \\n\\nmyList = [lambda a,b:a+b,lambda a,b:a*b]',\n",
       "  '# lambda식이 나오게 된 가장 큰 이유는 def보다 간결하게 사용할 수 있기 때문이다.\\n# 또한 def가 사용할수 없는 곳에도 사용할 수 있다.\\n\\n# myList = [def sum(x,y):return x+y,def mul(x,y): x*y]\\n# 위 에꺼는 에러가 발생하기 때문에 아랴와 같이 정의 할 수있다.\\n\\ndef sum(x,y):return x+y\\ndef mul(x,y): x*y\\nmyList = [sum, mul]\\nprint(type(myList[0]))\\nprint(myList[0](1,2))    #리턴이 있음 \\nprint(myList[1](3,2))   #리턴이 없음\\n\\n\\n# lamda 로 list정의 \\n\\nmyList = [lambda a,b:a+b,lambda a,b:a*b]',\n",
       "  '# lambda식이 나오게 된 가장 큰 이유는 def보다 간결하게 사용할 수 있기 때문이다.\\n# 또한 def가 사용할수 없는 곳에도 사용할 수 있다.\\n\\n# myList = [def sum(x,y):return x+y,def mul(x,y): x*y]\\n# 위 에꺼는 에러가 발생하기 때문에 아랴와 같이 정의 할 수있다.\\n\\ndef sum(x,y):return x+y\\ndef mul(x,y): x*y\\nmyList = [sum, mul]\\nprint(type(myList))\\nprint(type(myList[0]))\\nprint(myList[0](1,2))    #리턴이 있음 \\nprint(myList[1](3,2))   #리턴이 없음\\n\\n\\n# lamda 로 list정의 \\n\\nmyList = [lambda a,b:a+b,lambda a,b:a*b]',\n",
       "  '# lambda식이 나오게 된 가장 큰 이유는 def보다 간결하게 사용할 수 있기 때문이다.\\n# 또한 def가 사용할수 없는 곳에도 사용할 수 있다.\\n\\n# myList = [def sum(x,y):return x+y,def mul(x,y): x*y]\\n# 위 에꺼는 에러가 발생하기 때문에 아랴와 같이 정의 할 수있다.\\n\\ndef sum(x,y):return x+y\\ndef mul(x,y): x*y\\nmyList = [sum, mul]\\nprint(type(myList))\\nprint(type(myList[0]))\\nprint(myList[0](1,2))    #리턴이 있음 \\nprint(myList[1](3,2))   #리턴이 없음\\n\\n\\n# lamda 로 list정의 \\n\\nmyList = [lambda a,b:a+b,lambda a,b:a*b]\\nprint(type(myList))\\nprint(type(myList[0]))',\n",
       "  '# lambda식이 나오게 된 가장 큰 이유는 def보다 간결하게 사용할 수 있기 때문이다.\\n# 또한 def가 사용할수 없는 곳에도 사용할 수 있다.\\n\\n# myList = [def sum(x,y):return x+y,def mul(x,y): x*y]\\n# 위 에꺼는 에러가 발생하기 때문에 아랴와 같이 정의 할 수있다.\\n\\ndef sum(x,y):return x+y\\ndef mul(x,y): x*y\\nmyList = [sum, mul]\\nprint(type(myList))\\nprint(type(myList[0]))\\nprint(myList[0](1,2))    #리턴이 있음 \\nprint(myList[1](3,2))   #리턴이 없음\\n\\n\\n# lamda 로 list정의 \\n\\nmyList = [lambda a,b:a+b,lambda a,b:a*b]\\nprint(type(myList))\\nprint(type(myList[0]))\\nprint(myList[0](3,2)) \\nprint(myList[1](3,2)) ',\n",
       "  '# 1. 홀수,짝수를 구별하는 is_odd()함수를 작성\\n# 주어진 숫자가 홀수인지 작수인지를 구별해서  \\'짝수입니다\\' 혹은 \\'홀수입니다.\\'를 출력하세요.\\n#is_odd(number)\\n\\ndef is_odd(number):\\n    if number % 2 ==0 :   #(num % 2= 0 이면 짝수)\\n        return \"짝수입니다\"\\n    else:\\n        return \"홀수입니다\"\\n   \\n\\n result= is_odd(2)\\nprint(result)        \\n\\nprint(is_odd(7))    ',\n",
       "  '# 1. 홀수,짝수를 구별하는 is_odd()함수를 작성\\n# 주어진 숫자가 홀수인지 작수인지를 구별해서  \\'짝수입니다\\' 혹은 \\'홀수입니다.\\'를 출력하세요.\\n#is_odd(number)\\n\\ndef is_odd(number):\\n    if number % 2 ==0 :   #(num % 2= 0 이면 짝수)\\n        return \"짝수입니다\"\\n    else:\\n        return \"홀수입니다\"\\n   \\n\\nresult= is_odd(2)\\nprint(result)        \\n\\nprint(is_odd(7))    ',\n",
       "  '# 1.문제를 lambda 식으로 풀어보자\\n\\nisoddLambda = lambda x : \"짝수입니다\" if x%2==0 else \"홀수입니다.\"\\nprint(isoddLambda(2))',\n",
       "  '# 1.문제를 lambda 식으로 풀어보자\\n\\nisoddLambda = lambda x : \"짝수입니다\" if x%2==0 else \"홀수입니다.\"\\nprint(isoddLambda(2))\\nprint(isoddLambda(3))',\n",
       "  '# 2.입력된 모든 수의 평균을 계산하는 funcAvg()함수를 작성\\n# 단, 입력매개변수의 갯수는 정해져 있지 않다.\\n# funcAvg()\\n\\ndef funcAvg(*args):\\n    sum = 0\\n    for i in args:\\n        sum += i\\n        \\n    return sum / len(args)\\n\\nprint(funcAvg(1,2,3,4,5,6,7,8,9,10,11))\\n\\n ===============쌤 풀이 =================',\n",
       "  '# 2.입력된 모든 수의 평균을 계산하는 funcAvg()함수를 작성\\n# 단, 입력매개변수의 갯수는 정해져 있지 않다.\\n# funcAvg()\\n\\ndef funcAvg(*args):\\n    sum = 0\\n    for i in args:\\n        sum += i\\n        \\n    return sum / len(args)\\n\\nprint(funcAvg(1,2,3,4,5,6,7,8,9,10,11))\\n\\n # ===============쌤 풀이 =================\\n\\ndef funcAvg(*a):\\n    result = 0\\n    for i in a:\\n        result += i\\n    return result / len(a)\\n\\nprint(funcAvg(1,2))',\n",
       "  '# 2.입력된 모든 수의 평균을 계산하는 funcAvg()함수를 작성\\n# 단, 입력매개변수의 갯수는 정해져 있지 않다.\\n# funcAvg()\\n\\ndef funcAvg(*args):\\n    sum = 0\\n    for i in args:\\n        sum += i\\n        \\n    return sum / len(args)\\n\\nprint(funcAvg(1,2,3,4,5,6,7,8,9,10,11))\\n\\n # ===============쌤 풀이 =================\\n\\ndef funcAvg(*a):\\n    result = 0\\n    for i in a:\\n        result += i\\n    return result / len(a)\\n\\nprint(funcAvg(1,2))\\nprint(funcAvg(1,2.67))',\n",
       "  '# 2.입력된 모든 수의 평균을 계산하는 funcAvg()함수를 작성\\n# 단, 입력매개변수의 갯수는 정해져 있지 않다.\\n# funcAvg()\\n\\ndef funcAvg(*args):\\n    sum = 0\\n    for i in args:\\n        sum += i\\n        \\n    return sum / len(args)\\n\\nprint(funcAvg(1,2,3,4,5,6,7,8,9,10,11))\\n\\n # ===============쌤 풀이 =================\\n\\ndef funcAvg(*a):\\n    result = 0\\n    for i in a:\\n        result += i\\n    return result / len(a)\\n\\nprint(funcAvg(1,2))\\nprint(funcAvg(1,2,6,7))',\n",
       "  \"# 3.구구단을 출력하는 함수 gugudan() 함수를 작성\\n# 입력값은 2~9단까지 한개의 임의의 단을 작성\\n# gugudan(9)\\n\\ndef gugudan(x):\\n    for i in range(1,10):\\n        print('%d * %d = %2d')% (x,i,x*i)\\n\\ngugudan(8)\",\n",
       "  \"# 3.구구단을 출력하는 함수 gugudan() 함수를 작성\\n# 입력값은 2~9단까지 한개의 임의의 단을 작성\\n# gugudan(9)\\n\\ndef gugudan(x):\\n    for i in range(1,10):\\n        print('%d * %d = %2d')% (x,i,x*i))\\n\\ngugudan(8)\",\n",
       "  \"# 3.구구단을 출력하는 함수 gugudan() 함수를 작성\\n# 입력값은 2~9단까지 한개의 임의의 단을 작성\\n# gugudan(9)\\n\\ndef gugudan(x):\\n    for i in range(1,10):\\n        print(('%d * %d = %2d')% (x,i, x*i))\\n\\ngugudan(8)\",\n",
       "  '#=========선생님 풀이=========\\nl=[]\\ndef funcReturn(numbers):\\n    for num in numbers:\\n        if num > 5 :l.append(num)\\n    return l\\nfuncReturn([1,2,3,4,5,6,7,8])',\n",
       "  '#=========선생님 풀이=========\\nl=[]\\ndef funcReturn(numbers):\\n    for num in numbers:\\n        if num > 5 :l.append(num)\\n    return l\\nfuncReturn([1,2,3,4,5,6,7,8])\\n\\n# lambda식을 작성하기 \\n\\nfuncReturn = lambda x :if num>5 : l.append(num),else return\\nfuncReturn([1,2,3,4,5,6,7,8])',\n",
       "  '#=========선생님 풀이=========\\nl=[]\\ndef funcReturn(numbers):\\n    for num in numbers:\\n        if num > 5 :l.append(num)\\n    return l\\nfuncReturn([1,2,3,4,5,6,7,8])\\n\\n# lambda식을 작성하기 \\n\\nfuncReturnLambda = lambda numbers:[ number for number in numbers if number> 5] ',\n",
       "  '#=========선생님 풀이=========\\nl=[]\\ndef funcReturn(numbers):\\n    for num in numbers:\\n        if num > 5 :l.append(num)\\n    return l\\nfuncReturn([1,2,3,4,5,6,7,8])\\n\\n# lambda식을 작성하기 \\n\\nfuncReturnLambda = lambda numbers:[ number for number in numbers if number> 5] \\nfuncReturnLambda([1,2,3,4,5,6,7,8])',\n",
       "  '#=========선생님 풀이=========\\nl=[]\\ndef funcReturn(numbers):\\n    for num in numbers:\\n        if num > 5 :l.append(num)\\n    return l\\nfuncReturn([1,2,3,4,5,6,7,8])\\n\\n# lambda식을 작성하기 \\n\\nfuncReturnLambda = lambda numbers:[ number for number in numbers if number> 5] \\nprint(funcReturnLambda([1,2,3,4,5,6,7,8]))',\n",
       "  '#=========선생님 풀이=========\\nl=[]\\ndef funcReturn(numbers):\\n    for num in numbers:\\n        if num > 5 :l.append(num)\\n    return l\\nprint(funcReturn([1,2,3,4,5,6,7,8]))\\n\\n# lambda식을 작성하기 \\n\\nfuncReturnLambda = lambda numbers:[ number for number in numbers if number> 5] \\nprint(funcReturnLambda([1,2,3,4,5,6,7,8]))',\n",
       "  '#=========선생님 풀이=========\\nl=[]\\ndef funcReturn(numbers):\\n    for num in numbers:\\n        if num > 5 :l.append(num)\\n    return l\\nprint(funcReturn([1,2,3,4,5,6,7,8,9]))\\n\\n# lambda식을 작성하기 \\n\\nfuncReturnLambda = lambda numbers:[ number for number in numbers if number> 5] \\nprint(funcReturnLambda([1,2,3,4,5,6,7,8]))',\n",
       "  '# 1. 변수의 사용범위\\n\\n# 1) 전역변수 (global variable)\\n\\nx=10\\ndef foo():\\n    print(x)\\n\\n\\n\\n\\n# 2) 지역변수 (local variable)',\n",
       "  '# 1. 변수의 사용범위\\n\\n# 1) 전역변수 (global variable)\\n\\nx=100\\ndef foo():\\n    print(x)\\n\\nfoo()\\nprint(x)\\n\\n\\n\\n# 2) 지역변수 (local variable)',\n",
       "  '# 1. 변수의 사용범위\\n\\n# 1) 전역변수 (global variable)\\nx=100\\ndef foo():\\n    print(x)\\n\\nfoo()\\nprint(x)\\n\\n\\n# 2) 지역변수 (local variable)\\ndef foo1():\\n    y=1000\\n    print(y)\\nfoo1()\\nprint(y)',\n",
       "  \"get_ipython().run_line_magic('reset', '')\",\n",
       "  '# 1. 변수의 사용범위\\n\\n# 1) 전역변수 (global variable)\\nx=100\\ndef foo():\\n    print(x)\\n\\nfoo()\\nprint(x)\\n\\n\\n# 2) 지역변수 (local variable)\\ndef foo1():\\n    y=1000\\n    print(y)\\nfoo1()\\nprint(y)',\n",
       "  '# 2. 함수 안에서 전역변수 변경하기\\nx = 10 \\ndef foo(): \\n    x=20\\n    print(x)\\n    \\nfoo()\\nprint(x)',\n",
       "  '# 2. 함수 안에서 전역변수 변경하기\\nx = 10 \\ndef foo(): \\n    x=20\\n    print(x)\\n    \\nfoo()\\nprint(x)\\n\\ny = 30 \\ndef foo(): \\n    global y   #y=30이라이거야 전역변수로 설정\\n    print(y)\\n    \\nfoo()\\nprint(y)',\n",
       "  '# 2. 함수 안에서 전역변수 변경하기\\nx = 10 \\ndef foo(): \\n    x=20\\n    print(x)\\n    \\nfoo()\\nprint(x)\\n\\ny = 30 \\ndef foo(): \\n    global y   #y=30이라이거야 전역변수로 설정\\n    y = 20\\n    print(y)\\n    \\nfoo()\\nprint(y)',\n",
       "  '# 2. 함수 안에서 전역변수 변경하기\\nx = 10 \\ndef foo(): \\n    x=20\\n    print(x)\\n    \\nfoo()\\nprint(x)\\n\\ny = 10 \\ndef foo(): \\n    global y   #y=30이라 이거야. y는 전역변수로 설정\\n    y = 20\\n    print(y)\\n    \\nfoo()\\nprint(y)',\n",
       "  '# 2. 함수 안에서 전역변수 변경하기\\nx = 10 \\ndef foo(): \\n    x=20\\n    print(x)\\n    \\nfoo()\\nprint(x)\\n\\n#전역변수로 정의하는 방법 (1)\\ny = 10 \\ndef foo(): \\n    global y   #y=30이라 이거야. y는 전역변수로 설정\\n    y = 20\\n    print(y)\\n    \\nfoo()\\nprint(y)\\n\\n#전역변수로 정의하는 방법 (2)\\ny = 10 \\ndef foo(): \\n    global z   \\n    z = 30\\n    print(z)\\n    \\nfoo()\\nprint(z)',\n",
       "  '# 네임 스페이스\\n# 파이썬에서 네임스페이스(namespace, 이름공간)에 저장된다.\\n# 네임 스페이스를 확인하려면 locals()함수를 사용하면 현재 namespace를\\n# 딕셔너리 형태로 출력한다.\\nprint(local())',\n",
       "  '# 네임 스페이스\\n# 파이썬에서 네임스페이스(namespace, 이름공간)에 저장된다.\\n# 네임 스페이스를 확인하려면 locals()함수를 사용하면 현재 namespace를\\n# 딕셔너리 형태로 출력한다.\\nprint(locals()))',\n",
       "  '# 네임 스페이스\\n# 파이썬에서 네임스페이스(namespace, 이름공간)에 저장된다.\\n# 네임 스페이스를 확인하려면 locals()함수를 사용하면 현재 namespace를\\n# 딕셔너리 형태로 출력한다.\\nprint(locals())',\n",
       "  '# 네임 스페이스\\n# 파이썬에서 네임스페이스(namespace, 이름공간)에 저장된다.\\n# 네임 스페이스를 확인하려면 locals()함수를 사용하면 현재 namespace를\\n# 딕셔너리 형태로 출력한다.\\n#print(locals())\\n\\nlocals()'],\n",
       " '_oh': {},\n",
       " '_dh': ['d:\\\\doyeons'],\n",
       " 'In': ['',\n",
       "  \"# 함수호출 : 함수명()형태로 호출\\nget_ipython().run_line_magic('who', '')\\nhello()\",\n",
       "  \"# 함수호출 : 함수명()형태로 호출\\nget_ipython().run_line_magic('who', '')\",\n",
       "  '# 함수호출 : 함수명()형태로 호출\\nhello()',\n",
       "  '# \"hello, Python\" 이라는 문자를 출력하는  함수를 작성\\n\\ndef hello():\\n    print(\"hello,Python!!\")',\n",
       "  '# \"hello, Python\" 이라는 문자를 출력하는  함수를 작성\\n\\ndef hello():\\n    print(\"hello,Python!!\")',\n",
       "  '# \"hello, Python\" 이라는 문자를 출력하는  함수를 작성\\n\\ndef hello():\\n    print(\"hello,Python!!\")\\nhello()',\n",
       "  '# 함수호출 : 함수명()형태로 호출\\nhello()',\n",
       "  \"# 함수호출 : 함수명()형태로 호출\\nget_ipython().run_line_magic('who', '')\\nhello()\",\n",
       "  '# \"hello, Python\" 이라는 문자를 출력하는  함수를 작성\\n\\ndef hello():\\n    print(\"hello,Python!!\")\\n    \\nhello()\\n\\nprint(type(hello))',\n",
       "  '# 인자가 있는 함수 선언\\n#더하기 함수\\n\\ndef add(a, b):\\n    print(a+b)\\n    \\nadd(3,7)',\n",
       "  '# 인자가 있는 함수 선언\\n#더하기 함수\\n\\ndef add(a, b):\\n    print(a+b)\\n \\nadd(3,7)',\n",
       "  '# 인자가 있는 함수 선언\\n#더하기 함수\\n\\ndef add(a, b):\\n    print(a+ b)\\n    \\nadd(3,7)\\n\\ndef add(x, y):\\n    return x+y\\nplus(3,7)',\n",
       "  '# 인자가 있는 함수 선언\\n#더하기 함수\\n\\ndef add(a, b):\\n    print(a+ b)\\n    \\nadd(3,7)\\n\\ndef plus(x, y):\\n    return x+y      #리턴이 있는 함수는 결과값을 반환 받을수 있다.\\nplus(3,7)',\n",
       "  '# 인자가 있는 함수 선언\\n#더하기 함수\\n\\ndef add(a, b):\\n    print(a+ b)\\n    \\nadd(3,7)\\n\\ndef plus(x, y):\\n    return x+y      \\n\\nplus(3,7)\\n\\n#리턴이 있는 함수는 결과값을 반환 받을수 있다.\\nresult = plus(10, 30)\\nprint(result)',\n",
       "  \"# 인자가 없는 함수\\n\\ndef sayhello():\\n    return 'Hello?'    \",\n",
       "  \"# 인자가 없는 함수\\n\\ndef sayhello():\\n    return 'Hello?'   \\n\\nsayhello()\",\n",
       "  \"#결과값(리턴)이 없는함수\\n\\ndeg sum(i,j):\\n    print('%d + %d = %d' %(i, j, i+j))\\n    \\nsum(3,7)\\na = sum(3,7)\\nprint(a)\",\n",
       "  \"#결과값(리턴)이 없는함수\\n\\ndeg sum(i,j):\\n    print('%d + %d = %d' %(i,j,i+j))\\n    \\nsum(3,7)\\na = sum(3,7)\\nprint(a)\",\n",
       "  \"#결과값(리턴)이 없는함수\\n\\ndef sum(i,j):\\n    print('%d + %d = %d' %(i,j,i+j))\\n    \\nsum(3,7)\\na = sum(3,7)\\nprint(a)\",\n",
       "  '# 결과값(리턴)이 있는 함수 \\n\\ndef sumreturn(i,j):\\n    return i+j\\nresult = sumreturn(3,7)\\nprint(result)',\n",
       "  '# 함수를 사용하는 장점\\n# 매개변수의 순서와 상관없이 자유롭게 호출 가능하다.\\n\\nprint(sumreturn(3,7))',\n",
       "  '# 함수를 사용하는 장점\\n# 매개변수의 순서와 상관없이 자유롭게 호출 가능하다.\\n\\nprint(sumreturn(3,7))\\nprint(sumreturn(i=3,j=7))',\n",
       "  '# 함수를 사용하는 장점\\n# 매개변수의 순서와 상관없이 자유롭게 호출 가능하다.\\n\\nprint(sumreturn(3,7))\\nprint(sumreturn(i=3,j=7))\\nprint(sumreturn(j=7,i=3))',\n",
       "  '# 함수를 사용하는 장점\\n# 매개변수의 순서와 상관없이 자유롭게 호출 가능하다.\\n\\nprint(sumreturn(3,7))\\nprint(sumreturn(i=3,j=7))\\nprint(sumreturn(j=7,i=3))\\nprint(sumreturn(x=3,y=7))',\n",
       "  '# 함수를 사용하는 장점\\n# 매개변수의 순서와 상관없이 자유롭게 호출 가능하다.\\n\\nprint(sumreturn(3,7))\\nprint(sumreturn(i=3,j=7))\\nprint(sumreturn(j=7,i=3))\\n# print(sumreturn(x=3,y=7))   -> 변수이름이 틀리면 에러가 나요~',\n",
       "  '# 함수에서 여러개의 값을 반환하기\\n\\ndef multireturn(a, b):\\n    return a+b, a-b, a*b, a/b\\n\\nprint(multireturn(10,20))',\n",
       "  '# 함수에서 여러개의 값을 반환하기\\n\\ndef multireturn(a, b):\\n    return a+b, a-b, a*b, a/b\\n\\nprint(multireturn(10,20))\\nprint(type(multireturn(10,20)))',\n",
       "  '# 함수에서 여러개의 값을 반환하기\\n\\ndef multireturn(a, b):\\n    return a+b, a-b, a*b, a/b\\n\\nprint(multireturn(10,20))\\nprint(type(multireturn(10,20)))   # 타입이 튜플인걸 알수있져어~\\n\\n\\nx, y, z, a = multireturn(10,20)\\nprint(x,y,z,a)',\n",
       "  '# 함수에서 여러개의 값을 반환하기\\n\\ndef multireturn(a, b):\\n    return a+b, a-b, a*b, a/b\\n\\nprint(multireturn(10,20))\\nprint(type(multireturn(10,20)))   # 타입이 튜플인걸 알수있져어~\\n\\n\\nx, y, z, a = multireturn(10,20)\\nprint(x,y,z,a)                   # 괄호가 벗겨짐 \\nprint(type(x,y,z,a))      \\n# x,y,z = multireturn(10,20)    Error 발생! 리턴개수와 리턴받는 변수의 개수는 동일 개수여야한당',\n",
       "  '# 함수에서 여러개의 값을 반환하기\\n\\ndef multireturn(a, b):\\n    return a+b, a-b, a*b, a/b\\n\\nprint(multireturn(10,20))\\nprint(type(multireturn(10,20)))   # 타입이 튜플인걸 알수있져어~\\n\\n\\nx, y, z, a = multireturn(10,20)\\nprint(x,y,z,a)                   # 괄호가 벗겨짐 \\n     \\n# x,y,z = multireturn(10,20)    Error 발생! 리턴개수와 리턴받는 변수의 개수는 동일 개수여야한당',\n",
       "  '# args : 입력되는 값(인자,파라메타)이 여러개일 경우 정의하는 매개변수이다.\\n\\ndef manySum(*args):\\n    return a+b\\n\\nmanySum(1,2,3,4,5,6,7,8,9,10)',\n",
       "  '# args : 입력되는 값(인자,파라메타)이 여러개일 경우 정의하는 매개변수이다.\\n\\ndef manySum(*args):\\n    print(type(args))\\nmanySum(1,2,3,4,5,6,7,8,9,10)',\n",
       "  '# args : 입력되는 값(인자,파라메타)이 여러개일 경우 정의하는 매개변수이다.\\n\\ndef manySum(*args):\\n    print(type(args))\\n    print(len(args))\\n    \\nmanySum(1,2,3,4,5,6,7,8,9,10)',\n",
       "  '# args : 입력되는 값(인자,파라메타)이 여러개일 경우 정의하는 매개변수이다.\\n\\ndef manySum(*args):\\n    print(type(args))\\n    print(len(args))     \\n    \\nmanySum(1,2,3,4,5,6,7,8,9,10)\\nmanySum(1,2,3,4,5,6)',\n",
       "  '# args : 입력되는 값(인자,파라메타)이 여러개일 경우 정의하는 매개변수이다.\\n\\ndef manySum(*args):\\n    print(type(args))\\n    print(len(args))     \\n    sum = 0\\n    for i in args:\\n        sum += i\\n        \\n    return sum\\n\\nmanySum(1,2,3,4,5,6,7,8,9,10)\\nmanySum(1,2,3,4,5,6)',\n",
       "  '# args : 입력되는 값(인자,파라메타)이 여러개일 경우 정의하는 매개변수이다.\\n\\ndef manySum(*args):\\n    print(type(args))\\n    print(len(args))     \\n    sum = 0\\n    for i in args:\\n        sum += i\\n        \\n    return sum\\n\\nprint(manySum(1,2,3,4,5,6,7,8,9,10))\\nprint(manySum(1,2,3,4,5,6))',\n",
       "  '# 유동적으로 실행하는 계산기 : 사칙연산을 실행하는 계산기\\n\\ndef calculator():\\n    ',\n",
       "  \"# 유동적으로 실행하는 계산기 : 사칙연산을 실행하는 계산기\\n\\ndef calculator(operator,*args):\\n    result = 0\\n    if operator == '+' : pass    \\n    if operator == '-' : pass\\n    if operator == '*' : pass\\n    if operator == '/' : pass\\n    \\nprint(calculator('+', 1,2))\\n    \",\n",
       "  '# 유동적으로 실행하는 계산기 : 사칙연산을 실행하는 계산기\\n\\ndef calculator(operator,*args):\\n    result = 0\\n    if operator == \\'+\\' : pass    \\n    if operator == \\'-\\' : pass\\n    if operator == \\'*\\' : pass\\n    if operator == \\'/\\' : pass\\n    return\\n    print(\"아무렇게나써봐도\")\\nprint(calculator(\\'+\\', 1,2))\\n    ',\n",
       "  '# 유동적으로 실행하는 계산기 : 사칙연산을 실행하는 계산기\\n\\ndef calculator(operator,*args):\\n    result = 0\\n    if operator == \\'+\\' : pass    \\n    if operator == \\'-\\' : pass\\n    if operator == \\'*\\' : pass\\n    if operator == \\'/\\' : pass\\n    return\\n    print(\"아무렇게나써봐도 리턴되서 실행이안됨\")\\nprint(calculator(\\'+\\', 1,2))\\n    ',\n",
       "  '# 유동적으로 실행하는 계산기 : 사칙연산을 실행하는 계산기\\n\\ndef calculator(operator,*args):\\n    result = 0\\n    if operator == \\'+\\' : pass    \\n    if operator == \\'-\\' : pass\\n    if operator == \\'*\\' : pass\\n    if operator == \\'/\\' : pass\\n    return result\\n\\n    #print(\"아무렇게나써봐도 리턴되서 실행이안됨\")\\nprint(calculator(\\'+\\', 1,2))\\n    ',\n",
       "  '# 유동적으로 실행하는 계산기 : 사칙연산을 실행하는 계산기\\n\\ndef calculator(operator,*args):\\n    result = 0\\n    if operator == \\'+\\' : pass    \\n    if operator == \\'-\\' : pass\\n    if operator == \\'*\\' : pass\\n    if operator == \\'/\\' : pass\\n    return result\\n\\n    #print(\"아무렇게나써봐도 리턴되서 실행이안됨\")\\nprint(calculator(\\'+\\', 1,2))\\nprint(calculator(\\'-\\', 1,2))\\nprint(calculator(\\'*\\', 1,2))\\nprint(calculator(\\'/\\', 1,2))',\n",
       "  'def calculator(operator,*args):\\n    result = 0\\n    if operator == \\'+\\' :\\n        for i in args:\\n            result += i\\n    \\n    if operator == \\'-\\' : \\n        for i in args:\\n            result -= i \\n            \\n    if operator == \\'*\\' : \\n        result = 1\\n        for i in args:\\n            result *= i \\n            \\n    if operator == \\'/\\' :\\n        result = 1\\n        for i in args:\\n            result /= i \\n            \\n    return result\\n\\n    #print(\"아무렇게나써봐도 리턴되서 실행이안됨\")\\nprint(calculator(\\'+\\', 1,2,3,4,5))\\nprint(calculator(\\'-\\', 1,2,3,4))\\nprint(calculator(\\'*\\', 1,2,3))\\nprint(calculator(\\'/\\', 1,2))',\n",
       "  \"calculator('-',2626,3838)\",\n",
       "  '# 키워드 파라키터 kwargs\\n# kwargs는 keyword arguments의 약어이다. **kwargs는 *args와는 다르게 \\n# 별표 (*)가 두개 사용돤디.\\n# 함수인수로서 **kwargs가 key=value형태로 주어졌을때 입력값 전체가 \\n# 딕셔너리형태로 반환된다.\\n\\ndef func(**kwargs):\\n    print(kwargs)\\n    print(type(kwargs))\\n    \\nfunc(a=1)',\n",
       "  \"# 키워드 파라키터 kwargs\\n# kwargs는 keyword arguments의 약어이다. **kwargs는 *args와는 다르게 \\n# 별표 (*)가 두개 사용돤디.\\n# 함수인수로서 **kwargs가 key=value형태로 주어졌을때 입력값 전체가 \\n# 딕셔너리형태로 반환된다.\\n\\ndef func(**kwargs):\\n    print(kwargs)\\n    print(type(kwargs))\\n    \\nfunc(a=1)\\nfunc(name ='홍길동',age=1,adress='상주')\\n#func(1)  ->Error 발생 즉, **kwargs 는 key =value가 한쌍으로 전달되어야 한다.\",\n",
       "  \"def func1(*args,**kwargs):\\n    print(args, kwargs)\\n    \\nfunc1(name ='홍길동',age=1,adress='상주')\",\n",
       "  \"def func1(*args,**kwargs):\\n    print(args, kwargs)\\n    \\nfunc1(2,3,4,name ='홍길동',age=1,adress='상주')\",\n",
       "  \"def func1(*args,**kwargs):\\n    print(args, kwargs)\\n    \\nfunc1(2,3,4,name ='홍길동',age=1,adress='상주')\\nfunc1(2,3,4,name ='홍길동',age=1,adress='상주',7,8,9) \",\n",
       "  \"def func1(*args,**kwargs):\\n    print(args, kwargs)\\n    \\nfunc1(2,3,4,name ='홍길동',age=1,adress='상주')\\n# func1(2,3,4,name ='홍길동',age=1,adress='상주',7,8,9)  # ERROR !  7,8,9  추가되는부분때문에 에러걸림  \\n                                                                  # 즉,순서가 일치해야한다 앞엔 arg,뒤엔 kwargs여야햄\",\n",
       "  \"def func1(*args,**kwargs):\\n    print(args, kwargs)\\n    \\nfunc1(2,3,4,5,name ='홍길동',age=1,adress='상주')\\n# func1(2,3,4,name ='홍길동',age=1,adress='상주',7,8,9)  # ERROR !  7,8,9  추가되는부분때문에 에러걸림  \\n                                                                  # 즉,순서가 일치해야한다 앞엔 arg,뒤엔 kwargs여야햄\",\n",
       "  \"# 개인정보를 출력하는 함수 예제 \\n\\ndef personal_info(name, age , addr):\\n    print('이름=',name)\\n    print('나이=',age)\\n    print('주소=',addr)\\n    \\npersonal_info('도연', 29, '서울')\\npersonal_info(28,'서울','도연')\",\n",
       "  '# 개인정보를 출력하는 함수 예제 \\n\\ndef personal_info(name, age , addr):\\n    print(\\'이름=\\',name)\\n    print(\\'나이=\\',age)\\n    print(\\'주소=\\',addr)\\n    \\npersonal_info(\\'도연\\', 29, \\'서울\\')\\npersonal_info(28,\\'서울\\',\\'도연\\')  # 에러는 아니지만 자료 정보 불일치 발생\\npersonal_info(age=40,addr=\\'인천\\',name=\"소향\")',\n",
       "  \"x = {'name':'Doyoni','age':25 ,'addr':'Seoul' }\\npersonal_info(**x)\\n# personal_info( name='Doyoni',age=25 ,addr='Seoul' )과 동일하다! \\npersonal_info(*x)\",\n",
       "  '# 함수의 반환값은 하나이다.  이렇게 = > (~,~,~,) \\n\\ndef sum_and_mul(a+b):\\n    return a+b, a*b\\n\\nresult = sum_and_mul(2,3)   #  한개의 값  즉, 한개의 튜플로 리턴된다 \\nprint(result)',\n",
       "  '# 함수의 반환값은 하나이다.  이렇게 = > (~,~,~,) \\n\\ndef sum_and_mul(a,b):\\n    return a+b, a*b\\n\\nresult = sum_and_mul(2,3)   #  한개의 값  즉, 한개의 튜플로 리턴된다 \\nprint(result)',\n",
       "  '# 함수의 반환값은 하나이다.  \\n\\ndef sum_and_mul(a,b):\\n    return a+b, a*b\\n\\nresult = sum_and_mul(2,3)   #  한개의 값  즉, 한개의 튜플로 리턴된다   ... 이렇게 = > (~,~,~,) \\nprint(result)\\n\\n\\ndef sum_and_minus(a,b):\\n    return a+b             # 실행을 중단하라는 의미도 있다.\\n    return a-b             # 에러는 안나지만 실행은 되지않는다.',\n",
       "  '# 함수의 반환값은 하나이다.  \\n\\ndef sum_and_mul(a,b):\\n    return a+b, a*b\\n\\nresult = sum_and_mul(2,3)   #  한개의 값  즉, 한개의 튜플로 리턴된다   ... 이렇게 = > (~,~,~,) \\nprint(result)\\n\\n\\ndef sum_and_minus(a,b):\\n    return a+b             # 실행을 중단하라는 의미도 있다.\\n    return a-b             # 에러는 안나지만 실행은 되지않는다.\\n\\nprint(sum_and_minus(3,4))',\n",
       "  'def calculator(operator,*args):\\n    result = 0\\n    if operator == \\'+\\' :\\n        for i in args:\\n            result += i\\n    \\n    if operator == \\'-\\' : \\n        for i in args:\\n            result -= i \\n            \\n    if operator == \\'*\\' : \\n        result = 1\\n        for i in args:\\n            result *= i \\n            \\n    if operator == \\'/\\' :\\n        result = 1\\n        for i in args:\\n            result /= i \\n            \\n    return result\\n\\n    #print(\"아무렇게나써봐도 리턴되서 실행이안됨\")\\nprint(calculator(\\'+\\', 1,2,3,4,5))\\nprint(calculator(\\'-\\', 1,2,3,4))\\nprint(calculator(\\'*\\', 1,2,3))\\nprint(calculator(\\'/\\', 10,5))',\n",
       "  'def calculator(operator,*args):\\n    result = 0\\n    if operator == \\'+\\' :\\n        for i in args:\\n            result += i\\n    \\n    if operator == \\'-\\' : \\n        for i in args:\\n            result -= i \\n            \\n    if operator == \\'*\\' : \\n        result = 1\\n        for i in args:\\n            result *= i \\n            \\n    if operator == \\'/\\' :\\n        result = 1\\n        for i in args:\\n            result /= i \\n            \\n    return result\\n\\n    #print(\"아무렇게나써봐도 리턴되서 실행이안됨\")\\nprint(calculator(\\'+\\', 1,2,3,4,5))\\nprint(calculator(\\'-\\', 1,2,3,4))\\nprint(calculator(\\'*\\', 1,2,3))\\nprint(calculator(\\'/\\', 5,10))',\n",
       "  '# 매개변수에서 초기값을 사전에 설정하기\\n\\ndef selfintro(name,age,gender=False):\\n    print(\"내이름은 %s 입니다. 나이는  %d살 입니다.\" % (name,age))',\n",
       "  '# 매개변수에서 초기값을 사전에 설정하기\\n\\ndef selfintro(name,age,gender=False):\\n    print(\"내이름은 %s 입니다. 나이는  %d살 입니다.\" % (name,age))\\n    \\nselfintro(\\'공주\\',27)',\n",
       "  '# 매개변수에서 초기값을 사전에 설정하기\\n\\ndef selfintro(name,age,gender=False):\\n    print(\"내이름은 %s 입니다. 나이는  %d살 입니다.\" % (name,age))\\n    if gender:\\n        print(\\' 숫놈 입니다!!\\')\\n    else:\\n        print(\\'나는 여자입니다!\\')\\n    \\n    \\nselfintro(\\'공주\\',27)\\nselfintro(\\'흥선대원군\\',100,True)',\n",
       "  '# 매개변수에서 초기값을 사전에 설정하기\\n\\ndef selfintro(name,gender=False,age):\\n    print(\"내이름은 %s 입니다. 나이는  %d살 입니다.\" % (name,age))\\n    if gender:\\n        print(\\' 숫놈 입니다!!\\')\\n    else:\\n        print(\\'나는 여자입니다!\\')\\n    \\n    \\nselfintro(\\'공주\\',27)\\nselfintro(\\'흥선대원군\\',100,True)',\n",
       "  '# 매개변수에서 초기값을 사전에 설정하기\\n\\ndef selfintro(name,age,gender=False):\\n    print(\"내이름은 %s 입니다. 나이는  %d살 입니다.\" % (name,age))\\n    if gender:\\n        print(\\' 숫놈 입니다!!\\')\\n    else:\\n        print(\\'나는 여자입니다!\\')\\n    \\n    \\nselfintro(\\'공주\\',27)\\nselfintro(\\'흥선대원군\\',100,True)',\n",
       "  '# 매개변수 초기값을 설정할때 주의사항\\n# 초기화 시킬 매개변수는 항상 맨뒤에 위치시켜야한다. \\n\\n\\ndef selfintro(name,gender=False,age):\\n    print(\"내이름은 %s 입니다. 나이는  %d살 입니다.\" % (name,age))\\n    if gender:\\n        print(\\' 숫놈 입니다!!\\')\\n    else:\\n        print(\\'나는 여자입니다!\\')\\n    \\n    \\nselfintro(\\'공주\\',27)\\nselfintro(\\'흥선대원군\\',100,True)\\nselfintro(\\'공주\\',False, 27)',\n",
       "  \"# 1. 홀수,짝수를 구별하는 is_odd()함수를 작성\\n# 주어진 숫자가 홀수인지 작수인지를 구별해서  '짝수입니다' 혹은 '홀수입니다.'를 출력하세요.\\n#is_odd(number)\\n\\ndef is_odd(number):\\n    if number%2==0 :   #(num % 2= 0 이면 짝수)\\n        \\nprint(is_odd(6))        \\n\\n    \",\n",
       "  '# 1. 홀수,짝수를 구별하는 is_odd()함수를 작성\\n# 주어진 숫자가 홀수인지 작수인지를 구별해서  \\'짝수입니다\\' 혹은 \\'홀수입니다.\\'를 출력하세요.\\n#is_odd(number)\\n\\ndef is_odd(number):\\n    if number%2==0 :   #(num % 2= 0 이면 짝수)\\n        print(\"짝수입니다\")\\n    else:\\n        print(\\'홀수입니다\\')\\nprint(is_odd(6))        \\n\\n    ',\n",
       "  '# 1. 홀수,짝수를 구별하는 is_odd()함수를 작성\\n# 주어진 숫자가 홀수인지 작수인지를 구별해서  \\'짝수입니다\\' 혹은 \\'홀수입니다.\\'를 출력하세요.\\n#is_odd(number)\\n\\ndef is_odd(number):\\n    if number%2==0 :   #(num % 2= 0 이면 짝수)\\n        print(\"짝수입니다\")\\n    else:\\n        print(\\'홀수입니다\\')\\n        \\n#print(is_odd(6))        \\n\\n    ',\n",
       "  '# 1. 홀수,짝수를 구별하는 is_odd()함수를 작성\\n# 주어진 숫자가 홀수인지 작수인지를 구별해서  \\'짝수입니다\\' 혹은 \\'홀수입니다.\\'를 출력하세요.\\n#is_odd(number)\\n\\ndef is_odd(number):\\n    if number%2==0 :   #(num % 2= 0 이면 짝수)\\n        print(\"짝수입니다\")\\n    else:\\n        print(\\'홀수입니다\\')\\n        \\nprint(is_odd(6))        \\n\\n    ',\n",
       "  '# 1. 홀수,짝수를 구별하는 is_odd()함수를 작성\\n# 주어진 숫자가 홀수인지 작수인지를 구별해서  \\'짝수입니다\\' 혹은 \\'홀수입니다.\\'를 출력하세요.\\n#is_odd(number)\\n\\ndef is_odd(number):\\n    if number%2==0 :   #(num % 2= 0 이면 짝수)\\n        print(\"짝수입니다\")\\n    else:\\n        print(\\'홀수입니다\\')\\n        \\nprint(is_odd(6))        \\n\\nprint(is_odd(7))    ',\n",
       "  'def manySum(*args):\\n       \\n    sum = 0\\n    for i in args:\\n        sum += i\\n        \\n    return sum\\n\\nprint(manySum(1,2,3,4,5,6,7,8,9,10))\\nprint(manySum(1,2,3,4,5,6))',\n",
       "  'def manySum(*args):\\n   \\n    print(len(args))     \\n    sum = 0\\n    for i in args:\\n        sum += i\\n        \\n    return sum\\n\\nprint(manySum(1,2,3,4,5,6,7,8,9,10))\\nprint(manySum(1,2,3,4,5,6))',\n",
       "  '# 3.구구단을 출력하는 함수 gugudan() 함수를 작성\\n# 입력값은 2~9단까지 한개의 임의의 단을 작성\\n# gugudan(9)',\n",
       "  'def manySum(*args):\\n   \\n    print(len(args))     \\n    sum = 0\\n    for i in args:\\n        sum += i\\n        \\n    return sum\\n\\nprint(manySum(1,2,3,4,5,6,7,8,9,10))',\n",
       "  'def manySum(*args):\\n      \\n    sum = 0\\n    for i in args:\\n        sum += i\\n        \\n    return / print(len(args))  \\n\\nprint(manySum(1,2,3,4,5,6,7,8,9,10))',\n",
       "  'def manySum(*args):\\n      \\n    sum = 0\\n    for i in args:\\n        sum += i\\n        \\n    return  print(len(args))  \\n\\nprint(manySum(1,2,3,4,5,6,7,8,9,10))',\n",
       "  'def manySum(*args):\\n      \\n    sum = 0\\n    for i in args:\\n        sum += i\\n        \\n    return sum / print(len(args))  \\n\\nprint(manySum(1,2,3,4,5,6,7,8,9,10))',\n",
       "  'def manySum(*args):\\n      \\n    sum = 0\\n    for i in args:\\n        sum += i\\n        \\n    return sum / len(args)\\n\\nprint(manySum(1,2,3,4,5,6,7,8,9,10))',\n",
       "  '# 2.입력된 모든 수의 평균을 계산하는 funcAvg()함수를 작성\\n# 단, 입력매개변수의 갯수는 정해져 있지 않다.\\n# funcAvg()\\n\\ndef funcAvg(*args):\\n      sum = 0\\n    for i in args:\\n        sum += i\\n        \\n    return sum / len(args)\\n\\nprint(funcAvg(1,2,3,4,5,6,7,8,9,10))',\n",
       "  '# 2.입력된 모든 수의 평균을 계산하는 funcAvg()함수를 작성\\n# 단, 입력매개변수의 갯수는 정해져 있지 않다.\\n# funcAvg()\\n\\ndef funcAvg(*args):\\n    sum = 0\\n    for i in args:\\n        sum += i\\n        \\n    return sum / len(args)\\n\\nprint(funcAvg(1,2,3,4,5,6,7,8,9,10))',\n",
       "  '# 2.입력된 모든 수의 평균을 계산하는 funcAvg()함수를 작성\\n# 단, 입력매개변수의 갯수는 정해져 있지 않다.\\n# funcAvg()\\n\\ndef funcAvg(*args):\\n    sum = 0\\n    for i in args:\\n        sum += i\\n        \\n    return sum / len(args)\\n\\nprint(funcAvg(1,2,3,4,5,6,7,8,9,10,11))',\n",
       "  '# 4.리스트 [2,3,4,5,6,7,8]에서 5보다 큰수만 리턴하는 funcReturn()함수작성\\n\\nl1=[2,3,4,5,6,7,8]\\n\\ndef funcReturn(*args):\\n    sum = 0\\n    if args >5:\\n        print(args)',\n",
       "  '# 4.리스트 [2,3,4,5,6,7,8]에서 5보다 큰수만 리턴하는 funcReturn()함수작성\\n\\nl1=[2,3,4,5,6,7,8]\\n\\ndef funcReturn(*args):\\n    sum = 0\\n    if args >5:\\n        print(args)',\n",
       "  '# 4.리스트 [2,3,4,5,6,7,8]에서 5보다 큰수만 리턴하는 funcReturn()함수작성\\n\\nl1=[2,3,4,5,6,7,8]\\n\\ndef funcReturn(*args):\\n    sum = 0\\n    if args >5:\\n        print(funcReturn(args))',\n",
       "  '# 4.리스트 [2,3,4,5,6,7,8]에서 5보다 큰수만 리턴하는 funcReturn()함수작성\\n\\nl1=[2,3,4,5,6,7,8]\\n\\ndef funcReturn(*args):\\n    sum = 0\\n    if args >5:\\n\\nprint(funcReturn(args))',\n",
       "  '# 4.리스트 [2,3,4,5,6,7,8]에서 5보다 큰수만 리턴하는 funcReturn()함수작성\\n\\nl1=[2,3,4,5,6,7,8]\\n\\ndef funcReturn(*args):\\n    sum = 0\\n    if args >5:\\n\\nprint(funcReturn(l1))',\n",
       "  '# 4.리스트 [2,3,4,5,6,7,8]에서 5보다 큰수만 리턴하는 funcReturn()함수작성\\n\\nl1=[2,3,4,5,6,7,8]\\n\\ndef funcReturn(*args):\\n    print(args)\\n    \\n\\nprint(funcReturn(l1))',\n",
       "  '# 4.리스트 [2,3,4,5,6,7,8]에서 5보다 큰수만 리턴하는 funcReturn()함수작성\\n\\nl1=[2,3,4,5,6,7,8]\\n\\ndef funcReturn(list):\\n    for i in list :\\n        if list>5:\\n            \\n    \\n\\nprint(funcReturn(l1))',\n",
       "  '# 4.리스트 [2,3,4,5,6,7,8]에서 5보다 큰수만 리턴하는 funcReturn()함수작성\\n\\nl1=[2,3,4,5,6,7,8]\\n\\ndef funcReturn(list):\\n    for i in list :\\n        if i > 5:\\n            \\n            \\n    \\n\\nprint(funcReturn(l1))',\n",
       "  '# 4.리스트 [2,3,4,5,6,7,8]에서 5보다 큰수만 리턴하는 funcReturn()함수작성\\n\\nl1=[2,3,4,5,6,7,8]\\n\\ndef funcReturn(list):\\n    for i in list :\\n        if i > 5:\\n            \\n          \\n          \\n\\nprint(funcReturn(l1))',\n",
       "  '# 4.리스트 [2,3,4,5,6,7,8]에서 5보다 큰수만 리턴하는 funcReturn()함수작성\\n\\nl1=[2,3,4,5,6,7,8]\\n\\ndef funcReturn(list):\\n    for i in list :\\n        if i > 5:\\n        return    \\n          \\n          \\n\\nprint(funcReturn(l1))',\n",
       "  '# 4.리스트 [2,3,4,5,6,7,8]에서 5보다 큰수만 리턴하는 funcReturn()함수작성\\n\\nl1=[2,3,4,5,6,7,8]\\n\\ndef funcReturn(list):\\n    for i in list :\\n        if i > 5:\\n        return = i   \\n          \\n          \\n\\nprint(funcReturn(l1))',\n",
       "  '# 4.리스트 [2,3,4,5,6,7,8]에서 5보다 큰수만 리턴하는 funcReturn()함수작성\\n\\nl1=[2,3,4,5,6,7,8]\\n\\ndef funcReturn(list):\\n    for i in list :\\n        if i > 5:\\n        return i   \\n          \\n          \\n\\nprint(funcReturn(l1))',\n",
       "  '# 4.리스트 [2,3,4,5,6,7,8]에서 5보다 큰수만 리턴하는 funcReturn()함수작성\\n\\nl1=[2,3,4,5,6,7,8]\\n\\ndef funcReturn(list):\\n    for i in list :\\n        if i > 5:\\n            return i   \\n          \\n          \\n\\nprint(funcReturn(l1))',\n",
       "  '# 4.리스트 [2,3,4,5,6,7,8]에서 5보다 큰수만 리턴하는 funcReturn()함수작성\\n\\nl1=[2,3,4,5,6,7,8]\\n\\ndef funcReturn(list):\\n    for i in list :\\n        if i > 5:\\n            return i   \\n          \\n          \\n\\n    print(funcReturn(l1))',\n",
       "  'def funcAvg(*args):\\n    sum = 0\\n    for i in args:\\n        sum += i\\n        \\n    return sum / len(args)\\n\\nprint(funcAvg(1,2,3,4,5,6,7,8,9,10,11))',\n",
       "  '# 4.리스트 [2,3,4,5,6,7,8]에서 5보다 큰수만 리턴하는 funcReturn()함수작성\\n\\nl1=[2,3,4,5,6,7,8]\\n\\ndef funcReturn(list):\\n    for i in list :\\n        if i > 5:\\n            return i   \\n          \\n          \\nprint(funcReturn(l1))',\n",
       "  '# 1. 홀수,짝수를 구별하는 is_odd()함수를 작성\\n# 주어진 숫자가 홀수인지 작수인지를 구별해서  \\'짝수입니다\\' 혹은 \\'홀수입니다.\\'를 출력하세요.\\n#is_odd(number)\\n\\ndef is_odd(number):\\n    if number % 2 ==0 :   #(num % 2= 0 이면 짝수)\\n        print(\"짝수입니다\")\\n    else:\\n        print(\"홀수입니다\")\\n        \\nprint(is_odd(6))        \\n\\nprint(is_odd(7))    ',\n",
       "  '# 1. 홀수,짝수를 구별하는 is_odd()함수를 작성\\n# 주어진 숫자가 홀수인지 작수인지를 구별해서  \\'짝수입니다\\' 혹은 \\'홀수입니다.\\'를 출력하세요.\\n#is_odd(number)\\n\\ndef is_odd(number):\\n    if number % 2 ==0 :   #(num % 2= 0 이면 짝수)\\n        print(\"짝수입니다\")\\n    else:\\n        print(\"홀수입니다\")\\n   \\n\\nresult = isodd(2)\\nprint(result)        \\n\\nprint(is_odd(7))    ',\n",
       "  '# 1. 홀수,짝수를 구별하는 is_odd()함수를 작성\\n# 주어진 숫자가 홀수인지 작수인지를 구별해서  \\'짝수입니다\\' 혹은 \\'홀수입니다.\\'를 출력하세요.\\n#is_odd(number)\\n\\ndef is_odd(number):\\n    if number % 2 ==0 :   #(num % 2= 0 이면 짝수)\\n        return \"짝수입니다\"\\n    else:\\n        return \"홀수입니다\"\\n   \\n\\nresult = is_odd(2)\\nprint(result)        \\n\\nprint(is_odd(7))    ',\n",
       "  'def plus(a,b):\\n    return a+b\\nprint(plus(1,1))',\n",
       "  'def plus(a,b):\\n    return a+b\\nprint(plus(1,1))\\n\\n\\n# 위에껄 람다(lambda)식으로 표현해보자~\\n\\nsumLambda = lambda a,b:a+b\\nprint(1,3)',\n",
       "  'def plus(a,b):\\n    return a+b\\nprint(plus(1,1))\\n\\n\\n# 위에껄 람다(lambda)식으로 표현해보자~\\n\\nsumLambda = lambda a,b:a+b\\nprint(sumLambda)',\n",
       "  'def plus(a,b):\\n    return a+b\\nprint(plus(1,1))\\n\\n\\n# 위에껄 람다(lambda)식으로 표현해보자~\\n\\nsumLambda = lambda a,b:a+b\\nprint(sumLambda)\\nprint(plus)',\n",
       "  'def plus(a,b):\\n    return a+b\\nprint(plus(1,1))\\n\\n\\n# 위에껄 람다(lambda)식으로 표현해보자~\\n\\nsumLambda = lambda a,b:a+b\\nprint(sumLambda)\\nprint(plus(1,2))',\n",
       "  'def plus(a,b):\\n    return a+b\\nprint(plus(1,1))\\n\\n\\n# 위에껄 람다(lambda)식으로 표현해보자~\\n\\nsumLambda = lambda a,b:a+b\\nprint(sumLambda)\\nprint(plus(1,2))\\nprint(sumLambda(1,4))',\n",
       "  '# lambda식이 나오게 된 가장 큰 이유는 def보다 간결하게 사용할 수 있기 때문이다.\\n# 또한 def가 사용할수 없는 곳에도 사용할 수 있다.\\n\\nmyList = [def sum(x,y):x+y,def mul(x,y):x*y]\\ndef sum(x,y):x+y\\ndef mul(x,y):x*y\\nmyList = [sum, mul]',\n",
       "  '# lambda식이 나오게 된 가장 큰 이유는 def보다 간결하게 사용할 수 있기 때문이다.\\n# 또한 def가 사용할수 없는 곳에도 사용할 수 있다.\\n\\n# myList = [def sum(x,y):x+y,def mul(x,y):x*y]\\n# 위 에꺼는 에러가 발생하기 때문에 아랴와 같이 정의 할 수있다.\\n\\ndef sum(x,y):x+y\\ndef mul(x,y):x*y\\nmyList = [sum, mul]\\nprint(type(myList[0]))',\n",
       "  '# lambda식이 나오게 된 가장 큰 이유는 def보다 간결하게 사용할 수 있기 때문이다.\\n# 또한 def가 사용할수 없는 곳에도 사용할 수 있다.\\n\\n# myList = [def sum(x,y):x+y,def mul(x,y):x*y]\\n# 위 에꺼는 에러가 발생하기 때문에 아랴와 같이 정의 할 수있다.\\n\\ndef sum(x,y):x+y\\ndef mul(x,y):x*y\\nmyList = [sum, mul]\\nprint(type(myList[0]))\\nprint(myList[0],sum(1,2))',\n",
       "  '# lambda식이 나오게 된 가장 큰 이유는 def보다 간결하게 사용할 수 있기 때문이다.\\n# 또한 def가 사용할수 없는 곳에도 사용할 수 있다.\\n\\n# myList = [def sum(x,y):x+y,def mul(x,y):x*y]\\n# 위 에꺼는 에러가 발생하기 때문에 아랴와 같이 정의 할 수있다.\\n\\ndef sum(x,y):return x+y\\ndef mul(x,y):return x*y\\nmyList = [sum, mul]\\nprint(type(myList[0]))\\nprint(myList[0],sum(1,2))\\n\\n# lamda 로 list정의 \\n\\nmyList = [lambda a,b:a+b,lambda a,b:a*b]',\n",
       "  '# lambda식이 나오게 된 가장 큰 이유는 def보다 간결하게 사용할 수 있기 때문이다.\\n# 또한 def가 사용할수 없는 곳에도 사용할 수 있다.\\n\\n# myList = [def sum(x,y):x+y,def mul(x,y):x*y]\\n# 위 에꺼는 에러가 발생하기 때문에 아랴와 같이 정의 할 수있다.\\n\\ndef sum(x,y):return x+y\\ndef mul(x,y):return x*y\\nmyList = [sum, mul]\\nprint(type(myList[0]))\\nprint(myList[0],(1,2))\\n\\n# lamda 로 list정의 \\n\\nmyList = [lambda a,b:a+b,lambda a,b:a*b]',\n",
       "  '# lambda식이 나오게 된 가장 큰 이유는 def보다 간결하게 사용할 수 있기 때문이다.\\n# 또한 def가 사용할수 없는 곳에도 사용할 수 있다.\\n\\n# myList = [def sum(x,y):x+y,def mul(x,y):x*y]\\n# 위 에꺼는 에러가 발생하기 때문에 아랴와 같이 정의 할 수있다.\\n\\ndef sum(x,y):return x+y\\ndef mul(x,y):return x*y\\nmyList = [sum, mul]\\nprint(type(myList[0]))\\nprint(myList[0](1,2))\\n\\n# lamda 로 list정의 \\n\\nmyList = [lambda a,b:a+b,lambda a,b:a*b]',\n",
       "  '# lambda식이 나오게 된 가장 큰 이유는 def보다 간결하게 사용할 수 있기 때문이다.\\n# 또한 def가 사용할수 없는 곳에도 사용할 수 있다.\\n\\n# myList = [def sum(x,y):return x+y,def mul(x,y):return x*y]\\n# 위 에꺼는 에러가 발생하기 때문에 아랴와 같이 정의 할 수있다.\\n\\ndef sum(x,y):return x+y\\ndef mul(x,y):return x*y\\nmyList = [sum, mul]\\nprint(type(myList[0]))\\nprint(myList[0](1,2))\\nprint(myList[0](3,2))\\n# lamda 로 list정의 \\n\\nmyList = [lambda a,b:a+b,lambda a,b:a*b]',\n",
       "  '# lambda식이 나오게 된 가장 큰 이유는 def보다 간결하게 사용할 수 있기 때문이다.\\n# 또한 def가 사용할수 없는 곳에도 사용할 수 있다.\\n\\n# myList = [def sum(x,y):return x+y,def mul(x,y): x*y]\\n# 위 에꺼는 에러가 발생하기 때문에 아랴와 같이 정의 할 수있다.\\n\\ndef sum(x,y):return x+y\\ndef mul(x,y): x*y\\nmyList = [sum, mul]\\nprint(type(myList[0]))\\nprint(myList[0](1,2))    #리턴이 있음 \\nprint(myList[1](3,2))   #리턴이 없음\\n\\n\\n# lamda 로 list정의 \\n\\nmyList = [lambda a,b:a+b,lambda a,b:a*b]',\n",
       "  '# lambda식이 나오게 된 가장 큰 이유는 def보다 간결하게 사용할 수 있기 때문이다.\\n# 또한 def가 사용할수 없는 곳에도 사용할 수 있다.\\n\\n# myList = [def sum(x,y):return x+y,def mul(x,y): x*y]\\n# 위 에꺼는 에러가 발생하기 때문에 아랴와 같이 정의 할 수있다.\\n\\ndef sum(x,y):return x+y\\ndef mul(x,y): x*y\\nmyList = [sum, mul]\\nprint(type(myList))\\nprint(type(myList[0]))\\nprint(myList[0](1,2))    #리턴이 있음 \\nprint(myList[1](3,2))   #리턴이 없음\\n\\n\\n# lamda 로 list정의 \\n\\nmyList = [lambda a,b:a+b,lambda a,b:a*b]',\n",
       "  '# lambda식이 나오게 된 가장 큰 이유는 def보다 간결하게 사용할 수 있기 때문이다.\\n# 또한 def가 사용할수 없는 곳에도 사용할 수 있다.\\n\\n# myList = [def sum(x,y):return x+y,def mul(x,y): x*y]\\n# 위 에꺼는 에러가 발생하기 때문에 아랴와 같이 정의 할 수있다.\\n\\ndef sum(x,y):return x+y\\ndef mul(x,y): x*y\\nmyList = [sum, mul]\\nprint(type(myList))\\nprint(type(myList[0]))\\nprint(myList[0](1,2))    #리턴이 있음 \\nprint(myList[1](3,2))   #리턴이 없음\\n\\n\\n# lamda 로 list정의 \\n\\nmyList = [lambda a,b:a+b,lambda a,b:a*b]\\nprint(type(myList))\\nprint(type(myList[0]))',\n",
       "  '# lambda식이 나오게 된 가장 큰 이유는 def보다 간결하게 사용할 수 있기 때문이다.\\n# 또한 def가 사용할수 없는 곳에도 사용할 수 있다.\\n\\n# myList = [def sum(x,y):return x+y,def mul(x,y): x*y]\\n# 위 에꺼는 에러가 발생하기 때문에 아랴와 같이 정의 할 수있다.\\n\\ndef sum(x,y):return x+y\\ndef mul(x,y): x*y\\nmyList = [sum, mul]\\nprint(type(myList))\\nprint(type(myList[0]))\\nprint(myList[0](1,2))    #리턴이 있음 \\nprint(myList[1](3,2))   #리턴이 없음\\n\\n\\n# lamda 로 list정의 \\n\\nmyList = [lambda a,b:a+b,lambda a,b:a*b]\\nprint(type(myList))\\nprint(type(myList[0]))\\nprint(myList[0](3,2)) \\nprint(myList[1](3,2)) ',\n",
       "  '# 1. 홀수,짝수를 구별하는 is_odd()함수를 작성\\n# 주어진 숫자가 홀수인지 작수인지를 구별해서  \\'짝수입니다\\' 혹은 \\'홀수입니다.\\'를 출력하세요.\\n#is_odd(number)\\n\\ndef is_odd(number):\\n    if number % 2 ==0 :   #(num % 2= 0 이면 짝수)\\n        return \"짝수입니다\"\\n    else:\\n        return \"홀수입니다\"\\n   \\n\\n result= is_odd(2)\\nprint(result)        \\n\\nprint(is_odd(7))    ',\n",
       "  '# 1. 홀수,짝수를 구별하는 is_odd()함수를 작성\\n# 주어진 숫자가 홀수인지 작수인지를 구별해서  \\'짝수입니다\\' 혹은 \\'홀수입니다.\\'를 출력하세요.\\n#is_odd(number)\\n\\ndef is_odd(number):\\n    if number % 2 ==0 :   #(num % 2= 0 이면 짝수)\\n        return \"짝수입니다\"\\n    else:\\n        return \"홀수입니다\"\\n   \\n\\nresult= is_odd(2)\\nprint(result)        \\n\\nprint(is_odd(7))    ',\n",
       "  '# 1.문제를 lambda 식으로 풀어보자\\n\\nisoddLambda = lambda x : \"짝수입니다\" if x%2==0 else \"홀수입니다.\"\\nprint(isoddLambda(2))',\n",
       "  '# 1.문제를 lambda 식으로 풀어보자\\n\\nisoddLambda = lambda x : \"짝수입니다\" if x%2==0 else \"홀수입니다.\"\\nprint(isoddLambda(2))\\nprint(isoddLambda(3))',\n",
       "  '# 2.입력된 모든 수의 평균을 계산하는 funcAvg()함수를 작성\\n# 단, 입력매개변수의 갯수는 정해져 있지 않다.\\n# funcAvg()\\n\\ndef funcAvg(*args):\\n    sum = 0\\n    for i in args:\\n        sum += i\\n        \\n    return sum / len(args)\\n\\nprint(funcAvg(1,2,3,4,5,6,7,8,9,10,11))\\n\\n ===============쌤 풀이 =================',\n",
       "  '# 2.입력된 모든 수의 평균을 계산하는 funcAvg()함수를 작성\\n# 단, 입력매개변수의 갯수는 정해져 있지 않다.\\n# funcAvg()\\n\\ndef funcAvg(*args):\\n    sum = 0\\n    for i in args:\\n        sum += i\\n        \\n    return sum / len(args)\\n\\nprint(funcAvg(1,2,3,4,5,6,7,8,9,10,11))\\n\\n # ===============쌤 풀이 =================\\n\\ndef funcAvg(*a):\\n    result = 0\\n    for i in a:\\n        result += i\\n    return result / len(a)\\n\\nprint(funcAvg(1,2))',\n",
       "  '# 2.입력된 모든 수의 평균을 계산하는 funcAvg()함수를 작성\\n# 단, 입력매개변수의 갯수는 정해져 있지 않다.\\n# funcAvg()\\n\\ndef funcAvg(*args):\\n    sum = 0\\n    for i in args:\\n        sum += i\\n        \\n    return sum / len(args)\\n\\nprint(funcAvg(1,2,3,4,5,6,7,8,9,10,11))\\n\\n # ===============쌤 풀이 =================\\n\\ndef funcAvg(*a):\\n    result = 0\\n    for i in a:\\n        result += i\\n    return result / len(a)\\n\\nprint(funcAvg(1,2))\\nprint(funcAvg(1,2.67))',\n",
       "  '# 2.입력된 모든 수의 평균을 계산하는 funcAvg()함수를 작성\\n# 단, 입력매개변수의 갯수는 정해져 있지 않다.\\n# funcAvg()\\n\\ndef funcAvg(*args):\\n    sum = 0\\n    for i in args:\\n        sum += i\\n        \\n    return sum / len(args)\\n\\nprint(funcAvg(1,2,3,4,5,6,7,8,9,10,11))\\n\\n # ===============쌤 풀이 =================\\n\\ndef funcAvg(*a):\\n    result = 0\\n    for i in a:\\n        result += i\\n    return result / len(a)\\n\\nprint(funcAvg(1,2))\\nprint(funcAvg(1,2,6,7))',\n",
       "  \"# 3.구구단을 출력하는 함수 gugudan() 함수를 작성\\n# 입력값은 2~9단까지 한개의 임의의 단을 작성\\n# gugudan(9)\\n\\ndef gugudan(x):\\n    for i in range(1,10):\\n        print('%d * %d = %2d')% (x,i,x*i)\\n\\ngugudan(8)\",\n",
       "  \"# 3.구구단을 출력하는 함수 gugudan() 함수를 작성\\n# 입력값은 2~9단까지 한개의 임의의 단을 작성\\n# gugudan(9)\\n\\ndef gugudan(x):\\n    for i in range(1,10):\\n        print('%d * %d = %2d')% (x,i,x*i))\\n\\ngugudan(8)\",\n",
       "  \"# 3.구구단을 출력하는 함수 gugudan() 함수를 작성\\n# 입력값은 2~9단까지 한개의 임의의 단을 작성\\n# gugudan(9)\\n\\ndef gugudan(x):\\n    for i in range(1,10):\\n        print(('%d * %d = %2d')% (x,i, x*i))\\n\\ngugudan(8)\",\n",
       "  '#=========선생님 풀이=========\\nl=[]\\ndef funcReturn(numbers):\\n    for num in numbers:\\n        if num > 5 :l.append(num)\\n    return l\\nfuncReturn([1,2,3,4,5,6,7,8])',\n",
       "  '#=========선생님 풀이=========\\nl=[]\\ndef funcReturn(numbers):\\n    for num in numbers:\\n        if num > 5 :l.append(num)\\n    return l\\nfuncReturn([1,2,3,4,5,6,7,8])\\n\\n# lambda식을 작성하기 \\n\\nfuncReturn = lambda x :if num>5 : l.append(num),else return\\nfuncReturn([1,2,3,4,5,6,7,8])',\n",
       "  '#=========선생님 풀이=========\\nl=[]\\ndef funcReturn(numbers):\\n    for num in numbers:\\n        if num > 5 :l.append(num)\\n    return l\\nfuncReturn([1,2,3,4,5,6,7,8])\\n\\n# lambda식을 작성하기 \\n\\nfuncReturnLambda = lambda numbers:[ number for number in numbers if number> 5] ',\n",
       "  '#=========선생님 풀이=========\\nl=[]\\ndef funcReturn(numbers):\\n    for num in numbers:\\n        if num > 5 :l.append(num)\\n    return l\\nfuncReturn([1,2,3,4,5,6,7,8])\\n\\n# lambda식을 작성하기 \\n\\nfuncReturnLambda = lambda numbers:[ number for number in numbers if number> 5] \\nfuncReturnLambda([1,2,3,4,5,6,7,8])',\n",
       "  '#=========선생님 풀이=========\\nl=[]\\ndef funcReturn(numbers):\\n    for num in numbers:\\n        if num > 5 :l.append(num)\\n    return l\\nfuncReturn([1,2,3,4,5,6,7,8])\\n\\n# lambda식을 작성하기 \\n\\nfuncReturnLambda = lambda numbers:[ number for number in numbers if number> 5] \\nprint(funcReturnLambda([1,2,3,4,5,6,7,8]))',\n",
       "  '#=========선생님 풀이=========\\nl=[]\\ndef funcReturn(numbers):\\n    for num in numbers:\\n        if num > 5 :l.append(num)\\n    return l\\nprint(funcReturn([1,2,3,4,5,6,7,8]))\\n\\n# lambda식을 작성하기 \\n\\nfuncReturnLambda = lambda numbers:[ number for number in numbers if number> 5] \\nprint(funcReturnLambda([1,2,3,4,5,6,7,8]))',\n",
       "  '#=========선생님 풀이=========\\nl=[]\\ndef funcReturn(numbers):\\n    for num in numbers:\\n        if num > 5 :l.append(num)\\n    return l\\nprint(funcReturn([1,2,3,4,5,6,7,8,9]))\\n\\n# lambda식을 작성하기 \\n\\nfuncReturnLambda = lambda numbers:[ number for number in numbers if number> 5] \\nprint(funcReturnLambda([1,2,3,4,5,6,7,8]))',\n",
       "  '# 1. 변수의 사용범위\\n\\n# 1) 전역변수 (global variable)\\n\\nx=10\\ndef foo():\\n    print(x)\\n\\n\\n\\n\\n# 2) 지역변수 (local variable)',\n",
       "  '# 1. 변수의 사용범위\\n\\n# 1) 전역변수 (global variable)\\n\\nx=100\\ndef foo():\\n    print(x)\\n\\nfoo()\\nprint(x)\\n\\n\\n\\n# 2) 지역변수 (local variable)',\n",
       "  '# 1. 변수의 사용범위\\n\\n# 1) 전역변수 (global variable)\\nx=100\\ndef foo():\\n    print(x)\\n\\nfoo()\\nprint(x)\\n\\n\\n# 2) 지역변수 (local variable)\\ndef foo1():\\n    y=1000\\n    print(y)\\nfoo1()\\nprint(y)',\n",
       "  \"get_ipython().run_line_magic('reset', '')\",\n",
       "  '# 1. 변수의 사용범위\\n\\n# 1) 전역변수 (global variable)\\nx=100\\ndef foo():\\n    print(x)\\n\\nfoo()\\nprint(x)\\n\\n\\n# 2) 지역변수 (local variable)\\ndef foo1():\\n    y=1000\\n    print(y)\\nfoo1()\\nprint(y)',\n",
       "  '# 2. 함수 안에서 전역변수 변경하기\\nx = 10 \\ndef foo(): \\n    x=20\\n    print(x)\\n    \\nfoo()\\nprint(x)',\n",
       "  '# 2. 함수 안에서 전역변수 변경하기\\nx = 10 \\ndef foo(): \\n    x=20\\n    print(x)\\n    \\nfoo()\\nprint(x)\\n\\ny = 30 \\ndef foo(): \\n    global y   #y=30이라이거야 전역변수로 설정\\n    print(y)\\n    \\nfoo()\\nprint(y)',\n",
       "  '# 2. 함수 안에서 전역변수 변경하기\\nx = 10 \\ndef foo(): \\n    x=20\\n    print(x)\\n    \\nfoo()\\nprint(x)\\n\\ny = 30 \\ndef foo(): \\n    global y   #y=30이라이거야 전역변수로 설정\\n    y = 20\\n    print(y)\\n    \\nfoo()\\nprint(y)',\n",
       "  '# 2. 함수 안에서 전역변수 변경하기\\nx = 10 \\ndef foo(): \\n    x=20\\n    print(x)\\n    \\nfoo()\\nprint(x)\\n\\ny = 10 \\ndef foo(): \\n    global y   #y=30이라 이거야. y는 전역변수로 설정\\n    y = 20\\n    print(y)\\n    \\nfoo()\\nprint(y)',\n",
       "  '# 2. 함수 안에서 전역변수 변경하기\\nx = 10 \\ndef foo(): \\n    x=20\\n    print(x)\\n    \\nfoo()\\nprint(x)\\n\\n#전역변수로 정의하는 방법 (1)\\ny = 10 \\ndef foo(): \\n    global y   #y=30이라 이거야. y는 전역변수로 설정\\n    y = 20\\n    print(y)\\n    \\nfoo()\\nprint(y)\\n\\n#전역변수로 정의하는 방법 (2)\\ny = 10 \\ndef foo(): \\n    global z   \\n    z = 30\\n    print(z)\\n    \\nfoo()\\nprint(z)',\n",
       "  '# 네임 스페이스\\n# 파이썬에서 네임스페이스(namespace, 이름공간)에 저장된다.\\n# 네임 스페이스를 확인하려면 locals()함수를 사용하면 현재 namespace를\\n# 딕셔너리 형태로 출력한다.\\nprint(local())',\n",
       "  '# 네임 스페이스\\n# 파이썬에서 네임스페이스(namespace, 이름공간)에 저장된다.\\n# 네임 스페이스를 확인하려면 locals()함수를 사용하면 현재 namespace를\\n# 딕셔너리 형태로 출력한다.\\nprint(locals()))',\n",
       "  '# 네임 스페이스\\n# 파이썬에서 네임스페이스(namespace, 이름공간)에 저장된다.\\n# 네임 스페이스를 확인하려면 locals()함수를 사용하면 현재 namespace를\\n# 딕셔너리 형태로 출력한다.\\nprint(locals())',\n",
       "  '# 네임 스페이스\\n# 파이썬에서 네임스페이스(namespace, 이름공간)에 저장된다.\\n# 네임 스페이스를 확인하려면 locals()함수를 사용하면 현재 namespace를\\n# 딕셔너리 형태로 출력한다.\\n#print(locals())\\n\\nlocals()'],\n",
       " 'Out': {},\n",
       " 'get_ipython': <bound method InteractiveShell.get_ipython of <ipykernel.zmqshell.ZMQInteractiveShell object at 0x000001B212A2AF48>>,\n",
       " 'exit': <IPython.core.autocall.ZMQExitAutocall at 0x1b212a50ec8>,\n",
       " 'quit': <IPython.core.autocall.ZMQExitAutocall at 0x1b212a50ec8>,\n",
       " '_i': '# 네임 스페이스\\n# 파이썬에서 네임스페이스(namespace, 이름공간)에 저장된다.\\n# 네임 스페이스를 확인하려면 locals()함수를 사용하면 현재 namespace를\\n# 딕셔너리 형태로 출력한다.\\nprint(locals())',\n",
       " '_ii': '# 네임 스페이스\\n# 파이썬에서 네임스페이스(namespace, 이름공간)에 저장된다.\\n# 네임 스페이스를 확인하려면 locals()함수를 사용하면 현재 namespace를\\n# 딕셔너리 형태로 출력한다.\\nprint(locals()))',\n",
       " '_iii': '# 네임 스페이스\\n# 파이썬에서 네임스페이스(namespace, 이름공간)에 저장된다.\\n# 네임 스페이스를 확인하려면 locals()함수를 사용하면 현재 namespace를\\n# 딕셔너리 형태로 출력한다.\\nprint(local())',\n",
       " '_i143': '# 1. 변수의 사용범위\\n\\n# 1) 전역변수 (global variable)\\nx=100\\ndef foo():\\n    print(x)\\n\\nfoo()\\nprint(x)\\n\\n\\n# 2) 지역변수 (local variable)\\ndef foo1():\\n    y=1000\\n    print(y)\\nfoo1()\\nprint(y)',\n",
       " 'x': 10,\n",
       " 'foo': <function __main__.foo()>,\n",
       " 'foo1': <function __main__.foo1()>,\n",
       " '_i144': '# 2. 함수 안에서 전역변수 변경하기\\nx = 10 \\ndef foo(): \\n    x=20\\n    print(x)\\n    \\nfoo()\\nprint(x)',\n",
       " '_i145': '# 2. 함수 안에서 전역변수 변경하기\\nx = 10 \\ndef foo(): \\n    x=20\\n    print(x)\\n    \\nfoo()\\nprint(x)\\n\\ny = 30 \\ndef foo(): \\n    global y   #y=30이라이거야 전역변수로 설정\\n    print(y)\\n    \\nfoo()\\nprint(y)',\n",
       " 'y': 10,\n",
       " '_i146': '# 2. 함수 안에서 전역변수 변경하기\\nx = 10 \\ndef foo(): \\n    x=20\\n    print(x)\\n    \\nfoo()\\nprint(x)\\n\\ny = 30 \\ndef foo(): \\n    global y   #y=30이라이거야 전역변수로 설정\\n    y = 20\\n    print(y)\\n    \\nfoo()\\nprint(y)',\n",
       " '_i147': '# 2. 함수 안에서 전역변수 변경하기\\nx = 10 \\ndef foo(): \\n    x=20\\n    print(x)\\n    \\nfoo()\\nprint(x)\\n\\ny = 10 \\ndef foo(): \\n    global y   #y=30이라 이거야. y는 전역변수로 설정\\n    y = 20\\n    print(y)\\n    \\nfoo()\\nprint(y)',\n",
       " '_i148': '# 2. 함수 안에서 전역변수 변경하기\\nx = 10 \\ndef foo(): \\n    x=20\\n    print(x)\\n    \\nfoo()\\nprint(x)\\n\\n#전역변수로 정의하는 방법 (1)\\ny = 10 \\ndef foo(): \\n    global y   #y=30이라 이거야. y는 전역변수로 설정\\n    y = 20\\n    print(y)\\n    \\nfoo()\\nprint(y)\\n\\n#전역변수로 정의하는 방법 (2)\\ny = 10 \\ndef foo(): \\n    global z   \\n    z = 30\\n    print(z)\\n    \\nfoo()\\nprint(z)',\n",
       " 'z': 30,\n",
       " '_i149': '# 네임 스페이스\\n# 파이썬에서 네임스페이스(namespace, 이름공간)에 저장된다.\\n# 네임 스페이스를 확인하려면 locals()함수를 사용하면 현재 namespace를\\n# 딕셔너리 형태로 출력한다.\\nprint(local())',\n",
       " '_i150': '# 네임 스페이스\\n# 파이썬에서 네임스페이스(namespace, 이름공간)에 저장된다.\\n# 네임 스페이스를 확인하려면 locals()함수를 사용하면 현재 namespace를\\n# 딕셔너리 형태로 출력한다.\\nprint(locals()))',\n",
       " '_i151': '# 네임 스페이스\\n# 파이썬에서 네임스페이스(namespace, 이름공간)에 저장된다.\\n# 네임 스페이스를 확인하려면 locals()함수를 사용하면 현재 namespace를\\n# 딕셔너리 형태로 출력한다.\\nprint(locals())',\n",
       " '_i152': '# 네임 스페이스\\n# 파이썬에서 네임스페이스(namespace, 이름공간)에 저장된다.\\n# 네임 스페이스를 확인하려면 locals()함수를 사용하면 현재 namespace를\\n# 딕셔너리 형태로 출력한다.\\n#print(locals())\\n\\nlocals()'}"
      ]
     },
     "execution_count": 152,
     "metadata": {},
     "output_type": "execute_result"
    }
   ],
   "source": [
    "# 네임 스페이스\n",
    "# 파이썬에서 네임스페이스(namespace, 이름공간)에 저장된다.\n",
    "# 네임 스페이스를 확인하려면 locals()함수를 사용하면 현재 namespace를\n",
    "# 딕셔너리 형태로 출력한다.\n",
    "#print(locals())\n",
    "\n",
    "locals()"
   ]
  },
  {
   "cell_type": "code",
   "execution_count": 158,
   "metadata": {},
   "outputs": [
    {
     "name": "stdout",
     "output_type": "stream",
     "text": [
      "hello Python! \n"
     ]
    },
    {
     "ename": "NameError",
     "evalue": "name 'printMessage' is not defined",
     "output_type": "error",
     "traceback": [
      "\u001b[1;31m---------------------------------------------------------------------------\u001b[0m",
      "\u001b[1;31mNameError\u001b[0m                                 Traceback (most recent call last)",
      "\u001b[1;32m<ipython-input-158-8d2fa80f2d35>\u001b[0m in \u001b[0;36m<module>\u001b[1;34m\u001b[0m\n\u001b[0;32m     15\u001b[0m \u001b[1;31m# 즉,printHello() -> printMessage()순서로 실행된다.\u001b[0m\u001b[1;33m\u001b[0m\u001b[1;33m\u001b[0m\u001b[1;33m\u001b[0m\u001b[0m\n\u001b[0;32m     16\u001b[0m \u001b[1;33m\u001b[0m\u001b[0m\n\u001b[1;32m---> 17\u001b[1;33m \u001b[0mprintMessage\u001b[0m\u001b[1;33m(\u001b[0m\u001b[1;33m)\u001b[0m\u001b[1;33m\u001b[0m\u001b[1;33m\u001b[0m\u001b[0m\n\u001b[0m",
      "\u001b[1;31mNameError\u001b[0m: name 'printMessage' is not defined"
     ]
    }
   ],
   "source": [
    "# 3. 함수안에 함수만들기\n",
    "\n",
    "def printHello():\n",
    "    hello = \"hello Python! \"   # -> 전역변수\n",
    "    def printMessage():\n",
    "        print(hello)\n",
    "    printMessage()\n",
    "\n",
    "    \n",
    "printHello()\n",
    "\n",
    "# 함수 printHello() 안에서 다시 def로 함수 printmessage()를 만들었다.\n",
    "# 그리고 printHello()에서 printMessage() 함수를 호출했다.\n",
    "# 이 두함수가 실제로 작동하려면 외부함수인 printHello()를 호출해야한다.\n",
    "# 즉,printHello() -> printMessage()순서로 실행된다.\n",
    "\n",
    "printMessage()\n",
    "\n",
    "# 아래 그림참고 "
   ]
  },
  {
   "cell_type": "markdown",
   "metadata": {},
   "source": [
    "<img src=\"./images/11.함수_function_07.png\" width=\"500\" height=\"300\">"
   ]
  },
  {
   "cell_type": "markdown",
   "metadata": {},
   "source": [
    "### 클로저 사용하기\n",
    "\n",
    "함수를 클로저형태로 만드는 방법은 함수 바깥쪽에 있는 지역변수를 사용하여 내부 함수에서 사용하는 방법을 알아보자!\n"
   ]
  },
  {
   "cell_type": "code",
   "execution_count": 165,
   "metadata": {},
   "outputs": [
    {
     "name": "stdout",
     "output_type": "stream",
     "text": [
      "8\n",
      "35\n"
     ]
    }
   ],
   "source": [
    "def calc():\n",
    "    a = 3\n",
    "    b = 5\n",
    "    def add(x):\n",
    "        return a*x + b    # 외부함수 변수 a,b를 이용한 계산\n",
    "    \n",
    "                           # 함수 add()를 만든 뒤에는 이 함수를 바로 호출하지 않고 return 으로 함수자체를 반환한다.\n",
    "                           # 함수를 반환 할때는 함수 이름만 반환해야하며 소괄호()를 붙이면 안된다.\n",
    "    return add             # add() 함수를 반환  (->add라고 함수이름만 반환)\n",
    "\n",
    "#caclc(1)  error발생\n",
    "#클로저 사용하기\n",
    "# 아래와 같이 calc() 호출된 반환값을 c에 저장한다. 즉,calc()호출결과가 내부함수인 add함수를 리턴햇기 때문에 cal변수에는 \n",
    "# add()함수가 저장된다. 그래서 cal(x)로 호출하면 내부 add() 함수가 호출된것과 동일한 결과가 된다.\n",
    "cal = calc()            \n",
    "\n",
    "print(cal(1))\n",
    "print(cal(10))     # x값에 10 이들어간거임\n",
    "\n",
    "\n",
    "# 상기와 같이 함수룰 둘러싼 환경 (지역변수,지역함수)을 계속 유자하다가 함수를 \n",
    "# 호출할때 다시 꺼내서 사용하는 함수를 클로저 (Closer)라고 한다.\n",
    "# 여기서 cal에 저장된 함수가 클로저이다."
   ]
  },
  {
   "cell_type": "markdown",
   "metadata": {},
   "source": [
    "### 클로저 개념도 \n",
    "\n",
    "<img src=\"./images/11.함수_function_08.png\" width=\"500\" height=\"300\">"
   ]
  },
  {
   "cell_type": "code",
   "execution_count": null,
   "metadata": {},
   "outputs": [],
   "source": []
  },
  {
   "cell_type": "code",
   "execution_count": null,
   "metadata": {},
   "outputs": [],
   "source": []
  },
  {
   "cell_type": "code",
   "execution_count": null,
   "metadata": {},
   "outputs": [],
   "source": []
  },
  {
   "cell_type": "code",
   "execution_count": null,
   "metadata": {},
   "outputs": [],
   "source": []
  },
  {
   "cell_type": "code",
   "execution_count": null,
   "metadata": {},
   "outputs": [],
   "source": []
  },
  {
   "cell_type": "code",
   "execution_count": null,
   "metadata": {},
   "outputs": [],
   "source": []
  }
 ],
 "metadata": {
  "kernelspec": {
   "display_name": "Python 3",
   "language": "python",
   "name": "python3"
  },
  "language_info": {
   "codemirror_mode": {
    "name": "ipython",
    "version": 3
   },
   "file_extension": ".py",
   "mimetype": "text/x-python",
   "name": "python",
   "nbconvert_exporter": "python",
   "pygments_lexer": "ipython3",
   "version": "3.7.4"
  }
 },
 "nbformat": 4,
 "nbformat_minor": 2
}
